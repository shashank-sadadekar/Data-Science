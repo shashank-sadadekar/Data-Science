{
  "cells": [
    {
      "cell_type": "code",
      "execution_count": null,
      "id": "2f833947",
      "metadata": {
        "id": "2f833947"
      },
      "outputs": [],
      "source": [
        "#Special commands , keywords, functions"
      ]
    },
    {
      "cell_type": "code",
      "execution_count": null,
      "id": "a8df1bd9",
      "metadata": {
        "colab": {
          "base_uri": "https://localhost:8080/"
        },
        "id": "a8df1bd9",
        "outputId": "192c0602-7bd8-441e-8de3-8b5604f942a7"
      },
      "outputs": [
        {
          "output_type": "stream",
          "name": "stdout",
          "text": [
            "['False', 'None', 'True', 'and', 'as', 'assert', 'async', 'await', 'break', 'class', 'continue', 'def', 'del', 'elif', 'else', 'except', 'finally', 'for', 'from', 'global', 'if', 'import', 'in', 'is', 'lambda', 'nonlocal', 'not', 'or', 'pass', 'raise', 'return', 'try', 'while', 'with', 'yield']\n"
          ]
        }
      ],
      "source": [
        "import keyword\n",
        "print(keyword.kwlist)"
      ]
    },
    {
      "cell_type": "code",
      "source": [
        "import time\n",
        "\n",
        "start_time = time.time()\n",
        "print(\"Hello World\")\n",
        "stop_time = time.time()\n",
        "print(\"Time taken to print:\", stop_time-start_time)\n"
      ],
      "metadata": {
        "colab": {
          "base_uri": "https://localhost:8080/"
        },
        "id": "ekobl1PVW9CX",
        "outputId": "b7e77570-16e3-47d3-dc8e-b86f58934f06"
      },
      "id": "ekobl1PVW9CX",
      "execution_count": null,
      "outputs": [
        {
          "output_type": "stream",
          "name": "stdout",
          "text": [
            "Hello World\n",
            "Time taken to print: 0.00013780593872070312\n"
          ]
        }
      ]
    },
    {
      "cell_type": "code",
      "execution_count": null,
      "id": "6ba73655",
      "metadata": {
        "id": "6ba73655",
        "outputId": "372f5d52-b4df-4cb2-8d96-adc475fd4791"
      },
      "outputs": [
        {
          "name": "stdout",
          "output_type": "stream",
          "text": [
            "<class 'str'>\n"
          ]
        }
      ],
      "source": [
        "#type() function\n",
        "a=\"10\" #Single, Double, Triple quotes used for string depending on specific\n",
        "print(type(a))"
      ]
    },
    {
      "cell_type": "code",
      "execution_count": null,
      "id": "54df9e03",
      "metadata": {
        "id": "54df9e03",
        "outputId": "31b587fa-8fcf-48f2-8d8d-b229747d4cd4"
      },
      "outputs": [
        {
          "name": "stdout",
          "output_type": "stream",
          "text": [
            "2121610833776\n"
          ]
        }
      ],
      "source": [
        "#id() function\n",
        "print(id(a))"
      ]
    },
    {
      "cell_type": "code",
      "execution_count": null,
      "id": "2ba40416",
      "metadata": {
        "id": "2ba40416"
      },
      "outputs": [],
      "source": [
        "# To get the current working directory of the file we are working on"
      ]
    },
    {
      "cell_type": "code",
      "execution_count": null,
      "id": "8bc1f240",
      "metadata": {
        "colab": {
          "base_uri": "https://localhost:8080/"
        },
        "id": "8bc1f240",
        "outputId": "30751fc1-9239-428f-d510-e6aa8bfecee7"
      },
      "outputs": [
        {
          "output_type": "stream",
          "name": "stdout",
          "text": [
            "/content\n"
          ]
        }
      ],
      "source": [
        "import os\n",
        "print(os.getcwd())  # /content/drive/My Drive/folder_name/file_name >>> path used when google colab used"
      ]
    },
    {
      "cell_type": "code",
      "execution_count": null,
      "id": "48555342",
      "metadata": {
        "id": "48555342",
        "outputId": "df626d5f-b15a-493f-9f6e-9261f901e828"
      },
      "outputs": [
        {
          "data": {
            "text/plain": [
              "True"
            ]
          },
          "execution_count": 33,
          "metadata": {},
          "output_type": "execute_result"
        }
      ],
      "source": [
        "import os\n",
        "var = open(\"Python.txt\",'w+')\n",
        "os.path.isfile(\"Python.txt\") # To check if file created exists or not (bool result)\n"
      ]
    },
    {
      "cell_type": "code",
      "execution_count": null,
      "id": "ea90593d",
      "metadata": {
        "id": "ea90593d"
      },
      "outputs": [],
      "source": [
        "# input() returns str output always "
      ]
    },
    {
      "cell_type": "code",
      "execution_count": null,
      "id": "9d260b43",
      "metadata": {
        "id": "9d260b43"
      },
      "outputs": [],
      "source": [
        "# ctrl+? used to make a line convert into comment line & uncomment line"
      ]
    },
    {
      "cell_type": "code",
      "execution_count": null,
      "id": "825a4ca4",
      "metadata": {
        "id": "825a4ca4",
        "outputId": "92a45eb5-435f-4b96-a4aa-841ec55aa2dd"
      },
      "outputs": [
        {
          "data": {
            "text/plain": [
              "16"
            ]
          },
          "execution_count": 7,
          "metadata": {},
          "output_type": "execute_result"
        }
      ],
      "source": [
        "import sys\n",
        "sys.getsizeof(a) #This function always returns int value"
      ]
    },
    {
      "cell_type": "code",
      "execution_count": null,
      "id": "d5ecac84",
      "metadata": {
        "id": "d5ecac84"
      },
      "outputs": [],
      "source": [
        "#PEDMAS : Parenthesis , Exponential, Division, Multiplication, Addition, Subtraction"
      ]
    },
    {
      "cell_type": "code",
      "execution_count": null,
      "id": "46836047",
      "metadata": {
        "id": "46836047",
        "outputId": "f7094597-3294-4177-df67-aa6a964f1017"
      },
      "outputs": [
        {
          "data": {
            "text/plain": [
              "97"
            ]
          },
          "execution_count": 43,
          "metadata": {},
          "output_type": "execute_result"
        }
      ],
      "source": [
        "#To know ASCII values of any unicode characters \n",
        "ord('a') #ord(): ordinal Function"
      ]
    },
    {
      "cell_type": "code",
      "execution_count": null,
      "id": "ccc0f071",
      "metadata": {
        "id": "ccc0f071",
        "outputId": "b7e76287-086f-452d-ddf9-0153af611422"
      },
      "outputs": [
        {
          "data": {
            "text/plain": [
              "'\\x00'"
            ]
          },
          "execution_count": 65,
          "metadata": {},
          "output_type": "execute_result"
        }
      ],
      "source": [
        "#To know characters of ASCII values\n",
        "chr(0)\n"
      ]
    },
    {
      "cell_type": "code",
      "execution_count": null,
      "id": "26e24497",
      "metadata": {
        "id": "26e24497",
        "outputId": "86f71bbb-b530-4871-e39a-80d1124d5ed9"
      },
      "outputs": [
        {
          "data": {
            "text/plain": [
              "'a'"
            ]
          },
          "execution_count": 47,
          "metadata": {},
          "output_type": "execute_result"
        }
      ],
      "source": [
        "chr(97)"
      ]
    },
    {
      "cell_type": "code",
      "execution_count": null,
      "id": "67cb4cf0",
      "metadata": {
        "id": "67cb4cf0",
        "outputId": "0af326d9-755a-49d1-f06c-9650be2478af"
      },
      "outputs": [
        {
          "name": "stdout",
          "output_type": "stream",
          "text": [
            "a\n",
            "b\n"
          ]
        }
      ],
      "source": [
        "#  \\n: New line used to print output in new line. It is present by default in 'print()' function syntax at the end\n",
        "print('a\\nb')"
      ]
    },
    {
      "cell_type": "code",
      "execution_count": null,
      "id": "2c24b452",
      "metadata": {
        "id": "2c24b452",
        "outputId": "2abf2647-0422-475a-fca3-57220b54a0d6"
      },
      "outputs": [
        {
          "name": "stdout",
          "output_type": "stream",
          "text": [
            "shashank\tsadadekar\n"
          ]
        }
      ],
      "source": [
        "#\\t : Tab used to print 4 white(blank) spaces in between 2 values\n",
        "print(\"shashank\\tsadadekar\")"
      ]
    },
    {
      "cell_type": "code",
      "execution_count": null,
      "id": "c210a2f7",
      "metadata": {
        "id": "c210a2f7"
      },
      "outputs": [],
      "source": [
        "# shift + Tab (single or double) used to check description of any function ()\n",
        "# Function always represented by parenthesis"
      ]
    },
    {
      "cell_type": "code",
      "execution_count": null,
      "id": "addf2993",
      "metadata": {
        "id": "addf2993",
        "outputId": "8bd1af08-71cb-45a1-db8e-cbd449251368"
      },
      "outputs": [
        {
          "name": "stdout",
          "output_type": "stream",
          "text": [
            "1\n"
          ]
        }
      ],
      "source": [
        "# To know if True indicates 1 & False 0\n",
        "print(int(True))"
      ]
    },
    {
      "cell_type": "markdown",
      "id": "082f86d3",
      "metadata": {
        "id": "082f86d3"
      },
      "source": [
        "# Raw String (r)"
      ]
    },
    {
      "cell_type": "code",
      "execution_count": null,
      "id": "349eb0e2",
      "metadata": {
        "id": "349eb0e2",
        "outputId": "150931cd-d2d8-4194-ea44-cd4836fd0c6f"
      },
      "outputs": [
        {
          "name": "stdout",
          "output_type": "stream",
          "text": [
            "C:\\some\n",
            "ame\n",
            "C:\\some\\name\n"
          ]
        }
      ],
      "source": [
        "# If you don’t want characters prefaced by \\ to be interpreted as special characters, you can use raw strings by adding an r before the first quote\n",
        "print('C:\\some\\name')  # here \\n means newline so ame gone to new line.\n",
        "\n",
        "print(r'C:\\some\\name')  # note the r before the quote\n"
      ]
    },
    {
      "cell_type": "code",
      "execution_count": null,
      "id": "6142e84f",
      "metadata": {
        "id": "6142e84f",
        "outputId": "c31c4b84-6580-4fc9-f43a-fab6d718e882"
      },
      "outputs": [
        {
          "data": {
            "text/plain": [
              "'python3.8.2'"
            ]
          },
          "execution_count": 2,
          "metadata": {},
          "output_type": "execute_result"
        }
      ],
      "source": [
        "'py''thon''3.8.2'#Two or more strings next to each other automatically concatenated.No need to put + operator for concatenation"
      ]
    },
    {
      "cell_type": "markdown",
      "id": "a7646103",
      "metadata": {
        "id": "a7646103"
      },
      "source": [
        "# Encode() function syntax"
      ]
    },
    {
      "cell_type": "code",
      "execution_count": null,
      "id": "1c110089",
      "metadata": {
        "id": "1c110089",
        "outputId": "e8efc43a-82fd-4d6e-878b-d3088bf20880"
      },
      "outputs": [
        {
          "name": "stdout",
          "output_type": "stream",
          "text": [
            "b'r'\n",
            "b'\\xff\\xfe\\x00\\x00r\\x00\\x00\\x00'\n"
          ]
        }
      ],
      "source": [
        "a='r'\n",
        "print(a.encode('UTF-8'))     # Standard default codec used in India & US\n",
        "\n",
        "# -*- coding: UTF-32 -*-     (This declaration in this syntax to be used when the coding other than default is used)\n",
        "print(a.encode('UTF-32'))\n"
      ]
    },
    {
      "cell_type": "markdown",
      "id": "df6ae442",
      "metadata": {
        "id": "df6ae442"
      },
      "source": [
        "# Use of del() function in list"
      ]
    },
    {
      "cell_type": "code",
      "execution_count": null,
      "id": "7c68669f",
      "metadata": {
        "id": "7c68669f"
      },
      "outputs": [],
      "source": [
        "del() function can also be used in dict{}"
      ]
    },
    {
      "cell_type": "code",
      "execution_count": null,
      "id": "bec880b8",
      "metadata": {
        "id": "bec880b8"
      },
      "outputs": [],
      "source": [
        ""
      ]
    },
    {
      "cell_type": "code",
      "execution_count": null,
      "id": "03445b36",
      "metadata": {
        "id": "03445b36",
        "outputId": "481595fc-f6d5-4890-b89c-30a8a2b94086"
      },
      "outputs": [
        {
          "name": "stdout",
          "output_type": "stream",
          "text": [
            "[]\n"
          ]
        }
      ],
      "source": [
        "a=[-1,2,0,-2,-4]\n",
        "del a[:]   # To delete entire list\n",
        "\n",
        "print(a)"
      ]
    },
    {
      "cell_type": "code",
      "execution_count": null,
      "id": "ccedb120",
      "metadata": {
        "id": "ccedb120",
        "outputId": "90d377c0-565d-4d7d-939b-e6c6e59ac84d"
      },
      "outputs": [
        {
          "name": "stdout",
          "output_type": "stream",
          "text": [
            "[2, 0, -2, -4]\n"
          ]
        }
      ],
      "source": [
        "a=[-1,2,0,-2,-4]\n",
        "\n",
        "del a[0] # To delete only specific element from list\n",
        "print(a)"
      ]
    },
    {
      "cell_type": "code",
      "execution_count": null,
      "id": "bf421e5b",
      "metadata": {
        "id": "bf421e5b",
        "outputId": "f41e6317-68a3-46f3-fba5-6d5916538c80"
      },
      "outputs": [
        {
          "name": "stdout",
          "output_type": "stream",
          "text": [
            "[-1, 2]\n"
          ]
        },
        {
          "data": {
            "text/plain": [
              "list"
            ]
          },
          "execution_count": 8,
          "metadata": {},
          "output_type": "execute_result"
        }
      ],
      "source": [
        "a=[-1,2,0,2,-4]\n",
        "del a[2:] # del() can be used for slicing a part of list\n",
        "print(a)\n",
        "type(a)"
      ]
    },
    {
      "cell_type": "code",
      "execution_count": null,
      "id": "d9cd5307",
      "metadata": {
        "id": "d9cd5307"
      },
      "outputs": [],
      "source": [
        "*******************************************************************************************************************************"
      ]
    },
    {
      "cell_type": "code",
      "execution_count": null,
      "id": "e0c5ebad",
      "metadata": {
        "id": "e0c5ebad",
        "outputId": "42d6dd57-89e9-4b6d-fc08-c0138f4f9d1a"
      },
      "outputs": [
        {
          "name": "stdout",
          "output_type": "stream",
          "text": [
            "Python is a slow language. Its output generating speed is slow. It is an interpreted Prog Language.\n"
          ]
        }
      ],
      "source": [
        "print(\"Python is a slow language.\",\"Its output generating speed is slow.\", \"It is an interpreted Prog Language.\")"
      ]
    },
    {
      "cell_type": "code",
      "execution_count": null,
      "id": "f269104b",
      "metadata": {
        "id": "f269104b",
        "outputId": "25869aa1-2727-4c32-8665-17e5e2362562"
      },
      "outputs": [
        {
          "name": "stdout",
          "output_type": "stream",
          "text": [
            "Python Advantages:\n",
            "1.Simple syntax\n",
            "2.Libraries\n",
            "3.Extensible - Code written in other prog lang can be used in Python\n",
            "4.Embedded - Python code can be used in other prog lang\n",
            "5.Portable - Source code can be moved from one platform to another\n",
            "6.Platform independent - Byte code can be moved freely & run on any OS\n",
            "7.Dynamic PL - Allows runtime modification & we dont need to declare data types\n",
            "8.Open source - Source code freely available & no user licence required\n",
            "9.Community help available\n",
            "10.General Purpose PL - Framework & applications & games can be developed using Python\n"
          ]
        }
      ],
      "source": [
        "#Python Advantages\n",
        "print(\"Python Advantages:\")\n",
        "\n",
        "print(\"1.Simple syntax\")\n",
        "print(\"2.Libraries\")\n",
        "print(\"3.Extensible - Code written in other prog lang can be used in Python\")\n",
        "print(\"4.Embedded - Python code can be used in other prog lang\")\n",
        "print(\"5.Portable - Source code can be moved from one platform to another\")\n",
        "print(\"6.Platform independent - Byte code can be moved freely & run on any OS\")\n",
        "print(\"7.Dynamic PL - Allows runtime modification & we dont need to declare data types\")\n",
        "print(\"8.Open source - Source code freely available & no user licence required\") \n",
        "print(\"9.Community help available\")\n",
        "print(\"10.General Purpose PL - Framework & applications & games can be developed using Python\")\n"
      ]
    },
    {
      "cell_type": "code",
      "execution_count": null,
      "id": "b3ec2acb",
      "metadata": {
        "id": "b3ec2acb",
        "outputId": "8876b009-9a82-4290-a0b8-6786ef11c66f"
      },
      "outputs": [
        {
          "name": "stdout",
          "output_type": "stream",
          "text": [
            "30.0\n"
          ]
        }
      ],
      "source": [
        "a=15\n",
        "b=15.0\n",
        "print(a+b)"
      ]
    },
    {
      "cell_type": "code",
      "execution_count": null,
      "id": "8a892a5c",
      "metadata": {
        "id": "8a892a5c",
        "outputId": "e7f05cae-dc40-4a2a-c6e4-dc6c1b0a03b4"
      },
      "outputs": [
        {
          "name": "stdout",
          "output_type": "stream",
          "text": [
            "<class 'int'>\n",
            "<class 'float'>\n"
          ]
        }
      ],
      "source": [
        "print(type(a))\n",
        "print(type(b))"
      ]
    },
    {
      "cell_type": "code",
      "execution_count": null,
      "id": "cda11d90",
      "metadata": {
        "id": "cda11d90",
        "outputId": "ea5d6f87-a054-44db-80f2-8f4588fe8925"
      },
      "outputs": [
        {
          "name": "stdout",
          "output_type": "stream",
          "text": [
            "3\n"
          ]
        }
      ],
      "source": [
        "shashank = 1\n",
        "sadadekar = 2\n",
        "print(shashank+sadadekar)"
      ]
    },
    {
      "cell_type": "code",
      "execution_count": null,
      "id": "8e4ff023",
      "metadata": {
        "id": "8e4ff023",
        "outputId": "a830fdb8-c1cd-4908-ab96-24be788b6b40"
      },
      "outputs": [
        {
          "name": "stdout",
          "output_type": "stream",
          "text": [
            "Identifiers : These are rules to be followed while giving variable name\n"
          ]
        }
      ],
      "source": [
        "# Variables Rules\n",
        "print(\"Identifiers : These are rules to be followed while giving variable name\")"
      ]
    },
    {
      "cell_type": "code",
      "execution_count": null,
      "id": "6f08dee4",
      "metadata": {
        "id": "6f08dee4"
      },
      "outputs": [],
      "source": [
        "A-Z, a-z, 0-9, _"
      ]
    },
    {
      "cell_type": "code",
      "execution_count": null,
      "id": "055f38af",
      "metadata": {
        "id": "055f38af"
      },
      "outputs": [],
      "source": [
        "Variables cant start with numbers\n",
        "Variables length is infinite\n",
        "variables are case sensitive\n",
        "keywords cant be used as variables (for,if, else)\n"
      ]
    },
    {
      "cell_type": "markdown",
      "id": "505a6f7f",
      "metadata": {
        "id": "505a6f7f"
      },
      "source": [
        "# Data Types : Fundamental & Derived"
      ]
    },
    {
      "cell_type": "code",
      "execution_count": null,
      "id": "583fa832",
      "metadata": {
        "id": "583fa832",
        "outputId": "7dd974c9-4824-4742-cdb1-29ac05323960"
      },
      "outputs": [
        {
          "name": "stdout",
          "output_type": "stream",
          "text": [
            "10 <class 'int'> 10.0 <class 'float'> 10 <class 'str'> (10+10j) <class 'complex'> None <class 'NoneType'> True <class 'bool'>\n"
          ]
        }
      ],
      "source": [
        "#Fundamental\n",
        "#int,float,str,complex,None,bool\n",
        "a=10 #Immutable\n",
        "b=10.0 #Immutable\n",
        "c=\"10\" #Immutable\n",
        "d=10+10j #Immutable\n",
        "e=None \n",
        "f=True\n",
        "print(a,type(a),b,type(b), c,type(c),d,type(d), e,type(e), f,type(f) )\n",
        "\n"
      ]
    },
    {
      "cell_type": "code",
      "execution_count": null,
      "id": "ad696203",
      "metadata": {
        "id": "ad696203",
        "outputId": "5cdb3c66-1f8e-4f4e-c8e3-21657e59828e"
      },
      "outputs": [
        {
          "name": "stdout",
          "output_type": "stream",
          "text": [
            "()\n",
            "<class 'tuple'>\n",
            "('a', 1, (3+4j), 2.5)\n",
            "<class 'tuple'>\n",
            "My tuple list:('a', 1, (3+4j), 2.5)\n",
            "<class 'str'>\n"
          ]
        }
      ],
      "source": [
        "a=() #Immutable\n",
        "\n",
        "b=(\"a\",1,3+4j,2.5)#All data types can be used in tuple\n",
        "print(a)\n",
        "print(type(a))\n",
        "print(b)\n",
        "print(type(b))\n",
        "c=\"My tuple list:\"+ str(b)\n",
        "print(c)\n",
        "print(type(c))"
      ]
    },
    {
      "cell_type": "code",
      "execution_count": null,
      "id": "978256ac",
      "metadata": {
        "id": "978256ac",
        "outputId": "74d36d8c-ab0a-42d8-c609-db6fe5b6db8a"
      },
      "outputs": [
        {
          "name": "stdout",
          "output_type": "stream",
          "text": [
            "<class 'list'>\n"
          ]
        }
      ],
      "source": [
        "a=[] #Mutable-Can be changed\n",
        "print(type(a))"
      ]
    },
    {
      "cell_type": "code",
      "execution_count": null,
      "id": "03f438db",
      "metadata": {
        "id": "03f438db",
        "outputId": "ce9a1034-6a6d-4be0-d372-52ca661fe170"
      },
      "outputs": [
        {
          "name": "stdout",
          "output_type": "stream",
          "text": [
            "<class 'set'>\n"
          ]
        }
      ],
      "source": [
        "a=set() # This is a pre defined function # Mutable\n",
        "print(type(a))\n",
        "b={1,20.2,\"shashank\",True,False,3}"
      ]
    },
    {
      "cell_type": "code",
      "execution_count": null,
      "id": "4c45de4d",
      "metadata": {
        "id": "4c45de4d",
        "outputId": "d2505500-c8ea-4682-a8ce-7e8ff4283416"
      },
      "outputs": [
        {
          "name": "stdout",
          "output_type": "stream",
          "text": [
            "<class 'dict'>\n"
          ]
        }
      ],
      "source": [
        "a={} # Before Python V_3.6 dict{key:value} was unordered collection #Mutable\n",
        "print(type(a))"
      ]
    },
    {
      "cell_type": "code",
      "execution_count": null,
      "id": "800de0e2",
      "metadata": {
        "id": "800de0e2",
        "outputId": "995c141b-4a01-44fc-8f73-d4ddf8da333d"
      },
      "outputs": [
        {
          "name": "stdout",
          "output_type": "stream",
          "text": [
            "{'Age': 28}\n"
          ]
        }
      ],
      "source": [
        "a={\"Age\": 28}\n",
        "print(a)"
      ]
    },
    {
      "cell_type": "code",
      "execution_count": null,
      "id": "39172802",
      "metadata": {
        "id": "39172802"
      },
      "outputs": [],
      "source": [
        ""
      ]
    },
    {
      "cell_type": "code",
      "execution_count": null,
      "id": "6c407f7f",
      "metadata": {
        "id": "6c407f7f",
        "outputId": "2980788e-d0c8-46bb-b2ee-83b95fad73cc"
      },
      "outputs": [
        {
          "data": {
            "text/plain": [
              "[0, 2, 4, 6, 8]"
            ]
          },
          "execution_count": 30,
          "metadata": {},
          "output_type": "execute_result"
        }
      ],
      "source": [
        "#Syntax : list(range(start,stop,step))\n",
        "list(range(0,10,2))"
      ]
    },
    {
      "cell_type": "code",
      "execution_count": null,
      "id": "2dfe382b",
      "metadata": {
        "id": "2dfe382b",
        "outputId": "2efcb818-a97a-4b0f-9dd2-0f57e5caf4bd"
      },
      "outputs": [
        {
          "ename": "TypeError",
          "evalue": "bool expected at most 1 argument, got 2",
          "output_type": "error",
          "traceback": [
            "\u001b[1;31m---------------------------------------------------------------------------\u001b[0m",
            "\u001b[1;31mTypeError\u001b[0m                                 Traceback (most recent call last)",
            "\u001b[1;32m~\\AppData\\Local\\Temp/ipykernel_6160/2039522415.py\u001b[0m in \u001b[0;36m<module>\u001b[1;34m\u001b[0m\n\u001b[1;32m----> 1\u001b[1;33m \u001b[0mb\u001b[0m\u001b[1;33m=\u001b[0m\u001b[0mbool\u001b[0m\u001b[1;33m(\u001b[0m\u001b[1;32mTrue\u001b[0m\u001b[1;33m,\u001b[0m\u001b[1;32mFalse\u001b[0m\u001b[1;33m)\u001b[0m\u001b[1;33m\u001b[0m\u001b[1;33m\u001b[0m\u001b[0m\n\u001b[0m\u001b[0;32m      2\u001b[0m \u001b[0mprint\u001b[0m\u001b[1;33m(\u001b[0m\u001b[0mb\u001b[0m\u001b[1;33m)\u001b[0m\u001b[1;33m\u001b[0m\u001b[1;33m\u001b[0m\u001b[0m\n\u001b[0;32m      3\u001b[0m \u001b[0mprint\u001b[0m\u001b[1;33m(\u001b[0m\u001b[0mtype\u001b[0m\u001b[1;33m(\u001b[0m\u001b[0mb\u001b[0m\u001b[1;33m)\u001b[0m\u001b[1;33m)\u001b[0m\u001b[1;33m\u001b[0m\u001b[1;33m\u001b[0m\u001b[0m\n",
            "\u001b[1;31mTypeError\u001b[0m: bool expected at most 1 argument, got 2"
          ]
        }
      ],
      "source": [
        "b=bool(True,False)\n",
        "print(b)\n",
        "print(type(b))"
      ]
    },
    {
      "cell_type": "code",
      "execution_count": null,
      "id": "201c69fe",
      "metadata": {
        "id": "201c69fe",
        "outputId": "29bd9726-43c0-4052-f05c-9608e2503094"
      },
      "outputs": [
        {
          "name": "stdout",
          "output_type": "stream",
          "text": [
            "True\n",
            "<class 'bool'>\n"
          ]
        }
      ],
      "source": [
        "a=True\n",
        "print(a)\n",
        "print(type(a))"
      ]
    },
    {
      "cell_type": "code",
      "execution_count": null,
      "id": "988d7717",
      "metadata": {
        "id": "988d7717",
        "outputId": "1d10b20b-2882-4a2c-a4f8-cf85b35d981e"
      },
      "outputs": [
        {
          "name": "stdout",
          "output_type": "stream",
          "text": [
            "<class 'tuple'>\n"
          ]
        }
      ],
      "source": [
        "a=5\n",
        "b=(5,)\n",
        "\n",
        "print(type(b))\n"
      ]
    },
    {
      "cell_type": "code",
      "execution_count": null,
      "id": "67770f37",
      "metadata": {
        "id": "67770f37",
        "outputId": "a7e9144d-de7e-4005-cc63-3fea35a7fc3c"
      },
      "outputs": [
        {
          "name": "stdout",
          "output_type": "stream",
          "text": [
            "<class 'int'>\n"
          ]
        }
      ],
      "source": [
        "a=5\n",
        "b=(5)\n",
        "\n",
        "print(type(b))"
      ]
    },
    {
      "cell_type": "code",
      "execution_count": null,
      "id": "877702d5",
      "metadata": {
        "id": "877702d5",
        "outputId": "00b218fe-1db4-4a05-ddc3-bc0de9fd5ade"
      },
      "outputs": [
        {
          "ename": "TypeError",
          "evalue": "'int' object is not iterable",
          "output_type": "error",
          "traceback": [
            "\u001b[1;31m---------------------------------------------------------------------------\u001b[0m",
            "\u001b[1;31mTypeError\u001b[0m                                 Traceback (most recent call last)",
            "\u001b[1;32m~\\AppData\\Local\\Temp/ipykernel_10344/4109982370.py\u001b[0m in \u001b[0;36m<module>\u001b[1;34m\u001b[0m\n\u001b[0;32m      1\u001b[0m \u001b[0ma\u001b[0m\u001b[1;33m=\u001b[0m\u001b[1;36m5\u001b[0m\u001b[1;33m\u001b[0m\u001b[1;33m\u001b[0m\u001b[0m\n\u001b[1;32m----> 2\u001b[1;33m \u001b[0mb\u001b[0m\u001b[1;33m=\u001b[0m\u001b[0mset\u001b[0m\u001b[1;33m(\u001b[0m\u001b[0ma\u001b[0m\u001b[1;33m)\u001b[0m\u001b[1;33m\u001b[0m\u001b[1;33m\u001b[0m\u001b[0m\n\u001b[0m\u001b[0;32m      3\u001b[0m \u001b[1;33m\u001b[0m\u001b[0m\n\u001b[0;32m      4\u001b[0m \u001b[0mprint\u001b[0m\u001b[1;33m(\u001b[0m\u001b[0mtype\u001b[0m\u001b[1;33m(\u001b[0m\u001b[0mb\u001b[0m\u001b[1;33m)\u001b[0m\u001b[1;33m)\u001b[0m\u001b[1;33m\u001b[0m\u001b[1;33m\u001b[0m\u001b[0m\n",
            "\u001b[1;31mTypeError\u001b[0m: 'int' object is not iterable"
          ]
        }
      ],
      "source": [
        "a=5\n",
        "b=set(a)\n",
        "\n",
        "print(type(b))"
      ]
    },
    {
      "cell_type": "code",
      "execution_count": null,
      "id": "e92ad961",
      "metadata": {
        "id": "e92ad961",
        "outputId": "49c8415c-3cf4-4947-e4be-b3faa88e27ed"
      },
      "outputs": [
        {
          "name": "stdout",
          "output_type": "stream",
          "text": [
            "<class 'set'>\n"
          ]
        }
      ],
      "source": [
        "a=5\n",
        "b=set() #It is used for mathematical Operations while writing code.\n",
        "\n",
        "print(type(b))"
      ]
    },
    {
      "cell_type": "code",
      "execution_count": null,
      "id": "a52a818a",
      "metadata": {
        "id": "a52a818a",
        "outputId": "27521a47-01c6-4fd6-fea7-0e4a47cc7a43"
      },
      "outputs": [
        {
          "name": "stdout",
          "output_type": "stream",
          "text": [
            "<class 'set'>\n"
          ]
        }
      ],
      "source": [
        "a=5\n",
        "b={a}\n",
        "\n",
        "print(type(b))"
      ]
    },
    {
      "cell_type": "code",
      "execution_count": null,
      "id": "15cce0c8",
      "metadata": {
        "id": "15cce0c8"
      },
      "outputs": [],
      "source": [
        ""
      ]
    },
    {
      "cell_type": "code",
      "execution_count": null,
      "id": "6494220c",
      "metadata": {
        "id": "6494220c",
        "outputId": "dcd4db2d-4558-4c0a-aab7-93d9c97aac67"
      },
      "outputs": [
        {
          "name": "stdout",
          "output_type": "stream",
          "text": [
            "<class 'list'>\n"
          ]
        }
      ],
      "source": [
        "a=5\n",
        "b=[]\n",
        "\n",
        "print(type(b))"
      ]
    },
    {
      "cell_type": "code",
      "execution_count": null,
      "id": "723dabc7",
      "metadata": {
        "id": "723dabc7",
        "outputId": "a32c79d5-ca2b-4b3e-a84b-bb879f01682a"
      },
      "outputs": [
        {
          "name": "stdout",
          "output_type": "stream",
          "text": [
            "<class 'list'>\n"
          ]
        }
      ],
      "source": [
        "a=5\n",
        "b=[a]\n",
        "\n",
        "print(type(b))"
      ]
    },
    {
      "cell_type": "code",
      "execution_count": null,
      "id": "f1da030b",
      "metadata": {
        "id": "f1da030b",
        "outputId": "1f15e664-898b-45c5-a482-61cdf798ae38"
      },
      "outputs": [
        {
          "name": "stdout",
          "output_type": "stream",
          "text": [
            "<class 'dict'>\n"
          ]
        }
      ],
      "source": [
        "a=5\n",
        "b={a:0}\n",
        "\n",
        "\n",
        "print(type(b))"
      ]
    },
    {
      "cell_type": "code",
      "execution_count": null,
      "id": "241f806e",
      "metadata": {
        "id": "241f806e",
        "outputId": "f1c1173f-37e6-4e61-e3cf-1ad8992c69ea"
      },
      "outputs": [
        {
          "name": "stdout",
          "output_type": "stream",
          "text": [
            "<class 'dict'>\n"
          ]
        }
      ],
      "source": [
        "a=5\n",
        "b={}\n",
        "\n",
        "print(type(b))"
      ]
    },
    {
      "cell_type": "code",
      "execution_count": null,
      "id": "d53eb615",
      "metadata": {
        "id": "d53eb615",
        "outputId": "fa147131-4959-43af-9008-4077359e59cd"
      },
      "outputs": [
        {
          "name": "stdout",
          "output_type": "stream",
          "text": [
            "0\n"
          ]
        }
      ],
      "source": [
        "a=40\n",
        "b=20\n",
        "c=a-b*(a//b) #a%b\n",
        "print(c)"
      ]
    },
    {
      "cell_type": "code",
      "execution_count": null,
      "id": "6d20b32a",
      "metadata": {
        "id": "6d20b32a",
        "outputId": "1761952f-e8ea-438a-d4e3-5afe3391db1c"
      },
      "outputs": [
        {
          "name": "stdout",
          "output_type": "stream",
          "text": [
            "2.0\n",
            "0.0\n"
          ]
        }
      ],
      "source": [
        "a=40\n",
        "b=20\n",
        "c=a/b\n",
        "d=a%c\n",
        "print(c)\n",
        "print(d)"
      ]
    },
    {
      "cell_type": "code",
      "execution_count": null,
      "id": "2f357cbe",
      "metadata": {
        "id": "2f357cbe",
        "outputId": "2b1ab8f4-3eb1-4ee3-9da7-63e460e64e70"
      },
      "outputs": [
        {
          "name": "stdout",
          "output_type": "stream",
          "text": [
            "1\n"
          ]
        }
      ],
      "source": [
        "a=1\n",
        "b=3\n",
        "c=a%b\n",
        "print(c)"
      ]
    },
    {
      "cell_type": "code",
      "execution_count": null,
      "id": "34f23395",
      "metadata": {
        "id": "34f23395",
        "outputId": "3a6fa8f2-5327-40c6-84b5-1644332ea6f8"
      },
      "outputs": [
        {
          "name": "stdout",
          "output_type": "stream",
          "text": [
            "True\n"
          ]
        }
      ],
      "source": [
        "a=10\n",
        "b=\"0.0\"\n",
        "c=\"10\"\n",
        "d=complex(a)\n",
        "e=None\n",
        "print(c>b)"
      ]
    },
    {
      "cell_type": "code",
      "execution_count": null,
      "id": "168456ae",
      "metadata": {
        "id": "168456ae",
        "outputId": "764ffb84-5304-4c4d-b9da-25d6a5c93c85"
      },
      "outputs": [
        {
          "name": "stdout",
          "output_type": "stream",
          "text": [
            "140727338343640\n",
            "16\n"
          ]
        }
      ],
      "source": [
        "a=None\n",
        "print(id(a))\n",
        "import sys\n",
        "print(sys.getsizeof(a))"
      ]
    },
    {
      "cell_type": "code",
      "execution_count": null,
      "id": "f94630d9",
      "metadata": {
        "id": "f94630d9",
        "outputId": "db58f0e3-fda7-4249-8aa9-880d140ab391"
      },
      "outputs": [
        {
          "name": "stdout",
          "output_type": "stream",
          "text": [
            "False\n"
          ]
        }
      ],
      "source": [
        "a=10\n",
        "a1=20\n",
        "b=\"0.0\"\n",
        "b1=\"10\"\n",
        "c=20.0\n",
        "c1=21.1\n",
        "d=complex(a)\n",
        "e=None\n",
        "print(a>a1)"
      ]
    },
    {
      "cell_type": "code",
      "execution_count": null,
      "id": "d17289f9",
      "metadata": {
        "id": "d17289f9",
        "outputId": "4af1dd14-6271-4218-959c-6a44a597d092"
      },
      "outputs": [
        {
          "name": "stdout",
          "output_type": "stream",
          "text": [
            "True\n"
          ]
        }
      ],
      "source": [
        "a=10\n",
        "a1=20\n",
        "b=\"0.0\"\n",
        "b1=\"10\"\n",
        "c=20.0\n",
        "c1=21.1\n",
        "d=complex(a)\n",
        "e=None\n",
        "print(a<a1)"
      ]
    },
    {
      "cell_type": "code",
      "execution_count": null,
      "id": "1e7978a2",
      "metadata": {
        "id": "1e7978a2",
        "outputId": "162ae375-725d-41a0-cafb-7cb5508d4cf3"
      },
      "outputs": [
        {
          "ename": "TypeError",
          "evalue": "'<' not supported between instances of 'int' and 'str'",
          "output_type": "error",
          "traceback": [
            "\u001b[1;31m---------------------------------------------------------------------------\u001b[0m",
            "\u001b[1;31mTypeError\u001b[0m                                 Traceback (most recent call last)",
            "\u001b[1;32m~\\AppData\\Local\\Temp/ipykernel_6160/204449553.py\u001b[0m in \u001b[0;36m<module>\u001b[1;34m\u001b[0m\n\u001b[0;32m      7\u001b[0m \u001b[0md\u001b[0m\u001b[1;33m=\u001b[0m\u001b[0mcomplex\u001b[0m\u001b[1;33m(\u001b[0m\u001b[0ma\u001b[0m\u001b[1;33m)\u001b[0m\u001b[1;33m\u001b[0m\u001b[1;33m\u001b[0m\u001b[0m\n\u001b[0;32m      8\u001b[0m \u001b[0me\u001b[0m\u001b[1;33m=\u001b[0m\u001b[1;32mNone\u001b[0m\u001b[1;33m\u001b[0m\u001b[1;33m\u001b[0m\u001b[0m\n\u001b[1;32m----> 9\u001b[1;33m \u001b[0mprint\u001b[0m\u001b[1;33m(\u001b[0m\u001b[0ma\u001b[0m\u001b[1;33m<\u001b[0m\u001b[0mb1\u001b[0m\u001b[1;33m)\u001b[0m\u001b[1;33m\u001b[0m\u001b[1;33m\u001b[0m\u001b[0m\n\u001b[0m",
            "\u001b[1;31mTypeError\u001b[0m: '<' not supported between instances of 'int' and 'str'"
          ]
        }
      ],
      "source": [
        "a=10\n",
        "a1=20\n",
        "b=\"0.0\"\n",
        "b1=\"10\"\n",
        "c=20.0\n",
        "c1=21.1\n",
        "d=complex(a)\n",
        "e=None\n",
        "print(a<b1)"
      ]
    },
    {
      "cell_type": "code",
      "execution_count": null,
      "id": "6c186e5c",
      "metadata": {
        "id": "6c186e5c",
        "outputId": "4c977f45-f89f-4efe-e08d-ebb7db61927e"
      },
      "outputs": [
        {
          "ename": "TypeError",
          "evalue": "'<' not supported between instances of 'int' and 'str'",
          "output_type": "error",
          "traceback": [
            "\u001b[1;31m---------------------------------------------------------------------------\u001b[0m",
            "\u001b[1;31mTypeError\u001b[0m                                 Traceback (most recent call last)",
            "\u001b[1;32m~\\AppData\\Local\\Temp/ipykernel_6160/3210343314.py\u001b[0m in \u001b[0;36m<module>\u001b[1;34m\u001b[0m\n\u001b[0;32m      7\u001b[0m \u001b[0md\u001b[0m\u001b[1;33m=\u001b[0m\u001b[0mcomplex\u001b[0m\u001b[1;33m(\u001b[0m\u001b[0ma\u001b[0m\u001b[1;33m)\u001b[0m\u001b[1;33m\u001b[0m\u001b[1;33m\u001b[0m\u001b[0m\n\u001b[0;32m      8\u001b[0m \u001b[0me\u001b[0m\u001b[1;33m=\u001b[0m\u001b[1;32mNone\u001b[0m\u001b[1;33m\u001b[0m\u001b[1;33m\u001b[0m\u001b[0m\n\u001b[1;32m----> 9\u001b[1;33m \u001b[0mprint\u001b[0m\u001b[1;33m(\u001b[0m\u001b[0ma\u001b[0m\u001b[1;33m<\u001b[0m\u001b[0mb\u001b[0m\u001b[1;33m)\u001b[0m\u001b[1;33m\u001b[0m\u001b[1;33m\u001b[0m\u001b[0m\n\u001b[0m",
            "\u001b[1;31mTypeError\u001b[0m: '<' not supported between instances of 'int' and 'str'"
          ]
        }
      ],
      "source": [
        "a=10\n",
        "a1=20\n",
        "b=\"0.0\"\n",
        "b1=\"10\"\n",
        "c=20.0\n",
        "c1=21.1\n",
        "d=complex(a)\n",
        "e=None\n",
        "print(a<b)"
      ]
    },
    {
      "cell_type": "code",
      "execution_count": null,
      "id": "cc1cd66c",
      "metadata": {
        "id": "cc1cd66c",
        "outputId": "c5271442-37a7-4ae3-89ec-9011c00d2b36"
      },
      "outputs": [
        {
          "name": "stdout",
          "output_type": "stream",
          "text": [
            "True\n"
          ]
        }
      ],
      "source": [
        "a=10\n",
        "a1=20\n",
        "b=\"0.0\"\n",
        "b1=\"10\"\n",
        "c=20.0\n",
        "c1=21.1\n",
        "d=complex(a)\n",
        "e=None\n",
        "print(a<c)"
      ]
    },
    {
      "cell_type": "code",
      "execution_count": null,
      "id": "6fe9d033",
      "metadata": {
        "id": "6fe9d033",
        "outputId": "7564ecfd-046c-4698-8f54-d8ccab3e2b28"
      },
      "outputs": [
        {
          "name": "stdout",
          "output_type": "stream",
          "text": [
            "True\n"
          ]
        }
      ],
      "source": [
        "a=10\n",
        "a1=20\n",
        "b=\"0.0\"\n",
        "b1=\"10\"\n",
        "c=20.0\n",
        "c1=21.1\n",
        "d=complex(a)\n",
        "e=None\n",
        "print(b<b1)"
      ]
    },
    {
      "cell_type": "code",
      "execution_count": null,
      "id": "d057bdf0",
      "metadata": {
        "id": "d057bdf0",
        "outputId": "c9a79245-5433-49aa-ce66-5813ed196421"
      },
      "outputs": [
        {
          "ename": "TypeError",
          "evalue": "'<' not supported between instances of 'complex' and 'NoneType'",
          "output_type": "error",
          "traceback": [
            "\u001b[1;31m---------------------------------------------------------------------------\u001b[0m",
            "\u001b[1;31mTypeError\u001b[0m                                 Traceback (most recent call last)",
            "\u001b[1;32m~\\AppData\\Local\\Temp/ipykernel_6160/2051220980.py\u001b[0m in \u001b[0;36m<module>\u001b[1;34m\u001b[0m\n\u001b[0;32m      7\u001b[0m \u001b[0md\u001b[0m\u001b[1;33m=\u001b[0m\u001b[0mcomplex\u001b[0m\u001b[1;33m(\u001b[0m\u001b[0ma\u001b[0m\u001b[1;33m)\u001b[0m\u001b[1;33m\u001b[0m\u001b[1;33m\u001b[0m\u001b[0m\n\u001b[0;32m      8\u001b[0m \u001b[0me\u001b[0m\u001b[1;33m=\u001b[0m\u001b[1;32mNone\u001b[0m\u001b[1;33m\u001b[0m\u001b[1;33m\u001b[0m\u001b[0m\n\u001b[1;32m----> 9\u001b[1;33m \u001b[0mprint\u001b[0m\u001b[1;33m(\u001b[0m\u001b[0md\u001b[0m\u001b[1;33m<\u001b[0m\u001b[0me\u001b[0m\u001b[1;33m)\u001b[0m\u001b[1;33m\u001b[0m\u001b[1;33m\u001b[0m\u001b[0m\n\u001b[0m",
            "\u001b[1;31mTypeError\u001b[0m: '<' not supported between instances of 'complex' and 'NoneType'"
          ]
        }
      ],
      "source": [
        "a=10\n",
        "a1=20\n",
        "b=\"0.0\"\n",
        "b1=\"10\"\n",
        "c=20.0\n",
        "c1=21.1\n",
        "d=complex(a)\n",
        "e=None\n",
        "print(d<e)"
      ]
    },
    {
      "cell_type": "code",
      "execution_count": null,
      "id": "95a12f9b",
      "metadata": {
        "id": "95a12f9b",
        "outputId": "735dce38-800d-45ca-9019-28ddfb616171"
      },
      "outputs": [
        {
          "ename": "TypeError",
          "evalue": "'<' not supported between instances of 'complex' and 'float'",
          "output_type": "error",
          "traceback": [
            "\u001b[1;31m---------------------------------------------------------------------------\u001b[0m",
            "\u001b[1;31mTypeError\u001b[0m                                 Traceback (most recent call last)",
            "\u001b[1;32m~\\AppData\\Local\\Temp/ipykernel_6160/3799697382.py\u001b[0m in \u001b[0;36m<module>\u001b[1;34m\u001b[0m\n\u001b[0;32m      7\u001b[0m \u001b[0md\u001b[0m\u001b[1;33m=\u001b[0m\u001b[0mcomplex\u001b[0m\u001b[1;33m(\u001b[0m\u001b[0ma\u001b[0m\u001b[1;33m)\u001b[0m\u001b[1;33m\u001b[0m\u001b[1;33m\u001b[0m\u001b[0m\n\u001b[0;32m      8\u001b[0m \u001b[0me\u001b[0m\u001b[1;33m=\u001b[0m\u001b[1;32mNone\u001b[0m\u001b[1;33m\u001b[0m\u001b[1;33m\u001b[0m\u001b[0m\n\u001b[1;32m----> 9\u001b[1;33m \u001b[0mprint\u001b[0m\u001b[1;33m(\u001b[0m\u001b[0md\u001b[0m\u001b[1;33m<\u001b[0m\u001b[0mc1\u001b[0m\u001b[1;33m)\u001b[0m\u001b[1;33m\u001b[0m\u001b[1;33m\u001b[0m\u001b[0m\n\u001b[0m",
            "\u001b[1;31mTypeError\u001b[0m: '<' not supported between instances of 'complex' and 'float'"
          ]
        }
      ],
      "source": [
        "a=10\n",
        "a1=20\n",
        "b=\"0.0\"\n",
        "b1=\"10\"\n",
        "c=20.0\n",
        "c1=21.1\n",
        "d=complex(a)\n",
        "e=None\n",
        "print(d<c1)"
      ]
    },
    {
      "cell_type": "code",
      "execution_count": null,
      "id": "0de86a11",
      "metadata": {
        "id": "0de86a11",
        "outputId": "c7f81a83-2834-403e-c1b4-90ebe2182f5f"
      },
      "outputs": [
        {
          "ename": "TypeError",
          "evalue": "'<' not supported between instances of 'NoneType' and 'float'",
          "output_type": "error",
          "traceback": [
            "\u001b[1;31m---------------------------------------------------------------------------\u001b[0m",
            "\u001b[1;31mTypeError\u001b[0m                                 Traceback (most recent call last)",
            "\u001b[1;32m~\\AppData\\Local\\Temp/ipykernel_6160/2800449852.py\u001b[0m in \u001b[0;36m<module>\u001b[1;34m\u001b[0m\n\u001b[0;32m      7\u001b[0m \u001b[0md\u001b[0m\u001b[1;33m=\u001b[0m\u001b[0mcomplex\u001b[0m\u001b[1;33m(\u001b[0m\u001b[0ma\u001b[0m\u001b[1;33m)\u001b[0m\u001b[1;33m\u001b[0m\u001b[1;33m\u001b[0m\u001b[0m\n\u001b[0;32m      8\u001b[0m \u001b[0me\u001b[0m\u001b[1;33m=\u001b[0m\u001b[1;32mNone\u001b[0m\u001b[1;33m\u001b[0m\u001b[1;33m\u001b[0m\u001b[0m\n\u001b[1;32m----> 9\u001b[1;33m \u001b[0mprint\u001b[0m\u001b[1;33m(\u001b[0m\u001b[0me\u001b[0m\u001b[1;33m<\u001b[0m\u001b[0mc1\u001b[0m\u001b[1;33m)\u001b[0m\u001b[1;33m\u001b[0m\u001b[1;33m\u001b[0m\u001b[0m\n\u001b[0m",
            "\u001b[1;31mTypeError\u001b[0m: '<' not supported between instances of 'NoneType' and 'float'"
          ]
        }
      ],
      "source": [
        "a=10\n",
        "a1=20\n",
        "b=\"0.0\"\n",
        "b1=\"10\"\n",
        "c=20.0\n",
        "c1=21.1\n",
        "d=complex(a)\n",
        "e=None\n",
        "print(e<c1)"
      ]
    },
    {
      "cell_type": "code",
      "execution_count": null,
      "id": "e05e1420",
      "metadata": {
        "id": "e05e1420",
        "outputId": "e31aac0a-cc3b-4091-c98a-cdfc38247515"
      },
      "outputs": [
        {
          "ename": "TypeError",
          "evalue": "'<' not supported between instances of 'str' and 'float'",
          "output_type": "error",
          "traceback": [
            "\u001b[1;31m---------------------------------------------------------------------------\u001b[0m",
            "\u001b[1;31mTypeError\u001b[0m                                 Traceback (most recent call last)",
            "\u001b[1;32m~\\AppData\\Local\\Temp/ipykernel_6160/567703818.py\u001b[0m in \u001b[0;36m<module>\u001b[1;34m\u001b[0m\n\u001b[0;32m      7\u001b[0m \u001b[0md\u001b[0m\u001b[1;33m=\u001b[0m\u001b[0mcomplex\u001b[0m\u001b[1;33m(\u001b[0m\u001b[0ma\u001b[0m\u001b[1;33m)\u001b[0m\u001b[1;33m\u001b[0m\u001b[1;33m\u001b[0m\u001b[0m\n\u001b[0;32m      8\u001b[0m \u001b[0me\u001b[0m\u001b[1;33m=\u001b[0m\u001b[1;32mNone\u001b[0m\u001b[1;33m\u001b[0m\u001b[1;33m\u001b[0m\u001b[0m\n\u001b[1;32m----> 9\u001b[1;33m \u001b[0mprint\u001b[0m\u001b[1;33m(\u001b[0m\u001b[0mb1\u001b[0m\u001b[1;33m<\u001b[0m\u001b[0mc\u001b[0m\u001b[1;33m)\u001b[0m\u001b[1;33m\u001b[0m\u001b[1;33m\u001b[0m\u001b[0m\n\u001b[0m",
            "\u001b[1;31mTypeError\u001b[0m: '<' not supported between instances of 'str' and 'float'"
          ]
        }
      ],
      "source": [
        "a=10\n",
        "a1=20\n",
        "b=\"0.0\"\n",
        "b1=\"10\"\n",
        "c=20.0\n",
        "c1=21.1\n",
        "d=complex(a)\n",
        "e=None\n",
        "print(b1<c)"
      ]
    },
    {
      "cell_type": "code",
      "execution_count": null,
      "id": "4acab05a",
      "metadata": {
        "id": "4acab05a",
        "outputId": "fd735766-69fb-4a61-9d61-0fada92dd652"
      },
      "outputs": [
        {
          "name": "stdout",
          "output_type": "stream",
          "text": [
            "False\n",
            "True\n",
            "True\n",
            "False\n"
          ]
        }
      ],
      "source": [
        "a='shashank'\n",
        "b=\"sadadekar\"\n",
        "\n",
        "print(a==b)#Equality : It simply checks equal or not equal given 2 values\n",
        "print(a!=b)#Equality :not equal to \n",
        "print(a>b) #Comparison Operator: It checks as per ASCII \n",
        "print(a<=b)"
      ]
    },
    {
      "cell_type": "code",
      "execution_count": null,
      "id": "5a672dd8",
      "metadata": {
        "id": "5a672dd8",
        "outputId": "14a094e3-46a0-49a3-c369-3a83ebb51e86"
      },
      "outputs": [
        {
          "name": "stdout",
          "output_type": "stream",
          "text": [
            "False\n",
            "True\n",
            "True\n",
            "False\n"
          ]
        }
      ],
      "source": [
        "a='shashank'\n",
        "b=\"sadadekar\"\n",
        "c=10\n",
        "d=10.0\n",
        "e=3\n",
        "f=3+0j\n",
        "g='10.0'\n",
        "print(a==b)\n",
        "print(c==d)\n",
        "print(e==f)\n",
        "print(f==g)"
      ]
    },
    {
      "cell_type": "code",
      "execution_count": null,
      "id": "2e1c7015",
      "metadata": {
        "id": "2e1c7015",
        "outputId": "2a439d20-e133-4934-9aa5-f883bd794086"
      },
      "outputs": [
        {
          "name": "stdout",
          "output_type": "stream",
          "text": [
            "True\n"
          ]
        }
      ],
      "source": [
        "a=3\n",
        "b=3+0j\n",
        "print(a==b) #Equality Operators"
      ]
    },
    {
      "cell_type": "code",
      "execution_count": null,
      "id": "9d332ece",
      "metadata": {
        "id": "9d332ece",
        "outputId": "664c114d-d108-4c24-a90e-67ac3972ddc3"
      },
      "outputs": [
        {
          "name": "stdout",
          "output_type": "stream",
          "text": [
            "False\n",
            "True\n",
            "False\n"
          ]
        }
      ],
      "source": [
        "print(True and False)\n",
        "print(True or False)\n",
        "print(not True)"
      ]
    },
    {
      "cell_type": "code",
      "execution_count": null,
      "id": "258430ee",
      "metadata": {
        "id": "258430ee",
        "outputId": "c98c886a-bd1f-4a67-f0a9-adc2c95bf012"
      },
      "outputs": [
        {
          "data": {
            "text/plain": [
              "False"
            ]
          },
          "execution_count": 1,
          "metadata": {},
          "output_type": "execute_result"
        }
      ],
      "source": [
        "a='shashank'\n",
        "b='10'\n",
        "c=(11.8)\n",
        "(a<b) and (11.2 > 11.8)"
      ]
    },
    {
      "cell_type": "code",
      "execution_count": null,
      "id": "e33eb84b",
      "metadata": {
        "id": "e33eb84b",
        "outputId": "ba99e43e-d455-4983-ba50-ed026cc6a088"
      },
      "outputs": [
        {
          "name": "stdout",
          "output_type": "stream",
          "text": [
            "1.0\n"
          ]
        }
      ],
      "source": [
        "True+True+True\n",
        "print(float(True))"
      ]
    },
    {
      "cell_type": "code",
      "execution_count": null,
      "id": "99f84d02",
      "metadata": {
        "id": "99f84d02",
        "outputId": "fa5ca9aa-0fde-4523-ad49-7d58a0c0390d"
      },
      "outputs": [
        {
          "name": "stdout",
          "output_type": "stream",
          "text": [
            "<class 'dict'>\n",
            "1\n"
          ]
        }
      ],
      "source": [
        "a={1:2}\n",
        "print(type(a))\n",
        "print(len(a))"
      ]
    },
    {
      "cell_type": "code",
      "execution_count": null,
      "id": "df2807a2",
      "metadata": {
        "id": "df2807a2",
        "outputId": "45d15d56-a273-4b5c-9aa2-d72bf9f3226b"
      },
      "outputs": [
        {
          "name": "stdout",
          "output_type": "stream",
          "text": [
            "-1\n",
            "1\n",
            "2\n"
          ]
        }
      ],
      "source": [
        "print(False-True)\n",
        "print(True-False)\n",
        "print(True+True)"
      ]
    },
    {
      "cell_type": "code",
      "execution_count": null,
      "id": "50f282c2",
      "metadata": {
        "id": "50f282c2",
        "outputId": "28c57c4c-eb48-465f-cfd3-81b8b9f40fcb"
      },
      "outputs": [
        {
          "data": {
            "text/plain": [
              "False"
            ]
          },
          "execution_count": 139,
          "metadata": {},
          "output_type": "execute_result"
        }
      ],
      "source": [
        "(False>True) and (True>False)"
      ]
    },
    {
      "cell_type": "code",
      "execution_count": null,
      "id": "b18cfa24",
      "metadata": {
        "id": "b18cfa24",
        "outputId": "3ab67dff-445c-4ec8-f686-2639b15eabf9"
      },
      "outputs": [
        {
          "data": {
            "text/plain": [
              "False"
            ]
          },
          "execution_count": 3,
          "metadata": {},
          "output_type": "execute_result"
        }
      ],
      "source": [
        "(False<2.0) and (11<False)"
      ]
    },
    {
      "cell_type": "code",
      "execution_count": null,
      "id": "84c29252",
      "metadata": {
        "id": "84c29252"
      },
      "outputs": [],
      "source": [
        ""
      ]
    },
    {
      "cell_type": "code",
      "execution_count": null,
      "id": "1e18d3a7",
      "metadata": {
        "id": "1e18d3a7",
        "outputId": "301c1bc2-9fd3-4063-a327-0dd331689624"
      },
      "outputs": [
        {
          "name": "stdout",
          "output_type": "stream",
          "text": [
            "\n",
            "Welcome to Python 3.9's help utility!\n",
            "\n",
            "If this is your first time using Python, you should definitely check out\n",
            "the tutorial on the Internet at https://docs.python.org/3.9/tutorial/.\n",
            "\n",
            "Enter the name of any module, keyword, or topic to get help on writing\n",
            "Python programs and using Python modules.  To quit this help utility and\n",
            "return to the interpreter, just type \"quit\".\n",
            "\n",
            "To get a list of available modules, keywords, symbols, or topics, type\n",
            "\"modules\", \"keywords\", \"symbols\", or \"topics\".  Each module also comes\n",
            "with a one-line summary of what it does; to list the modules whose name\n",
            "or summary contain a given string such as \"spam\", type \"modules spam\".\n",
            "\n",
            "help> \"symbols\"\n",
            "\n",
            "Here is a list of the punctuation symbols which Python assigns special meaning\n",
            "to. Enter any symbol to get more help.\n",
            "\n",
            "!=                  +                   <=                  __\n",
            "\"                   +=                  <>                  `\n",
            "\"\"\"                 ,                   ==                  b\"\n",
            "%                   -                   >                   b'\n",
            "%=                  -=                  >=                  f\"\n",
            "&                   .                   >>                  f'\n",
            "&=                  ...                 >>=                 j\n",
            "'                   /                   @                   r\"\n",
            "'''                 //                  J                   r'\n",
            "(                   //=                 [                   u\"\n",
            ")                   /=                  \\                   u'\n",
            "*                   :                   ]                   |\n",
            "**                  <                   ^                   |=\n",
            "**=                 <<                  ^=                  ~\n",
            "*=                  <<=                 _                   \n",
            "\n",
            "help>  r\"\n",
            "String and Bytes literals\n",
            "*************************\n",
            "\n",
            "String literals are described by the following lexical definitions:\n",
            "\n",
            "   stringliteral   ::= [stringprefix](shortstring | longstring)\n",
            "   stringprefix    ::= \"r\" | \"u\" | \"R\" | \"U\" | \"f\" | \"F\"\n",
            "                    | \"fr\" | \"Fr\" | \"fR\" | \"FR\" | \"rf\" | \"rF\" | \"Rf\" | \"RF\"\n",
            "   shortstring     ::= \"'\" shortstringitem* \"'\" | '\"' shortstringitem* '\"'\n",
            "   longstring      ::= \"'''\" longstringitem* \"'''\" | '\"\"\"' longstringitem* '\"\"\"'\n",
            "   shortstringitem ::= shortstringchar | stringescapeseq\n",
            "   longstringitem  ::= longstringchar | stringescapeseq\n",
            "   shortstringchar ::= <any source character except \"\\\" or newline or the quote>\n",
            "   longstringchar  ::= <any source character except \"\\\">\n",
            "   stringescapeseq ::= \"\\\" <any source character>\n",
            "\n",
            "   bytesliteral   ::= bytesprefix(shortbytes | longbytes)\n",
            "   bytesprefix    ::= \"b\" | \"B\" | \"br\" | \"Br\" | \"bR\" | \"BR\" | \"rb\" | \"rB\" | \"Rb\" | \"RB\"\n",
            "   shortbytes     ::= \"'\" shortbytesitem* \"'\" | '\"' shortbytesitem* '\"'\n",
            "   longbytes      ::= \"'''\" longbytesitem* \"'''\" | '\"\"\"' longbytesitem* '\"\"\"'\n",
            "   shortbytesitem ::= shortbyteschar | bytesescapeseq\n",
            "   longbytesitem  ::= longbyteschar | bytesescapeseq\n",
            "   shortbyteschar ::= <any ASCII character except \"\\\" or newline or the quote>\n",
            "   longbyteschar  ::= <any ASCII character except \"\\\">\n",
            "   bytesescapeseq ::= \"\\\" <any ASCII character>\n",
            "\n",
            "One syntactic restriction not indicated by these productions is that\n",
            "whitespace is not allowed between the \"stringprefix\" or \"bytesprefix\"\n",
            "and the rest of the literal. The source character set is defined by\n",
            "the encoding declaration; it is UTF-8 if no encoding declaration is\n",
            "given in the source file; see section Encoding declarations.\n",
            "\n",
            "In plain English: Both types of literals can be enclosed in matching\n",
            "single quotes (\"'\") or double quotes (\"\"\").  They can also be enclosed\n",
            "in matching groups of three single or double quotes (these are\n",
            "generally referred to as *triple-quoted strings*).  The backslash\n",
            "(\"\\\") character is used to escape characters that otherwise have a\n",
            "special meaning, such as newline, backslash itself, or the quote\n",
            "character.\n",
            "\n",
            "Bytes literals are always prefixed with \"'b'\" or \"'B'\"; they produce\n",
            "an instance of the \"bytes\" type instead of the \"str\" type.  They may\n",
            "only contain ASCII characters; bytes with a numeric value of 128 or\n",
            "greater must be expressed with escapes.\n",
            "\n",
            "Both string and bytes literals may optionally be prefixed with a\n",
            "letter \"'r'\" or \"'R'\"; such strings are called *raw strings* and treat\n",
            "backslashes as literal characters.  As a result, in string literals,\n",
            "\"'\\U'\" and \"'\\u'\" escapes in raw strings are not treated specially.\n",
            "Given that Python 2.x’s raw unicode literals behave differently than\n",
            "Python 3.x’s the \"'ur'\" syntax is not supported.\n",
            "\n",
            "New in version 3.3: The \"'rb'\" prefix of raw bytes literals has been\n",
            "added as a synonym of \"'br'\".\n",
            "\n",
            "New in version 3.3: Support for the unicode legacy literal\n",
            "(\"u'value'\") was reintroduced to simplify the maintenance of dual\n",
            "Python 2.x and 3.x codebases. See **PEP 414** for more information.\n",
            "\n",
            "A string literal with \"'f'\" or \"'F'\" in its prefix is a *formatted\n",
            "string literal*; see Formatted string literals.  The \"'f'\" may be\n",
            "combined with \"'r'\", but not with \"'b'\" or \"'u'\", therefore raw\n",
            "formatted strings are possible, but formatted bytes literals are not.\n",
            "\n",
            "In triple-quoted literals, unescaped newlines and quotes are allowed\n",
            "(and are retained), except that three unescaped quotes in a row\n",
            "terminate the literal.  (A “quote” is the character used to open the\n",
            "literal, i.e. either \"'\" or \"\"\".)\n",
            "\n",
            "Unless an \"'r'\" or \"'R'\" prefix is present, escape sequences in string\n",
            "and bytes literals are interpreted according to rules similar to those\n",
            "used by Standard C.  The recognized escape sequences are:\n",
            "\n",
            "+-------------------+-----------------------------------+---------+\n",
            "| Escape Sequence   | Meaning                           | Notes   |\n",
            "|===================|===================================|=========|\n",
            "| \"\\newline\"        | Backslash and newline ignored     |         |\n",
            "+-------------------+-----------------------------------+---------+\n",
            "| \"\\\\\"              | Backslash (\"\\\")                   |         |\n",
            "+-------------------+-----------------------------------+---------+\n",
            "| \"\\'\"              | Single quote (\"'\")                |         |\n",
            "+-------------------+-----------------------------------+---------+\n",
            "| \"\\\"\"              | Double quote (\"\"\")                |         |\n",
            "+-------------------+-----------------------------------+---------+\n",
            "| \"\\a\"              | ASCII Bell (BEL)                  |         |\n",
            "+-------------------+-----------------------------------+---------+\n",
            "| \"\\b\"              | ASCII Backspace (BS)              |         |\n",
            "+-------------------+-----------------------------------+---------+\n",
            "| \"\\f\"              | ASCII Formfeed (FF)               |         |\n",
            "+-------------------+-----------------------------------+---------+\n",
            "| \"\\n\"              | ASCII Linefeed (LF)               |         |\n",
            "+-------------------+-----------------------------------+---------+\n",
            "| \"\\r\"              | ASCII Carriage Return (CR)        |         |\n",
            "+-------------------+-----------------------------------+---------+\n",
            "| \"\\t\"              | ASCII Horizontal Tab (TAB)        |         |\n",
            "+-------------------+-----------------------------------+---------+\n",
            "| \"\\v\"              | ASCII Vertical Tab (VT)           |         |\n",
            "+-------------------+-----------------------------------+---------+\n",
            "| \"\\ooo\"            | Character with octal value *ooo*  | (1,3)   |\n",
            "+-------------------+-----------------------------------+---------+\n",
            "| \"\\xhh\"            | Character with hex value *hh*     | (2,3)   |\n",
            "+-------------------+-----------------------------------+---------+\n",
            "\n",
            "Escape sequences only recognized in string literals are:\n",
            "\n",
            "+-------------------+-----------------------------------+---------+\n",
            "| Escape Sequence   | Meaning                           | Notes   |\n",
            "|===================|===================================|=========|\n",
            "| \"\\N{name}\"        | Character named *name* in the     | (4)     |\n",
            "|                   | Unicode database                  |         |\n",
            "+-------------------+-----------------------------------+---------+\n",
            "| \"\\uxxxx\"          | Character with 16-bit hex value   | (5)     |\n",
            "|                   | *xxxx*                            |         |\n",
            "+-------------------+-----------------------------------+---------+\n",
            "| \"\\Uxxxxxxxx\"      | Character with 32-bit hex value   | (6)     |\n",
            "|                   | *xxxxxxxx*                        |         |\n",
            "+-------------------+-----------------------------------+---------+\n",
            "\n",
            "Notes:\n",
            "\n",
            "1. As in Standard C, up to three octal digits are accepted.\n",
            "\n",
            "2. Unlike in Standard C, exactly two hex digits are required.\n",
            "\n",
            "3. In a bytes literal, hexadecimal and octal escapes denote the byte\n",
            "   with the given value. In a string literal, these escapes denote a\n",
            "   Unicode character with the given value.\n",
            "\n",
            "4. Changed in version 3.3: Support for name aliases [1] has been\n",
            "   added.\n",
            "\n",
            "5. Exactly four hex digits are required.\n",
            "\n",
            "6. Any Unicode character can be encoded this way.  Exactly eight hex\n",
            "   digits are required.\n",
            "\n",
            "Unlike Standard C, all unrecognized escape sequences are left in the\n",
            "string unchanged, i.e., *the backslash is left in the result*.  (This\n",
            "behavior is useful when debugging: if an escape sequence is mistyped,\n",
            "the resulting output is more easily recognized as broken.)  It is also\n",
            "important to note that the escape sequences only recognized in string\n",
            "literals fall into the category of unrecognized escapes for bytes\n",
            "literals.\n",
            "\n",
            "   Changed in version 3.6: Unrecognized escape sequences produce a\n",
            "   \"DeprecationWarning\".  In a future Python version they will be a\n",
            "   \"SyntaxWarning\" and eventually a \"SyntaxError\".\n",
            "\n",
            "Even in a raw literal, quotes can be escaped with a backslash, but the\n",
            "backslash remains in the result; for example, \"r\"\\\"\"\" is a valid\n",
            "string literal consisting of two characters: a backslash and a double\n",
            "quote; \"r\"\\\"\" is not a valid string literal (even a raw string cannot\n",
            "end in an odd number of backslashes).  Specifically, *a raw literal\n",
            "cannot end in a single backslash* (since the backslash would escape\n",
            "the following quote character).  Note also that a single backslash\n",
            "followed by a newline is interpreted as those two characters as part\n",
            "of the literal, *not* as a line continuation.\n",
            "\n",
            "Related help topics: str, UNICODE, SEQUENCES, STRINGMETHODS, FORMATTING,\n",
            "TYPES\n",
            "\n"
          ]
        }
      ],
      "source": [
        "help()"
      ]
    },
    {
      "cell_type": "code",
      "execution_count": null,
      "id": "a368e88f",
      "metadata": {
        "id": "a368e88f",
        "outputId": "885ba394-c81a-47ed-a164-61fe1f441d24"
      },
      "outputs": [
        {
          "name": "stdout",
          "output_type": "stream",
          "text": [
            "(-3+2j)\n",
            "(-3-0j)\n"
          ]
        }
      ],
      "source": [
        "a=complex(-3-2j)\n",
        "b=complex(-3-0j)\n",
        "print(a.conjugate()) # To returncomplex conjugate of complex nos.\n",
        "print(b.conjugate())"
      ]
    },
    {
      "cell_type": "code",
      "execution_count": null,
      "id": "a97614d2",
      "metadata": {
        "id": "a97614d2",
        "outputId": "42346cc6-2194-4e92-9e06-618283fee067"
      },
      "outputs": [
        {
          "name": "stdout",
          "output_type": "stream",
          "text": [
            "False\n",
            "True\n",
            "True\n",
            "\u000b",
            "\n",
            "False\n",
            "False\n"
          ]
        }
      ],
      "source": [
        "a= 3\n",
        "b= 4\n",
        "c=['shashank']\n",
        "d=['shashank']\n",
        "print(a is b)\n",
        "print(a is not b)\n",
        "print(c is not d)\n",
        "print('\\n')  #Just to add new line spaces.\n",
        "print(c is d) # As c & d are list i.e mutable so 'is' and 'in' returns False but 'is not' and 'not in' will return True.\n",
        "print(c in d)\n"
      ]
    },
    {
      "cell_type": "markdown",
      "id": "a089b7a7",
      "metadata": {
        "id": "a089b7a7"
      },
      "source": [
        "# Bitwise Operators : Allowed for int data types only & returns int data type output"
      ]
    },
    {
      "cell_type": "code",
      "execution_count": null,
      "id": "cccb08a9",
      "metadata": {
        "id": "cccb08a9",
        "outputId": "74792fa6-fb99-42c9-c4f1-714f896af09c"
      },
      "outputs": [
        {
          "name": "stdout",
          "output_type": "stream",
          "text": [
            "-11\n"
          ]
        }
      ],
      "source": [
        "# Bitwise Not Operator :Formula: (-x-1)\n",
        "a=10\n",
        "print(~a)"
      ]
    },
    {
      "cell_type": "code",
      "execution_count": null,
      "id": "1623b4d5",
      "metadata": {
        "id": "1623b4d5",
        "outputId": "cc26ccef-c71a-46c0-b29d-8ca7dd40d109"
      },
      "outputs": [
        {
          "name": "stdout",
          "output_type": "stream",
          "text": [
            "14\n"
          ]
        }
      ],
      "source": [
        "#Bitwise OR \n",
        "a=10\n",
        "b=4\n",
        "c=a ^ b \n",
        "print(c)"
      ]
    },
    {
      "cell_type": "code",
      "execution_count": null,
      "id": "e0c69319",
      "metadata": {
        "id": "e0c69319",
        "outputId": "d50791b6-58c7-4283-b163-1a5b1594bd64"
      },
      "outputs": [
        {
          "name": "stdout",
          "output_type": "stream",
          "text": [
            "272\n"
          ]
        }
      ],
      "source": [
        "#Bitwise AND \n",
        "a=10000\n",
        "b=400\n",
        "c=a & b \n",
        "print(c)"
      ]
    },
    {
      "cell_type": "code",
      "execution_count": null,
      "id": "0d011bcd",
      "metadata": {
        "id": "0d011bcd"
      },
      "outputs": [],
      "source": [
        "#Bitwise Left shift (<<) & Right shift (>>)\n",
        "# Left shift formula: x*2**n\n",
        "# Right shift formula: x//2**n\n",
        "# x : Any variable and n : No of digits asked to be shifted\n"
      ]
    },
    {
      "cell_type": "code",
      "execution_count": null,
      "id": "3a73f8ee",
      "metadata": {
        "id": "3a73f8ee",
        "outputId": "d00aed52-52a9-450f-f020-4429012b5c3f"
      },
      "outputs": [
        {
          "name": "stdout",
          "output_type": "stream",
          "text": [
            "40\n",
            "2\n"
          ]
        }
      ],
      "source": [
        "a=10\n",
        "b=2\n",
        "\n",
        "print(a<<2) #or write print(a*2**2)\n",
        "print(a>>2) #or write print(a//2**2)"
      ]
    },
    {
      "cell_type": "code",
      "execution_count": null,
      "id": "04562043",
      "metadata": {
        "id": "04562043",
        "outputId": "c6af90eb-0ea1-4a3e-dae6-b0e7e71b4ea6"
      },
      "outputs": [
        {
          "name": "stdout",
          "output_type": "stream",
          "text": [
            "2\n"
          ]
        }
      ],
      "source": [
        "print(10//4)"
      ]
    },
    {
      "cell_type": "markdown",
      "id": "fa550910",
      "metadata": {
        "id": "fa550910"
      },
      "source": [
        "# Dict"
      ]
    },
    {
      "cell_type": "code",
      "execution_count": null,
      "id": "bfa49aec",
      "metadata": {
        "id": "bfa49aec",
        "outputId": "18057b56-15e5-4665-fc7f-144edf0c5689"
      },
      "outputs": [
        {
          "name": "stdout",
          "output_type": "stream",
          "text": [
            "{1: 31, 2: 28, 3: 31, 4: 30, 5: 31, 6: 30}\n",
            "30\n",
            "{1: 31, 2: 28, 3: 31, 4: 30, 5: 31}\n"
          ]
        }
      ],
      "source": [
        "sixMonths = {1:31, 2:28, 3:31, 4:30, 5:31, 6:30}\n",
        "print(sixMonths)\n",
        "print(sixMonths.pop(6))\n",
        "print(sixMonths)"
      ]
    },
    {
      "cell_type": "code",
      "execution_count": null,
      "id": "6c18ca1d",
      "metadata": {
        "id": "6c18ca1d",
        "outputId": "6044090c-88df-4b74-a7db-0f37bcf85ab6"
      },
      "outputs": [
        {
          "name": "stdout",
          "output_type": "stream",
          "text": [
            "{1: 31, 2: 28, 3: 31, 4: 30, 5: 31, 6: 30}\n",
            "(6, 30)\n",
            "{1: 31, 2: 28, 3: 31, 4: 30, 5: 31}\n"
          ]
        }
      ],
      "source": [
        "sixMonths = {1:31, 2:28, 3:31, 4:30, 5:31, 6:30}\n",
        "print(sixMonths)\n",
        "print(sixMonths.popitem())\n",
        "print(sixMonths)"
      ]
    },
    {
      "cell_type": "code",
      "execution_count": null,
      "id": "fa9ff48c",
      "metadata": {
        "id": "fa9ff48c",
        "outputId": "af10ebcc-347a-4648-e9a4-c3818cec08f9"
      },
      "outputs": [
        {
          "name": "stdout",
          "output_type": "stream",
          "text": [
            "{1: 31, 2: 28, 3: 31, 4: 30, 5: 31, 6: 30}\n",
            "None\n",
            "{1: 31, 2: 28, 3: 31, 4: 30, 5: 31, 6: 30, 7: 50}\n"
          ]
        }
      ],
      "source": [
        "sixMonths = {1:31, 2:28, 3:31, 4:30, 5:31, 6:30}\n",
        "print(sixMonths)\n",
        "print(sixMonths.update({7:50})) # Thru update method\n",
        "print(sixMonths)"
      ]
    },
    {
      "cell_type": "code",
      "execution_count": null,
      "id": "190991c8",
      "metadata": {
        "id": "190991c8",
        "outputId": "be1f2efa-b823-44e8-db13-c74d35de9c49"
      },
      "outputs": [
        {
          "name": "stdout",
          "output_type": "stream",
          "text": [
            "{1: 31, 2: 28, 3: 31, 4: 30, 5: 31, 6: 30}\n",
            "{1: 31, 2: 28, 3: 31, 4: 30, 5: 31, 6: 30, 8: 30}\n"
          ]
        }
      ],
      "source": [
        "sixMonths = {1:31, 2:28, 3:31, 4:30, 5:31, 6:30}\n",
        "print(sixMonths)\n",
        "sixMonths[8]=30  #Thru assignment operator\n",
        "print(sixMonths)"
      ]
    },
    {
      "cell_type": "code",
      "execution_count": null,
      "id": "a6be7b6b",
      "metadata": {
        "id": "a6be7b6b",
        "outputId": "f7323a8f-cd00-4f8e-c999-d563674ccd9e"
      },
      "outputs": [
        {
          "name": "stdout",
          "output_type": "stream",
          "text": [
            "{1: 31, 2: 28, 3: 31, 4: 30, 5: 31, 6: 30}\n",
            "{1: 31, 2: 28, 3: 31, 4: 30, 5: 31, 6: 30, 8: 30}\n"
          ]
        }
      ],
      "source": [
        "sixMonths = {1:31, 2:28, 3:31, 4:30, 5:31, 6:30}\n",
        "print(sixMonths)\n",
        "sixMonths[8]=30\n",
        "print(sixMonths)"
      ]
    },
    {
      "cell_type": "code",
      "execution_count": null,
      "id": "0ef93a28",
      "metadata": {
        "id": "0ef93a28",
        "outputId": "49c1945b-6f3f-44fd-cd2e-a0acc4fe9b5a"
      },
      "outputs": [
        {
          "name": "stdout",
          "output_type": "stream",
          "text": [
            "{1: 31, 2: 28, 3: 37, 4: 30, 5: 31, 6: 30}\n",
            "37\n",
            "37\n"
          ]
        }
      ],
      "source": [
        "sixMonths = {1:31, 2:28, 3:37, 4:30, 5:31, 6:30}\n",
        "print(sixMonths)\n",
        "print(sixMonths.get(3))\n",
        "#OR use below\n",
        "print(sixMonths[3])"
      ]
    },
    {
      "cell_type": "code",
      "execution_count": null,
      "id": "500f3999",
      "metadata": {
        "id": "500f3999"
      },
      "outputs": [],
      "source": [
        ""
      ]
    },
    {
      "cell_type": "code",
      "execution_count": null,
      "id": "51e9f0f0",
      "metadata": {
        "id": "51e9f0f0"
      },
      "outputs": [],
      "source": [
        ""
      ]
    },
    {
      "cell_type": "code",
      "execution_count": null,
      "id": "290de662",
      "metadata": {
        "id": "290de662"
      },
      "outputs": [],
      "source": [
        ""
      ]
    },
    {
      "cell_type": "code",
      "execution_count": null,
      "id": "82558a2f",
      "metadata": {
        "id": "82558a2f"
      },
      "outputs": [],
      "source": [
        ""
      ]
    },
    {
      "cell_type": "code",
      "execution_count": null,
      "id": "e9b77821",
      "metadata": {
        "id": "e9b77821"
      },
      "outputs": [],
      "source": [
        ""
      ]
    },
    {
      "cell_type": "code",
      "execution_count": null,
      "id": "479cc9a8",
      "metadata": {
        "id": "479cc9a8"
      },
      "outputs": [],
      "source": [
        ""
      ]
    },
    {
      "cell_type": "code",
      "execution_count": null,
      "id": "ea7cf953",
      "metadata": {
        "id": "ea7cf953"
      },
      "outputs": [],
      "source": [
        ""
      ]
    },
    {
      "cell_type": "code",
      "execution_count": null,
      "id": "4c3af79c",
      "metadata": {
        "id": "4c3af79c"
      },
      "outputs": [],
      "source": [
        ""
      ]
    },
    {
      "cell_type": "code",
      "execution_count": null,
      "id": "a04784d7",
      "metadata": {
        "id": "a04784d7"
      },
      "outputs": [],
      "source": [
        ""
      ]
    },
    {
      "cell_type": "code",
      "execution_count": null,
      "id": "9473670f",
      "metadata": {
        "id": "9473670f"
      },
      "outputs": [],
      "source": [
        ""
      ]
    },
    {
      "cell_type": "code",
      "execution_count": null,
      "id": "d46ed6dc",
      "metadata": {
        "id": "d46ed6dc"
      },
      "outputs": [],
      "source": [
        ""
      ]
    },
    {
      "cell_type": "code",
      "execution_count": null,
      "id": "904581b1",
      "metadata": {
        "id": "904581b1"
      },
      "outputs": [],
      "source": [
        ""
      ]
    },
    {
      "cell_type": "code",
      "execution_count": null,
      "id": "b0320ab5",
      "metadata": {
        "id": "b0320ab5"
      },
      "outputs": [],
      "source": [
        ""
      ]
    },
    {
      "cell_type": "code",
      "execution_count": null,
      "id": "96cb3ba5",
      "metadata": {
        "id": "96cb3ba5"
      },
      "outputs": [],
      "source": [
        ""
      ]
    },
    {
      "cell_type": "code",
      "execution_count": null,
      "id": "31a437a3",
      "metadata": {
        "id": "31a437a3"
      },
      "outputs": [],
      "source": [
        ""
      ]
    },
    {
      "cell_type": "code",
      "execution_count": null,
      "id": "13bbe54b",
      "metadata": {
        "id": "13bbe54b"
      },
      "outputs": [],
      "source": [
        ""
      ]
    },
    {
      "cell_type": "code",
      "execution_count": null,
      "id": "74202f18",
      "metadata": {
        "id": "74202f18"
      },
      "outputs": [],
      "source": [
        ""
      ]
    }
  ],
  "metadata": {
    "kernelspec": {
      "display_name": "Python 3 (ipykernel)",
      "language": "python",
      "name": "python3"
    },
    "language_info": {
      "codemirror_mode": {
        "name": "ipython",
        "version": 3
      },
      "file_extension": ".py",
      "mimetype": "text/x-python",
      "name": "python",
      "nbconvert_exporter": "python",
      "pygments_lexer": "ipython3",
      "version": "3.9.7"
    },
    "colab": {
      "name": "Python basics .ipynb",
      "provenance": [],
      "collapsed_sections": [
        "082f86d3",
        "a7646103",
        "df6ae442",
        "a089b7a7"
      ]
    }
  },
  "nbformat": 4,
  "nbformat_minor": 5
}