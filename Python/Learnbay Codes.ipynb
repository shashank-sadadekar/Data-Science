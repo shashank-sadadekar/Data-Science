{
 "cells": [
  {
   "cell_type": "code",
   "execution_count": null,
   "id": "439168ca",
   "metadata": {},
   "outputs": [],
   "source": []
  },
  {
   "cell_type": "code",
   "execution_count": 1,
   "id": "9e523528",
   "metadata": {},
   "outputs": [
    {
     "data": {
      "text/plain": [
       "4.0"
      ]
     },
     "execution_count": 1,
     "metadata": {},
     "output_type": "execute_result"
    }
   ],
   "source": [
    "float(4+int(2.39)%2)"
   ]
  },
  {
   "cell_type": "code",
   "execution_count": 2,
   "id": "58430c85",
   "metadata": {},
   "outputs": [
    {
     "data": {
      "text/plain": [
       "8.0"
      ]
     },
     "execution_count": 2,
     "metadata": {},
     "output_type": "execute_result"
    }
   ],
   "source": [
    "float(22//3+3/3)"
   ]
  },
  {
   "cell_type": "code",
   "execution_count": 5,
   "id": "ef23c25a",
   "metadata": {},
   "outputs": [
    {
     "data": {
      "text/plain": [
       "'Sanfoundry'"
      ]
     },
     "execution_count": 5,
     "metadata": {},
     "output_type": "execute_result"
    }
   ],
   "source": [
    "D = dict(p='San',q='foundry')\n",
    "'{p}{q}'.format(**D)"
   ]
  },
  {
   "cell_type": "code",
   "execution_count": 6,
   "id": "fd0bc49e",
   "metadata": {},
   "outputs": [
    {
     "name": "stdout",
     "output_type": "stream",
     "text": [
      "A\n",
      "B\n",
      "C\n",
      "D\n"
     ]
    }
   ],
   "source": [
    "x = 'abcd'\n",
    "for i in x:\n",
    "    print(i.upper())"
   ]
  },
  {
   "cell_type": "code",
   "execution_count": 7,
   "id": "fa34f90f",
   "metadata": {},
   "outputs": [
    {
     "ename": "OverflowError",
     "evalue": "cannot convert float infinity to integer",
     "output_type": "error",
     "traceback": [
      "\u001b[1;31m---------------------------------------------------------------------------\u001b[0m",
      "\u001b[1;31mOverflowError\u001b[0m                             Traceback (most recent call last)",
      "\u001b[1;32m~\\AppData\\Local\\Temp/ipykernel_12300/1707194055.py\u001b[0m in \u001b[0;36m<module>\u001b[1;34m\u001b[0m\n\u001b[1;32m----> 1\u001b[1;33m \u001b[1;32mfor\u001b[0m \u001b[0mi\u001b[0m \u001b[1;32min\u001b[0m \u001b[0mrange\u001b[0m\u001b[1;33m(\u001b[0m\u001b[0mint\u001b[0m\u001b[1;33m(\u001b[0m\u001b[0mfloat\u001b[0m\u001b[1;33m(\u001b[0m\u001b[1;34m'inf'\u001b[0m\u001b[1;33m)\u001b[0m\u001b[1;33m)\u001b[0m\u001b[1;33m)\u001b[0m\u001b[1;33m:\u001b[0m\u001b[1;33m\u001b[0m\u001b[1;33m\u001b[0m\u001b[0m\n\u001b[0m\u001b[0;32m      2\u001b[0m     \u001b[0mprint\u001b[0m\u001b[1;33m(\u001b[0m\u001b[0mi\u001b[0m\u001b[1;33m)\u001b[0m\u001b[1;33m\u001b[0m\u001b[1;33m\u001b[0m\u001b[0m\n",
      "\u001b[1;31mOverflowError\u001b[0m: cannot convert float infinity to integer"
     ]
    }
   ],
   "source": [
    "for i in range(int(float('inf'))):\n",
    "    print(i)"
   ]
  },
  {
   "cell_type": "code",
   "execution_count": 8,
   "id": "b1999aef",
   "metadata": {},
   "outputs": [
    {
     "data": {
      "text/plain": [
       "'000ab'"
      ]
     },
     "execution_count": 8,
     "metadata": {},
     "output_type": "execute_result"
    }
   ],
   "source": [
    "'ab'.zfill(5)"
   ]
  },
  {
   "cell_type": "code",
   "execution_count": null,
   "id": "fde65c27",
   "metadata": {},
   "outputs": [],
   "source": []
  },
  {
   "cell_type": "code",
   "execution_count": 1,
   "id": "ca0af7fb",
   "metadata": {},
   "outputs": [
    {
     "data": {
      "text/plain": [
       "'l'"
      ]
     },
     "execution_count": 1,
     "metadata": {},
     "output_type": "execute_result"
    }
   ],
   "source": [
    "s = 'Hello'\n",
    "s.__getitem__(3)"
   ]
  },
  {
   "cell_type": "code",
   "execution_count": 2,
   "id": "a6b30170",
   "metadata": {},
   "outputs": [
    {
     "name": "stdout",
     "output_type": "stream",
     "text": [
      "False\n"
     ]
    }
   ],
   "source": [
    "print('Hello!2world@#'.istitle())"
   ]
  },
  {
   "cell_type": "code",
   "execution_count": 3,
   "id": "732ff38c",
   "metadata": {},
   "outputs": [
    {
     "data": {
      "text/plain": [
       "[1, 3, 6, 10]"
      ]
     },
     "execution_count": 3,
     "metadata": {},
     "output_type": "execute_result"
    }
   ],
   "source": [
    "a=[1,2,3,4]\n",
    "b = [sum(a[0:x+1]) for x in range(0,len(a))]\n",
    "b"
   ]
  },
  {
   "cell_type": "code",
   "execution_count": null,
   "id": "2338b5a9",
   "metadata": {},
   "outputs": [],
   "source": []
  },
  {
   "cell_type": "code",
   "execution_count": 6,
   "id": "fed148a3",
   "metadata": {},
   "outputs": [
    {
     "ename": "TypeError",
     "evalue": "'builtin_function_or_method' object is not subscriptable",
     "output_type": "error",
     "traceback": [
      "\u001b[1;31m---------------------------------------------------------------------------\u001b[0m",
      "\u001b[1;31mTypeError\u001b[0m                                 Traceback (most recent call last)",
      "\u001b[1;32m~\\AppData\\Local\\Temp/ipykernel_11852/1384163939.py\u001b[0m in \u001b[0;36m<module>\u001b[1;34m\u001b[0m\n\u001b[0;32m      1\u001b[0m \u001b[0ma\u001b[0m\u001b[1;33m=\u001b[0m\u001b[1;33m[\u001b[0m\u001b[1;33m[\u001b[0m\u001b[1;33m]\u001b[0m\u001b[1;33m]\u001b[0m\u001b[1;33m*\u001b[0m\u001b[1;36m3\u001b[0m\u001b[1;33m\u001b[0m\u001b[1;33m\u001b[0m\u001b[0m\n\u001b[1;32m----> 2\u001b[1;33m \u001b[0ma\u001b[0m\u001b[1;33m[\u001b[0m\u001b[1;36m1\u001b[0m\u001b[1;33m]\u001b[0m\u001b[1;33m.\u001b[0m\u001b[0mappend\u001b[0m\u001b[1;33m[\u001b[0m\u001b[1;36m7\u001b[0m\u001b[1;33m]\u001b[0m\u001b[1;33m\u001b[0m\u001b[1;33m\u001b[0m\u001b[0m\n\u001b[0m\u001b[0;32m      3\u001b[0m \u001b[0ma\u001b[0m\u001b[1;33m\u001b[0m\u001b[1;33m\u001b[0m\u001b[0m\n",
      "\u001b[1;31mTypeError\u001b[0m: 'builtin_function_or_method' object is not subscriptable"
     ]
    }
   ],
   "source": [
    "a=[[]]*3\n",
    "a[1].append[7]\n",
    "a"
   ]
  },
  {
   "cell_type": "markdown",
   "id": "3ab34291",
   "metadata": {},
   "source": [
    "# shifting digits 1 position left "
   ]
  },
  {
   "cell_type": "code",
   "execution_count": 11,
   "id": "198e5c5c",
   "metadata": {},
   "outputs": [
    {
     "name": "stdout",
     "output_type": "stream",
     "text": [
      "2 3 4 5 6 6 "
     ]
    }
   ],
   "source": [
    "a = [1,2,3,4,5,6]\n",
    "for i in range(1,6):\n",
    "    a[i-1] = a[i]\n",
    "\n",
    "for i in range(0,6):\n",
    "    print(a[i],end =' ')"
   ]
  },
  {
   "cell_type": "code",
   "execution_count": 14,
   "id": "37cfb91b",
   "metadata": {},
   "outputs": [
    {
     "ename": "TypeError",
     "evalue": "unsupported operand type(s) for +: 'set' and 'set'",
     "output_type": "error",
     "traceback": [
      "\u001b[1;31m---------------------------------------------------------------------------\u001b[0m",
      "\u001b[1;31mTypeError\u001b[0m                                 Traceback (most recent call last)",
      "\u001b[1;32m~\\AppData\\Local\\Temp/ipykernel_11852/3548666706.py\u001b[0m in \u001b[0;36m<module>\u001b[1;34m\u001b[0m\n\u001b[0;32m      1\u001b[0m \u001b[0ma\u001b[0m\u001b[1;33m=\u001b[0m\u001b[1;33m{\u001b[0m\u001b[1;36m3\u001b[0m\u001b[1;33m,\u001b[0m\u001b[1;36m4\u001b[0m\u001b[1;33m,\u001b[0m\u001b[1;36m5\u001b[0m\u001b[1;33m}\u001b[0m\u001b[1;33m\u001b[0m\u001b[1;33m\u001b[0m\u001b[0m\n\u001b[0;32m      2\u001b[0m \u001b[0mb\u001b[0m\u001b[1;33m=\u001b[0m\u001b[1;33m{\u001b[0m\u001b[1;36m5\u001b[0m\u001b[1;33m,\u001b[0m\u001b[1;36m6\u001b[0m\u001b[1;33m,\u001b[0m\u001b[1;36m7\u001b[0m\u001b[1;33m}\u001b[0m\u001b[1;33m\u001b[0m\u001b[1;33m\u001b[0m\u001b[0m\n\u001b[1;32m----> 3\u001b[1;33m \u001b[0ma\u001b[0m\u001b[1;33m+\u001b[0m\u001b[0mb\u001b[0m\u001b[1;33m\u001b[0m\u001b[1;33m\u001b[0m\u001b[0m\n\u001b[0m",
      "\u001b[1;31mTypeError\u001b[0m: unsupported operand type(s) for +: 'set' and 'set'"
     ]
    }
   ],
   "source": [
    "a={3,4,5}\n",
    "b={5,6,7}\n",
    "a+b"
   ]
  },
  {
   "cell_type": "code",
   "execution_count": 16,
   "id": "74ffecd6",
   "metadata": {},
   "outputs": [
    {
     "data": {
      "text/plain": [
       "(2, 3, 4, 5)"
      ]
     },
     "execution_count": 16,
     "metadata": {},
     "output_type": "execute_result"
    }
   ],
   "source": [
    "a=2,3,4,5\n",
    "a"
   ]
  },
  {
   "cell_type": "code",
   "execution_count": 17,
   "id": "24c68bbe",
   "metadata": {},
   "outputs": [
    {
     "data": {
      "text/plain": [
       "{3}"
      ]
     },
     "execution_count": 17,
     "metadata": {},
     "output_type": "execute_result"
    }
   ],
   "source": [
    "a={1,2,3}\n",
    "a.intersection_update({3,4,5})\n",
    "a"
   ]
  },
  {
   "cell_type": "code",
   "execution_count": 44,
   "id": "58c77d85",
   "metadata": {},
   "outputs": [
    {
     "data": {
      "text/plain": [
       "0"
      ]
     },
     "execution_count": 44,
     "metadata": {},
     "output_type": "execute_result"
    }
   ],
   "source": [
    "import collections \n",
    "b = dict()\n",
    "b = collections.defaultdict(int)\n",
    "b[1]"
   ]
  },
  {
   "cell_type": "code",
   "execution_count": null,
   "id": "b6a75ce9",
   "metadata": {},
   "outputs": [],
   "source": []
  },
  {
   "cell_type": "code",
   "execution_count": 24,
   "id": "ea0a1734",
   "metadata": {},
   "outputs": [
    {
     "ename": "NameError",
     "evalue": "name 'abcd' is not defined",
     "output_type": "error",
     "traceback": [
      "\u001b[1;31m---------------------------------------------------------------------------\u001b[0m",
      "\u001b[1;31mNameError\u001b[0m                                 Traceback (most recent call last)",
      "\u001b[1;32m~\\AppData\\Local\\Temp/ipykernel_11852/1986273280.py\u001b[0m in \u001b[0;36m<module>\u001b[1;34m\u001b[0m\n\u001b[1;32m----> 1\u001b[1;33m \u001b[0mx\u001b[0m\u001b[1;33m=\u001b[0m\u001b[0mabcd\u001b[0m\u001b[1;33m\u001b[0m\u001b[1;33m\u001b[0m\u001b[0m\n\u001b[0m\u001b[0;32m      2\u001b[0m \u001b[0mprint\u001b[0m\u001b[1;33m(\u001b[0m\u001b[0mlist\u001b[0m\u001b[1;33m(\u001b[0m\u001b[0mmap\u001b[0m\u001b[1;33m(\u001b[0m\u001b[0mlist\u001b[0m\u001b[1;33m,\u001b[0m\u001b[0mx\u001b[0m\u001b[1;33m)\u001b[0m\u001b[1;33m)\u001b[0m\u001b[1;33m)\u001b[0m\u001b[1;33m\u001b[0m\u001b[1;33m\u001b[0m\u001b[0m\n",
      "\u001b[1;31mNameError\u001b[0m: name 'abcd' is not defined"
     ]
    }
   ],
   "source": [
    "x=abcd\n",
    "print(list(map(list,x)))"
   ]
  },
  {
   "cell_type": "code",
   "execution_count": null,
   "id": "3d51c7e3",
   "metadata": {},
   "outputs": [],
   "source": []
  },
  {
   "cell_type": "code",
   "execution_count": 26,
   "id": "10655f45",
   "metadata": {},
   "outputs": [
    {
     "ename": "NameError",
     "evalue": "name 'reduce' is not defined",
     "output_type": "error",
     "traceback": [
      "\u001b[1;31m---------------------------------------------------------------------------\u001b[0m",
      "\u001b[1;31mNameError\u001b[0m                                 Traceback (most recent call last)",
      "\u001b[1;32m~\\AppData\\Local\\Temp/ipykernel_11852/2394088309.py\u001b[0m in \u001b[0;36m<module>\u001b[1;34m\u001b[0m\n\u001b[1;32m----> 1\u001b[1;33m \u001b[0ma\u001b[0m \u001b[1;33m=\u001b[0m \u001b[0mreduce\u001b[0m\u001b[1;33m(\u001b[0m\u001b[1;32mlambda\u001b[0m \u001b[0mx\u001b[0m\u001b[1;33m:\u001b[0m\u001b[0mx\u001b[0m\u001b[1;33m-\u001b[0m\u001b[1;36m3\u001b[0m \u001b[1;32min\u001b[0m \u001b[0mrange\u001b[0m\u001b[1;33m(\u001b[0m\u001b[1;36m4\u001b[0m\u001b[1;33m,\u001b[0m\u001b[1;36m10\u001b[0m\u001b[1;33m)\u001b[0m\u001b[1;33m)\u001b[0m\u001b[1;33m\u001b[0m\u001b[1;33m\u001b[0m\u001b[0m\n\u001b[0m\u001b[0;32m      2\u001b[0m \u001b[0mprint\u001b[0m\u001b[1;33m(\u001b[0m\u001b[0mlist\u001b[0m\u001b[1;33m(\u001b[0m\u001b[0mm\u001b[0m\u001b[1;33m)\u001b[0m\u001b[1;33m)\u001b[0m\u001b[1;33m\u001b[0m\u001b[1;33m\u001b[0m\u001b[0m\n",
      "\u001b[1;31mNameError\u001b[0m: name 'reduce' is not defined"
     ]
    }
   ],
   "source": [
    "a = reduce(lambda x:x-3 in range(4,10))\n",
    "print(list(m))"
   ]
  },
  {
   "cell_type": "code",
   "execution_count": 27,
   "id": "ec3f20e7",
   "metadata": {},
   "outputs": [
    {
     "name": "stdout",
     "output_type": "stream",
     "text": [
      "[0][1]\n"
     ]
    }
   ],
   "source": [
    "x=[[0],[1]]\n",
    "print((''.join(list(map(str,x)))))"
   ]
  },
  {
   "cell_type": "code",
   "execution_count": 28,
   "id": "256e59a5",
   "metadata": {},
   "outputs": [
    {
     "ename": "NameError",
     "evalue": "name 'math' is not defined",
     "output_type": "error",
     "traceback": [
      "\u001b[1;31m---------------------------------------------------------------------------\u001b[0m",
      "\u001b[1;31mNameError\u001b[0m                                 Traceback (most recent call last)",
      "\u001b[1;32m~\\AppData\\Local\\Temp/ipykernel_11852/2955928108.py\u001b[0m in \u001b[0;36m<module>\u001b[1;34m\u001b[0m\n\u001b[1;32m----> 1\u001b[1;33m \u001b[0mmath\u001b[0m\u001b[1;33m.\u001b[0m\u001b[0mfact\u001b[0m\u001b[1;33m(\u001b[0m\u001b[1;36m6\u001b[0m\u001b[1;33m)\u001b[0m\u001b[1;33m\u001b[0m\u001b[1;33m\u001b[0m\u001b[0m\n\u001b[0m",
      "\u001b[1;31mNameError\u001b[0m: name 'math' is not defined"
     ]
    }
   ],
   "source": [
    "math.fact(6)"
   ]
  },
  {
   "cell_type": "code",
   "execution_count": 1,
   "id": "2bedcfae",
   "metadata": {},
   "outputs": [
    {
     "name": "stdout",
     "output_type": "stream",
     "text": [
      "False\n"
     ]
    }
   ],
   "source": [
    "def check(n):\n",
    "    if n < 2:\n",
    "        return n % 2 == 0\n",
    "    return check(n-2)\n",
    "print(check(11))"
   ]
  },
  {
   "cell_type": "code",
   "execution_count": 6,
   "id": "f681bf92",
   "metadata": {},
   "outputs": [
    {
     "ename": "TypeError",
     "evalue": "asctime(): illegal time tuple argument",
     "output_type": "error",
     "traceback": [
      "\u001b[1;31m---------------------------------------------------------------------------\u001b[0m",
      "\u001b[1;31mTypeError\u001b[0m                                 Traceback (most recent call last)",
      "\u001b[1;32m~\\AppData\\Local\\Temp/ipykernel_10984/3113925284.py\u001b[0m in \u001b[0;36m<module>\u001b[1;34m\u001b[0m\n\u001b[0;32m      1\u001b[0m \u001b[1;32mimport\u001b[0m \u001b[0mtime\u001b[0m\u001b[1;33m\u001b[0m\u001b[1;33m\u001b[0m\u001b[0m\n\u001b[0;32m      2\u001b[0m \u001b[0mt\u001b[0m \u001b[1;33m=\u001b[0m \u001b[1;33m(\u001b[0m\u001b[1;36m2010\u001b[0m\u001b[1;33m,\u001b[0m\u001b[1;36m9\u001b[0m\u001b[1;33m,\u001b[0m\u001b[1;36m20\u001b[0m\u001b[1;33m,\u001b[0m\u001b[1;36m8\u001b[0m\u001b[1;33m,\u001b[0m\u001b[1;36m15\u001b[0m\u001b[1;33m,\u001b[0m\u001b[1;36m12\u001b[0m\u001b[1;33m,\u001b[0m\u001b[1;36m6\u001b[0m\u001b[1;33m)\u001b[0m\u001b[1;33m\u001b[0m\u001b[1;33m\u001b[0m\u001b[0m\n\u001b[1;32m----> 3\u001b[1;33m \u001b[0mtime\u001b[0m\u001b[1;33m.\u001b[0m\u001b[0masctime\u001b[0m\u001b[1;33m(\u001b[0m\u001b[0mt\u001b[0m\u001b[1;33m)\u001b[0m\u001b[1;33m\u001b[0m\u001b[1;33m\u001b[0m\u001b[0m\n\u001b[0m",
      "\u001b[1;31mTypeError\u001b[0m: asctime(): illegal time tuple argument"
     ]
    }
   ],
   "source": [
    "import time\n",
    "t = (2010,9,20,8,15,12,6)\n",
    "time.asctime(t)"
   ]
  },
  {
   "cell_type": "code",
   "execution_count": null,
   "id": "b2bfbec9",
   "metadata": {},
   "outputs": [],
   "source": []
  },
  {
   "cell_type": "code",
   "execution_count": 56,
   "id": "b12af95a",
   "metadata": {},
   "outputs": [
    {
     "name": "stdout",
     "output_type": "stream",
     "text": [
      "('we are humans', '', '')\n"
     ]
    }
   ],
   "source": [
    "import re\n",
    "sentence = 'we are humans'\n",
    "m = re.match(r'(.*)(.*?)(.*)',sentence)\n",
    "print(m.groups())"
   ]
  },
  {
   "cell_type": "code",
   "execution_count": null,
   "id": "86787a21",
   "metadata": {},
   "outputs": [],
   "source": []
  },
  {
   "cell_type": "code",
   "execution_count": 14,
   "id": "5b7b48b2",
   "metadata": {},
   "outputs": [
    {
     "data": {
      "text/plain": [
       "'1 more spam'"
      ]
     },
     "execution_count": 14,
     "metadata": {},
     "output_type": "execute_result"
    }
   ],
   "source": [
    "'%(qty)d more %(food)s'%{'qty':1,\"food\":'spam'}"
   ]
  },
  {
   "cell_type": "code",
   "execution_count": 15,
   "id": "ff6323d4",
   "metadata": {},
   "outputs": [
    {
     "data": {
      "text/plain": [
       "8.0"
      ]
     },
     "execution_count": 15,
     "metadata": {},
     "output_type": "execute_result"
    }
   ],
   "source": [
    "float(22//3+3/3)"
   ]
  },
  {
   "cell_type": "code",
   "execution_count": 16,
   "id": "ea19edb3",
   "metadata": {},
   "outputs": [
    {
     "name": "stdout",
     "output_type": "stream",
     "text": [
      "34.000000\n"
     ]
    }
   ],
   "source": [
    "x=34\n",
    "print(\"%f\"%x)"
   ]
  },
  {
   "cell_type": "code",
   "execution_count": null,
   "id": "32853bd8",
   "metadata": {},
   "outputs": [],
   "source": []
  },
  {
   "cell_type": "code",
   "execution_count": 23,
   "id": "1e9c1053",
   "metadata": {},
   "outputs": [
    {
     "data": {
      "text/plain": [
       "'1.23'"
      ]
     },
     "execution_count": 23,
     "metadata": {},
     "output_type": "execute_result"
    }
   ],
   "source": [
    "\"{0:.2f}\".format(1.234)"
   ]
  },
  {
   "cell_type": "code",
   "execution_count": null,
   "id": "cd81088c",
   "metadata": {},
   "outputs": [],
   "source": []
  },
  {
   "cell_type": "code",
   "execution_count": 24,
   "id": "cd4ba3c2",
   "metadata": {},
   "outputs": [
    {
     "name": "stdout",
     "output_type": "stream",
     "text": [
      "0\n",
      "1\n",
      "2\n"
     ]
    }
   ],
   "source": [
    "x=(i for i in range(0,3))\n",
    "for i in x:\n",
    "    print(i)\n",
    "for i in x:\n",
    "    print(i)"
   ]
  },
  {
   "cell_type": "code",
   "execution_count": 25,
   "id": "34680fa6",
   "metadata": {},
   "outputs": [
    {
     "data": {
      "text/plain": [
       "'World'"
      ]
     },
     "execution_count": 25,
     "metadata": {},
     "output_type": "execute_result"
    }
   ],
   "source": [
    "s='\\t\\tWorld\\n'\n",
    "s.strip()"
   ]
  },
  {
   "cell_type": "code",
   "execution_count": null,
   "id": "1d52672c",
   "metadata": {},
   "outputs": [],
   "source": []
  },
  {
   "cell_type": "code",
   "execution_count": 26,
   "id": "ddda33d5",
   "metadata": {},
   "outputs": [
    {
     "ename": "TypeError",
     "evalue": "'float' object cannot be interpreted as an integer",
     "output_type": "error",
     "traceback": [
      "\u001b[1;31m---------------------------------------------------------------------------\u001b[0m",
      "\u001b[1;31mTypeError\u001b[0m                                 Traceback (most recent call last)",
      "\u001b[1;32m~\\AppData\\Local\\Temp/ipykernel_10984/3511563532.py\u001b[0m in \u001b[0;36m<module>\u001b[1;34m\u001b[0m\n\u001b[1;32m----> 1\u001b[1;33m \u001b[1;32mfor\u001b[0m \u001b[0mi\u001b[0m \u001b[1;32min\u001b[0m \u001b[0mrange\u001b[0m\u001b[1;33m(\u001b[0m\u001b[0mfloat\u001b[0m\u001b[1;33m(\u001b[0m\u001b[1;34m'inf'\u001b[0m\u001b[1;33m)\u001b[0m\u001b[1;33m)\u001b[0m\u001b[1;33m:\u001b[0m\u001b[1;33m\u001b[0m\u001b[1;33m\u001b[0m\u001b[0m\n\u001b[0m\u001b[0;32m      2\u001b[0m     \u001b[0mprint\u001b[0m\u001b[1;33m(\u001b[0m\u001b[0mi\u001b[0m\u001b[1;33m)\u001b[0m\u001b[1;33m\u001b[0m\u001b[1;33m\u001b[0m\u001b[0m\n",
      "\u001b[1;31mTypeError\u001b[0m: 'float' object cannot be interpreted as an integer"
     ]
    }
   ],
   "source": [
    "for i in range(float('inf')):\n",
    "    print(i)"
   ]
  },
  {
   "cell_type": "code",
   "execution_count": null,
   "id": "aa9b8fd6",
   "metadata": {},
   "outputs": [],
   "source": []
  },
  {
   "cell_type": "code",
   "execution_count": 27,
   "id": "4fb67ce8",
   "metadata": {},
   "outputs": [
    {
     "name": "stdout",
     "output_type": "stream",
     "text": [
      "Hello'foo'andfoo\n"
     ]
    }
   ],
   "source": [
    "print(\"Hello{0!r}and{0!s}\".format('foo','bin'))\n"
   ]
  },
  {
   "cell_type": "code",
   "execution_count": null,
   "id": "df62c3ff",
   "metadata": {},
   "outputs": [],
   "source": []
  },
  {
   "cell_type": "code",
   "execution_count": 28,
   "id": "8c083e52",
   "metadata": {},
   "outputs": [
    {
     "name": "stdout",
     "output_type": "stream",
     "text": [
      "('', 'cd', '')\n"
     ]
    }
   ],
   "source": [
    "print('cd'.partition('cd'))"
   ]
  },
  {
   "cell_type": "code",
   "execution_count": 29,
   "id": "d7f34ab5",
   "metadata": {},
   "outputs": [
    {
     "data": {
      "text/plain": [
       "False"
      ]
     },
     "execution_count": 29,
     "metadata": {},
     "output_type": "execute_result"
    }
   ],
   "source": [
    "l1=[11,22,3]\n",
    "l2=[11,22,1]\n",
    "l1 < l2"
   ]
  },
  {
   "cell_type": "code",
   "execution_count": 30,
   "id": "69fd7a55",
   "metadata": {},
   "outputs": [
    {
     "data": {
      "text/plain": [
       "5"
      ]
     },
     "execution_count": 30,
     "metadata": {},
     "output_type": "execute_result"
    }
   ],
   "source": [
    "s='He123'\n",
    "len(s)"
   ]
  },
  {
   "cell_type": "code",
   "execution_count": 34,
   "id": "3aaeca46",
   "metadata": {},
   "outputs": [
    {
     "data": {
      "text/plain": [
       "2"
      ]
     },
     "execution_count": 34,
     "metadata": {},
     "output_type": "execute_result"
    }
   ],
   "source": [
    "'xyyzxyzxzxyy'.count('yy')"
   ]
  },
  {
   "cell_type": "code",
   "execution_count": 46,
   "id": "b6d7e07b",
   "metadata": {},
   "outputs": [
    {
     "name": "stdout",
     "output_type": "stream",
     "text": [
      "('[1][2]',)\n"
     ]
    }
   ],
   "source": [
    "x=[[1],[2]]\n",
    "print((''.join(list(map(str,x))),))"
   ]
  },
  {
   "cell_type": "code",
   "execution_count": null,
   "id": "afdb5a0d",
   "metadata": {},
   "outputs": [],
   "source": []
  },
  {
   "cell_type": "code",
   "execution_count": 37,
   "id": "a220aeee",
   "metadata": {},
   "outputs": [
    {
     "data": {
      "text/plain": [
       "(2, 4)"
      ]
     },
     "execution_count": 37,
     "metadata": {},
     "output_type": "execute_result"
    }
   ],
   "source": [
    "t=(1,2,4,3)\n",
    "t[1:-1]"
   ]
  },
  {
   "cell_type": "code",
   "execution_count": null,
   "id": "d6246a10",
   "metadata": {},
   "outputs": [],
   "source": []
  },
  {
   "cell_type": "code",
   "execution_count": 41,
   "id": "34a81519",
   "metadata": {},
   "outputs": [
    {
     "data": {
      "text/plain": [
       "False"
      ]
     },
     "execution_count": 41,
     "metadata": {},
     "output_type": "execute_result"
    }
   ],
   "source": [
    "a=[1,4,3,5,2]\n",
    "b =[4,1,2,3,5]\n",
    "a==b\n"
   ]
  },
  {
   "cell_type": "code",
   "execution_count": 40,
   "id": "f684435a",
   "metadata": {},
   "outputs": [
    {
     "data": {
      "text/plain": [
       "True"
      ]
     },
     "execution_count": 40,
     "metadata": {},
     "output_type": "execute_result"
    }
   ],
   "source": [
    "set(a)==set(b)"
   ]
  },
  {
   "cell_type": "code",
   "execution_count": null,
   "id": "d266cc47",
   "metadata": {},
   "outputs": [],
   "source": []
  },
  {
   "cell_type": "code",
   "execution_count": 42,
   "id": "225d2d9a",
   "metadata": {},
   "outputs": [
    {
     "data": {
      "text/plain": [
       "23"
      ]
     },
     "execution_count": 42,
     "metadata": {},
     "output_type": "execute_result"
    }
   ],
   "source": [
    "a={5,6,7}\n",
    "sum(a,5)"
   ]
  },
  {
   "cell_type": "code",
   "execution_count": 49,
   "id": "5cb48944",
   "metadata": {},
   "outputs": [
    {
     "data": {
      "text/plain": [
       "False"
      ]
     },
     "execution_count": 49,
     "metadata": {},
     "output_type": "execute_result"
    }
   ],
   "source": [
    "l1=[1,2,3,[4]]\n",
    "l2=list(l1)\n",
    "id(l1)==id(l2)"
   ]
  },
  {
   "cell_type": "code",
   "execution_count": 50,
   "id": "b535963f",
   "metadata": {},
   "outputs": [
    {
     "data": {
      "text/plain": [
       "2.0"
      ]
     },
     "execution_count": 50,
     "metadata": {},
     "output_type": "execute_result"
    }
   ],
   "source": [
    "import math\n",
    "math.fsum([.1 for i in range(20)])"
   ]
  },
  {
   "cell_type": "code",
   "execution_count": 52,
   "id": "a49dc6c9",
   "metadata": {},
   "outputs": [
    {
     "data": {
      "text/plain": [
       "True"
      ]
     },
     "execution_count": 52,
     "metadata": {},
     "output_type": "execute_result"
    }
   ],
   "source": [
    "math.isfinite(float(\"0.0\"))"
   ]
  },
  {
   "cell_type": "code",
   "execution_count": 54,
   "id": "33b56fb4",
   "metadata": {},
   "outputs": [
    {
     "ename": "TypeError",
     "evalue": "object of type 'map' has no len()",
     "output_type": "error",
     "traceback": [
      "\u001b[1;31m---------------------------------------------------------------------------\u001b[0m",
      "\u001b[1;31mTypeError\u001b[0m                                 Traceback (most recent call last)",
      "\u001b[1;32m~\\AppData\\Local\\Temp/ipykernel_10984/1634113073.py\u001b[0m in \u001b[0;36m<module>\u001b[1;34m\u001b[0m\n\u001b[0;32m      1\u001b[0m \u001b[0mx\u001b[0m\u001b[1;33m=\u001b[0m\u001b[1;33m[\u001b[0m\u001b[1;34m'ab'\u001b[0m\u001b[1;33m,\u001b[0m\u001b[1;34m'cd'\u001b[0m\u001b[1;33m]\u001b[0m\u001b[1;33m\u001b[0m\u001b[1;33m\u001b[0m\u001b[0m\n\u001b[1;32m----> 2\u001b[1;33m \u001b[0mprint\u001b[0m\u001b[1;33m(\u001b[0m\u001b[0mlen\u001b[0m\u001b[1;33m(\u001b[0m\u001b[0mmap\u001b[0m\u001b[1;33m(\u001b[0m\u001b[0mlist\u001b[0m\u001b[1;33m,\u001b[0m\u001b[0mx\u001b[0m\u001b[1;33m)\u001b[0m\u001b[1;33m)\u001b[0m\u001b[1;33m)\u001b[0m\u001b[1;33m\u001b[0m\u001b[1;33m\u001b[0m\u001b[0m\n\u001b[0m",
      "\u001b[1;31mTypeError\u001b[0m: object of type 'map' has no len()"
     ]
    }
   ],
   "source": [
    "x=['ab','cd']\n",
    "print(len(map(list,x)))"
   ]
  },
  {
   "cell_type": "code",
   "execution_count": 1,
   "id": "3d1d2393",
   "metadata": {},
   "outputs": [
    {
     "name": "stdout",
     "output_type": "stream",
     "text": [
      "classpython\n"
     ]
    }
   ],
   "source": [
    "str1=\"python class\"\n",
    "print (''.join(str1.split()[::-1]))"
   ]
  },
  {
   "cell_type": "code",
   "execution_count": 8,
   "id": "023474e0",
   "metadata": {},
   "outputs": [
    {
     "name": "stdout",
     "output_type": "stream",
     "text": [
      "98\n"
     ]
    }
   ],
   "source": [
    "list1= ['Python', 10, 20, ['Hello', 30.40, [11, 22, [97, 98, 99], 33] , 50], 66, 78]\n",
    "# print(list1[3][2][2][2])\n",
    "print(list1[-3][-2][-2][-2])\n",
    "\n"
   ]
  },
  {
   "cell_type": "code",
   "execution_count": 9,
   "id": "ab04b8dd",
   "metadata": {},
   "outputs": [
    {
     "name": "stdout",
     "output_type": "stream",
     "text": [
      "[]\n"
     ]
    }
   ],
   "source": [
    "list1= [1, 2, 3, 4, 5, 6, 7, 8, 9]\n",
    "print (list1[2:7:-1])"
   ]
  },
  {
   "cell_type": "code",
   "execution_count": 15,
   "id": "61052016",
   "metadata": {},
   "outputs": [
    {
     "data": {
      "text/plain": [
       "12"
      ]
     },
     "execution_count": 15,
     "metadata": {},
     "output_type": "execute_result"
    }
   ],
   "source": [
    "inp_str = \"Learnbay classes\"\n",
    "inp_str.find('ss')"
   ]
  },
  {
   "cell_type": "code",
   "execution_count": null,
   "id": "5356df87",
   "metadata": {},
   "outputs": [],
   "source": []
  },
  {
   "cell_type": "code",
   "execution_count": 22,
   "id": "2dc4139f",
   "metadata": {},
   "outputs": [
    {
     "name": "stdout",
     "output_type": "stream",
     "text": [
      "1\n",
      "2\n"
     ]
    }
   ],
   "source": [
    "def foo():\n",
    "     try:\n",
    "            print(1)\n",
    "     finally:\n",
    "           print(2)\n",
    "foo()"
   ]
  },
  {
   "cell_type": "code",
   "execution_count": null,
   "id": "e34ee51e",
   "metadata": {},
   "outputs": [],
   "source": []
  },
  {
   "cell_type": "code",
   "execution_count": 24,
   "id": "dd05104e",
   "metadata": {},
   "outputs": [
    {
     "data": {
      "text/plain": [
       "11106"
      ]
     },
     "execution_count": 24,
     "metadata": {},
     "output_type": "execute_result"
    }
   ],
   "source": [
    "9+99+999+9999"
   ]
  },
  {
   "cell_type": "code",
   "execution_count": null,
   "id": "942fa98f",
   "metadata": {},
   "outputs": [],
   "source": []
  },
  {
   "cell_type": "code",
   "execution_count": null,
   "id": "45270293",
   "metadata": {},
   "outputs": [],
   "source": []
  },
  {
   "cell_type": "code",
   "execution_count": null,
   "id": "b87580e1",
   "metadata": {},
   "outputs": [],
   "source": [
    "b = int(a)\n",
    "while i >= 0:\n",
    "    b += i*a\n",
    "    i -= 1\n",
    "    if i == 1:\n",
    "        break\n",
    "print(b)"
   ]
  },
  {
   "cell_type": "code",
   "execution_count": 1,
   "id": "cfb0e4b6",
   "metadata": {},
   "outputs": [
    {
     "name": "stdout",
     "output_type": "stream",
     "text": [
      "Odd Series is: [1, 3, 5, 7, 9]\n"
     ]
    }
   ],
   "source": [
    "\n",
    "odd = []\n",
    "for i in a:\n",
    "    if i % 2 != 0:\n",
    "        odd.append(i)\n",
    "print(\"Odd Series is:\",odd)"
   ]
  },
  {
   "cell_type": "code",
   "execution_count": 3,
   "id": "777b3aca",
   "metadata": {},
   "outputs": [
    {
     "name": "stdout",
     "output_type": "stream",
     "text": [
      "[1, 9, 25, 49, 81]\n"
     ]
    }
   ],
   "source": [
    "a= [1,2,3,4,5,6,7,8,9]\n",
    "b = [i**2 for i in a if i % 2 != 0]\n",
    "print(b)"
   ]
  },
  {
   "cell_type": "code",
   "execution_count": null,
   "id": "ce7263b9",
   "metadata": {},
   "outputs": [],
   "source": []
  },
  {
   "cell_type": "code",
   "execution_count": 17,
   "id": "3dc44e90",
   "metadata": {},
   "outputs": [
    {
     "name": "stdout",
     "output_type": "stream",
     "text": [
      "Enter any num:9\n",
      "Total of a+aa+aaa+aaaa: 11106\n"
     ]
    }
   ],
   "source": [
    "a = input(\"Enter any num:\")\n",
    "b = a*2\n",
    "c = a*3\n",
    "d = a*4\n",
    "m = int(a)\n",
    "n = int(b)\n",
    "p = int(c)\n",
    "q = int(d)\n",
    "print(\"Total of a+aa+aaa+aaaa:\",m + n + p + q)"
   ]
  },
  {
   "cell_type": "code",
   "execution_count": 8,
   "id": "d2fed7f2",
   "metadata": {},
   "outputs": [
    {
     "name": "stdout",
     "output_type": "stream",
     "text": [
      "[-1, 0.1, 1.1, 1, 2]\n"
     ]
    }
   ],
   "source": [
    "x = [1,2,3]\n",
    "y = [-1,0.1,1.1] + x[0:2]\n",
    "print((y))"
   ]
  },
  {
   "cell_type": "code",
   "execution_count": 9,
   "id": "3f2a639b",
   "metadata": {},
   "outputs": [
    {
     "name": "stdout",
     "output_type": "stream",
     "text": [
      "5\n"
     ]
    }
   ],
   "source": [
    "x = [7,8,9]\n",
    "y = [-3.3,-2,3.2] + x[0:2]\n",
    "print(len(y))"
   ]
  },
  {
   "cell_type": "code",
   "execution_count": 19,
   "id": "928a9dda",
   "metadata": {},
   "outputs": [
    {
     "name": "stdout",
     "output_type": "stream",
     "text": [
      "<class 'type'>\n"
     ]
    }
   ],
   "source": [
    "print(type(type(bool(1))))"
   ]
  },
  {
   "cell_type": "code",
   "execution_count": null,
   "id": "d56a18e4",
   "metadata": {},
   "outputs": [],
   "source": []
  },
  {
   "cell_type": "markdown",
   "id": "b61a8c8d",
   "metadata": {},
   "source": [
    "# Learnbay Codes as per chapter"
   ]
  },
  {
   "cell_type": "code",
   "execution_count": null,
   "id": "a5d9a05c",
   "metadata": {},
   "outputs": [],
   "source": []
  },
  {
   "cell_type": "markdown",
   "id": "c64149ff",
   "metadata": {},
   "source": [
    "# 1. Garbage collection module : PVM manages memory internally"
   ]
  },
  {
   "cell_type": "code",
   "execution_count": 21,
   "id": "e1c57017",
   "metadata": {},
   "outputs": [
    {
     "name": "stdout",
     "output_type": "stream",
     "text": [
      "['DEBUG_COLLECTABLE', 'DEBUG_LEAK', 'DEBUG_SAVEALL', 'DEBUG_STATS', 'DEBUG_UNCOLLECTABLE', '__doc__', '__loader__', '__name__', '__package__', '__spec__', 'callbacks', 'collect', 'disable', 'enable', 'freeze', 'garbage', 'get_count', 'get_debug', 'get_freeze_count', 'get_objects', 'get_referents', 'get_referrers', 'get_stats', 'get_threshold', 'is_finalized', 'is_tracked', 'isenabled', 'set_debug', 'set_threshold', 'unfreeze'] \n",
      "\n",
      "True \n",
      "\n",
      "False \n",
      "\n",
      "True \n",
      "\n"
     ]
    }
   ],
   "source": [
    "import gc\n",
    "print(dir(gc),'\\n')\n",
    "print(gc.isenabled(),'\\n')\n",
    "gc.disable()\n",
    "print(gc.isenabled(),'\\n')\n",
    "gc.enable()\n",
    "print(gc.isenabled(),'\\n')"
   ]
  },
  {
   "cell_type": "code",
   "execution_count": null,
   "id": "ca0ab559",
   "metadata": {},
   "outputs": [],
   "source": []
  },
  {
   "cell_type": "markdown",
   "id": "d324eeda",
   "metadata": {},
   "source": [
    "# 2.use of \\ escape sequence"
   ]
  },
  {
   "cell_type": "code",
   "execution_count": 22,
   "id": "6dd3ea73",
   "metadata": {},
   "outputs": [
    {
     "name": "stdout",
     "output_type": "stream",
     "text": [
      "10\n"
     ]
    }
   ],
   "source": [
    "a = 10\n",
    "b = 20\n",
    "if a\\          # \\ escape sequence used to write single line statements into multiple line statements\n",
    "<b:\n",
    "    print(a)\n",
    "else:\n",
    "    print(b)"
   ]
  },
  {
   "cell_type": "code",
   "execution_count": null,
   "id": "2c36a89b",
   "metadata": {},
   "outputs": [],
   "source": []
  },
  {
   "cell_type": "markdown",
   "id": "18428671",
   "metadata": {},
   "source": [
    "# 5. use of sorted & sort function "
   ]
  },
  {
   "cell_type": "code",
   "execution_count": null,
   "id": "32eadf99",
   "metadata": {},
   "outputs": [],
   "source": [
    "''' \n",
    "sorted() Function : \n",
    ">>>It sorts the given sequence either in Ascending or Descending order(depending on reverse & key attributes inside its syntax) \n",
    ">>>It returns a sorted LIST always & the original sequnece remains unaffected.\n",
    ">>> It can perform operations on sequence data type(list,str,tuple) & also on non sequence dict & set data types\n",
    "\n",
    "\n",
    "sort() Function:\n",
    ">>> It can only be used on list data type.\n",
    ">>> It changes the original sequence.\n",
    ">>> It returns nothing as o/p.\n",
    "\n",
    "'''\n"
   ]
  },
  {
   "cell_type": "code",
   "execution_count": 29,
   "id": "920197c5",
   "metadata": {},
   "outputs": [
    {
     "name": "stdout",
     "output_type": "stream",
     "text": [
      "['a', 'b', 't']\n",
      "['a', '1', 'y']\n",
      "[0, 1, 4]\n",
      "['s', 'rat', 'q']\n",
      "['D.O.B', 'id', 'name']\n"
     ]
    }
   ],
   "source": [
    "# Use case for sorted function with diff data types\n",
    "s = 'bat'    \n",
    "s1=['a','1','y']\n",
    "s2 = 1,4,0\n",
    "s3 = {'s','q','rat'}\n",
    "s4 = {'name':'sha','id': 6952,'D.O.B': 111993}\n",
    "\n",
    "print(sorted(s))\n",
    "print(sorted(s1,key = len))\n",
    "print(sorted(s2))\n",
    "print(sorted(s3,reverse = True))\n",
    "print(sorted(s4))"
   ]
  },
  {
   "cell_type": "code",
   "execution_count": 30,
   "id": "1e17a180",
   "metadata": {},
   "outputs": [
    {
     "data": {
      "text/plain": [
       "['a', 'b', 't']"
      ]
     },
     "execution_count": 30,
     "metadata": {},
     "output_type": "execute_result"
    }
   ],
   "source": [
    "s=['b','a','t']    # use of list data type for sort. better to use sorted() rather than .sort() method\n",
    "s.sort()\n",
    "s"
   ]
  },
  {
   "cell_type": "markdown",
   "id": "0c52057d",
   "metadata": {},
   "source": [
    "# Sorted List"
   ]
  },
  {
   "cell_type": "code",
   "execution_count": 41,
   "id": "ffaedd94",
   "metadata": {},
   "outputs": [
    {
     "name": "stdout",
     "output_type": "stream",
     "text": [
      "Enter count of strings to add:3\n",
      "Enter strings:Delhi\n",
      "Enter strings:Hyd\n",
      "Enter strings:Bombay\n",
      "Ascending Sorted list is: ['Bombay', 'Delhi', 'Hyd']\n",
      "Sorted list as per key len: ['Hyd', 'Delhi', 'Bombay']\n",
      "Descending Sorted list: ['Hyd', 'Delhi', 'Bombay']\n"
     ]
    }
   ],
   "source": [
    "sample_list = []\n",
    "n = int(input(\"Enter count of strings to add:\"))\n",
    "for i in range(n):\n",
    "    n1 = input(\"Enter strings:\")\n",
    "    sample_list.append(n1)\n",
    "print(\"Ascending Sorted list is:\",sorted(sample_list))\n",
    "print(\"Sorted list as per key len:\",sorted(sample_list, key = len))\n",
    "print(\"Descending Sorted list:\",sorted(sample_list, reverse = True))"
   ]
  },
  {
   "cell_type": "markdown",
   "id": "87338b13",
   "metadata": {},
   "source": [
    "# count of letters in any str from user"
   ]
  },
  {
   "cell_type": "code",
   "execution_count": 44,
   "id": "b5e22eda",
   "metadata": {},
   "outputs": [
    {
     "name": "stdout",
     "output_type": "stream",
     "text": [
      "Enter any str:shashank\n",
      "shashank 8\n"
     ]
    }
   ],
   "source": [
    "m = input(\"Enter any str:\")\n",
    "n = 0\n",
    "for i in m:\n",
    "    n += 1\n",
    "print(m,n)"
   ]
  },
  {
   "cell_type": "markdown",
   "id": "5706f94d",
   "metadata": {},
   "source": [
    "# To append sub str into middle of main str using lists"
   ]
  },
  {
   "cell_type": "code",
   "execution_count": 12,
   "id": "b47140a6",
   "metadata": {},
   "outputs": [
    {
     "name": "stdout",
     "output_type": "stream",
     "text": [
      "Enter main str:shashank\n",
      "Enter sub str:HELLO\n",
      "Enter position:3\n",
      "shHELLOashank\n"
     ]
    }
   ],
   "source": [
    "main_str = input(\"Enter main str:\")\n",
    "len1 = len(main_str)\n",
    "sub_str =  input(\"Enter sub str:\")\n",
    "len2 = len(sub_str)\n",
    "n = int(input(\"Enter position:\"))\n",
    "n -= 1\n",
    "new_list = []\n",
    "\n",
    "for i in range(n):\n",
    "    new_list.append(main_str[i])\n",
    "for i in range(len2):\n",
    "    new_list.append(sub_str[i])\n",
    "for i in range(n,len1):\n",
    "    new_list.append(main_str[i])\n",
    "new_list = \"\".join(new_list)\n",
    "print(new_list)"
   ]
  },
  {
   "cell_type": "markdown",
   "id": "86dd9793",
   "metadata": {},
   "source": [
    "# To concatenate sub str into middle of main str using str "
   ]
  },
  {
   "cell_type": "code",
   "execution_count": 1,
   "id": "8461e7b8",
   "metadata": {},
   "outputs": [
    {
     "name": "stdout",
     "output_type": "stream",
     "text": [
      "Enter main str:Shashank\n",
      "Enter sub str:HELLO\n",
      "Enter position:3\n",
      "ShHELLOashank\n"
     ]
    }
   ],
   "source": [
    "main_str = input(\"Enter main str:\")\n",
    "len1 = len(main_str)\n",
    "sub_str =  input(\"Enter sub str:\")\n",
    "len2 = len(sub_str)\n",
    "n = int(input(\"Enter position:\"))\n",
    "n -= 1\n",
    "new_str = ''\n",
    "\n",
    "for i in range(n):\n",
    "    new_str += main_str[i]\n",
    "for i in range(len2):\n",
    "    new_str += sub_str[i]\n",
    "for i in range(n,len1):\n",
    "    new_str += main_str[i]\n",
    "print(new_str)"
   ]
  },
  {
   "cell_type": "code",
   "execution_count": null,
   "id": "29e4928d",
   "metadata": {},
   "outputs": [],
   "source": []
  },
  {
   "cell_type": "markdown",
   "id": "6f5321b6",
   "metadata": {},
   "source": [
    "# 6. Control Statements"
   ]
  },
  {
   "cell_type": "code",
   "execution_count": null,
   "id": "927c2376",
   "metadata": {},
   "outputs": [],
   "source": []
  },
  {
   "cell_type": "markdown",
   "id": "dc1c7405",
   "metadata": {},
   "source": [
    "# Use of While Loop"
   ]
  },
  {
   "cell_type": "code",
   "execution_count": 4,
   "id": "a817565b",
   "metadata": {},
   "outputs": [
    {
     "name": "stdout",
     "output_type": "stream",
     "text": [
      "100\n",
      "102\n",
      "104\n",
      "106\n",
      "108\n",
      "110\n"
     ]
    }
   ],
   "source": [
    "x = 100\n",
    "while x >= 100 and x <= 110:\n",
    "    print(x)\n",
    "    x += 2"
   ]
  },
  {
   "cell_type": "markdown",
   "id": "5e8f3b16",
   "metadata": {},
   "source": [
    "# for-else statements"
   ]
  },
  {
   "cell_type": "code",
   "execution_count": 17,
   "id": "7730a4ed",
   "metadata": {},
   "outputs": [
    {
     "name": "stdout",
     "output_type": "stream",
     "text": [
      "Enter num to find:4\n",
      "Element found\n",
      "Element not found\n"
     ]
    }
   ],
   "source": [
    "#else block always executed irresoective of for statement executed or not \n",
    "\n",
    "a=[1,2,3,4,5]\n",
    "b = int(input(\"Enter num to find:\"))\n",
    "for i in a:\n",
    "    if i == b:\n",
    "        print(\"Element found\")\n",
    "else:\n",
    "    print(\"Element not found\")"
   ]
  },
  {
   "cell_type": "code",
   "execution_count": null,
   "id": "ac76e1e3",
   "metadata": {},
   "outputs": [],
   "source": []
  },
  {
   "cell_type": "markdown",
   "id": "75a26bab",
   "metadata": {},
   "source": [
    "# 7.Lists "
   ]
  },
  {
   "cell_type": "code",
   "execution_count": null,
   "id": "350af998",
   "metadata": {},
   "outputs": [],
   "source": []
  },
  {
   "cell_type": "markdown",
   "id": "cba490d5",
   "metadata": {},
   "source": [
    "# Aliasing Operation (Shallow Copy)"
   ]
  },
  {
   "cell_type": "code",
   "execution_count": 24,
   "id": "ef0edb90",
   "metadata": {},
   "outputs": [
    {
     "name": "stdout",
     "output_type": "stream",
     "text": [
      "a: [1, 2, 0, 4, 5] b: [1, 2, 0, 4, 5]\n"
     ]
    }
   ],
   "source": [
    "a = [1,2,3,4,5]\n",
    "b = a\n",
    "a[2] = 0\n",
    "print(\"a:\",a,\"b:\",b)"
   ]
  },
  {
   "cell_type": "markdown",
   "id": "edbc0f8f",
   "metadata": {},
   "source": [
    "# Clone or Copy Operation (Deep Copy)"
   ]
  },
  {
   "cell_type": "code",
   "execution_count": 25,
   "id": "e6b667d4",
   "metadata": {},
   "outputs": [
    {
     "name": "stdout",
     "output_type": "stream",
     "text": [
      "a: [1, 2, 0, 4, 5] b: [1, 2, 3, 4, 5]\n"
     ]
    }
   ],
   "source": [
    "a = [1,2,3,4,5]\n",
    "b = a[:]\n",
    "a[2] = 0\n",
    "print(\"a:\",a,\"b:\",b)"
   ]
  },
  {
   "cell_type": "code",
   "execution_count": 26,
   "id": "75be094a",
   "metadata": {},
   "outputs": [
    {
     "name": "stdout",
     "output_type": "stream",
     "text": [
      "a: [1, 2, 0, 4, 5] b: [1, 2, 3, 4, 5]\n"
     ]
    }
   ],
   "source": [
    "a = [1,2,3,4,5]\n",
    "b = list(a)\n",
    "a[2] = 0\n",
    "print(\"a:\",a,\"b:\",b)"
   ]
  },
  {
   "cell_type": "code",
   "execution_count": 30,
   "id": "365b7567",
   "metadata": {},
   "outputs": [
    {
     "name": "stdout",
     "output_type": "stream",
     "text": [
      "a: [1, 2, 0, 4, 5] b: [1, 2, 3, 4, 5]\n"
     ]
    }
   ],
   "source": [
    "a = [1,2,3,4,5]\n",
    "b.copy()\n",
    "a[2] = 0\n",
    "print(\"a:\",a,\"b:\",b)"
   ]
  },
  {
   "cell_type": "code",
   "execution_count": null,
   "id": "445e7748",
   "metadata": {},
   "outputs": [],
   "source": []
  },
  {
   "cell_type": "markdown",
   "id": "84a7f404",
   "metadata": {},
   "source": [
    "# 8.Tuples"
   ]
  },
  {
   "cell_type": "code",
   "execution_count": 8,
   "id": "fa6a7f0f",
   "metadata": {},
   "outputs": [
    {
     "name": "stdout",
     "output_type": "stream",
     "text": [
      "1,2,3,4,5\n",
      "Sum is: 10\n",
      "Avg is: 2.0\n"
     ]
    }
   ],
   "source": [
    "num = eval(input())   # eval() accepts str as arguments & returns evaluated expression in the form of integer o/p\n",
    "sum = 0\n",
    "n = len(num)\n",
    "for i in range(n):\n",
    "    sum += i\n",
    "print(\"Sum is:\",sum)\n",
    "print(\"Avg is:\",sum/n)"
   ]
  },
  {
   "cell_type": "code",
   "execution_count": 14,
   "id": "998ba62d",
   "metadata": {},
   "outputs": [
    {
     "name": "stdout",
     "output_type": "stream",
     "text": [
      "1+2+3\n",
      "6\n"
     ]
    }
   ],
   "source": [
    "num = eval(input())\n",
    "print(num)"
   ]
  },
  {
   "cell_type": "code",
   "execution_count": null,
   "id": "61b62d34",
   "metadata": {},
   "outputs": [],
   "source": []
  },
  {
   "cell_type": "markdown",
   "id": "0280a842",
   "metadata": {},
   "source": [
    "# Adding elements into an existing immutable tuple sequence"
   ]
  },
  {
   "cell_type": "code",
   "execution_count": 59,
   "id": "3d08e747",
   "metadata": {},
   "outputs": [
    {
     "name": "stdout",
     "output_type": "stream",
     "text": [
      "Enter name to insertshashank\n",
      "Where to insert ?:3\n",
      "('Ajay', 'Vijay', 'shashank', 'Suresh', 'Jay')\n"
     ]
    }
   ],
   "source": [
    "names = 'Ajay','Vijay','Suresh','Jay'\n",
    "lst = [input(\"Enter name to insert\")]\n",
    "new = tuple(lst)\n",
    "pos = int(input(\"Where to insert ?:\") )\n",
    "\n",
    "names1 = names[0:pos-1]\n",
    "names1 += new\n",
    "names1 += names[pos-1:] \n",
    "print(names1)"
   ]
  },
  {
   "cell_type": "code",
   "execution_count": null,
   "id": "926c7cc8",
   "metadata": {},
   "outputs": [],
   "source": []
  },
  {
   "cell_type": "markdown",
   "id": "931e9f3c",
   "metadata": {},
   "source": [
    "## Replacing an element in an immutable tuple sequence"
   ]
  },
  {
   "cell_type": "code",
   "execution_count": 70,
   "id": "c7d23018",
   "metadata": {},
   "outputs": [
    {
     "name": "stdout",
     "output_type": "stream",
     "text": [
      "Enter a name to replace:Shashank\n",
      "Enter position:3\n",
      "<class 'tuple'> ('Ajay', 'Vijay', 'Shashank', 'Jay')\n"
     ]
    }
   ],
   "source": [
    "names = 'Ajay','Vijay','Suresh','Jay'\n",
    "lst = [input(\"Enter a name to replace:\")]\n",
    "new = tuple(lst)\n",
    "pos = int(input(\"Enter position:\"))\n",
    "\n",
    "names1 = names[0:(pos-1)]\n",
    "names1 += new\n",
    "names1 += names[pos:]\n",
    "print(type(names1), names1)"
   ]
  },
  {
   "cell_type": "code",
   "execution_count": null,
   "id": "a15f6bd2",
   "metadata": {},
   "outputs": [],
   "source": []
  },
  {
   "cell_type": "markdown",
   "id": "39886fcd",
   "metadata": {},
   "source": [
    "# Deleting elements from an immutable tuple sequence"
   ]
  },
  {
   "cell_type": "code",
   "execution_count": 17,
   "id": "69e2b1fb",
   "metadata": {},
   "outputs": [
    {
     "name": "stdout",
     "output_type": "stream",
     "text": [
      "shashank\n",
      "('uday', 'sadadekar')\n",
      "<class 'tuple'>\n"
     ]
    }
   ],
   "source": [
    "a = ['shashank','uday','sadadekar']\n",
    "n = input()\n",
    "for i in range(len(a)-1):\n",
    "    if a[i] != n:\n",
    "        continue\n",
    "    else:\n",
    "        del a[i]\n",
    "b = tuple(a)\n",
    "print(b)\n",
    "print(type(b))"
   ]
  },
  {
   "cell_type": "code",
   "execution_count": null,
   "id": "a89db3cd",
   "metadata": {},
   "outputs": [],
   "source": []
  },
  {
   "cell_type": "markdown",
   "id": "b6ad5ce2",
   "metadata": {},
   "source": [
    "# 9.Dictionaries"
   ]
  },
  {
   "cell_type": "code",
   "execution_count": 3,
   "id": "ee5904a8",
   "metadata": {},
   "outputs": [
    {
     "name": "stdout",
     "output_type": "stream",
     "text": [
      "{'A':1,'B':2}\n"
     ]
    }
   ],
   "source": [
    "d = eval(input())"
   ]
  },
  {
   "cell_type": "markdown",
   "id": "6414e512",
   "metadata": {},
   "source": [
    "# Adding 2 dicts"
   ]
  },
  {
   "cell_type": "code",
   "execution_count": 24,
   "id": "3e4b0e61",
   "metadata": {},
   "outputs": [
    {
     "data": {
      "text/plain": [
       "{1: 1, 2: 2}"
      ]
     },
     "execution_count": 24,
     "metadata": {},
     "output_type": "execute_result"
    }
   ],
   "source": [
    "A = {1:'a',2:'b'}\n",
    "B = {1:1,2:2}\n",
    "A|B"
   ]
  },
  {
   "cell_type": "code",
   "execution_count": 25,
   "id": "5f39d0c1",
   "metadata": {},
   "outputs": [
    {
     "data": {
      "text/plain": [
       "{1: 'a', 2: 'b', 3: 1, 4: 2}"
      ]
     },
     "execution_count": 25,
     "metadata": {},
     "output_type": "execute_result"
    }
   ],
   "source": [
    "A = {1:'a',2:'b'}\n",
    "B = {3:1,4:2}\n",
    "A|B"
   ]
  },
  {
   "cell_type": "code",
   "execution_count": null,
   "id": "153a374c",
   "metadata": {},
   "outputs": [],
   "source": []
  },
  {
   "cell_type": "markdown",
   "id": "5c8479df",
   "metadata": {},
   "source": [
    "# Taking key value pairs from user to create a dict"
   ]
  },
  {
   "cell_type": "code",
   "execution_count": 2,
   "id": "fb121b49",
   "metadata": {},
   "outputs": [
    {
     "name": "stdout",
     "output_type": "stream",
     "text": [
      "How many pairs?\n",
      "3\n",
      "Enter keys:\n",
      "raj\n",
      "Enter values:\n",
      "10\n",
      "Enter keys:\n",
      "sonal\n",
      "Enter values:\n",
      "5\n",
      "Enter keys:\n",
      "Ram\n",
      "Enter values:\n",
      "15\n",
      "{'raj': 10, 'sonal': 5, 'Ram': 15}\n"
     ]
    }
   ],
   "source": [
    "x = {}\n",
    "print(\"How many pairs?\")\n",
    "n = int(input())\n",
    "for i in range(n):\n",
    "    print(\"Enter keys:\")\n",
    "    k = (input())\n",
    "    print(\"Enter values:\")\n",
    "    v = int(input())\n",
    "    x.update({k:v})\n",
    "print(x)"
   ]
  },
  {
   "cell_type": "code",
   "execution_count": 26,
   "id": "89dee471",
   "metadata": {},
   "outputs": [
    {
     "name": "stdout",
     "output_type": "stream",
     "text": [
      "How many pairs?\n",
      "2\n",
      "Enter player name:\n",
      "dhoni\n",
      "Enter score:\n",
      "3\n",
      "Enter player name:\n",
      "rahul\n",
      "Enter score:\n",
      "4\n",
      "{'dhoni': 3, 'rahul': 4}\n",
      "Enter player's namesachin\n",
      "player not found\n"
     ]
    }
   ],
   "source": [
    "d = {}\n",
    "print(\"How many pairs?\")\n",
    "n = int(input())\n",
    "for i in range(n):\n",
    "    print(\"Enter player name:\")\n",
    "    k = input()\n",
    "    print(\"Enter score:\")\n",
    "    v = int(input())\n",
    "    d.update({k:v})\n",
    "print(d)\n",
    "\n",
    "# for names in d:\n",
    "#     print(\"Player Names:\",names)\n",
    "\n",
    "name = input(\"Enter player's name\")\n",
    "runs = d.get(name,-1)\n",
    "# print(score)\n",
    "# print(d.keys())\n",
    "if runs != -1:\n",
    "    print(f\"Player {name} scored {v} runs\")\n",
    "else:\n",
    "    print(\"player not found\")\n"
   ]
  },
  {
   "cell_type": "code",
   "execution_count": null,
   "id": "4835f0dd",
   "metadata": {},
   "outputs": [],
   "source": []
  },
  {
   "cell_type": "markdown",
   "id": "1e46709c",
   "metadata": {},
   "source": [
    "# Counting letters in string taken from user & printing it in dict format"
   ]
  },
  {
   "cell_type": "code",
   "execution_count": 1,
   "id": "1a9b5a5d",
   "metadata": {},
   "outputs": [
    {
     "name": "stdout",
     "output_type": "stream",
     "text": [
      "{'s': 2, 'h': 2, 'a': 2, 'n': 1, 'k': 1}\n"
     ]
    }
   ],
   "source": [
    "string = \"shashank\"\n",
    "d = {}\n",
    "for i in string:\n",
    "    d[i] = d.get(i,0) + 1\n",
    "print(d)  "
   ]
  },
  {
   "cell_type": "code",
   "execution_count": 8,
   "id": "b974ad1d",
   "metadata": {},
   "outputs": [
    {
     "data": {
      "text/plain": [
       "['a', 'h', 'k', 'n', 's']"
      ]
     },
     "execution_count": 8,
     "metadata": {},
     "output_type": "execute_result"
    }
   ],
   "source": [
    "d\n",
    "sorted(d,key=ascii)"
   ]
  },
  {
   "cell_type": "markdown",
   "id": "de2a9ab0",
   "metadata": {},
   "source": [
    "# Sorting dict acc to keys or values using lambda function"
   ]
  },
  {
   "cell_type": "code",
   "execution_count": 29,
   "id": "39720ea6",
   "metadata": {},
   "outputs": [
    {
     "name": "stdout",
     "output_type": "stream",
     "text": [
      "[(0, 'Red'), (3, 'White'), (15, 'Green'), (20, 'Blue')]\n",
      "[(20, 'Blue'), (15, 'Green'), (0, 'Red'), (3, 'White')]\n"
     ]
    }
   ],
   "source": [
    "colors = {0:'Red',15:'Green',20:'Blue',3:\"White\"}\n",
    "a = sorted(colors.items(), key = lambda x:x[0]) # here x[0] means dict is sorted as per keysi.e. color code in ascending order\n",
    "b = sorted(colors.items(), key = lambda x:x[1]) # here x[1] means dict is sorted as per values i.e. color name in ascending order\n",
    "print(a)\n",
    "print(b)"
   ]
  },
  {
   "cell_type": "code",
   "execution_count": null,
   "id": "c565edc8",
   "metadata": {},
   "outputs": [],
   "source": []
  },
  {
   "cell_type": "markdown",
   "id": "8b436ec2",
   "metadata": {},
   "source": [
    "# using zip() to convert lists into dict()"
   ]
  },
  {
   "cell_type": "code",
   "execution_count": 40,
   "id": "565bebf2",
   "metadata": {},
   "outputs": [
    {
     "data": {
      "text/plain": [
       "{'Maharashtra': 'Mumbai',\n",
       " 'Karnataka': 'Bangalore',\n",
       " 'Tamil Nadu': 'Chennai',\n",
       " 'Gujarat': 'Ahmedabad',\n",
       " 'Delhi': 'Agra'}"
      ]
     },
     "execution_count": 40,
     "metadata": {},
     "output_type": "execute_result"
    }
   ],
   "source": [
    "State = [\"Maharashtra\",'Karnataka','Tamil Nadu','Gujarat','Delhi']\n",
    "Capital_city = ['Mumbai','Bangalore','Chennai','Ahmedabad','Agra']\n",
    "Tier_ii_city = ['Pune','Belgaum','Guindy','Baroda','Lajpat Nagar']\n",
    "a = zip(State,Capital_city)\n",
    "dict(a)"
   ]
  },
  {
   "cell_type": "code",
   "execution_count": null,
   "id": "94932753",
   "metadata": {},
   "outputs": [],
   "source": []
  },
  {
   "cell_type": "code",
   "execution_count": 95,
   "id": "32d54712",
   "metadata": {},
   "outputs": [
    {
     "name": "stdout",
     "output_type": "stream",
     "text": [
      "{'vijay': 23, ' Ganesh': 2, ' Lakshmi': 19, ' Nikhil': 22}\n"
     ]
    }
   ],
   "source": [
    "str1=\"vijay=23, Ganesh=2, Lakshmi=19, Nikhil=22\"\n",
    "lst_name = []\n",
    "a = str1.split(\",\")\n",
    "# b = a.split('=')\n",
    "for i in a:\n",
    "    b = i.split(\"=\")\n",
    "    lst_name.append(b)\n",
    "d = dict(lst_name)\n",
    "for k,v in d.items():\n",
    "    d[k] = int(v)\n",
    "print(d)"
   ]
  },
  {
   "cell_type": "markdown",
   "id": "97daaf97",
   "metadata": {},
   "source": [
    "# Passing dictionary inside function"
   ]
  },
  {
   "cell_type": "code",
   "execution_count": 7,
   "id": "4b9a3ff0",
   "metadata": {},
   "outputs": [
    {
     "name": "stdout",
     "output_type": "stream",
     "text": [
      "A -- 1\n",
      "B -- 2\n",
      "C -- 3\n"
     ]
    }
   ],
   "source": [
    "def dic(dictionary):\n",
    "    for k,v in dictionary.items():\n",
    "        print(k,'--',v)\n",
    "\n",
    "dic({\"A\":1,\"B\":2,\"C\":3})"
   ]
  },
  {
   "cell_type": "markdown",
   "id": "ca220132",
   "metadata": {},
   "source": [
    "# Ordered Dictionary( dictionary d = {} is an unordered dict collection)"
   ]
  },
  {
   "cell_type": "code",
   "execution_count": 2,
   "id": "8eae4315",
   "metadata": {},
   "outputs": [
    {
     "name": "stdout",
     "output_type": "stream",
     "text": [
      "10 a\n",
      "30 b\n",
      "40 c\n",
      "15 d\n"
     ]
    }
   ],
   "source": [
    "from collections import OrderedDict\n",
    "d = OrderedDict()   # This is type of Ordered dictionary & order remains same as it is passed. \n",
    "d[10] = 'a'\n",
    "d[30] = 'b'\n",
    "d[40] = 'c'\n",
    "d[15] = 'd'\n",
    "for i,j in d.items():\n",
    "    print(i,j)\n"
   ]
  },
  {
   "cell_type": "code",
   "execution_count": null,
   "id": "96d1ca82",
   "metadata": {},
   "outputs": [],
   "source": []
  },
  {
   "cell_type": "markdown",
   "id": "f9a2e5b1",
   "metadata": {},
   "source": [
    "# 10.Set"
   ]
  },
  {
   "cell_type": "code",
   "execution_count": 18,
   "id": "b133355c",
   "metadata": {},
   "outputs": [
    {
     "data": {
      "text/plain": [
       "{1, 2, 3, 'a', 'h', 's'}"
      ]
     },
     "execution_count": 18,
     "metadata": {},
     "output_type": "execute_result"
    }
   ],
   "source": [
    "a = {'s','h','a','s','h',1,2,3,1,}\n",
    "a"
   ]
  },
  {
   "cell_type": "code",
   "execution_count": null,
   "id": "554547e1",
   "metadata": {},
   "outputs": [],
   "source": []
  },
  {
   "cell_type": "markdown",
   "id": "835ff59c",
   "metadata": {},
   "source": [
    "# Adding items to set"
   ]
  },
  {
   "cell_type": "code",
   "execution_count": 17,
   "id": "9b80385a",
   "metadata": {},
   "outputs": [
    {
     "data": {
      "text/plain": [
       "{'a', 'b', 'c', 'd', 'e', 'f'}"
      ]
     },
     "execution_count": 17,
     "metadata": {},
     "output_type": "execute_result"
    }
   ],
   "source": [
    "a = set(['a','b','c','d','e'])\n",
    "a.add('f')\n",
    "a"
   ]
  },
  {
   "cell_type": "markdown",
   "id": "82491597",
   "metadata": {},
   "source": [
    "# Removing items from a set"
   ]
  },
  {
   "cell_type": "code",
   "execution_count": 14,
   "id": "8a771e65",
   "metadata": {},
   "outputs": [
    {
     "data": {
      "text/plain": [
       "{'b', 'c', 'd', 'e'}"
      ]
     },
     "execution_count": 14,
     "metadata": {},
     "output_type": "execute_result"
    }
   ],
   "source": [
    "a = set(['a','b','c','d','e'])\n",
    "a.discard('a')\n",
    "a"
   ]
  },
  {
   "cell_type": "code",
   "execution_count": null,
   "id": "28516e14",
   "metadata": {},
   "outputs": [],
   "source": []
  },
  {
   "cell_type": "markdown",
   "id": "f010bd69",
   "metadata": {},
   "source": [
    "# Union of sets"
   ]
  },
  {
   "cell_type": "code",
   "execution_count": 30,
   "id": "3486f6ff",
   "metadata": {},
   "outputs": [
    {
     "data": {
      "text/plain": [
       "{1, 2, 3, 'A', 'a', 'b', 'c', 'd', 'e', 'h', 's'}"
      ]
     },
     "execution_count": 30,
     "metadata": {},
     "output_type": "execute_result"
    }
   ],
   "source": [
    "a = set(['a','b','c','d','e'])\n",
    "b = {'s','h','A','s','h',1,2,3,1,}\n",
    "a|b"
   ]
  },
  {
   "cell_type": "code",
   "execution_count": null,
   "id": "cff0c3de",
   "metadata": {},
   "outputs": [],
   "source": []
  },
  {
   "cell_type": "markdown",
   "id": "366d1589",
   "metadata": {},
   "source": [
    "# Intersection of sets"
   ]
  },
  {
   "cell_type": "code",
   "execution_count": 31,
   "id": "d6213a7f",
   "metadata": {},
   "outputs": [
    {
     "data": {
      "text/plain": [
       "set()"
      ]
     },
     "execution_count": 31,
     "metadata": {},
     "output_type": "execute_result"
    }
   ],
   "source": [
    "a = set(['a',' b','c','d','e'])\n",
    "b = {'s','h','A','s','h',1,2,3,1,}\n",
    "a & b"
   ]
  },
  {
   "cell_type": "code",
   "execution_count": 34,
   "id": "acb34014",
   "metadata": {},
   "outputs": [
    {
     "data": {
      "text/plain": [
       "{1, 'a'}"
      ]
     },
     "execution_count": 34,
     "metadata": {},
     "output_type": "execute_result"
    }
   ],
   "source": [
    "a = set(['a','b','c','d','e',1])\n",
    "b = {'s','h','a','s','h',1,2,3,1,}\n",
    "a & b"
   ]
  },
  {
   "cell_type": "markdown",
   "id": "868b2fee",
   "metadata": {},
   "source": [
    "# Difference of sets"
   ]
  },
  {
   "cell_type": "code",
   "execution_count": 35,
   "id": "99cf073c",
   "metadata": {},
   "outputs": [
    {
     "data": {
      "text/plain": [
       "{'b', 'c', 'd', 'e'}"
      ]
     },
     "execution_count": 35,
     "metadata": {},
     "output_type": "execute_result"
    }
   ],
   "source": [
    "a = set(['a','b','c','d','e',1])\n",
    "b = {'s','h','a','s','h',1,2,3,1,}\n",
    "a - b"
   ]
  },
  {
   "cell_type": "code",
   "execution_count": null,
   "id": "8fcf893d",
   "metadata": {},
   "outputs": [],
   "source": []
  },
  {
   "cell_type": "markdown",
   "id": "5a378e21",
   "metadata": {},
   "source": [
    "# Compare 2 sets"
   ]
  },
  {
   "cell_type": "code",
   "execution_count": 42,
   "id": "c02ce7a4",
   "metadata": {},
   "outputs": [
    {
     "data": {
      "text/plain": [
       "True"
      ]
     },
     "execution_count": 42,
     "metadata": {},
     "output_type": "execute_result"
    }
   ],
   "source": [
    "a = set(['a',1])\n",
    "b = {'s','h','a','s','h',1,2,3,1,}\n",
    "a < b   # If a is a subset or superset of b it returns True else False"
   ]
  },
  {
   "cell_type": "code",
   "execution_count": null,
   "id": "354f0401",
   "metadata": {},
   "outputs": [],
   "source": []
  },
  {
   "cell_type": "markdown",
   "id": "6293b044",
   "metadata": {},
   "source": [
    "# Immutable frozenset"
   ]
  },
  {
   "cell_type": "code",
   "execution_count": 55,
   "id": "994fb369",
   "metadata": {},
   "outputs": [
    {
     "ename": "AttributeError",
     "evalue": "'frozenset' object has no attribute 'add'",
     "output_type": "error",
     "traceback": [
      "\u001b[1;31m---------------------------------------------------------------------------\u001b[0m",
      "\u001b[1;31mAttributeError\u001b[0m                            Traceback (most recent call last)",
      "\u001b[1;32m~\\AppData\\Local\\Temp/ipykernel_4752/3524283427.py\u001b[0m in \u001b[0;36m<module>\u001b[1;34m\u001b[0m\n\u001b[0;32m      1\u001b[0m \u001b[0ma\u001b[0m \u001b[1;33m=\u001b[0m \u001b[0mfrozenset\u001b[0m\u001b[1;33m(\u001b[0m\u001b[1;33m{\u001b[0m\u001b[1;34m'1'\u001b[0m\u001b[1;33m,\u001b[0m\u001b[1;34m'2'\u001b[0m\u001b[1;33m,\u001b[0m\u001b[1;34m'3'\u001b[0m\u001b[1;33m,\u001b[0m\u001b[1;34m'4'\u001b[0m\u001b[1;33m,\u001b[0m\u001b[1;34m'5'\u001b[0m\u001b[1;33m}\u001b[0m\u001b[1;33m)\u001b[0m\u001b[1;33m\u001b[0m\u001b[1;33m\u001b[0m\u001b[0m\n\u001b[1;32m----> 2\u001b[1;33m \u001b[0ma\u001b[0m\u001b[1;33m.\u001b[0m\u001b[0madd\u001b[0m\u001b[1;33m(\u001b[0m\u001b[1;34m'6'\u001b[0m\u001b[1;33m)\u001b[0m    \u001b[1;31m# since frozenset is immutable it cannot be altered\u001b[0m\u001b[1;33m\u001b[0m\u001b[1;33m\u001b[0m\u001b[0m\n\u001b[0m",
      "\u001b[1;31mAttributeError\u001b[0m: 'frozenset' object has no attribute 'add'"
     ]
    }
   ],
   "source": [
    "a = frozenset({'1','2','3','4','5'})\n",
    "a.add('6')    # since frozenset is immutable it cannot be altered, set is mutable"
   ]
  },
  {
   "cell_type": "markdown",
   "id": "8f815171",
   "metadata": {},
   "source": [
    "# 11. Functions Part 1"
   ]
  },
  {
   "cell_type": "code",
   "execution_count": 23,
   "id": "f28e4d62",
   "metadata": {},
   "outputs": [
    {
     "name": "stdout",
     "output_type": "stream",
     "text": [
      "6\n",
      "* \n",
      "* * \n",
      "* * * \n",
      "* * * * \n",
      "* * * * * \n",
      "* * * * * * \n"
     ]
    }
   ],
   "source": [
    "i = int(input())\n",
    "j = 1\n",
    "while i > 0:\n",
    "    print('* '*j)\n",
    "    j += 1\n",
    "    i -= 1\n",
    "    if i == 0:\n",
    "        break"
   ]
  },
  {
   "cell_type": "code",
   "execution_count": null,
   "id": "53e1524f",
   "metadata": {},
   "outputs": [],
   "source": []
  },
  {
   "cell_type": "code",
   "execution_count": 37,
   "id": "5bf301f8",
   "metadata": {},
   "outputs": [
    {
     "data": {
      "text/plain": [
       "(5, -6)"
      ]
     },
     "execution_count": 37,
     "metadata": {},
     "output_type": "execute_result"
    }
   ],
   "source": [
    "def sum_sub(a,b):\n",
    "    sum = 0\n",
    "    sub = 0\n",
    "    sum += a\n",
    "    sub -= b\n",
    "    return sum,sub\n",
    "sum_sub(5,6)"
   ]
  },
  {
   "cell_type": "code",
   "execution_count": 39,
   "id": "040366c5",
   "metadata": {},
   "outputs": [
    {
     "data": {
      "text/plain": [
       "'Hi Shashank'"
      ]
     },
     "execution_count": 39,
     "metadata": {},
     "output_type": "execute_result"
    }
   ],
   "source": [
    "def func(str):\n",
    "    a = 'Hi'+str\n",
    "    return a\n",
    "func(' Shashank')"
   ]
  },
  {
   "cell_type": "code",
   "execution_count": 45,
   "id": "118a4c61",
   "metadata": {},
   "outputs": [],
   "source": [
    "# Keyword Arguments passing"
   ]
  },
  {
   "cell_type": "code",
   "execution_count": 44,
   "id": "db2bc701",
   "metadata": {},
   "outputs": [
    {
     "data": {
      "text/plain": [
       "(50.75, 'Sugar')"
      ]
     },
     "execution_count": 44,
     "metadata": {},
     "output_type": "execute_result"
    }
   ],
   "source": [
    "def grocery(a,b):\n",
    "    return b,a\n",
    "grocery(a='Sugar',b=50.75)"
   ]
  },
  {
   "cell_type": "code",
   "execution_count": 52,
   "id": "ca0424a7",
   "metadata": {},
   "outputs": [
    {
     "name": "stdout",
     "output_type": "stream",
     "text": [
      "(50.75, 'Sugar')\n",
      "(60.23, 'Sugar')\n"
     ]
    }
   ],
   "source": [
    "def grocery(a,b=50.75):   # Default arg is b & positional arg ios a\n",
    "    return b,a\n",
    "print(grocery('Sugar'))\n",
    "print(grocery('Sugar', b=60.23))"
   ]
  },
  {
   "cell_type": "code",
   "execution_count": 65,
   "id": "427b8146",
   "metadata": {},
   "outputs": [
    {
     "name": "stdout",
     "output_type": "stream",
     "text": [
      "a = Sugar\n",
      "b = 50.75\n",
      "a = Sugar\n",
      "b = 60.23\n"
     ]
    }
   ],
   "source": [
    "def grocery(a,b=50.75):   # Default arg is b & positional arg ios a\n",
    "    print('a = %s' %a)\n",
    "    print('b = %s' %b)\n",
    "grocery('Sugar')\n",
    "grocery('Sugar', b=60.23)"
   ]
  },
  {
   "cell_type": "code",
   "execution_count": 72,
   "id": "f813590c",
   "metadata": {},
   "outputs": [
    {
     "data": {
      "text/plain": [
       "('pos arg:', 5, 'var arg:', 5, -5)"
      ]
     },
     "execution_count": 72,
     "metadata": {},
     "output_type": "execute_result"
    }
   ],
   "source": [
    "def sum_sub(a,*b):\n",
    "    sum = 0; sub = 0\n",
    "    for i in b:\n",
    "        sum += i\n",
    "        sub -= i\n",
    "    return \"pos arg:\",a,\"var arg:\",sum, sub\n",
    "\n",
    "sum_sub(5,2,3)"
   ]
  },
  {
   "cell_type": "code",
   "execution_count": null,
   "id": "0798c676",
   "metadata": {},
   "outputs": [],
   "source": []
  },
  {
   "cell_type": "code",
   "execution_count": 76,
   "id": "722c0df5",
   "metadata": {},
   "outputs": [
    {
     "name": "stdout",
     "output_type": "stream",
     "text": [
      "local a= 3\n",
      "global a= 5\n"
     ]
    }
   ],
   "source": [
    "a=5\n",
    "def local_func():\n",
    "    a = 3\n",
    "    print (\"local a=\",a)\n",
    "local_func()\n",
    "print('global a=',a)"
   ]
  },
  {
   "cell_type": "code",
   "execution_count": 3,
   "id": "984d8ed8",
   "metadata": {},
   "outputs": [
    {
     "name": "stdout",
     "output_type": "stream",
     "text": [
      "local a= 5\n",
      "global a= 5\n"
     ]
    }
   ],
   "source": [
    "a=5\n",
    "def local_func():\n",
    "    global a\n",
    "    print (\"local a=\",a)\n",
    "local_func()\n",
    "print('global a=',a)"
   ]
  },
  {
   "cell_type": "code",
   "execution_count": 78,
   "id": "44ec94c9",
   "metadata": {},
   "outputs": [
    {
     "name": "stdout",
     "output_type": "stream",
     "text": [
      "local a= 5\n",
      "global a= 5\n"
     ]
    }
   ],
   "source": [
    "a=5\n",
    "def local_func():\n",
    "#     global a\n",
    "    print (\"local a=\",a)\n",
    "local_func()\n",
    "print('global a=',a)"
   ]
  },
  {
   "cell_type": "code",
   "execution_count": 4,
   "id": "f3dd35e1",
   "metadata": {},
   "outputs": [
    {
     "name": "stdout",
     "output_type": "stream",
     "text": [
      "local a= 5\n",
      "global a= 5\n"
     ]
    }
   ],
   "source": [
    "a = 5\n",
    "def local_func():\n",
    "    print (\"local a=\",a)\n",
    "local_func()\n",
    "print('global a=',a)"
   ]
  },
  {
   "cell_type": "code",
   "execution_count": 1,
   "id": "29d33e6e",
   "metadata": {},
   "outputs": [
    {
     "ename": "NameError",
     "evalue": "name 'a' is not defined",
     "output_type": "error",
     "traceback": [
      "\u001b[1;31m---------------------------------------------------------------------------\u001b[0m",
      "\u001b[1;31mNameError\u001b[0m                                 Traceback (most recent call last)",
      "\u001b[1;32m~\\AppData\\Local\\Temp/ipykernel_11708/3817045685.py\u001b[0m in \u001b[0;36m<module>\u001b[1;34m\u001b[0m\n\u001b[0;32m      2\u001b[0m     \u001b[1;32mglobal\u001b[0m \u001b[0ma\u001b[0m\u001b[1;33m\u001b[0m\u001b[1;33m\u001b[0m\u001b[0m\n\u001b[0;32m      3\u001b[0m     \u001b[0mprint\u001b[0m \u001b[1;33m(\u001b[0m\u001b[1;34m\"local a=\"\u001b[0m\u001b[1;33m,\u001b[0m\u001b[0ma\u001b[0m\u001b[1;33m)\u001b[0m\u001b[1;33m\u001b[0m\u001b[1;33m\u001b[0m\u001b[0m\n\u001b[1;32m----> 4\u001b[1;33m \u001b[0mlocal_func\u001b[0m\u001b[1;33m(\u001b[0m\u001b[1;33m)\u001b[0m\u001b[1;33m\u001b[0m\u001b[1;33m\u001b[0m\u001b[0m\n\u001b[0m\u001b[0;32m      5\u001b[0m \u001b[0mprint\u001b[0m\u001b[1;33m(\u001b[0m\u001b[1;34m'global a='\u001b[0m\u001b[1;33m,\u001b[0m\u001b[0ma\u001b[0m\u001b[1;33m)\u001b[0m\u001b[1;33m\u001b[0m\u001b[1;33m\u001b[0m\u001b[0m\n",
      "\u001b[1;32m~\\AppData\\Local\\Temp/ipykernel_11708/3817045685.py\u001b[0m in \u001b[0;36mlocal_func\u001b[1;34m()\u001b[0m\n\u001b[0;32m      1\u001b[0m \u001b[1;32mdef\u001b[0m \u001b[0mlocal_func\u001b[0m\u001b[1;33m(\u001b[0m\u001b[1;33m)\u001b[0m\u001b[1;33m:\u001b[0m\u001b[1;33m\u001b[0m\u001b[1;33m\u001b[0m\u001b[0m\n\u001b[0;32m      2\u001b[0m     \u001b[1;32mglobal\u001b[0m \u001b[0ma\u001b[0m\u001b[1;33m\u001b[0m\u001b[1;33m\u001b[0m\u001b[0m\n\u001b[1;32m----> 3\u001b[1;33m     \u001b[0mprint\u001b[0m \u001b[1;33m(\u001b[0m\u001b[1;34m\"local a=\"\u001b[0m\u001b[1;33m,\u001b[0m\u001b[0ma\u001b[0m\u001b[1;33m)\u001b[0m\u001b[1;33m\u001b[0m\u001b[1;33m\u001b[0m\u001b[0m\n\u001b[0m\u001b[0;32m      4\u001b[0m \u001b[0mlocal_func\u001b[0m\u001b[1;33m(\u001b[0m\u001b[1;33m)\u001b[0m\u001b[1;33m\u001b[0m\u001b[1;33m\u001b[0m\u001b[0m\n\u001b[0;32m      5\u001b[0m \u001b[0mprint\u001b[0m\u001b[1;33m(\u001b[0m\u001b[1;34m'global a='\u001b[0m\u001b[1;33m,\u001b[0m\u001b[0ma\u001b[0m\u001b[1;33m)\u001b[0m\u001b[1;33m\u001b[0m\u001b[1;33m\u001b[0m\u001b[0m\n",
      "\u001b[1;31mNameError\u001b[0m: name 'a' is not defined"
     ]
    }
   ],
   "source": [
    "def local_func():\n",
    "    global a\n",
    "    print (\"local a=\",a)\n",
    "local_func()\n",
    "print('global a=',a)"
   ]
  },
  {
   "cell_type": "code",
   "execution_count": 2,
   "id": "91cad1ac",
   "metadata": {},
   "outputs": [
    {
     "name": "stdout",
     "output_type": "stream",
     "text": [
      "local a= 5\n"
     ]
    },
    {
     "ename": "NameError",
     "evalue": "name 'a' is not defined",
     "output_type": "error",
     "traceback": [
      "\u001b[1;31m---------------------------------------------------------------------------\u001b[0m",
      "\u001b[1;31mNameError\u001b[0m                                 Traceback (most recent call last)",
      "\u001b[1;32m~\\AppData\\Local\\Temp/ipykernel_11708/1437047209.py\u001b[0m in \u001b[0;36m<module>\u001b[1;34m\u001b[0m\n\u001b[0;32m      3\u001b[0m     \u001b[0mprint\u001b[0m \u001b[1;33m(\u001b[0m\u001b[1;34m\"local a=\"\u001b[0m\u001b[1;33m,\u001b[0m\u001b[0ma\u001b[0m\u001b[1;33m)\u001b[0m\u001b[1;33m\u001b[0m\u001b[1;33m\u001b[0m\u001b[0m\n\u001b[0;32m      4\u001b[0m \u001b[0mlocal_func\u001b[0m\u001b[1;33m(\u001b[0m\u001b[1;33m)\u001b[0m\u001b[1;33m\u001b[0m\u001b[1;33m\u001b[0m\u001b[0m\n\u001b[1;32m----> 5\u001b[1;33m \u001b[0mprint\u001b[0m\u001b[1;33m(\u001b[0m\u001b[1;34m'global a='\u001b[0m\u001b[1;33m,\u001b[0m\u001b[0ma\u001b[0m\u001b[1;33m)\u001b[0m\u001b[1;33m\u001b[0m\u001b[1;33m\u001b[0m\u001b[0m\n\u001b[0m",
      "\u001b[1;31mNameError\u001b[0m: name 'a' is not defined"
     ]
    }
   ],
   "source": [
    "def local_func():\n",
    "    a = 5\n",
    "    print (\"local a=\",a)\n",
    "local_func()\n",
    "print('global a=',a)"
   ]
  },
  {
   "cell_type": "code",
   "execution_count": null,
   "id": "50364c26",
   "metadata": {},
   "outputs": [],
   "source": []
  },
  {
   "cell_type": "code",
   "execution_count": 1,
   "id": "21688aed",
   "metadata": {},
   "outputs": [
    {
     "name": "stdout",
     "output_type": "stream",
     "text": [
      "nested local inner_func a: 20\n",
      "local namespace of outer_func: 10\n",
      "global namespace a: 30\n"
     ]
    }
   ],
   "source": [
    "def outer_func():\n",
    "    a = 10\n",
    "    def inner_func():\n",
    "        a = 20\n",
    "        print(\"nested local inner_func a:\",a)\n",
    "    inner_func()\n",
    "    print(\"local namespace of outer_func:\",a)\n",
    "a = 30\n",
    "outer_func()\n",
    "print(\"global namespace a:\",a)"
   ]
  },
  {
   "cell_type": "code",
   "execution_count": 13,
   "id": "0b846a72",
   "metadata": {},
   "outputs": [
    {
     "name": "stdout",
     "output_type": "stream",
     "text": [
      "nested local inner_func a: 10\n",
      "local namespace of outer_func: 10\n",
      "global namespace a: 10\n"
     ]
    }
   ],
   "source": [
    "def outer_func():\n",
    "    global a\n",
    "    a = 10\n",
    "    def inner_func():\n",
    "        global a \n",
    "        a = 10\n",
    "        print(\"nested local inner_func a:\",a)\n",
    "    inner_func()\n",
    "    print(\"local namespace of outer_func:\",a)\n",
    "a = 30\n",
    "outer_func()\n",
    "print(\"global namespace a:\",a)"
   ]
  },
  {
   "cell_type": "markdown",
   "id": "1d99efc8",
   "metadata": {},
   "source": [
    "# 12. Functions Part 2"
   ]
  },
  {
   "cell_type": "code",
   "execution_count": 34,
   "id": "db8d0dd7",
   "metadata": {},
   "outputs": [
    {
     "data": {
      "text/plain": [
       "(3.0, 15)"
      ]
     },
     "execution_count": 34,
     "metadata": {},
     "output_type": "execute_result"
    }
   ],
   "source": [
    "def calc(*lst):\n",
    "    n = len(lst)\n",
    "    sum = 0; i=0\n",
    "    for i in lst:\n",
    "        sum += i\n",
    "    avg = sum/n\n",
    "    return avg, sum\n",
    "calc(1,2,3,4,5)"
   ]
  },
  {
   "cell_type": "code",
   "execution_count": null,
   "id": "d4146605",
   "metadata": {},
   "outputs": [],
   "source": []
  },
  {
   "cell_type": "code",
   "execution_count": 53,
   "id": "f1648219",
   "metadata": {},
   "outputs": [
    {
     "data": {
      "text/plain": [
       "6"
      ]
     },
     "execution_count": 53,
     "metadata": {},
     "output_type": "execute_result"
    }
   ],
   "source": [
    "def fact(n):\n",
    "    if n == 0:\n",
    "        return 1 \n",
    "    else:\n",
    "        fac = n*fact(n-1) \n",
    "        return fac\n",
    "fact(3)"
   ]
  },
  {
   "cell_type": "code",
   "execution_count": 54,
   "id": "8203d787",
   "metadata": {},
   "outputs": [
    {
     "data": {
      "text/plain": [
       "25"
      ]
     },
     "execution_count": 54,
     "metadata": {},
     "output_type": "execute_result"
    }
   ],
   "source": [
    "a = lambda x:x**2\n",
    "a(5)"
   ]
  },
  {
   "cell_type": "code",
   "execution_count": 62,
   "id": "0668e5bd",
   "metadata": {},
   "outputs": [
    {
     "data": {
      "text/plain": [
       "4"
      ]
     },
     "execution_count": 62,
     "metadata": {},
     "output_type": "execute_result"
    }
   ],
   "source": [
    "a = (lambda x,y,z:(x**y)+z)\n",
    "a(1,2,3)"
   ]
  },
  {
   "cell_type": "code",
   "execution_count": 17,
   "id": "84e78029",
   "metadata": {},
   "outputs": [
    {
     "name": "stdout",
     "output_type": "stream",
     "text": [
      "[1, 0, 1, 0, 1] \t [2, 4] \t [1, 3, 5]\n"
     ]
    }
   ],
   "source": [
    "def evn_odd(*lst):\n",
    "    for i in lst:\n",
    "        if i % 2 == 0:\n",
    "            return True\n",
    "        else:\n",
    "            return False\n",
    "a=list(map(lambda x:x%2,[1,2,3,4,5]))\n",
    "b=list(filter(lambda x:x%2==0,[1,2,3,4,5]))\n",
    "c=list(filter(lambda x:x%2,[1,2,3,4,5]))\n",
    "print(a,'\\t',b, '\\t', c)"
   ]
  },
  {
   "cell_type": "code",
   "execution_count": 18,
   "id": "e8ee6e72",
   "metadata": {},
   "outputs": [
    {
     "name": "stdout",
     "output_type": "stream",
     "text": [
      "[4, 16]\n"
     ]
    }
   ],
   "source": [
    "def square(*lst):\n",
    "    for i in lst:\n",
    "        return i**2\n",
    "def evn_odd(*lst):\n",
    "    for i in lst:\n",
    "        if i % 2 == 0:\n",
    "            return True\n",
    "        else:\n",
    "            return False\n",
    "a=list(filter(evn_odd,[1,2,3,4,5]))\n",
    "print(list(map(square,a)))           # creating func square & than passing it in map which gets applied on each elements in a"
   ]
  },
  {
   "cell_type": "code",
   "execution_count": 19,
   "id": "b95f6e83",
   "metadata": {},
   "outputs": [
    {
     "name": "stdout",
     "output_type": "stream",
     "text": [
      "[4, 16]\n"
     ]
    }
   ],
   "source": [
    "def evn_odd(*lst):\n",
    "    for i in lst:\n",
    "        if i % 2 == 0:\n",
    "            return True\n",
    "        else:\n",
    "            return False\n",
    "a=list(filter(evn_odd,[1,2,3,4,5]))\n",
    "print(list(map(lambda x:x**2,a)))     # using anonymous func lambda directly "
   ]
  },
  {
   "cell_type": "code",
   "execution_count": 36,
   "id": "4a8780e5",
   "metadata": {},
   "outputs": [
    {
     "name": "stdout",
     "output_type": "stream",
     "text": [
      "[2, 4]\n",
      "8\n"
     ]
    }
   ],
   "source": [
    "from functools import reduce\n",
    "def evn_odd(*lst):\n",
    "    for i in lst:\n",
    "        if i % 2 == 0:\n",
    "            return True\n",
    "        else:\n",
    "            return False\n",
    "a=list(filter(evn_odd,[1,2,3,4,5]))\n",
    "print(a)\n",
    "print((reduce(lambda x,y:x*y,a))) "
   ]
  },
  {
   "cell_type": "markdown",
   "id": "33b770bb",
   "metadata": {},
   "source": [
    "# Decorator"
   ]
  },
  {
   "cell_type": "code",
   "execution_count": 4,
   "id": "1ca39a9a",
   "metadata": {},
   "outputs": [
    {
     "name": "stdout",
     "output_type": "stream",
     "text": [
      "24\n"
     ]
    }
   ],
   "source": [
    "def outer_func(func):\n",
    "    def inner_func():\n",
    "        value = func()\n",
    "        return value*2\n",
    "    return inner_func\n",
    "\n",
    "def outer_func1(func):\n",
    "    def inner_func1():\n",
    "        value = func()\n",
    "        return value + 2\n",
    "    return inner_func1\n",
    "\n",
    "@outer_func\n",
    "@outer_func1   # This inner decorator outer_func1 will be applied on below func first & than outer func decorator\n",
    "def abc():\n",
    "    a = 10\n",
    "    return a\n",
    "print(abc())"
   ]
  },
  {
   "cell_type": "code",
   "execution_count": 7,
   "id": "3ff5b305",
   "metadata": {},
   "outputs": [
    {
     "name": "stdout",
     "output_type": "stream",
     "text": [
      "24\n"
     ]
    }
   ],
   "source": [
    "def outer_func(func):\n",
    "    def inner_func():\n",
    "        value = func()\n",
    "        return value*2\n",
    "    return inner_func\n",
    "\n",
    "def outer_func1(func):\n",
    "    def inner_func1():\n",
    "        value = func()\n",
    "        return value + 2\n",
    "    return inner_func1\n",
    "\n",
    "\n",
    "def abc():\n",
    "    a = 10\n",
    "    return a\n",
    "result = outer_func(outer_func1(abc))\n",
    "print(result())"
   ]
  },
  {
   "cell_type": "markdown",
   "id": "79351b6f",
   "metadata": {},
   "source": [
    "# Generator object examples"
   ]
  },
  {
   "cell_type": "code",
   "execution_count": 8,
   "id": "3ba1912b",
   "metadata": {},
   "outputs": [
    {
     "name": "stdout",
     "output_type": "stream",
     "text": [
      "5\n",
      "6\n",
      "7\n",
      "8\n",
      "9\n",
      "10\n",
      "Something Wrong\n",
      "<generator object gen at 0x000002268DC31740>\n",
      "[]\n"
     ]
    }
   ],
   "source": [
    "a = []\n",
    "def gen(x,y):\n",
    "    while x <= y:\n",
    "        yield x\n",
    "        x += 1\n",
    "g=gen(5,10)\n",
    "print(next(g))\n",
    "print(next(g))\n",
    "print(next(g))\n",
    "print(next(g))\n",
    "print(next(g))\n",
    "print(next(g))\n",
    "try:\n",
    "    next(g)\n",
    "except:\n",
    "    print(\"Something Wrong\")   # Exception Stopiteration created as generator object exhausted which is handled by except block\n",
    "\n",
    "for i in g:       # using for loop to iterate over generator elements from 5 to 10 stored in generator object g\n",
    "    a.append(i)   # appending generator elements in list a \n",
    "print(g)\n",
    "print(a)\n"
   ]
  },
  {
   "cell_type": "code",
   "execution_count": 1,
   "id": "878c82db",
   "metadata": {},
   "outputs": [
    {
     "name": "stdout",
     "output_type": "stream",
     "text": [
      "5\n",
      "6\n",
      "7\n",
      "8\n",
      "9\n",
      "10\n",
      "<generator object gen at 0x000002268DAE6CF0>\n",
      "[]\n"
     ]
    }
   ],
   "source": [
    "a = []\n",
    "def gen(x,y):\n",
    "    while x <= y:\n",
    "        yield x     # yield keyword is used only once as it is used inside while loop to extract all elements \n",
    "                    # other wise it has to be used multiple times as like next()\n",
    "        x += 1\n",
    "g=gen(5,10)\n",
    "print(next(g))   # Note: next() shall always be used single single to return only that much data which is required for processing\n",
    "print(next(g))\n",
    "print(next(g))\n",
    "print(next(g))\n",
    "print(next(g))\n",
    "print(next(g))\n",
    "\n",
    "for i in g:       # using for loop to iterate over generator elements from 5 to 10 stored in generator object g\n",
    "    a.append(i)   # appending generator elements in list a \n",
    "print(g)\n",
    "print(a)"
   ]
  },
  {
   "cell_type": "code",
   "execution_count": 3,
   "id": "f9703e5b",
   "metadata": {},
   "outputs": [
    {
     "name": "stdout",
     "output_type": "stream",
     "text": [
      "5\n",
      "6\n",
      "7\n",
      "<class 'generator'> <generator object gen at 0x000001E5CB5B0C80>\n",
      "<class 'list'> \t [8, 9, 10]\n"
     ]
    }
   ],
   "source": [
    "a = []\n",
    "def gen(x,y):\n",
    "    while x <= y:\n",
    "        yield x\n",
    "        x += 1\n",
    "g=gen(5,10)\n",
    "print(next(g))\n",
    "print(next(g))\n",
    "print(next(g))\n",
    "\n",
    "\n",
    "for i in g:       # using for loop to iterate over generator elements from 5 to 10 stored in generator object g\n",
    "    a.append(i)   # appending generator elements in list a \n",
    "print(type(g), g)\n",
    "print(type(a),'\\t',a)"
   ]
  },
  {
   "cell_type": "code",
   "execution_count": null,
   "id": "77a8e996",
   "metadata": {},
   "outputs": [],
   "source": []
  },
  {
   "cell_type": "markdown",
   "id": "2a4015fe",
   "metadata": {},
   "source": [
    "# Importing Modules "
   ]
  },
  {
   "cell_type": "code",
   "execution_count": 89,
   "id": "c6b399c6",
   "metadata": {},
   "outputs": [
    {
     "name": "stdout",
     "output_type": "stream",
     "text": [
      "2.718281828459045\n"
     ]
    },
    {
     "data": {
      "text/plain": [
       "3.141592653589793"
      ]
     },
     "execution_count": 89,
     "metadata": {},
     "output_type": "execute_result"
    }
   ],
   "source": [
    "import math\n",
    "print(e)\n",
    "pi"
   ]
  },
  {
   "cell_type": "code",
   "execution_count": 11,
   "id": "33e41a59",
   "metadata": {},
   "outputs": [
    {
     "name": "stdout",
     "output_type": "stream",
     "text": [
      "2.718281828459045 \t 2.718281828459045 \t 3.14\n"
     ]
    }
   ],
   "source": [
    "from math import e, pi\n",
    "print(math.e,'\\t', e , '\\t', round(pi,2))  # you can write directly the attribute name or module name.attribute name"
   ]
  },
  {
   "cell_type": "code",
   "execution_count": 12,
   "id": "2c1fdfc6",
   "metadata": {},
   "outputs": [
    {
     "data": {
      "text/plain": [
       "3.141592653589793"
      ]
     },
     "execution_count": 12,
     "metadata": {},
     "output_type": "execute_result"
    }
   ],
   "source": [
    "# importing all names\n",
    "from math import *\n",
    "pi"
   ]
  },
  {
   "cell_type": "code",
   "execution_count": 18,
   "id": "dbc515f2",
   "metadata": {},
   "outputs": [
    {
     "name": "stdout",
     "output_type": "stream",
     "text": [
      "['C:\\\\Users\\\\HP\\\\Python\\\\Coding Practice', 'C:\\\\Users\\\\user\\\\anaconda3\\\\python39.zip', 'C:\\\\Users\\\\user\\\\anaconda3\\\\DLLs', 'C:\\\\Users\\\\user\\\\anaconda3\\\\lib', 'C:\\\\Users\\\\user\\\\anaconda3', '', 'C:\\\\Users\\\\HP\\\\AppData\\\\Roaming\\\\Python\\\\Python39\\\\site-packages', 'C:\\\\Users\\\\user\\\\anaconda3\\\\lib\\\\site-packages', 'C:\\\\Users\\\\user\\\\anaconda3\\\\lib\\\\site-packages\\\\locket-0.2.1-py3.9.egg', 'C:\\\\Users\\\\user\\\\anaconda3\\\\lib\\\\site-packages\\\\win32', 'C:\\\\Users\\\\user\\\\anaconda3\\\\lib\\\\site-packages\\\\win32\\\\lib', 'C:\\\\Users\\\\user\\\\anaconda3\\\\lib\\\\site-packages\\\\Pythonwin', 'C:\\\\Users\\\\user\\\\anaconda3\\\\lib\\\\site-packages\\\\IPython\\\\extensions', 'C:\\\\Users\\\\HP\\\\.ipython']\n"
     ]
    },
    {
     "data": {
      "text/plain": [
       "['C:\\\\Users\\\\HP\\\\Python\\\\Coding Practice',\n",
       " 'C:\\\\Users\\\\user\\\\anaconda3\\\\python39.zip',\n",
       " 'C:\\\\Users\\\\user\\\\anaconda3\\\\DLLs',\n",
       " 'C:\\\\Users\\\\user\\\\anaconda3\\\\lib',\n",
       " 'C:\\\\Users\\\\user\\\\anaconda3',\n",
       " '',\n",
       " 'C:\\\\Users\\\\HP\\\\AppData\\\\Roaming\\\\Python\\\\Python39\\\\site-packages',\n",
       " 'C:\\\\Users\\\\user\\\\anaconda3\\\\lib\\\\site-packages',\n",
       " 'C:\\\\Users\\\\user\\\\anaconda3\\\\lib\\\\site-packages\\\\locket-0.2.1-py3.9.egg',\n",
       " 'C:\\\\Users\\\\user\\\\anaconda3\\\\lib\\\\site-packages\\\\win32',\n",
       " 'C:\\\\Users\\\\user\\\\anaconda3\\\\lib\\\\site-packages\\\\win32\\\\lib',\n",
       " 'C:\\\\Users\\\\user\\\\anaconda3\\\\lib\\\\site-packages\\\\Pythonwin',\n",
       " 'C:\\\\Users\\\\user\\\\anaconda3\\\\lib\\\\site-packages\\\\IPython\\\\extensions',\n",
       " 'C:\\\\Users\\\\HP\\\\.ipython']"
      ]
     },
     "execution_count": 18,
     "metadata": {},
     "output_type": "execute_result"
    }
   ],
   "source": [
    "import sys\n",
    "print(sys.path)\n",
    "sys.path"
   ]
  },
  {
   "cell_type": "code",
   "execution_count": null,
   "id": "4de469af",
   "metadata": {},
   "outputs": [],
   "source": []
  },
  {
   "cell_type": "code",
   "execution_count": 71,
   "id": "9aa84057",
   "metadata": {},
   "outputs": [
    {
     "name": "stdout",
     "output_type": "stream",
     "text": [
      "25\n"
     ]
    },
    {
     "data": {
      "text/plain": [
       "7"
      ]
     },
     "execution_count": 71,
     "metadata": {},
     "output_type": "execute_result"
    }
   ],
   "source": [
    "from my_math import my_add, my_prod, my_mul\n",
    "print(my_prod(5,2))\n",
    "my_add(5,2)"
   ]
  },
  {
   "cell_type": "code",
   "execution_count": 1,
   "id": "5ac5f046",
   "metadata": {},
   "outputs": [
    {
     "name": "stdout",
     "output_type": "stream",
     "text": [
      "This code run as a module\n",
      "This code run as a module\n",
      "\n"
     ]
    }
   ],
   "source": [
    "import my_math\n",
    "import imp\n",
    "imp.reload(my_math)   # reload func needs to be imported from imp module if there are any changes made in the existing module\n",
    "import my_math        # After reload func only we can use my_math again\n",
    "print()\n",
    "import my_math  "
   ]
  },
  {
   "cell_type": "code",
   "execution_count": 76,
   "id": "aa9f724b",
   "metadata": {},
   "outputs": [
    {
     "name": "stdout",
     "output_type": "stream",
     "text": [
      "Hello my_math got executed\n"
     ]
    },
    {
     "data": {
      "text/plain": [
       "<module 'my_math' from 'C:\\\\Users\\\\HP\\\\Python\\\\Coding Practice\\\\my_math.py'>"
      ]
     },
     "execution_count": 76,
     "metadata": {},
     "output_type": "execute_result"
    }
   ],
   "source": [
    "import my_math\n",
    "imp.reload(my_math)"
   ]
  },
  {
   "cell_type": "code",
   "execution_count": 86,
   "id": "f651a0b3",
   "metadata": {},
   "outputs": [
    {
     "data": {
      "text/plain": [
       "'my_math'"
      ]
     },
     "execution_count": 86,
     "metadata": {},
     "output_type": "execute_result"
    }
   ],
   "source": [
    "my_math.__name__"
   ]
  },
  {
   "cell_type": "code",
   "execution_count": null,
   "id": "50f3ba9d",
   "metadata": {},
   "outputs": [],
   "source": []
  },
  {
   "cell_type": "code",
   "execution_count": 96,
   "id": "110022ad",
   "metadata": {},
   "outputs": [
    {
     "name": "stdout",
     "output_type": "stream",
     "text": [
      "This code run as a module\n",
      "my_math\n",
      "Hello I m executing\n"
     ]
    }
   ],
   "source": [
    "import my_math\n",
    "imp.reload(my_math)  #if any changes made in a module imp.reload(module name) needs to be done before accessing any func attribute from that module\n",
    "my_math.func()"
   ]
  },
  {
   "cell_type": "code",
   "execution_count": null,
   "id": "58a82bb8",
   "metadata": {},
   "outputs": [],
   "source": []
  },
  {
   "cell_type": "markdown",
   "id": "34beeb14",
   "metadata": {},
   "source": [
    "# 13. File Handling"
   ]
  },
  {
   "cell_type": "code",
   "execution_count": null,
   "id": "189ae3f5",
   "metadata": {},
   "outputs": [],
   "source": []
  },
  {
   "cell_type": "markdown",
   "id": "49748e88",
   "metadata": {},
   "source": [
    "#Program to input any content dynamically & write it into text file"
   ]
  },
  {
   "cell_type": "code",
   "execution_count": 13,
   "id": "083b8652",
   "metadata": {},
   "outputs": [
    {
     "name": "stdout",
     "output_type": "stream",
     "text": [
      "Enter lines to insert into text file:Hello Python is very easy\n"
     ]
    }
   ],
   "source": [
    "f = open('my_file.txt', 'w')\n",
    "str = input(\"Enter lines to insert into text file:\")\n",
    "f.write(str)\n",
    "f.close()"
   ]
  },
  {
   "cell_type": "code",
   "execution_count": null,
   "id": "bfd0416e",
   "metadata": {},
   "outputs": [],
   "source": []
  },
  {
   "cell_type": "markdown",
   "id": "b0cd7e94",
   "metadata": {},
   "source": [
    "#Reading content from my_file.txt & printing it on monitor"
   ]
  },
  {
   "cell_type": "code",
   "execution_count": 14,
   "id": "46490adc",
   "metadata": {},
   "outputs": [
    {
     "name": "stdout",
     "output_type": "stream",
     "text": [
      "Hello P\n",
      "ython is very easy\n"
     ]
    }
   ],
   "source": [
    "f = open('my_file.txt')  # by default mode is set to read mode\n",
    "str = f.read(7)\n",
    "str1 = f.read()\n",
    "\n",
    "print(str)\n",
    "print(str1)\n",
    "f.close()"
   ]
  },
  {
   "cell_type": "code",
   "execution_count": null,
   "id": "4f4dfce2",
   "metadata": {},
   "outputs": [],
   "source": []
  },
  {
   "cell_type": "markdown",
   "id": "04492b58",
   "metadata": {},
   "source": [
    "#Pgm to write multiple lines in a text file by accepting inputs from user"
   ]
  },
  {
   "cell_type": "code",
   "execution_count": 4,
   "id": "ed5ef354",
   "metadata": {},
   "outputs": [
    {
     "name": "stdout",
     "output_type": "stream",
     "text": [
      "Enter your content >>> END is to stop execution:\n",
      "this is line 1\n",
      "this is line 2\n",
      "---\n",
      "@\n",
      "END\n"
     ]
    }
   ],
   "source": [
    "f = open('my_file.txt', 'w')\n",
    "print(\"Enter your content >>> END is to stop execution:\")\n",
    "while str != 'END':\n",
    "    str = input()\n",
    "    f.write(str + '\\n')\n",
    "f.close()"
   ]
  },
  {
   "cell_type": "markdown",
   "id": "e29a47e0",
   "metadata": {},
   "source": [
    "#Reading contents from a text file "
   ]
  },
  {
   "cell_type": "code",
   "execution_count": 5,
   "id": "1c3e42e1",
   "metadata": {},
   "outputs": [
    {
     "name": "stdout",
     "output_type": "stream",
     "text": [
      "this is line 1\n",
      "this is line 2\n",
      "---\n",
      "@\n",
      "END\n",
      "\n",
      "[]\n"
     ]
    }
   ],
   "source": [
    "f = open('my_file.txt') # by default mode is read mode\n",
    "str = f.read()\n",
    "str1 = f.readlines()\n",
    "print(str)\n",
    "print(str1)"
   ]
  },
  {
   "cell_type": "code",
   "execution_count": 6,
   "id": "8517fba6",
   "metadata": {},
   "outputs": [
    {
     "name": "stdout",
     "output_type": "stream",
     "text": [
      "['this is line 1\\n', 'this is line 2\\n', '---\\n', '@\\n', 'END\\n']\n"
     ]
    }
   ],
   "source": [
    "f = open('my_file.txt')\n",
    "str1 = f.readlines()    # readlines will print o/p in form of list alongwith escape seq char '\\n'\n",
    "print(str1)"
   ]
  },
  {
   "cell_type": "code",
   "execution_count": 7,
   "id": "d48375e3",
   "metadata": {},
   "outputs": [
    {
     "name": "stdout",
     "output_type": "stream",
     "text": [
      "['this is line 1', 'this is line 2', '---', '@', 'END']\n"
     ]
    }
   ],
   "source": [
    "'''suppressing escape seq char \\n'''\n",
    "\n",
    "f = open('my_file.txt')\n",
    "str1 = f.read().splitlines()    # read().splitlines() will print o/p in form of list removing unwanted escape seq char '\\n'\n",
    "print(str1)\n",
    "f.close()"
   ]
  },
  {
   "cell_type": "code",
   "execution_count": null,
   "id": "70c6ff66",
   "metadata": {},
   "outputs": [],
   "source": []
  },
  {
   "cell_type": "markdown",
   "id": "eef9cc6c",
   "metadata": {},
   "source": [
    "#Accepting file name as i/p from user & if file found in current working directory appending file with our new lines"
   ]
  },
  {
   "cell_type": "code",
   "execution_count": 9,
   "id": "59fb2bfc",
   "metadata": {},
   "outputs": [
    {
     "name": "stdout",
     "output_type": "stream",
     "text": [
      "Enter file name to search:my_file.txt\n",
      "my_file.txt exists\n",
      "this is line 1\n",
      "this is line 2\n",
      "---\n",
      "@\n",
      "END\n",
      "I have appended this file\n"
     ]
    }
   ],
   "source": [
    "import os\n",
    "os.getcwd()\n",
    "\n",
    "input(\"Enter file name to search:\")\n",
    "if os.path.isfile('my_file.txt'):\n",
    "    print('my_file.txt exists')\n",
    "    f = open('my_file.txt','a+')\n",
    "    str = f.write('I have appended this file')\n",
    "    f.close()\n",
    "    f = open('my_file.txt')\n",
    "    str1 = f.read()\n",
    "    print(str1)\n",
    "else:\n",
    "    print('my_file does not exist')\n",
    "f.close()"
   ]
  },
  {
   "cell_type": "code",
   "execution_count": null,
   "id": "ba3e7e46",
   "metadata": {},
   "outputs": [],
   "source": [
    "# Below code was run after closing the opened file my_file.txt & deleting it from current directory so the o/p i shown accordingly"
   ]
  },
  {
   "cell_type": "code",
   "execution_count": 2,
   "id": "fcacc60c",
   "metadata": {},
   "outputs": [
    {
     "name": "stdout",
     "output_type": "stream",
     "text": [
      "Enter file name to search:my_file.txt\n",
      "my_file does not exist\n"
     ]
    }
   ],
   "source": [
    "import os\n",
    "os.getcwd()\n",
    "\n",
    "input(\"Enter file name to search:\")\n",
    "if os.path.isfile('my_file.txt'):\n",
    "    print('my_file.txt exists')\n",
    "    f = open('my_file.txt','a+')\n",
    "#     str = f.write('I have appended this file')\n",
    "    f.close()\n",
    "    f = open('my_file.txt')\n",
    "    str1 = f.read()\n",
    "    print(str1)\n",
    "else:\n",
    "    print('my_file does not exist')\n",
    "f.close()"
   ]
  },
  {
   "cell_type": "code",
   "execution_count": null,
   "id": "187f915b",
   "metadata": {},
   "outputs": [],
   "source": []
  },
  {
   "cell_type": "markdown",
   "id": "06e994bc",
   "metadata": {},
   "source": [
    "#Code to copy an image(binary file) into another binary file "
   ]
  },
  {
   "cell_type": "code",
   "execution_count": 18,
   "id": "3ad121dd",
   "metadata": {},
   "outputs": [],
   "source": [
    "with open('abdulkalam.jfif','rb') as f1:\n",
    "    img = f1.read()\n",
    "with open('new.jpg','wb') as f2:\n",
    "    f2.write(img)"
   ]
  },
  {
   "cell_type": "code",
   "execution_count": 15,
   "id": "0af81b7a",
   "metadata": {},
   "outputs": [
    {
     "name": "stdout",
     "output_type": "stream",
     "text": [
      "22\n",
      "b'andling Practice'\n"
     ]
    }
   ],
   "source": [
    "with open('file.txt','w+b') as f2:\n",
    "    f2.write(b'File Handling Practice')\n",
    "    print(f2.tell())\n",
    "    f2.seek(6,0)       # 0 indicates read from the beginning of the file all contents after pointer set at 6th position\n",
    "    print(f2.read())"
   ]
  },
  {
   "cell_type": "code",
   "execution_count": 22,
   "id": "dba36c7e",
   "metadata": {},
   "outputs": [
    {
     "name": "stdout",
     "output_type": "stream",
     "text": [
      "22\n",
      "b'ling Practice'\n"
     ]
    }
   ],
   "source": [
    "with open('file.txt','w+b') as f2:\n",
    "    f2.write(b'File Handling Practice')\n",
    "    print(f2.tell())\n",
    "    f2.seek(20)     # Current pointer position set to 20th i.e at i of practice\n",
    "# This will read letters from 20th cursor position in the reverse order as - sign is used upto 11th pointer position \n",
    "# & 1 indicates current pointer position  \n",
    "    f2.seek(-11,1)    \n",
    "    print(f2.read())"
   ]
  },
  {
   "cell_type": "code",
   "execution_count": 25,
   "id": "38f7d8fc",
   "metadata": {},
   "outputs": [
    {
     "name": "stdout",
     "output_type": "stream",
     "text": [
      "22\n",
      "b'ng Practice'\n"
     ]
    }
   ],
   "source": [
    "with open('file.txt','w+b') as f2:\n",
    "    f2.write(b'File Handling Practice')\n",
    "    print(f2.tell())\n",
    "    f2.seek(20)     # Current pointer position set to 20th i.e at i of practice\n",
    "# This will read letters from the end in the reverse order as - sign is used upto 11th pointer position \n",
    "# & 2 indicates read from end even though pointer was set to 20th position it will start reading right from the end  \n",
    "    f2.seek(-11,2)    \n",
    "    print(f2.read())"
   ]
  },
  {
   "cell_type": "code",
   "execution_count": null,
   "id": "17e84f15",
   "metadata": {},
   "outputs": [],
   "source": []
  },
  {
   "cell_type": "code",
   "execution_count": 8,
   "id": "cc905a52",
   "metadata": {},
   "outputs": [],
   "source": [
    "with open('file.txt','w+b') as f2:\n",
    "    str = 'This is line 2'\n",
    "    f2.write(b'This is line 1') #  b'ajnd' is used when directly string literal is passed without assigning it to a variable \n",
    "    f2.write(b'\\n')\n",
    "    f2.write(str.encode())      # .encode() method used when any string variable is to be converted into binary format"
   ]
  },
  {
   "cell_type": "code",
   "execution_count": 7,
   "id": "d0f4b3a6",
   "metadata": {},
   "outputs": [],
   "source": [
    "# similarly when str is to be read we need to used str.decode "
   ]
  },
  {
   "cell_type": "code",
   "execution_count": 2,
   "id": "05141bfe",
   "metadata": {},
   "outputs": [
    {
     "name": "stdout",
     "output_type": "stream",
     "text": [
      "This is line 1\n",
      "\n"
     ]
    }
   ],
   "source": [
    "with open('file.txt','r+b') as f2:\n",
    "    str = f2.readline()   # readline is used to print each line by line o/p\n",
    "#     str1 = f2.read()\n",
    "    print(str.decode())\n",
    "#     print(str1.decode())"
   ]
  },
  {
   "cell_type": "code",
   "execution_count": 28,
   "id": "46f09a8d",
   "metadata": {},
   "outputs": [
    {
     "name": "stdout",
     "output_type": "stream",
     "text": [
      "How many entries:3\n",
      "Enter city name:mumbai\n",
      "Enter city name:pune\n",
      "Enter city name:chennai\n"
     ]
    }
   ],
   "source": [
    "reclen = 20\n",
    "with open(\"cities.bin\", 'w+b') as f:\n",
    "    n = int(input(\"How many entries:\"))\n",
    "    for i in range(n):\n",
    "        city = input(\"Enter city name:\")\n",
    "        city = city + (reclen-len(city)) * ''\n",
    "        f.write(city.encode())\n",
    "        f.write(b'\\n') "
   ]
  },
  {
   "cell_type": "code",
   "execution_count": null,
   "id": "7a6dba7d",
   "metadata": {},
   "outputs": [],
   "source": [
    "with open(\"cities.bin\", 'rb') as f:\n",
    "    reclen = 20\n",
    "    n = int(input(\"How many entries:\"))    \n",
    "    f.seek(reclen * (n-1))\n",
    "    str = f.read(reclen)\n",
    "    print(\"Your selected city:\",str.decode())"
   ]
  },
  {
   "cell_type": "markdown",
   "id": "02cbfa93",
   "metadata": {},
   "source": []
  },
  {
   "cell_type": "code",
   "execution_count": 28,
   "id": "8f0fdf26",
   "metadata": {},
   "outputs": [
    {
     "name": "stdout",
     "output_type": "stream",
     "text": [
      "How many entries:3\n",
      "Enter lines to insert into text file:mum\n",
      "Enter lines to insert into text file:pune\n",
      "Enter lines to insert into text file:hyd\n",
      "Enter rec num:2\n",
      "20\n",
      "\n"
     ]
    }
   ],
   "source": [
    "f = open('my_file.bin', 'w+b')\n",
    "n = int(input(\"How many entries:\"))\n",
    "for i in range(n):\n",
    "    str = input(\"Enter lines to insert into text file:\")\n",
    "    ln = len(str)\n",
    "    str = str + (20-ln) * ''\n",
    "    f.write(str.encode())\n",
    "    f.write(b'\\n')\n",
    "f.close()\n",
    "\n",
    "with open('my_file.bin','r+b') as f1:\n",
    "    n = int(input(\"Enter rec num:\"))\n",
    "    f1.seek(0)\n",
    "    var = f1.seek(20 * (n-1))\n",
    "    print(f1.tell())\n",
    "    str1 = f1.read(20 * (n-1))\n",
    "    print(str1.decode())\n",
    "# f.close()"
   ]
  },
  {
   "cell_type": "code",
   "execution_count": 5,
   "id": "8dac4ee3",
   "metadata": {},
   "outputs": [
    {
     "name": "stdout",
     "output_type": "stream",
     "text": [
      "Enter rec num:1\n",
      "\n"
     ]
    }
   ],
   "source": [
    "f = open('my_file.bin', 'rb')\n",
    "n = int(input(\"Enter rec num:\"))\n",
    "var = f.seek(20 * (n-1))\n",
    "str1 = f.read(var)\n",
    "print(str1.decode())\n",
    "f.close()"
   ]
  },
  {
   "cell_type": "code",
   "execution_count": null,
   "id": "a586f453",
   "metadata": {},
   "outputs": [],
   "source": []
  },
  {
   "cell_type": "code",
   "execution_count": null,
   "id": "bcfa82f6",
   "metadata": {},
   "outputs": [],
   "source": [
    "# Python progrsm to create phone book with names & phone nos."
   ]
  },
  {
   "cell_type": "code",
   "execution_count": 1,
   "id": "7b54515a",
   "metadata": {},
   "outputs": [
    {
     "name": "stdout",
     "output_type": "stream",
     "text": [
      "How many entries:3\n",
      "Enter name:Shashank\n",
      "Enter number:9860855475\n",
      "Enter name:Pappa\n",
      "Enter number:9029517025\n",
      "Enter name:Mummy\n",
      "Enter number:7350517195\n"
     ]
    }
   ],
   "source": [
    "with open('Phonebook.dat', 'wb') as f:\n",
    "    n = int(input(\"How many entries:\"))\n",
    "    for i in range(n):\n",
    "        name = input(\"Enter name:\")\n",
    "        phone = input(\"Enter number:\")\n",
    "        name = name.encode()\n",
    "        phone = phone.encode()\n",
    "        f.write(name+b' '+phone)"
   ]
  },
  {
   "cell_type": "code",
   "execution_count": 8,
   "id": "273824e2",
   "metadata": {},
   "outputs": [
    {
     "name": "stdout",
     "output_type": "stream",
     "text": [
      "1 to display all the entries\n",
      "2 to display phone number\n",
      "3 to modify an entry\n",
      "4 exit\n",
      "Enter your choice:1\n",
      "Shashank 9158122006Pappa 9029517025Mummy 7350517195\n"
     ]
    }
   ],
   "source": [
    "import mmap, sys\n",
    "print(\"1 to display all the entries\")\n",
    "print(\"2 to display phone number\")\n",
    "print(\"3 to modify an entry\")\n",
    "print(\"4 exit\")\n",
    "ch = input(\"Enter your choice:\")\n",
    "if ch == '4':\n",
    "    try:\n",
    "        sys.exit()\n",
    "    except:\n",
    "        print(\"System Exit\")\n",
    "with open('Phonebook.dat', 'r+b') as f:\n",
    "    mm = mmap.mmap(f.fileno(),0)\n",
    "    if ch =='1':\n",
    "        print(mm.read().decode())\n",
    "    if ch == '2':\n",
    "        name = input(\"Enter name:\")\n",
    "        n = mm.find(name.encode())\n",
    "        n1 = n +len(name)   # To start after correspondong name as we need only phone num & not name\n",
    "        ph = mm[n1:n1+11]   # To start from phone num & end with 10 digits of phone num\n",
    "        print(\"Phone no.\",ph.decode())\n",
    "    if ch == '3':\n",
    "        name = input(\"Enter name:\")\n",
    "        n = mm.find(name.encode())\n",
    "        n1 = n +len(name) \n",
    "        ph1 = input(\"Enter new num:\")\n",
    "        mm[n1:n1+11]  = ph1.encode()"
   ]
  },
  {
   "cell_type": "code",
   "execution_count": null,
   "id": "cd40a692",
   "metadata": {},
   "outputs": [],
   "source": []
  },
  {
   "cell_type": "markdown",
   "id": "5983138a",
   "metadata": {},
   "source": [
    "# 14.Exception Handling"
   ]
  },
  {
   "cell_type": "code",
   "execution_count": 5,
   "id": "f75cdee8",
   "metadata": {},
   "outputs": [
    {
     "name": "stdout",
     "output_type": "stream",
     "text": [
      "Enter 2 numbers:444 22\n",
      "Value of Division is: 20.2\n",
      "Current cursor position: 4\n",
      "File closed\n"
     ]
    }
   ],
   "source": [
    "try:\n",
    "    f = open('division.bin', \"w+b\")\n",
    "    a,b = (int(x) for x in input(\"Enter 2 numbers:\").split())\n",
    "    c = round(a/b, 1)\n",
    "    c = str(c)\n",
    "    c = c.encode()\n",
    "    f.write(c)\n",
    "    f.seek(0)\n",
    "    str1 = f.read()\n",
    "    print(\"Value of Division is:\",str1.decode())\n",
    "    print(\"Current cursor position:\",f.tell())\n",
    "    \n",
    "except ZeroDivisionError:\n",
    "    print(\"Division by zero not possible\")\n",
    "    \n",
    "finally:\n",
    "    f.close()\n",
    "    print(\"File closed\")"
   ]
  },
  {
   "cell_type": "code",
   "execution_count": null,
   "id": "4c802116",
   "metadata": {},
   "outputs": [],
   "source": []
  },
  {
   "cell_type": "code",
   "execution_count": 9,
   "id": "498beeca",
   "metadata": {},
   "outputs": [],
   "source": [
    "assert 10 > 1"
   ]
  },
  {
   "cell_type": "code",
   "execution_count": 10,
   "id": "b3f0fd4d",
   "metadata": {},
   "outputs": [
    {
     "ename": "AssertionError",
     "evalue": "",
     "output_type": "error",
     "traceback": [
      "\u001b[1;31m---------------------------------------------------------------------------\u001b[0m",
      "\u001b[1;31mAssertionError\u001b[0m                            Traceback (most recent call last)",
      "\u001b[1;32m~\\AppData\\Local\\Temp/ipykernel_8556/931841333.py\u001b[0m in \u001b[0;36m<module>\u001b[1;34m\u001b[0m\n\u001b[1;32m----> 1\u001b[1;33m \u001b[1;32massert\u001b[0m \u001b[1;36m10\u001b[0m \u001b[1;33m<\u001b[0m \u001b[1;36m1\u001b[0m\u001b[1;33m\u001b[0m\u001b[1;33m\u001b[0m\u001b[0m\n\u001b[0m",
      "\u001b[1;31mAssertionError\u001b[0m: "
     ]
    }
   ],
   "source": [
    "assert 10 < 1   # AssertionError raised when assert statement raises an error"
   ]
  },
  {
   "cell_type": "code",
   "execution_count": null,
   "id": "307f7f81",
   "metadata": {},
   "outputs": [],
   "source": [
    "# SyntaxError"
   ]
  },
  {
   "cell_type": "code",
   "execution_count": 2,
   "id": "4c1cd768",
   "metadata": {},
   "outputs": [
    {
     "name": "stdout",
     "output_type": "stream",
     "text": [
      "Accepted Date Format is: YYYY,M,D format\n",
      "Enter Date:2016,01,02\n",
      "Invalid Date Entered\n"
     ]
    }
   ],
   "source": [
    "try:\n",
    "    print(\"Accepted Date Format is: YYYY,M,D format\")\n",
    "    date = eval(input(\"Enter Date:\"))  #eval() func takes list,tuple or dict as input & evaluates it & displays the o/p \n",
    "except SyntaxError:\n",
    "    print(\"Invalid Date Entered\")\n",
    "else:\n",
    "    print(\"Date Entered is:\",date)"
   ]
  },
  {
   "cell_type": "code",
   "execution_count": null,
   "id": "4de8e128",
   "metadata": {},
   "outputs": [],
   "source": []
  },
  {
   "cell_type": "code",
   "execution_count": null,
   "id": "134e3a38",
   "metadata": {},
   "outputs": [],
   "source": [
    "#AssertionError"
   ]
  },
  {
   "cell_type": "code",
   "execution_count": 23,
   "id": "ec1adf69",
   "metadata": {},
   "outputs": [
    {
     "name": "stdout",
     "output_type": "stream",
     "text": [
      "Enter num between 5 & 10:6\n",
      "The num entered is 6\n"
     ]
    }
   ],
   "source": [
    "try:\n",
    "    x = int(input(\"Enter num between 5 & 10:\"))\n",
    "    assert x>=5 and x<=10 \n",
    "    print(\"The num entered is\",x)\n",
    "except AssertionError:\n",
    "    print(\"Value of x not in range of 5 ~ 10\")"
   ]
  },
  {
   "cell_type": "code",
   "execution_count": null,
   "id": "a13329f9",
   "metadata": {},
   "outputs": [],
   "source": [
    "# AssertionError if occurred due to faulty assert statement customise assert statement msg appears "
   ]
  },
  {
   "cell_type": "code",
   "execution_count": 20,
   "id": "188fcf4e",
   "metadata": {},
   "outputs": [
    {
     "name": "stdout",
     "output_type": "stream",
     "text": [
      "Enter num between 5 & 10:11\n",
      "Value of x not in range of 5 ~ 10\n"
     ]
    }
   ],
   "source": [
    "try:\n",
    "    x = int(input(\"Enter num between 5 & 10:\"))\n",
    "    assert x <= 5 and x >= 10, \"Value of x not in range of 5 ~ 10\"\n",
    "    print(\"The num entered is\",x)\n",
    "except AssertionError as e:\n",
    "    print(e)"
   ]
  },
  {
   "cell_type": "code",
   "execution_count": 2,
   "id": "dd176442",
   "metadata": {},
   "outputs": [],
   "source": [
    "import logging\n",
    "logging.basicConfig(filename = 'ErrLog.txt', level = logging.ERROR)\n",
    "logging.critical(\"There is a design problem in program\")\n",
    "logging.error(\"There is an Err in program\")\n",
    "logging.warning(\"The program is going slow\")\n",
    "logging.info(\"You are a Junior Programmer\")\n",
    "logging.debug(\"Line 10 contains syntax error\")"
   ]
  },
  {
   "cell_type": "code",
   "execution_count": null,
   "id": "e150464b",
   "metadata": {},
   "outputs": [],
   "source": []
  },
  {
   "cell_type": "code",
   "execution_count": 7,
   "id": "000b2077",
   "metadata": {},
   "outputs": [
    {
     "name": "stdout",
     "output_type": "stream",
     "text": [
      "Enter first num:5\n",
      "Enter second num:0\n"
     ]
    }
   ],
   "source": [
    "import logging\n",
    "logging.basicConfig(filename='logs.txt', level = logging.INFO)\n",
    "\n",
    "'''To write our code'''\n",
    "try:\n",
    "    a = int(input(\"Enter first num:\"))\n",
    "    b = int(input(\"Enter second num:\"))\n",
    "    c = a/b\n",
    "    \n",
    "# To handle if any exceptions occurred\n",
    "except Exception as e:\n",
    "    logging.exception(e)\n",
    "\n",
    "except ZeroDivisionError as e:\n",
    "    logging.exception(e)\n",
    "    logging.warning(\"Division by Zero occurred\")\n",
    "      \n",
    "# To print the o/p\n",
    "else:\n",
    "    print(\"The result of division:\", c)"
   ]
  },
  {
   "cell_type": "code",
   "execution_count": null,
   "id": "89911352",
   "metadata": {},
   "outputs": [],
   "source": []
  },
  {
   "cell_type": "markdown",
   "id": "79f5d2e5",
   "metadata": {},
   "source": [
    "# 15.Regular Expressions"
   ]
  },
  {
   "cell_type": "markdown",
   "id": "b7e656dd",
   "metadata": {},
   "source": [
    "#search, match, findall, split, sub"
   ]
  },
  {
   "cell_type": "code",
   "execution_count": 9,
   "id": "f068c71f",
   "metadata": {},
   "outputs": [
    {
     "name": "stdout",
     "output_type": "stream",
     "text": [
      "This is raw\n",
      "string\n"
     ]
    }
   ],
   "source": [
    "str = 'This is raw\\nstring'\n",
    "print(str)"
   ]
  },
  {
   "cell_type": "code",
   "execution_count": 10,
   "id": "183600d0",
   "metadata": {},
   "outputs": [
    {
     "name": "stdout",
     "output_type": "stream",
     "text": [
      "This is raw\\nstring\n"
     ]
    }
   ],
   "source": [
    "str = r'This is raw\\nstring'   #becoz of raw str \\n becomes \\\\n so raw & string gets continued in same line\n",
    "# above line withour r' ' can also be written as 'This is raw\\\\nstring'\n",
    "print(str)"
   ]
  },
  {
   "cell_type": "code",
   "execution_count": 21,
   "id": "0104a7b5",
   "metadata": {},
   "outputs": [
    {
     "name": "stdout",
     "output_type": "stream",
     "text": [
      "mat\n"
     ]
    }
   ],
   "source": [
    "import re\n",
    "prog = re.compile(r'm\\w+')\n",
    "str = 'm cat mat rat bat'\n",
    "result = prog.search(str)\n",
    "print(result.group())"
   ]
  },
  {
   "cell_type": "code",
   "execution_count": 26,
   "id": "e1263dcb",
   "metadata": {},
   "outputs": [
    {
     "name": "stdout",
     "output_type": "stream",
     "text": [
      "man\n"
     ]
    }
   ],
   "source": [
    "import re \n",
    "str = 'man sun mop run'\n",
    "result = re.search(r'm\\w+', str)   #use of search alongwith group method\n",
    "print(result.group())"
   ]
  },
  {
   "cell_type": "code",
   "execution_count": 29,
   "id": "3748db9e",
   "metadata": {},
   "outputs": [
    {
     "name": "stdout",
     "output_type": "stream",
     "text": [
      "man\n"
     ]
    }
   ],
   "source": [
    "import re \n",
    "str = 'man sun mop run'\n",
    "result = re.match(r'm\\w+', str)  #use of match alongwith group method\n",
    "print(result.group())"
   ]
  },
  {
   "cell_type": "code",
   "execution_count": 25,
   "id": "a6d5b4b0",
   "metadata": {},
   "outputs": [
    {
     "name": "stdout",
     "output_type": "stream",
     "text": [
      "['man', 'mop']\n"
     ]
    }
   ],
   "source": [
    "import re \n",
    "str = 'man sun mop run'\n",
    "result = re.findall(r'm\\w+', str)  #use of findall method\n",
    "print(result)"
   ]
  },
  {
   "cell_type": "code",
   "execution_count": 38,
   "id": "ff1c35bd",
   "metadata": {},
   "outputs": [
    {
     "name": "stdout",
     "output_type": "stream",
     "text": [
      "['man', 'sun', 'mop', 'run']\n"
     ]
    }
   ],
   "source": [
    "import re \n",
    "str = 'man; sun.mop:run'\n",
    "result = re.split(r'\\W+', str)  #use of split method. W splits at non alphanumeric letters vice versa of small w \n",
    "print(result)"
   ]
  },
  {
   "cell_type": "code",
   "execution_count": 43,
   "id": "6a8a57f2",
   "metadata": {},
   "outputs": [
    {
     "name": "stdout",
     "output_type": "stream",
     "text": [
      "You are a intermediate programmer\n"
     ]
    }
   ],
   "source": [
    "# Use case syntax >>> sub(regular expression, new string, string) \n",
    "import re \n",
    "str = 'You are a new programmer'\n",
    "result = re.sub(r'new','intermediate', str)  #use of sub method to replace any word or list of words\n",
    "print(result)"
   ]
  },
  {
   "cell_type": "code",
   "execution_count": null,
   "id": "edde9059",
   "metadata": {},
   "outputs": [],
   "source": []
  },
  {
   "cell_type": "code",
   "execution_count": 49,
   "id": "28eac948",
   "metadata": {},
   "outputs": [
    {
     "name": "stdout",
     "output_type": "stream",
     "text": [
      "['An', 'apple', 'a', 'ay', 'away']\n"
     ]
    }
   ],
   "source": [
    "import re \n",
    "str = 'An apple a day keeps doctor away '\n",
    "result = re.findall(r'[A,a]\\w*', str)  #use of findall method\n",
    "print(result)"
   ]
  },
  {
   "cell_type": "code",
   "execution_count": null,
   "id": "5deadcc0",
   "metadata": {},
   "outputs": [],
   "source": [
    "#retrieve words starting with a"
   ]
  },
  {
   "cell_type": "code",
   "execution_count": 61,
   "id": "3be8ab14",
   "metadata": {},
   "outputs": [
    {
     "name": "stdout",
     "output_type": "stream",
     "text": [
      "apple\n",
      "a\n",
      "away\n"
     ]
    }
   ],
   "source": [
    "import re \n",
    "str = 'An apple a day keeps doctor away '\n",
    "result = re.findall(r'\\ba\\w*', str)  #use of findall method\n",
    "for i in result:   # Using for loop to iterate over a list of words starting with 'a' which is stored in result\n",
    "    print(i)"
   ]
  },
  {
   "cell_type": "code",
   "execution_count": null,
   "id": "cc79ff08",
   "metadata": {},
   "outputs": [],
   "source": [
    "#retrieve all words starting with numeric digit"
   ]
  },
  {
   "cell_type": "code",
   "execution_count": 4,
   "id": "654b9d5e",
   "metadata": {},
   "outputs": [
    {
     "name": "stdout",
     "output_type": "stream",
     "text": [
      "['1', '2']\n",
      "['1st', '2nd']\n"
     ]
    }
   ],
   "source": [
    "import re\n",
    "str = 'The meeting will be conducted on 1st & 2nd of every month'\n",
    "result1 = re.findall(r'\\d+', str)\n",
    "result2 = re.findall(r'\\d\\w+', str)\n",
    "print(result1)\n",
    "print(result2)"
   ]
  },
  {
   "cell_type": "code",
   "execution_count": null,
   "id": "9f8d7dc9",
   "metadata": {},
   "outputs": [],
   "source": []
  },
  {
   "cell_type": "code",
   "execution_count": null,
   "id": "2e2029d8",
   "metadata": {},
   "outputs": [],
   "source": [
    "#to retrieve all words having 5 char length"
   ]
  },
  {
   "cell_type": "code",
   "execution_count": 12,
   "id": "d478c935",
   "metadata": {},
   "outputs": [
    {
     "data": {
      "text/plain": [
       "['three', 'seven', 'eight']"
      ]
     },
     "execution_count": 12,
     "metadata": {},
     "output_type": "execute_result"
    }
   ],
   "source": [
    "import re\n",
    "str = 'one two three four five six seven eight nine ten'\n",
    "res = re.findall(r'\\b\\w{5}\\b',str)\n",
    "res"
   ]
  },
  {
   "cell_type": "code",
   "execution_count": null,
   "id": "3efa8461",
   "metadata": {},
   "outputs": [],
   "source": [
    "#to retrieve all words having atleast 4 char length"
   ]
  },
  {
   "cell_type": "code",
   "execution_count": 14,
   "id": "32c0c27f",
   "metadata": {},
   "outputs": [
    {
     "data": {
      "text/plain": [
       "['three', 'four', 'five', 'seven', 'eight', 'nine']"
      ]
     },
     "execution_count": 14,
     "metadata": {},
     "output_type": "execute_result"
    }
   ],
   "source": [
    "import re\n",
    "str = 'one two three four five six seven eight nine ten'\n",
    "res = re.findall(r'\\b\\w{4,}\\b',str)\n",
    "res"
   ]
  },
  {
   "cell_type": "code",
   "execution_count": null,
   "id": "20d1b704",
   "metadata": {},
   "outputs": [],
   "source": [
    "#to retrieve all words having atleast 4 & max 5 char length"
   ]
  },
  {
   "cell_type": "code",
   "execution_count": 18,
   "id": "eb1e1f8c",
   "metadata": {},
   "outputs": [
    {
     "data": {
      "text/plain": [
       "['three', 'four', 'five', 'seven', 'eight', 'nine']"
      ]
     },
     "execution_count": 18,
     "metadata": {},
     "output_type": "execute_result"
    }
   ],
   "source": [
    "import re\n",
    "str = 'one two three four five six seven eight nine ten'\n",
    "res = re.findall(r'\\b\\w{4,5}\\b',str)\n",
    "res"
   ]
  },
  {
   "cell_type": "code",
   "execution_count": null,
   "id": "dc1a953f",
   "metadata": {},
   "outputs": [],
   "source": [
    "#to retrieve single digit nos."
   ]
  },
  {
   "cell_type": "code",
   "execution_count": 19,
   "id": "dc101dec",
   "metadata": {},
   "outputs": [
    {
     "data": {
      "text/plain": [
       "['5', '6', '7', '8', '9', '1', '0']"
      ]
     },
     "execution_count": 19,
     "metadata": {},
     "output_type": "execute_result"
    }
   ],
   "source": [
    "import re\n",
    "str = 'one two three four 5 6 7 8 9 10 1 0'\n",
    "res = re.findall(r'\\b\\d\\b',str)\n",
    "res"
   ]
  },
  {
   "cell_type": "code",
   "execution_count": null,
   "id": "56f6c288",
   "metadata": {},
   "outputs": [],
   "source": [
    "#to retrieve double digit nos."
   ]
  },
  {
   "cell_type": "code",
   "execution_count": 21,
   "id": "36f790ec",
   "metadata": {},
   "outputs": [
    {
     "data": {
      "text/plain": [
       "['10']"
      ]
     },
     "execution_count": 21,
     "metadata": {},
     "output_type": "execute_result"
    }
   ],
   "source": [
    "import re\n",
    "str = 'one two three four 5 6 7 8 9 10 1 0'\n",
    "res = re.findall(r'\\b\\d\\d\\b',str)\n",
    "res"
   ]
  },
  {
   "cell_type": "code",
   "execution_count": null,
   "id": "d645f630",
   "metadata": {},
   "outputs": [],
   "source": [
    "#to retrieve 'one' present at start of str"
   ]
  },
  {
   "cell_type": "code",
   "execution_count": 30,
   "id": "09ce60c6",
   "metadata": {},
   "outputs": [
    {
     "data": {
      "text/plain": [
       "['one']"
      ]
     },
     "execution_count": 30,
     "metadata": {},
     "output_type": "execute_result"
    }
   ],
   "source": [
    "import re\n",
    "str = 'one two three four 5 6 7 8 9 10 1 0 ONE'\n",
    "res = re.findall(r'\\Ao\\w+',str)\n",
    "res"
   ]
  },
  {
   "cell_type": "code",
   "execution_count": null,
   "id": "4df5da98",
   "metadata": {},
   "outputs": [],
   "source": [
    "#to retrieve 'ONE' present at end of str"
   ]
  },
  {
   "cell_type": "code",
   "execution_count": 34,
   "id": "62e50904",
   "metadata": {},
   "outputs": [
    {
     "data": {
      "text/plain": [
       "['ONE']"
      ]
     },
     "execution_count": 34,
     "metadata": {},
     "output_type": "execute_result"
    }
   ],
   "source": [
    "import re\n",
    "str = 'one two three four 5 6 7 8 9 10 1 0 ONE'\n",
    "res = re.findall(r'O\\w+\\Z',str)\n",
    "res"
   ]
  },
  {
   "cell_type": "code",
   "execution_count": null,
   "id": "aa5eaf92",
   "metadata": {},
   "outputs": [],
   "source": []
  },
  {
   "cell_type": "code",
   "execution_count": null,
   "id": "49552f5d",
   "metadata": {},
   "outputs": [],
   "source": [
    "#to retrieve phone number"
   ]
  },
  {
   "cell_type": "code",
   "execution_count": 42,
   "id": "1512cd3a",
   "metadata": {},
   "outputs": [
    {
     "data": {
      "text/plain": [
       "['9860855475']"
      ]
     },
     "execution_count": 42,
     "metadata": {},
     "output_type": "execute_result"
    }
   ],
   "source": [
    "import re\n",
    "str = 'Shashank:9860855475'\n",
    "res = re.findall(r'\\d+',str)\n",
    "res"
   ]
  },
  {
   "cell_type": "code",
   "execution_count": null,
   "id": "53efad01",
   "metadata": {},
   "outputs": [],
   "source": []
  },
  {
   "cell_type": "code",
   "execution_count": null,
   "id": "de8aa40e",
   "metadata": {},
   "outputs": [],
   "source": [
    "#to find all words starting withg an or ak"
   ]
  },
  {
   "cell_type": "code",
   "execution_count": 58,
   "id": "df86b000",
   "metadata": {},
   "outputs": [
    {
     "data": {
      "text/plain": [
       "['anil', 'akshat', 'akhil', 'anant', 'akshay']"
      ]
     },
     "execution_count": 58,
     "metadata": {},
     "output_type": "execute_result"
    }
   ],
   "source": [
    "import re\n",
    "str = 'anil akshat akhil anant akshay ashok ajay'\n",
    "res = re.findall(r'a[n,k]\\w+',str)\n",
    "res"
   ]
  },
  {
   "cell_type": "code",
   "execution_count": null,
   "id": "0d312a29",
   "metadata": {},
   "outputs": [],
   "source": []
  },
  {
   "cell_type": "code",
   "execution_count": null,
   "id": "fb8c6cb8",
   "metadata": {},
   "outputs": [],
   "source": [
    "#to retrieve D.O.B from a str"
   ]
  },
  {
   "cell_type": "code",
   "execution_count": 26,
   "id": "b3a847b4",
   "metadata": {},
   "outputs": [
    {
     "data": {
      "text/plain": [
       "['20-01-2018', '01-12-2000', '2-3-1993']"
      ]
     },
     "execution_count": 26,
     "metadata": {},
     "output_type": "execute_result"
    }
   ],
   "source": [
    "import re\n",
    "str = 'anil 1 20-01-2018, akhil 2 01-12-2000, anant 3 2-3-1993 Jack 4'\n",
    "res = re.findall(r'\\b\\d*-\\d*-\\d{4}\\b',str)\n",
    "res"
   ]
  },
  {
   "cell_type": "code",
   "execution_count": null,
   "id": "494743b3",
   "metadata": {},
   "outputs": [],
   "source": [
    "#to search word at the end of the str"
   ]
  },
  {
   "cell_type": "code",
   "execution_count": 37,
   "id": "d77208c3",
   "metadata": {},
   "outputs": [
    {
     "data": {
      "text/plain": [
       "[]"
      ]
     },
     "execution_count": 37,
     "metadata": {},
     "output_type": "execute_result"
    }
   ],
   "source": [
    "import re\n",
    "str = 'Hello world'\n",
    "res = re.findall(r'[W]orld\\Z',str)\n",
    "res"
   ]
  },
  {
   "cell_type": "code",
   "execution_count": 38,
   "id": "f4eb6477",
   "metadata": {},
   "outputs": [
    {
     "data": {
      "text/plain": [
       "['world']"
      ]
     },
     "execution_count": 38,
     "metadata": {},
     "output_type": "execute_result"
    }
   ],
   "source": [
    "import re\n",
    "str = 'Hello world'\n",
    "res = re.findall(r'[Ww]orld\\Z',str)\n",
    "res"
   ]
  },
  {
   "cell_type": "code",
   "execution_count": 41,
   "id": "5653b1f5",
   "metadata": {},
   "outputs": [
    {
     "data": {
      "text/plain": [
       "['world']"
      ]
     },
     "execution_count": 41,
     "metadata": {},
     "output_type": "execute_result"
    }
   ],
   "source": [
    "import re\n",
    "str = 'Hello world'\n",
    "res = re.findall(r'[W]orld\\Z', str, re.I)  #re.I indicates Ignorecase\n",
    "res"
   ]
  },
  {
   "cell_type": "code",
   "execution_count": 51,
   "id": "10851cbb",
   "metadata": {},
   "outputs": [],
   "source": [
    "#To retrieve DOB & names in a separate list"
   ]
  },
  {
   "cell_type": "code",
   "execution_count": 1,
   "id": "d1442dab",
   "metadata": {},
   "outputs": [
    {
     "name": "stdout",
     "output_type": "stream",
     "text": [
      "['20-01-2018', '01-12-2000', '2-3-1993']\n",
      "['anil 1', 'akhil 2', 'anant 3']\n"
     ]
    }
   ],
   "source": [
    "import re\n",
    "str = 'anil 1 20-01-2018, akhil 2 01-12-2000, anant 3 2-3-1993'\n",
    "res = re.findall(r'\\d*-\\d*-\\d{4}',str)\n",
    "print(res)\n",
    "res1 = re.findall(r'\\w+\\s\\d{1}',str)   #\\s represents white space\n",
    "print(res1)"
   ]
  },
  {
   "cell_type": "markdown",
   "id": "2586b47f",
   "metadata": {},
   "source": [
    "# 16.Numpy"
   ]
  },
  {
   "cell_type": "code",
   "execution_count": 1,
   "id": "fc492639",
   "metadata": {},
   "outputs": [],
   "source": [
    "import numpy as np"
   ]
  },
  {
   "cell_type": "code",
   "execution_count": null,
   "id": "bee004ab",
   "metadata": {},
   "outputs": [],
   "source": [
    "#To show the execution time with numpy & python list comprehension technique"
   ]
  },
  {
   "cell_type": "code",
   "execution_count": 35,
   "id": "03dbba36",
   "metadata": {},
   "outputs": [],
   "source": [
    "arr = np.arange(10000)\n",
    "lst = [arr]"
   ]
  },
  {
   "cell_type": "code",
   "execution_count": 50,
   "id": "92d16be7",
   "metadata": {},
   "outputs": [
    {
     "name": "stdout",
     "output_type": "stream",
     "text": [
      "Wall time: 1.98 ms\n"
     ]
    }
   ],
   "source": [
    "%time for i in range(10): arr*2"
   ]
  },
  {
   "cell_type": "code",
   "execution_count": 51,
   "id": "00cdf35a",
   "metadata": {},
   "outputs": [
    {
     "name": "stdout",
     "output_type": "stream",
     "text": [
      "Wall time: 2 ms\n"
     ]
    }
   ],
   "source": [
    "%time for i in range(10): [x*2 for x in lst]"
   ]
  },
  {
   "cell_type": "code",
   "execution_count": 9,
   "id": "31a62a60",
   "metadata": {},
   "outputs": [
    {
     "data": {
      "text/plain": [
       "array([[ 0.7231711 ,  0.89887556,  0.14359014],\n",
       "       [-1.28732661,  0.1064898 , -2.26924885]])"
      ]
     },
     "execution_count": 9,
     "metadata": {},
     "output_type": "execute_result"
    }
   ],
   "source": [
    "#Generates some random values\n",
    "array = np.random.randn(2,3)\n",
    "array"
   ]
  },
  {
   "cell_type": "code",
   "execution_count": 28,
   "id": "8a7730bf",
   "metadata": {},
   "outputs": [
    {
     "data": {
      "text/plain": [
       "array([[[0., 0.],\n",
       "        [0., 0.],\n",
       "        [0., 0.]],\n",
       "\n",
       "       [[0., 0.],\n",
       "        [0., 0.],\n",
       "        [0., 0.]]])"
      ]
     },
     "execution_count": 28,
     "metadata": {},
     "output_type": "execute_result"
    }
   ],
   "source": [
    "#Its not safe to assume that .empty() attribute will always return arr of zeros.It may return sometimes garbage values\n",
    "\n",
    "np.empty((2,3,2)) #2 matrices x 3 rows x 2 col"
   ]
  },
  {
   "cell_type": "code",
   "execution_count": 32,
   "id": "f53bed8e",
   "metadata": {},
   "outputs": [
    {
     "name": "stderr",
     "output_type": "stream",
     "text": [
      "C:\\Users\\HP\\AppData\\Local\\Temp/ipykernel_8/2065556550.py:1: DeprecationWarning: `np.int` is a deprecated alias for the builtin `int`. To silence this warning, use `int` by itself. Doing this will not modify any behavior and is safe. When replacing `np.int`, you may wish to use e.g. `np.int64` or `np.int32` to specify the precision. If you wish to review your current use, check the release note link for additional information.\n",
      "Deprecated in NumPy 1.20; for more details and guidance: https://numpy.org/devdocs/release/1.20.0-notes.html#deprecations\n",
      "  np.full((5,5),3.1, np.int)\n"
     ]
    },
    {
     "data": {
      "text/plain": [
       "array([[3, 3, 3, 3, 3],\n",
       "       [3, 3, 3, 3, 3],\n",
       "       [3, 3, 3, 3, 3],\n",
       "       [3, 3, 3, 3, 3],\n",
       "       [3, 3, 3, 3, 3]])"
      ]
     },
     "execution_count": 32,
     "metadata": {},
     "output_type": "execute_result"
    }
   ],
   "source": [
    "np.full((5,5),3.1, np.int)"
   ]
  },
  {
   "cell_type": "code",
   "execution_count": 44,
   "id": "e500fe6e",
   "metadata": {},
   "outputs": [
    {
     "data": {
      "text/plain": [
       "array([[1., 0., 0., 0.],\n",
       "       [0., 1., 0., 0.],\n",
       "       [0., 0., 1., 0.],\n",
       "       [0., 0., 0., 1.]])"
      ]
     },
     "execution_count": 44,
     "metadata": {},
     "output_type": "execute_result"
    }
   ],
   "source": [
    "np.identity(4)"
   ]
  },
  {
   "cell_type": "code",
   "execution_count": 45,
   "id": "143ba1ef",
   "metadata": {},
   "outputs": [
    {
     "name": "stderr",
     "output_type": "stream",
     "text": [
      "C:\\Users\\HP\\AppData\\Local\\Temp/ipykernel_8/4049952196.py:1: DeprecationWarning: `np.bool` is a deprecated alias for the builtin `bool`. To silence this warning, use `bool` by itself. Doing this will not modify any behavior and is safe. If you specifically wanted the numpy scalar type, use `np.bool_` here.\n",
      "Deprecated in NumPy 1.20; for more details and guidance: https://numpy.org/devdocs/release/1.20.0-notes.html#deprecations\n",
      "  np.identity(4, np.bool)\n"
     ]
    },
    {
     "data": {
      "text/plain": [
       "array([[ True, False, False, False],\n",
       "       [False,  True, False, False],\n",
       "       [False, False,  True, False],\n",
       "       [False, False, False,  True]])"
      ]
     },
     "execution_count": 45,
     "metadata": {},
     "output_type": "execute_result"
    }
   ],
   "source": [
    "np.identity(4, np.bool)"
   ]
  },
  {
   "cell_type": "code",
   "execution_count": 48,
   "id": "624f3b81",
   "metadata": {},
   "outputs": [
    {
     "name": "stderr",
     "output_type": "stream",
     "text": [
      "C:\\Users\\HP\\AppData\\Local\\Temp/ipykernel_8/75362207.py:1: DeprecationWarning: `np.int` is a deprecated alias for the builtin `int`. To silence this warning, use `int` by itself. Doing this will not modify any behavior and is safe. When replacing `np.int`, you may wish to use e.g. `np.int64` or `np.int32` to specify the precision. If you wish to review your current use, check the release note link for additional information.\n",
      "Deprecated in NumPy 1.20; for more details and guidance: https://numpy.org/devdocs/release/1.20.0-notes.html#deprecations\n",
      "  np.eye(4, dtype=np.int)\n"
     ]
    },
    {
     "data": {
      "text/plain": [
       "array([[1, 0, 0, 0],\n",
       "       [0, 1, 0, 0],\n",
       "       [0, 0, 1, 0],\n",
       "       [0, 0, 0, 1]])"
      ]
     },
     "execution_count": 48,
     "metadata": {},
     "output_type": "execute_result"
    }
   ],
   "source": [
    "np.eye(4, dtype=np.int)  "
   ]
  },
  {
   "cell_type": "code",
   "execution_count": 52,
   "id": "eabc4f27",
   "metadata": {},
   "outputs": [
    {
     "data": {
      "text/plain": [
       "array([[1., 0.],\n",
       "       [0., 1.],\n",
       "       [0., 0.]])"
      ]
     },
     "execution_count": 52,
     "metadata": {},
     "output_type": "execute_result"
    }
   ],
   "source": [
    "np.eye(3,2)"
   ]
  },
  {
   "cell_type": "code",
   "execution_count": 55,
   "id": "18f3bae4",
   "metadata": {},
   "outputs": [
    {
     "data": {
      "text/plain": [
       "array([[0.],\n",
       "       [0.],\n",
       "       [0.]])"
      ]
     },
     "execution_count": 55,
     "metadata": {},
     "output_type": "execute_result"
    }
   ],
   "source": [
    "np.eye(3,1,3)  # .eye() & .identity() returns same value"
   ]
  },
  {
   "cell_type": "code",
   "execution_count": 62,
   "id": "735a8872",
   "metadata": {},
   "outputs": [
    {
     "data": {
      "text/plain": [
       "array([1., 1., 1.])"
      ]
     },
     "execution_count": 62,
     "metadata": {},
     "output_type": "execute_result"
    }
   ],
   "source": [
    "np.ones(3)"
   ]
  },
  {
   "cell_type": "code",
   "execution_count": 63,
   "id": "85dc2d42",
   "metadata": {},
   "outputs": [
    {
     "data": {
      "text/plain": [
       "array([3., 3., 3.])"
      ]
     },
     "execution_count": 63,
     "metadata": {},
     "output_type": "execute_result"
    }
   ],
   "source": [
    "np.ones(3)*(5-2)"
   ]
  },
  {
   "cell_type": "code",
   "execution_count": 80,
   "id": "7427e112",
   "metadata": {},
   "outputs": [
    {
     "data": {
      "text/plain": [
       "array([[3, 0, 0],\n",
       "       [0, 2, 0],\n",
       "       [0, 0, 1]])"
      ]
     },
     "execution_count": 80,
     "metadata": {},
     "output_type": "execute_result"
    }
   ],
   "source": [
    "#to set manually any values on diagonal axis elements\n",
    "\n",
    "np.diag([3,2,1])"
   ]
  },
  {
   "cell_type": "code",
   "execution_count": 69,
   "id": "ef902cac",
   "metadata": {},
   "outputs": [
    {
     "data": {
      "text/plain": [
       "array([[ 0., -1., -2.],\n",
       "       [ 1.,  0., -1.],\n",
       "       [ 2.,  1.,  0.]])"
      ]
     },
     "execution_count": 69,
     "metadata": {},
     "output_type": "execute_result"
    }
   ],
   "source": [
    "#fromfunction()\n",
    "\n",
    "# i & j will take the rows & col indices values & lambda func applied i-j resulting in 3x3 matrix\n",
    "np.fromfunction(lambda i,j:i-j, (3,3)) "
   ]
  },
  {
   "cell_type": "code",
   "execution_count": 71,
   "id": "78c46da7",
   "metadata": {},
   "outputs": [
    {
     "data": {
      "text/plain": [
       "array([[ True, False, False],\n",
       "       [False,  True, False],\n",
       "       [False, False,  True]])"
      ]
     },
     "execution_count": 71,
     "metadata": {},
     "output_type": "execute_result"
    }
   ],
   "source": [
    "np.fromfunction(lambda i,j:i==j, (3,3)) #to get boolean values"
   ]
  },
  {
   "cell_type": "code",
   "execution_count": 92,
   "id": "f5a4940b",
   "metadata": {},
   "outputs": [
    {
     "data": {
      "text/plain": [
       "array([5, 5, 5, 5, 5, 5, 5, 5])"
      ]
     },
     "execution_count": 92,
     "metadata": {},
     "output_type": "execute_result"
    }
   ],
   "source": [
    "np.full(8,5)   #.full() will return 8 values row with '5' as a value"
   ]
  },
  {
   "cell_type": "code",
   "execution_count": null,
   "id": "e7cc52cf",
   "metadata": {},
   "outputs": [],
   "source": []
  },
  {
   "cell_type": "code",
   "execution_count": 29,
   "id": "e94d91b1",
   "metadata": {},
   "outputs": [
    {
     "name": "stdout",
     "output_type": "stream",
     "text": [
      "[-2.32214197 -2.97435184  2.94633917  2.47117083 -1.10110532  3.19145797\n",
      " -1.33559636  0.04258742 -2.46950127 -0.19056731  1.58198088  3.97763885\n",
      " -1.65481591  2.17288761 -0.15470569 -0.03907148  1.15384107 -1.51833069\n",
      " -1.3682585  -1.77189957  1.15912291  1.1701476   3.18066642  0.44944434\n",
      "  2.80434133  2.59804741  2.65825331  1.98449749 -0.94479968 -1.11207759\n",
      " -0.47808974  3.56477449 -4.56531728 -1.65510192  0.08374971 -1.52494991\n",
      "  0.07773956 -0.55466545 -0.3341295  -1.28513898 -0.26235974 -0.51029733\n",
      "  1.43028969  0.5848373   3.05036656  0.57783235 -2.97314223 -0.74107909\n",
      " -3.94283137 -0.64552786]\n",
      "0.015043044485939837\n",
      "0.015043044485939837\n",
      "-0.030888436975059594\n",
      "Value is Close enough to zero\n"
     ]
    }
   ],
   "source": [
    "import numpy as np\n",
    "from scipy.stats import skew, skewtest\n",
    "x = np.random.normal(0, 2, 50) # create random values based on a normal distribution\n",
    "print(x)\n",
    "print(skew(x))\n",
    "print(skew(x, axis=0))\n",
    "var = (skew([1,2,-1,0,5,8,0,1,-5,6,4,3,9]))\n",
    "print(var)\n",
    "\n",
    "#The function `skewtest` can be used to determine if the skewness value is close enough to zero\n",
    "\n",
    "if skewtest(x):             # This shows if skewness value of x is close enough to zero is true below statement printed                \n",
    "    print(\"Value is Close enough to zero\")"
   ]
  },
  {
   "cell_type": "code",
   "execution_count": null,
   "id": "f1022b56",
   "metadata": {},
   "outputs": [],
   "source": []
  },
  {
   "cell_type": "code",
   "execution_count": null,
   "id": "e5da4583",
   "metadata": {},
   "outputs": [],
   "source": []
  },
  {
   "cell_type": "code",
   "execution_count": null,
   "id": "57cc697d",
   "metadata": {},
   "outputs": [],
   "source": []
  },
  {
   "cell_type": "code",
   "execution_count": null,
   "id": "4da724e5",
   "metadata": {},
   "outputs": [],
   "source": []
  },
  {
   "cell_type": "code",
   "execution_count": null,
   "id": "e6782242",
   "metadata": {},
   "outputs": [],
   "source": []
  },
  {
   "cell_type": "code",
   "execution_count": null,
   "id": "967fe8c3",
   "metadata": {},
   "outputs": [],
   "source": []
  },
  {
   "cell_type": "code",
   "execution_count": null,
   "id": "e18d2d16",
   "metadata": {},
   "outputs": [],
   "source": []
  },
  {
   "cell_type": "code",
   "execution_count": null,
   "id": "9f8dc112",
   "metadata": {},
   "outputs": [],
   "source": []
  },
  {
   "cell_type": "code",
   "execution_count": null,
   "id": "d3d5e79a",
   "metadata": {},
   "outputs": [],
   "source": []
  },
  {
   "cell_type": "code",
   "execution_count": null,
   "id": "bd60258a",
   "metadata": {},
   "outputs": [],
   "source": []
  },
  {
   "cell_type": "code",
   "execution_count": null,
   "id": "7b52d665",
   "metadata": {},
   "outputs": [],
   "source": []
  },
  {
   "cell_type": "code",
   "execution_count": null,
   "id": "e66a958e",
   "metadata": {},
   "outputs": [],
   "source": []
  },
  {
   "cell_type": "code",
   "execution_count": null,
   "id": "30713037",
   "metadata": {},
   "outputs": [],
   "source": []
  },
  {
   "cell_type": "code",
   "execution_count": null,
   "id": "df40e3d6",
   "metadata": {},
   "outputs": [],
   "source": []
  },
  {
   "cell_type": "code",
   "execution_count": null,
   "id": "732fab5e",
   "metadata": {},
   "outputs": [],
   "source": []
  },
  {
   "cell_type": "code",
   "execution_count": null,
   "id": "d8759134",
   "metadata": {},
   "outputs": [],
   "source": []
  },
  {
   "cell_type": "code",
   "execution_count": null,
   "id": "72c21fdb",
   "metadata": {},
   "outputs": [],
   "source": []
  },
  {
   "cell_type": "code",
   "execution_count": null,
   "id": "f8dd966e",
   "metadata": {},
   "outputs": [],
   "source": []
  },
  {
   "cell_type": "code",
   "execution_count": null,
   "id": "728ae70d",
   "metadata": {},
   "outputs": [],
   "source": []
  },
  {
   "cell_type": "code",
   "execution_count": null,
   "id": "e0a4ad68",
   "metadata": {},
   "outputs": [],
   "source": []
  },
  {
   "cell_type": "code",
   "execution_count": null,
   "id": "f45b6643",
   "metadata": {},
   "outputs": [],
   "source": []
  },
  {
   "cell_type": "code",
   "execution_count": null,
   "id": "fb9f3a66",
   "metadata": {},
   "outputs": [],
   "source": []
  },
  {
   "cell_type": "code",
   "execution_count": null,
   "id": "eb95f4fc",
   "metadata": {},
   "outputs": [],
   "source": []
  },
  {
   "cell_type": "code",
   "execution_count": null,
   "id": "9a8ecf5e",
   "metadata": {},
   "outputs": [],
   "source": []
  },
  {
   "cell_type": "code",
   "execution_count": null,
   "id": "a7cd9079",
   "metadata": {},
   "outputs": [],
   "source": []
  },
  {
   "cell_type": "code",
   "execution_count": null,
   "id": "14967089",
   "metadata": {},
   "outputs": [],
   "source": []
  },
  {
   "cell_type": "code",
   "execution_count": null,
   "id": "c8f644d0",
   "metadata": {},
   "outputs": [],
   "source": []
  },
  {
   "cell_type": "code",
   "execution_count": null,
   "id": "04151089",
   "metadata": {},
   "outputs": [],
   "source": []
  },
  {
   "cell_type": "code",
   "execution_count": null,
   "id": "56269c3f",
   "metadata": {},
   "outputs": [],
   "source": []
  },
  {
   "cell_type": "code",
   "execution_count": null,
   "id": "13e02053",
   "metadata": {},
   "outputs": [],
   "source": []
  },
  {
   "cell_type": "code",
   "execution_count": null,
   "id": "9799de41",
   "metadata": {},
   "outputs": [],
   "source": []
  },
  {
   "cell_type": "code",
   "execution_count": null,
   "id": "ef6d796f",
   "metadata": {},
   "outputs": [],
   "source": []
  },
  {
   "cell_type": "code",
   "execution_count": null,
   "id": "dbc22b46",
   "metadata": {},
   "outputs": [],
   "source": []
  },
  {
   "cell_type": "code",
   "execution_count": null,
   "id": "09f5237e",
   "metadata": {},
   "outputs": [],
   "source": []
  },
  {
   "cell_type": "code",
   "execution_count": null,
   "id": "bf5e0404",
   "metadata": {},
   "outputs": [],
   "source": []
  },
  {
   "cell_type": "code",
   "execution_count": null,
   "id": "c5f7d0af",
   "metadata": {},
   "outputs": [],
   "source": []
  },
  {
   "cell_type": "code",
   "execution_count": null,
   "id": "ef55d502",
   "metadata": {},
   "outputs": [],
   "source": []
  },
  {
   "cell_type": "code",
   "execution_count": null,
   "id": "8afdab76",
   "metadata": {},
   "outputs": [],
   "source": []
  },
  {
   "cell_type": "code",
   "execution_count": null,
   "id": "98b92ba7",
   "metadata": {},
   "outputs": [],
   "source": []
  },
  {
   "cell_type": "code",
   "execution_count": null,
   "id": "6f66a37b",
   "metadata": {},
   "outputs": [],
   "source": []
  },
  {
   "cell_type": "code",
   "execution_count": null,
   "id": "1afe361c",
   "metadata": {},
   "outputs": [],
   "source": []
  },
  {
   "cell_type": "code",
   "execution_count": null,
   "id": "ffed670d",
   "metadata": {},
   "outputs": [],
   "source": []
  },
  {
   "cell_type": "code",
   "execution_count": null,
   "id": "3f38fb68",
   "metadata": {},
   "outputs": [],
   "source": []
  },
  {
   "cell_type": "code",
   "execution_count": null,
   "id": "dd42a2fd",
   "metadata": {},
   "outputs": [],
   "source": []
  },
  {
   "cell_type": "code",
   "execution_count": null,
   "id": "f1d430f3",
   "metadata": {},
   "outputs": [],
   "source": []
  },
  {
   "cell_type": "code",
   "execution_count": null,
   "id": "521b77c9",
   "metadata": {},
   "outputs": [],
   "source": []
  },
  {
   "cell_type": "code",
   "execution_count": null,
   "id": "facd26be",
   "metadata": {},
   "outputs": [],
   "source": []
  },
  {
   "cell_type": "code",
   "execution_count": null,
   "id": "61848f70",
   "metadata": {},
   "outputs": [],
   "source": []
  },
  {
   "cell_type": "code",
   "execution_count": null,
   "id": "35d7dca9",
   "metadata": {},
   "outputs": [],
   "source": []
  },
  {
   "cell_type": "code",
   "execution_count": null,
   "id": "b8ef266e",
   "metadata": {},
   "outputs": [],
   "source": []
  },
  {
   "cell_type": "code",
   "execution_count": null,
   "id": "38d38564",
   "metadata": {},
   "outputs": [],
   "source": []
  },
  {
   "cell_type": "code",
   "execution_count": null,
   "id": "151992fa",
   "metadata": {},
   "outputs": [],
   "source": []
  },
  {
   "cell_type": "code",
   "execution_count": null,
   "id": "eb2c7b81",
   "metadata": {},
   "outputs": [],
   "source": []
  },
  {
   "cell_type": "code",
   "execution_count": null,
   "id": "d58029b7",
   "metadata": {},
   "outputs": [],
   "source": []
  },
  {
   "cell_type": "code",
   "execution_count": null,
   "id": "cab6c53d",
   "metadata": {},
   "outputs": [],
   "source": []
  },
  {
   "cell_type": "code",
   "execution_count": null,
   "id": "cacb913f",
   "metadata": {},
   "outputs": [],
   "source": []
  },
  {
   "cell_type": "code",
   "execution_count": null,
   "id": "5c8b9215",
   "metadata": {},
   "outputs": [],
   "source": []
  },
  {
   "cell_type": "code",
   "execution_count": null,
   "id": "1cb0d10c",
   "metadata": {},
   "outputs": [],
   "source": []
  },
  {
   "cell_type": "code",
   "execution_count": null,
   "id": "1783f46e",
   "metadata": {},
   "outputs": [],
   "source": []
  },
  {
   "cell_type": "code",
   "execution_count": null,
   "id": "9c27436d",
   "metadata": {},
   "outputs": [],
   "source": []
  },
  {
   "cell_type": "code",
   "execution_count": null,
   "id": "698cfd37",
   "metadata": {},
   "outputs": [],
   "source": []
  },
  {
   "cell_type": "code",
   "execution_count": null,
   "id": "8086db80",
   "metadata": {},
   "outputs": [],
   "source": []
  },
  {
   "cell_type": "code",
   "execution_count": null,
   "id": "82744431",
   "metadata": {},
   "outputs": [],
   "source": []
  },
  {
   "cell_type": "code",
   "execution_count": null,
   "id": "50ff91ae",
   "metadata": {},
   "outputs": [],
   "source": []
  },
  {
   "cell_type": "code",
   "execution_count": null,
   "id": "21f66e57",
   "metadata": {},
   "outputs": [],
   "source": []
  },
  {
   "cell_type": "code",
   "execution_count": null,
   "id": "90490c29",
   "metadata": {},
   "outputs": [],
   "source": []
  },
  {
   "cell_type": "code",
   "execution_count": null,
   "id": "00b3f97e",
   "metadata": {},
   "outputs": [],
   "source": []
  },
  {
   "cell_type": "code",
   "execution_count": null,
   "id": "0a08c420",
   "metadata": {},
   "outputs": [],
   "source": []
  },
  {
   "cell_type": "code",
   "execution_count": null,
   "id": "9e24763a",
   "metadata": {},
   "outputs": [],
   "source": []
  },
  {
   "cell_type": "code",
   "execution_count": null,
   "id": "1e3ad0e8",
   "metadata": {},
   "outputs": [],
   "source": []
  },
  {
   "cell_type": "code",
   "execution_count": null,
   "id": "7b31b258",
   "metadata": {},
   "outputs": [],
   "source": []
  },
  {
   "cell_type": "code",
   "execution_count": null,
   "id": "b55f686a",
   "metadata": {},
   "outputs": [],
   "source": []
  },
  {
   "cell_type": "code",
   "execution_count": null,
   "id": "50e9fe9a",
   "metadata": {},
   "outputs": [],
   "source": []
  },
  {
   "cell_type": "code",
   "execution_count": null,
   "id": "c314112a",
   "metadata": {},
   "outputs": [],
   "source": []
  },
  {
   "cell_type": "code",
   "execution_count": null,
   "id": "524ef3b3",
   "metadata": {},
   "outputs": [],
   "source": []
  },
  {
   "cell_type": "code",
   "execution_count": null,
   "id": "d7f21ed8",
   "metadata": {},
   "outputs": [],
   "source": []
  },
  {
   "cell_type": "code",
   "execution_count": null,
   "id": "b188c79f",
   "metadata": {},
   "outputs": [],
   "source": []
  },
  {
   "cell_type": "code",
   "execution_count": null,
   "id": "f8c2d62e",
   "metadata": {},
   "outputs": [],
   "source": []
  },
  {
   "cell_type": "code",
   "execution_count": null,
   "id": "1db88194",
   "metadata": {},
   "outputs": [],
   "source": []
  },
  {
   "cell_type": "code",
   "execution_count": null,
   "id": "e23f9c36",
   "metadata": {},
   "outputs": [],
   "source": []
  },
  {
   "cell_type": "code",
   "execution_count": null,
   "id": "9c99ea11",
   "metadata": {},
   "outputs": [],
   "source": []
  },
  {
   "cell_type": "code",
   "execution_count": null,
   "id": "2abd9b1d",
   "metadata": {},
   "outputs": [],
   "source": []
  },
  {
   "cell_type": "code",
   "execution_count": null,
   "id": "56b7e9a8",
   "metadata": {},
   "outputs": [],
   "source": []
  },
  {
   "cell_type": "code",
   "execution_count": null,
   "id": "cdb7042f",
   "metadata": {},
   "outputs": [],
   "source": []
  },
  {
   "cell_type": "code",
   "execution_count": null,
   "id": "9671c8e5",
   "metadata": {},
   "outputs": [],
   "source": []
  },
  {
   "cell_type": "code",
   "execution_count": null,
   "id": "3e9bdd67",
   "metadata": {},
   "outputs": [],
   "source": []
  },
  {
   "cell_type": "code",
   "execution_count": null,
   "id": "0cd9d1bd",
   "metadata": {},
   "outputs": [],
   "source": []
  },
  {
   "cell_type": "code",
   "execution_count": null,
   "id": "a0be1853",
   "metadata": {},
   "outputs": [],
   "source": []
  },
  {
   "cell_type": "code",
   "execution_count": null,
   "id": "20c3154d",
   "metadata": {},
   "outputs": [],
   "source": []
  },
  {
   "cell_type": "code",
   "execution_count": null,
   "id": "9ab73cbd",
   "metadata": {},
   "outputs": [],
   "source": []
  },
  {
   "cell_type": "code",
   "execution_count": null,
   "id": "1cb684f8",
   "metadata": {},
   "outputs": [],
   "source": []
  },
  {
   "cell_type": "code",
   "execution_count": null,
   "id": "84db319d",
   "metadata": {},
   "outputs": [],
   "source": []
  },
  {
   "cell_type": "code",
   "execution_count": null,
   "id": "74b7a151",
   "metadata": {},
   "outputs": [],
   "source": []
  },
  {
   "cell_type": "code",
   "execution_count": null,
   "id": "d96ca332",
   "metadata": {},
   "outputs": [],
   "source": []
  },
  {
   "cell_type": "code",
   "execution_count": null,
   "id": "3e31da4d",
   "metadata": {},
   "outputs": [],
   "source": []
  },
  {
   "cell_type": "code",
   "execution_count": null,
   "id": "cbb08559",
   "metadata": {},
   "outputs": [],
   "source": []
  },
  {
   "cell_type": "code",
   "execution_count": null,
   "id": "8916de25",
   "metadata": {},
   "outputs": [],
   "source": []
  },
  {
   "cell_type": "code",
   "execution_count": null,
   "id": "fd264e09",
   "metadata": {},
   "outputs": [],
   "source": []
  },
  {
   "cell_type": "code",
   "execution_count": null,
   "id": "06ce003c",
   "metadata": {},
   "outputs": [],
   "source": []
  },
  {
   "cell_type": "code",
   "execution_count": null,
   "id": "571081e7",
   "metadata": {},
   "outputs": [],
   "source": []
  },
  {
   "cell_type": "code",
   "execution_count": null,
   "id": "32f11b58",
   "metadata": {},
   "outputs": [],
   "source": []
  },
  {
   "cell_type": "code",
   "execution_count": null,
   "id": "c4303480",
   "metadata": {},
   "outputs": [],
   "source": []
  },
  {
   "cell_type": "code",
   "execution_count": null,
   "id": "4d1e99b2",
   "metadata": {},
   "outputs": [],
   "source": []
  },
  {
   "cell_type": "code",
   "execution_count": null,
   "id": "5d54ee0d",
   "metadata": {},
   "outputs": [],
   "source": []
  },
  {
   "cell_type": "code",
   "execution_count": null,
   "id": "f2d6538a",
   "metadata": {},
   "outputs": [],
   "source": []
  },
  {
   "cell_type": "code",
   "execution_count": null,
   "id": "c2ae5321",
   "metadata": {},
   "outputs": [],
   "source": []
  },
  {
   "cell_type": "code",
   "execution_count": null,
   "id": "641c7f89",
   "metadata": {},
   "outputs": [],
   "source": []
  },
  {
   "cell_type": "code",
   "execution_count": null,
   "id": "61cff9f8",
   "metadata": {},
   "outputs": [],
   "source": []
  },
  {
   "cell_type": "code",
   "execution_count": null,
   "id": "c02e3c17",
   "metadata": {},
   "outputs": [],
   "source": []
  },
  {
   "cell_type": "code",
   "execution_count": null,
   "id": "1d215625",
   "metadata": {},
   "outputs": [],
   "source": []
  },
  {
   "cell_type": "code",
   "execution_count": null,
   "id": "c2b2d7d5",
   "metadata": {},
   "outputs": [],
   "source": []
  },
  {
   "cell_type": "code",
   "execution_count": null,
   "id": "2ce50ed7",
   "metadata": {},
   "outputs": [],
   "source": []
  },
  {
   "cell_type": "code",
   "execution_count": null,
   "id": "b8f9215a",
   "metadata": {},
   "outputs": [],
   "source": []
  },
  {
   "cell_type": "code",
   "execution_count": null,
   "id": "bab7ac59",
   "metadata": {},
   "outputs": [],
   "source": []
  },
  {
   "cell_type": "code",
   "execution_count": null,
   "id": "e9e7c58b",
   "metadata": {},
   "outputs": [],
   "source": []
  },
  {
   "cell_type": "code",
   "execution_count": null,
   "id": "f9e0716c",
   "metadata": {},
   "outputs": [],
   "source": []
  },
  {
   "cell_type": "code",
   "execution_count": null,
   "id": "578e6413",
   "metadata": {},
   "outputs": [],
   "source": []
  },
  {
   "cell_type": "code",
   "execution_count": null,
   "id": "57a349ba",
   "metadata": {},
   "outputs": [],
   "source": []
  },
  {
   "cell_type": "code",
   "execution_count": null,
   "id": "e2b305a1",
   "metadata": {},
   "outputs": [],
   "source": []
  },
  {
   "cell_type": "code",
   "execution_count": null,
   "id": "c9f01f5b",
   "metadata": {},
   "outputs": [],
   "source": []
  },
  {
   "cell_type": "code",
   "execution_count": null,
   "id": "19f08c4d",
   "metadata": {},
   "outputs": [],
   "source": []
  },
  {
   "cell_type": "code",
   "execution_count": null,
   "id": "58b09c41",
   "metadata": {},
   "outputs": [],
   "source": []
  },
  {
   "cell_type": "code",
   "execution_count": null,
   "id": "1836249a",
   "metadata": {},
   "outputs": [],
   "source": []
  },
  {
   "cell_type": "code",
   "execution_count": null,
   "id": "48cdddad",
   "metadata": {},
   "outputs": [],
   "source": []
  },
  {
   "cell_type": "code",
   "execution_count": null,
   "id": "5a8aab0c",
   "metadata": {},
   "outputs": [],
   "source": []
  },
  {
   "cell_type": "code",
   "execution_count": null,
   "id": "c4c99151",
   "metadata": {},
   "outputs": [],
   "source": []
  },
  {
   "cell_type": "code",
   "execution_count": null,
   "id": "ea1385d9",
   "metadata": {},
   "outputs": [],
   "source": []
  },
  {
   "cell_type": "code",
   "execution_count": null,
   "id": "799306b8",
   "metadata": {},
   "outputs": [],
   "source": []
  },
  {
   "cell_type": "code",
   "execution_count": null,
   "id": "d94db0e4",
   "metadata": {},
   "outputs": [],
   "source": []
  },
  {
   "cell_type": "code",
   "execution_count": null,
   "id": "5464d944",
   "metadata": {},
   "outputs": [],
   "source": []
  },
  {
   "cell_type": "code",
   "execution_count": null,
   "id": "2767ce1f",
   "metadata": {},
   "outputs": [],
   "source": []
  },
  {
   "cell_type": "code",
   "execution_count": null,
   "id": "3ce36539",
   "metadata": {},
   "outputs": [],
   "source": []
  },
  {
   "cell_type": "code",
   "execution_count": null,
   "id": "37546129",
   "metadata": {},
   "outputs": [],
   "source": []
  },
  {
   "cell_type": "code",
   "execution_count": null,
   "id": "1bc7b496",
   "metadata": {},
   "outputs": [],
   "source": []
  },
  {
   "cell_type": "code",
   "execution_count": null,
   "id": "607b70c5",
   "metadata": {},
   "outputs": [],
   "source": []
  },
  {
   "cell_type": "code",
   "execution_count": null,
   "id": "078aab4a",
   "metadata": {},
   "outputs": [],
   "source": []
  },
  {
   "cell_type": "code",
   "execution_count": null,
   "id": "d12b904a",
   "metadata": {},
   "outputs": [],
   "source": []
  },
  {
   "cell_type": "code",
   "execution_count": null,
   "id": "8814568b",
   "metadata": {},
   "outputs": [],
   "source": []
  },
  {
   "cell_type": "code",
   "execution_count": null,
   "id": "9818c7b1",
   "metadata": {},
   "outputs": [],
   "source": []
  },
  {
   "cell_type": "code",
   "execution_count": null,
   "id": "38c22865",
   "metadata": {},
   "outputs": [],
   "source": []
  },
  {
   "cell_type": "code",
   "execution_count": null,
   "id": "e1e208da",
   "metadata": {},
   "outputs": [],
   "source": []
  },
  {
   "cell_type": "code",
   "execution_count": null,
   "id": "228554e9",
   "metadata": {},
   "outputs": [],
   "source": []
  },
  {
   "cell_type": "code",
   "execution_count": null,
   "id": "07556baf",
   "metadata": {},
   "outputs": [],
   "source": []
  },
  {
   "cell_type": "code",
   "execution_count": null,
   "id": "8e7b5971",
   "metadata": {},
   "outputs": [],
   "source": []
  },
  {
   "cell_type": "code",
   "execution_count": null,
   "id": "4d56fab3",
   "metadata": {},
   "outputs": [],
   "source": []
  },
  {
   "cell_type": "code",
   "execution_count": null,
   "id": "3d41d261",
   "metadata": {},
   "outputs": [],
   "source": []
  },
  {
   "cell_type": "code",
   "execution_count": null,
   "id": "7e6db014",
   "metadata": {},
   "outputs": [],
   "source": []
  },
  {
   "cell_type": "code",
   "execution_count": null,
   "id": "7aaa5c87",
   "metadata": {},
   "outputs": [],
   "source": []
  },
  {
   "cell_type": "code",
   "execution_count": null,
   "id": "3f674a5b",
   "metadata": {},
   "outputs": [],
   "source": []
  },
  {
   "cell_type": "code",
   "execution_count": null,
   "id": "6a6f29e1",
   "metadata": {},
   "outputs": [],
   "source": []
  },
  {
   "cell_type": "code",
   "execution_count": null,
   "id": "d74aafd8",
   "metadata": {},
   "outputs": [],
   "source": []
  },
  {
   "cell_type": "code",
   "execution_count": null,
   "id": "3d43a14b",
   "metadata": {},
   "outputs": [],
   "source": []
  }
 ],
 "metadata": {
  "celltoolbar": "Raw Cell Format",
  "kernelspec": {
   "display_name": "Python 3 (ipykernel)",
   "language": "python",
   "name": "python3"
  },
  "language_info": {
   "codemirror_mode": {
    "name": "ipython",
    "version": 3
   },
   "file_extension": ".py",
   "mimetype": "text/x-python",
   "name": "python",
   "nbconvert_exporter": "python",
   "pygments_lexer": "ipython3",
   "version": "3.9.7"
  }
 },
 "nbformat": 4,
 "nbformat_minor": 5
}
