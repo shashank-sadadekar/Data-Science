{
 "cells": [
  {
   "cell_type": "code",
   "execution_count": null,
   "id": "59ab1d16",
   "metadata": {
    "scrolled": true
   },
   "outputs": [],
   "source": []
  },
  {
   "cell_type": "code",
   "execution_count": 9,
   "id": "a3eb7db4",
   "metadata": {},
   "outputs": [],
   "source": [
    "# .pop() method used to remove & return the last element in the list by default"
   ]
  },
  {
   "cell_type": "code",
   "execution_count": 9,
   "id": "b0ab02cd",
   "metadata": {},
   "outputs": [
    {
     "name": "stdout",
     "output_type": "stream",
     "text": [
      "Enter any str: h\n"
     ]
    },
    {
     "data": {
      "text/plain": [
       "'t'"
      ]
     },
     "execution_count": 9,
     "metadata": {},
     "output_type": "execute_result"
    }
   ],
   "source": [
    "a = input(\"Enter any str: \")   #bool if is empty than it returns first non zero value else it returns second value\n",
    "['f', 't'][bool(a)]"
   ]
  },
  {
   "cell_type": "code",
   "execution_count": 6,
   "id": "2b6e121e",
   "metadata": {},
   "outputs": [
    {
     "name": "stdout",
     "output_type": "stream",
     "text": [
      "Enter any str :\n"
     ]
    },
    {
     "data": {
      "text/plain": [
       "'f'"
      ]
     },
     "execution_count": 6,
     "metadata": {},
     "output_type": "execute_result"
    }
   ],
   "source": [
    "a = input(\"Enter any str :\")\n",
    "['f', 't'][bool(a)]"
   ]
  },
  {
   "cell_type": "code",
   "execution_count": null,
   "id": "3984d60f",
   "metadata": {},
   "outputs": [],
   "source": []
  },
  {
   "cell_type": "markdown",
   "id": "24c99ce6",
   "metadata": {},
   "source": [
    "# To access only docstring from program"
   ]
  },
  {
   "cell_type": "markdown",
   "id": "aad36587",
   "metadata": {},
   "source": [
    "#NOTE: Func docstr are placed in immediate line after func header as shown in below code"
   ]
  },
  {
   "cell_type": "code",
   "execution_count": 1,
   "id": "f50623d8",
   "metadata": {},
   "outputs": [
    {
     "data": {
      "text/plain": [
       "'I know how to interact with the docstrings of a function.'"
      ]
     },
     "execution_count": 1,
     "metadata": {},
     "output_type": "execute_result"
    }
   ],
   "source": [
    "def fun_docs():\n",
    "    \"\"\"I know how to interact with the docstrings of a function.\"\"\"  \n",
    "    \n",
    "    return None\n",
    "\n",
    "fun_docs.__doc__    # This .__doc__ method used rather than func calling"
   ]
  },
  {
   "cell_type": "code",
   "execution_count": null,
   "id": "c408d4bc",
   "metadata": {},
   "outputs": [],
   "source": []
  },
  {
   "cell_type": "markdown",
   "id": "8b5adc1d",
   "metadata": {},
   "source": [
    "# To find max of a number"
   ]
  },
  {
   "cell_type": "code",
   "execution_count": 1,
   "id": "5baa6fce",
   "metadata": {},
   "outputs": [
    {
     "name": "stdout",
     "output_type": "stream",
     "text": [
      "1 0 -1\n",
      "1\n"
     ]
    }
   ],
   "source": [
    "def foo(fname, val):\n",
    "    print(fname(val))\n",
    "foo(max, val = input().split())"
   ]
  },
  {
   "cell_type": "code",
   "execution_count": null,
   "id": "9a09eb2e",
   "metadata": {},
   "outputs": [],
   "source": []
  },
  {
   "cell_type": "markdown",
   "id": "e183d97c",
   "metadata": {},
   "source": [
    "# To find Factorial of a given num (Recursion method)"
   ]
  },
  {
   "cell_type": "code",
   "execution_count": 13,
   "id": "525d1d32",
   "metadata": {},
   "outputs": [
    {
     "name": "stdout",
     "output_type": "stream",
     "text": [
      "Enter a num:5\n",
      "120 "
     ]
    }
   ],
   "source": [
    "a=int(input(\"Enter a num:\"))\n",
    "factorial = 1\n",
    "for i in range(1,(a+1)):\n",
    "    factorial=factorial*i\n",
    "print(factorial,end=' ')"
   ]
  },
  {
   "cell_type": "code",
   "execution_count": 11,
   "id": "8e5fa769",
   "metadata": {},
   "outputs": [],
   "source": [
    "# Alternate code (Recursion method)"
   ]
  },
  {
   "cell_type": "code",
   "execution_count": 12,
   "id": "00413442",
   "metadata": {},
   "outputs": [
    {
     "name": "stdout",
     "output_type": "stream",
     "text": [
      "Enter a num:5\n"
     ]
    },
    {
     "data": {
      "text/plain": [
       "120.0"
      ]
     },
     "execution_count": 12,
     "metadata": {},
     "output_type": "execute_result"
    }
   ],
   "source": [
    "def factorial():\n",
    "    fact = (1)\n",
    "    num = int(input(\"Enter a num:\"))\n",
    "    if num < 0:\n",
    "        print(\"Factorial not posssible\")\n",
    "    elif num == 0:\n",
    "        print(\"Factorial of 0 is 1\")\n",
    "    else:\n",
    "        for i in range(1,num+1):\n",
    "            fact = fact*i        # Crucial line Code for finding factorial\n",
    "    return float(round(fact,1))\n",
    "factorial()"
   ]
  },
  {
   "cell_type": "code",
   "execution_count": 5,
   "id": "eebc9b3e",
   "metadata": {},
   "outputs": [
    {
     "name": "stdout",
     "output_type": "stream",
     "text": [
      "120\n"
     ]
    }
   ],
   "source": [
    "from math import factorial\n",
    "print(factorial(5))             # imported identifier factorial can't be used with module name as math.factorial"
   ]
  },
  {
   "cell_type": "markdown",
   "id": "bed49f2b",
   "metadata": {},
   "source": [
    "# To print Even & Odd List separately"
   ]
  },
  {
   "cell_type": "code",
   "execution_count": 94,
   "id": "d2d88358",
   "metadata": {},
   "outputs": [
    {
     "name": "stdout",
     "output_type": "stream",
     "text": [
      "Even list [10, 12, 14]\n",
      "Odd list [11, 13, 15]\n"
     ]
    }
   ],
   "source": [
    "a=[10,11,12,13,14,15]\n",
    "b = [];c=[]\n",
    "for i in a:\n",
    "    if i % 2 == 0:\n",
    "        b.append(i)\n",
    "    else:\n",
    "        c.append(i)  \n",
    "        \n",
    "print(\"Even list\",b)\n",
    "print(\"Odd list\",c)"
   ]
  },
  {
   "cell_type": "markdown",
   "id": "de3613b2",
   "metadata": {},
   "source": [
    "# Python Program to Merge Two Lists and Sort it"
   ]
  },
  {
   "cell_type": "code",
   "execution_count": 3,
   "id": "60918d5b",
   "metadata": {},
   "outputs": [
    {
     "name": "stdout",
     "output_type": "stream",
     "text": [
      "[2, 4, 6, 8, 1, 3, 5, 7, 9]\n",
      "[1, 2, 3, 4, 5, 6, 7, 8, 9]\n"
     ]
    }
   ],
   "source": [
    "a=[1,2,3,4,5,6,7,8,9,10]\n",
    "\n",
    "aeven=list(range(2,10,2))\n",
    "aodd=list(range(1,10,2))\n",
    "anew=aeven+aodd\n",
    "print(anew)\n",
    "anew.sort()\n",
    "print(anew)"
   ]
  },
  {
   "cell_type": "code",
   "execution_count": 1,
   "id": "a5100d18",
   "metadata": {},
   "outputs": [
    {
     "name": "stdout",
     "output_type": "stream",
     "text": [
      "Help on class list in module builtins:\n",
      "\n",
      "class list(object)\n",
      " |  list(iterable=(), /)\n",
      " |  \n",
      " |  Built-in mutable sequence.\n",
      " |  \n",
      " |  If no argument is given, the constructor creates a new empty list.\n",
      " |  The argument must be an iterable if specified.\n",
      " |  \n",
      " |  Methods defined here:\n",
      " |  \n",
      " |  __add__(self, value, /)\n",
      " |      Return self+value.\n",
      " |  \n",
      " |  __contains__(self, key, /)\n",
      " |      Return key in self.\n",
      " |  \n",
      " |  __delitem__(self, key, /)\n",
      " |      Delete self[key].\n",
      " |  \n",
      " |  __eq__(self, value, /)\n",
      " |      Return self==value.\n",
      " |  \n",
      " |  __ge__(self, value, /)\n",
      " |      Return self>=value.\n",
      " |  \n",
      " |  __getattribute__(self, name, /)\n",
      " |      Return getattr(self, name).\n",
      " |  \n",
      " |  __getitem__(...)\n",
      " |      x.__getitem__(y) <==> x[y]\n",
      " |  \n",
      " |  __gt__(self, value, /)\n",
      " |      Return self>value.\n",
      " |  \n",
      " |  __iadd__(self, value, /)\n",
      " |      Implement self+=value.\n",
      " |  \n",
      " |  __imul__(self, value, /)\n",
      " |      Implement self*=value.\n",
      " |  \n",
      " |  __init__(self, /, *args, **kwargs)\n",
      " |      Initialize self.  See help(type(self)) for accurate signature.\n",
      " |  \n",
      " |  __iter__(self, /)\n",
      " |      Implement iter(self).\n",
      " |  \n",
      " |  __le__(self, value, /)\n",
      " |      Return self<=value.\n",
      " |  \n",
      " |  __len__(self, /)\n",
      " |      Return len(self).\n",
      " |  \n",
      " |  __lt__(self, value, /)\n",
      " |      Return self<value.\n",
      " |  \n",
      " |  __mul__(self, value, /)\n",
      " |      Return self*value.\n",
      " |  \n",
      " |  __ne__(self, value, /)\n",
      " |      Return self!=value.\n",
      " |  \n",
      " |  __repr__(self, /)\n",
      " |      Return repr(self).\n",
      " |  \n",
      " |  __reversed__(self, /)\n",
      " |      Return a reverse iterator over the list.\n",
      " |  \n",
      " |  __rmul__(self, value, /)\n",
      " |      Return value*self.\n",
      " |  \n",
      " |  __setitem__(self, key, value, /)\n",
      " |      Set self[key] to value.\n",
      " |  \n",
      " |  __sizeof__(self, /)\n",
      " |      Return the size of the list in memory, in bytes.\n",
      " |  \n",
      " |  append(self, object, /)\n",
      " |      Append object to the end of the list.\n",
      " |  \n",
      " |  clear(self, /)\n",
      " |      Remove all items from list.\n",
      " |  \n",
      " |  copy(self, /)\n",
      " |      Return a shallow copy of the list.\n",
      " |  \n",
      " |  count(self, value, /)\n",
      " |      Return number of occurrences of value.\n",
      " |  \n",
      " |  extend(self, iterable, /)\n",
      " |      Extend list by appending elements from the iterable.\n",
      " |  \n",
      " |  index(self, value, start=0, stop=9223372036854775807, /)\n",
      " |      Return first index of value.\n",
      " |      \n",
      " |      Raises ValueError if the value is not present.\n",
      " |  \n",
      " |  insert(self, index, object, /)\n",
      " |      Insert object before index.\n",
      " |  \n",
      " |  pop(self, index=-1, /)\n",
      " |      Remove and return item at index (default last).\n",
      " |      \n",
      " |      Raises IndexError if list is empty or index is out of range.\n",
      " |  \n",
      " |  remove(self, value, /)\n",
      " |      Remove first occurrence of value.\n",
      " |      \n",
      " |      Raises ValueError if the value is not present.\n",
      " |  \n",
      " |  reverse(self, /)\n",
      " |      Reverse *IN PLACE*.\n",
      " |  \n",
      " |  sort(self, /, *, key=None, reverse=False)\n",
      " |      Sort the list in ascending order and return None.\n",
      " |      \n",
      " |      The sort is in-place (i.e. the list itself is modified) and stable (i.e. the\n",
      " |      order of two equal elements is maintained).\n",
      " |      \n",
      " |      If a key function is given, apply it once to each list item and sort them,\n",
      " |      ascending or descending, according to their function values.\n",
      " |      \n",
      " |      The reverse flag can be set to sort in descending order.\n",
      " |  \n",
      " |  ----------------------------------------------------------------------\n",
      " |  Class methods defined here:\n",
      " |  \n",
      " |  __class_getitem__(...) from builtins.type\n",
      " |      See PEP 585\n",
      " |  \n",
      " |  ----------------------------------------------------------------------\n",
      " |  Static methods defined here:\n",
      " |  \n",
      " |  __new__(*args, **kwargs) from builtins.type\n",
      " |      Create and return a new object.  See help(type) for accurate signature.\n",
      " |  \n",
      " |  ----------------------------------------------------------------------\n",
      " |  Data and other attributes defined here:\n",
      " |  \n",
      " |  __hash__ = None\n",
      "\n"
     ]
    }
   ],
   "source": [
    "help(list)"
   ]
  },
  {
   "cell_type": "code",
   "execution_count": null,
   "id": "9f5db258",
   "metadata": {},
   "outputs": [],
   "source": []
  },
  {
   "cell_type": "code",
   "execution_count": 69,
   "id": "684d0ce0",
   "metadata": {},
   "outputs": [
    {
     "name": "stdout",
     "output_type": "stream",
     "text": [
      "9\n"
     ]
    }
   ],
   "source": [
    "a=[1,2,3,4,5,6,7,8,9,10]\n",
    "print(a.pop()-1)\n"
   ]
  },
  {
   "cell_type": "markdown",
   "id": "47caf015",
   "metadata": {},
   "source": [
    "# To find separate even & odd list"
   ]
  },
  {
   "cell_type": "code",
   "execution_count": 8,
   "id": "97e73485",
   "metadata": {},
   "outputs": [
    {
     "name": "stdout",
     "output_type": "stream",
     "text": [
      "Even series: [2, 86, 30, 38]\n",
      "Odd series: [1, 5, 95, 41]\n"
     ]
    }
   ],
   "source": [
    "\n",
    "a=[1,2,5,95,86,30,38,41]\n",
    "b=[]\n",
    "c=[]\n",
    "for i in a:\n",
    "    if (i%2==0):\n",
    "        (b.append(i))\n",
    "    else:\n",
    "        (c.append(i))\n",
    "print(\"Even series:\",b)\n",
    "print(\"Odd series:\",c)  "
   ]
  },
  {
   "cell_type": "markdown",
   "id": "daedfab2",
   "metadata": {},
   "source": [
    "# To find even & odd numbers"
   ]
  },
  {
   "cell_type": "code",
   "execution_count": 10,
   "id": "8717788f",
   "metadata": {},
   "outputs": [
    {
     "name": "stdout",
     "output_type": "stream",
     "text": [
      "Enter number:2\n",
      "Num is even\n"
     ]
    }
   ],
   "source": [
    "#code to find even & odd number\n",
    "a=int(input(\"Enter number:\"))\n",
    "if (a%2 ==0):\n",
    "    print(\"Num is even\")\n",
    "else:\n",
    "    print(\"num is odd\")"
   ]
  },
  {
   "cell_type": "code",
   "execution_count": null,
   "id": "b14dbc11",
   "metadata": {},
   "outputs": [],
   "source": []
  },
  {
   "cell_type": "markdown",
   "id": "ee419b1a",
   "metadata": {},
   "source": [
    "# To find union & intersection in set"
   ]
  },
  {
   "cell_type": "code",
   "execution_count": 49,
   "id": "3367ab21",
   "metadata": {},
   "outputs": [
    {
     "name": "stdout",
     "output_type": "stream",
     "text": [
      "{1, 2, 3, 4, 5}\n",
      "{3}\n"
     ]
    },
    {
     "data": {
      "text/plain": [
       "set"
      ]
     },
     "execution_count": 49,
     "metadata": {},
     "output_type": "execute_result"
    }
   ],
   "source": [
    "a={1,2,3}\n",
    "b={3,4,5}\n",
    "\n",
    "c=a.union(b)\n",
    "d=a.intersection(b)\n",
    "print(c)\n",
    "print(d)\n",
    "e=[c]\n",
    "type(c)"
   ]
  },
  {
   "cell_type": "code",
   "execution_count": null,
   "id": "61a428aa",
   "metadata": {},
   "outputs": [],
   "source": []
  },
  {
   "cell_type": "code",
   "execution_count": 2,
   "id": "64714c5c",
   "metadata": {},
   "outputs": [
    {
     "data": {
      "text/plain": [
       "['__add__',\n",
       " '__class__',\n",
       " '__class_getitem__',\n",
       " '__contains__',\n",
       " '__delattr__',\n",
       " '__dir__',\n",
       " '__doc__',\n",
       " '__eq__',\n",
       " '__format__',\n",
       " '__ge__',\n",
       " '__getattribute__',\n",
       " '__getitem__',\n",
       " '__getnewargs__',\n",
       " '__gt__',\n",
       " '__hash__',\n",
       " '__init__',\n",
       " '__init_subclass__',\n",
       " '__iter__',\n",
       " '__le__',\n",
       " '__len__',\n",
       " '__lt__',\n",
       " '__mul__',\n",
       " '__ne__',\n",
       " '__new__',\n",
       " '__reduce__',\n",
       " '__reduce_ex__',\n",
       " '__repr__',\n",
       " '__rmul__',\n",
       " '__setattr__',\n",
       " '__sizeof__',\n",
       " '__str__',\n",
       " '__subclasshook__',\n",
       " 'count',\n",
       " 'index']"
      ]
     },
     "execution_count": 2,
     "metadata": {},
     "output_type": "execute_result"
    }
   ],
   "source": [
    "dir(tuple)"
   ]
  },
  {
   "cell_type": "code",
   "execution_count": null,
   "id": "9dd54a69",
   "metadata": {},
   "outputs": [],
   "source": []
  },
  {
   "cell_type": "markdown",
   "id": "0ea18a07",
   "metadata": {},
   "source": [
    "# To find sqrt of int & float"
   ]
  },
  {
   "cell_type": "code",
   "execution_count": 21,
   "id": "bee255ce",
   "metadata": {},
   "outputs": [
    {
     "name": "stdout",
     "output_type": "stream",
     "text": [
      "Enter a number:24.3\n",
      "4.929503017546495\n"
     ]
    }
   ],
   "source": [
    "a=float(input(\"Enter a number:\"))\n",
    "\n",
    "b=a**0.5\n",
    "print(b)"
   ]
  },
  {
   "cell_type": "markdown",
   "id": "f05a136f",
   "metadata": {},
   "source": [
    "# To find sqrt of complex nos."
   ]
  },
  {
   "cell_type": "code",
   "execution_count": 16,
   "id": "64feb50e",
   "metadata": {},
   "outputs": [
    {
     "name": "stdout",
     "output_type": "stream",
     "text": [
      "Enter a number:5+4j\n",
      "(2.3877944046161983+0.8375930507808814j)\n"
     ]
    }
   ],
   "source": [
    "import cmath\n",
    "a=eval(input(\"Enter a number:\"))\n",
    "b=cmath.sqrt(a)\n",
    "print(b)"
   ]
  },
  {
   "cell_type": "markdown",
   "id": "145f34b7",
   "metadata": {},
   "source": [
    "# To find area of triangle"
   ]
  },
  {
   "cell_type": "code",
   "execution_count": 28,
   "id": "d6a4fd96",
   "metadata": {},
   "outputs": [
    {
     "name": "stdout",
     "output_type": "stream",
     "text": [
      "enter base:24\n",
      "enter perpendicular height:12\n",
      "area of triangle for 24.0 base and 12.0 height: 144.0\n"
     ]
    }
   ],
   "source": [
    "base=float(input(\"enter base:\"))\n",
    "height=float(input(\"enter perpendicular height:\"))\n",
    "area=base*height*0.5\n",
    "print(\"area of triangle for {} base and {} height:\".format(base,height),area)"
   ]
  },
  {
   "cell_type": "markdown",
   "id": "a92286ef",
   "metadata": {},
   "source": [
    "# To solve quadratic equation"
   ]
  },
  {
   "cell_type": "code",
   "execution_count": 4,
   "id": "3b1a9581",
   "metadata": {},
   "outputs": [
    {
     "name": "stdout",
     "output_type": "stream",
     "text": [
      "(-2+0j)\n",
      "(-3+0j)\n"
     ]
    }
   ],
   "source": [
    "import cmath\n",
    "a=1\n",
    "b=5\n",
    "c=6\n",
    "d=(b**2) -(4*a*c)\n",
    "e=cmath.sqrt(d) #inbuilt .sqrt() method of package cmath is used to solve complex quadratic equation\n",
    "sol1=(-b+e)/(2*a)\n",
    "sol2=(-b-e)/(2*a)\n",
    "print(sol1)\n",
    "print(sol2)"
   ]
  },
  {
   "cell_type": "markdown",
   "id": "7ade0673",
   "metadata": {},
   "source": [
    "# To swap 2 variables"
   ]
  },
  {
   "cell_type": "code",
   "execution_count": 6,
   "id": "f4550a34",
   "metadata": {},
   "outputs": [
    {
     "name": "stdout",
     "output_type": "stream",
     "text": [
      "5 10\n",
      "10 5\n"
     ]
    }
   ],
   "source": [
    "a=5\n",
    "b=10\n",
    "print(a,b)\n",
    "a,b=b,a\n",
    "print(a,b)"
   ]
  },
  {
   "cell_type": "code",
   "execution_count": null,
   "id": "409dc7bd",
   "metadata": {},
   "outputs": [],
   "source": []
  },
  {
   "cell_type": "markdown",
   "id": "ba94141f",
   "metadata": {},
   "source": [
    "# Program to reverse a given number"
   ]
  },
  {
   "cell_type": "code",
   "execution_count": 8,
   "id": "8a9b6561",
   "metadata": {},
   "outputs": [
    {
     "name": "stdout",
     "output_type": "stream",
     "text": [
      "64\n",
      "46\n"
     ]
    }
   ],
   "source": [
    "x = '64'\n",
    "y = x[1]+x[0]\n",
    "print(int(x))\n",
    "print(int(y))"
   ]
  },
  {
   "cell_type": "markdown",
   "id": "e080a073",
   "metadata": {},
   "source": [
    "# To find sum of all nos."
   ]
  },
  {
   "cell_type": "code",
   "execution_count": 3,
   "id": "00622b84",
   "metadata": {},
   "outputs": [
    {
     "name": "stdout",
     "output_type": "stream",
     "text": [
      "Sum of all nos. in a: 45\n"
     ]
    }
   ],
   "source": [
    "a=[1,2,3,4,5,6,7,8,9]\n",
    "i = 0\n",
    "b = 0\n",
    "while i <= len(a):\n",
    "    b += a[i]\n",
    "    i += 1\n",
    "    if i == len(a):\n",
    "        break\n",
    "print(\"Sum of all nos. in a:\",b)"
   ]
  },
  {
   "cell_type": "markdown",
   "id": "11475183",
   "metadata": {},
   "source": [
    "# To find intersection of 2 lists"
   ]
  },
  {
   "cell_type": "code",
   "execution_count": 4,
   "id": "82713e20",
   "metadata": {},
   "outputs": [
    {
     "name": "stdout",
     "output_type": "stream",
     "text": [
      "['k', 'n']\n",
      "[]\n"
     ]
    }
   ],
   "source": [
    "a={'s','h','a','s','h','a','n','k'}\n",
    "b={'n','k'}\n",
    "c=set('z')   # This type of set() function can contain only 1 arg\n",
    "d=a.intersection(b)\n",
    "e=a.intersection(c)   \n",
    "print(list(d))\n",
    "print(list(e))"
   ]
  },
  {
   "cell_type": "markdown",
   "id": "b64729e9",
   "metadata": {},
   "source": [
    "# To find positive numbers in a list using list comprehension"
   ]
  },
  {
   "cell_type": "code",
   "execution_count": 23,
   "id": "3bda6c25",
   "metadata": {},
   "outputs": [
    {
     "data": {
      "text/plain": [
       "[2, 0]"
      ]
     },
     "execution_count": 23,
     "metadata": {},
     "output_type": "execute_result"
    }
   ],
   "source": [
    "a=[-1,2,0,-2,-4]\n",
    "[i for i in a if i >= 0]"
   ]
  },
  {
   "cell_type": "markdown",
   "id": "f8b6e621",
   "metadata": {},
   "source": [
    "# To convert all numbers into positive (absolute) numbers"
   ]
  },
  {
   "cell_type": "code",
   "execution_count": 2,
   "id": "fdd414f7",
   "metadata": {},
   "outputs": [
    {
     "data": {
      "text/plain": [
       "[1, 2, 0, 2, 4]"
      ]
     },
     "execution_count": 2,
     "metadata": {},
     "output_type": "execute_result"
    }
   ],
   "source": [
    "a=[-1,2,0,-2,-4]\n",
    "[abs(i) for i in a]"
   ]
  },
  {
   "cell_type": "code",
   "execution_count": null,
   "id": "82272f43",
   "metadata": {},
   "outputs": [],
   "source": []
  },
  {
   "cell_type": "markdown",
   "id": "c234c5a9",
   "metadata": {},
   "source": [
    "#                                                    String Codes"
   ]
  },
  {
   "cell_type": "code",
   "execution_count": null,
   "id": "e14c52e1",
   "metadata": {},
   "outputs": [],
   "source": []
  },
  {
   "cell_type": "markdown",
   "id": "454b380b",
   "metadata": {},
   "source": [
    "# Reverse of a given Str"
   ]
  },
  {
   "cell_type": "code",
   "execution_count": 43,
   "id": "4c1961d9",
   "metadata": {},
   "outputs": [
    {
     "name": "stdout",
     "output_type": "stream",
     "text": [
      "Reverse of str This is learnbay is: yabnrael si sihT\n"
     ]
    }
   ],
   "source": [
    "i = len(a)\n",
    "a = \"This is learnbay\"\n",
    "b = ''\n",
    "\n",
    "while i <= len(a):\n",
    "    b += a[i-1]\n",
    "    i -= 1\n",
    "    if i == 0:\n",
    "        break\n",
    "print(f\"Reverse of str {a} is:\",b)  "
   ]
  },
  {
   "cell_type": "markdown",
   "id": "d3921e76",
   "metadata": {},
   "source": [
    "# Palindrome of a Str"
   ]
  },
  {
   "cell_type": "code",
   "execution_count": 44,
   "id": "9c80d553",
   "metadata": {},
   "outputs": [
    {
     "name": "stdout",
     "output_type": "stream",
     "text": [
      "Wow Not a palindrome\n",
      "wow is a palindrome\n",
      "cat Not a palindrome\n"
     ]
    }
   ],
   "source": [
    "def is_palindrome(s):\n",
    "    if s == s[::-1]:\n",
    "        return f\"{s} is a palindrome\"\n",
    "    else:\n",
    "        return f\"{s} Not a palindrome\"\n",
    "print(is_palindrome('Wow'))\n",
    "print(is_palindrome('wow'))\n",
    "print(is_palindrome('cat'))"
   ]
  },
  {
   "cell_type": "markdown",
   "id": "b2a1599b",
   "metadata": {},
   "source": [
    "# Replace a with $ in a given Str"
   ]
  },
  {
   "cell_type": "code",
   "execution_count": 45,
   "id": "69e142ce",
   "metadata": {},
   "outputs": [
    {
     "name": "stdout",
     "output_type": "stream",
     "text": [
      "This is Sh$sh$nk S$d$dek$r\n"
     ]
    }
   ],
   "source": [
    "a=\"This is Shashank Sadadekar\"\n",
    "b = ''\n",
    "for i in range(len(a)): #i will iterate over len(a) so 'i' will take index values as 0,1,2... for given str a\n",
    "    if a[i] == 'a':\n",
    "        b=a.replace('a','$')\n",
    "print(b)"
   ]
  },
  {
   "cell_type": "code",
   "execution_count": null,
   "id": "3e5e1486",
   "metadata": {},
   "outputs": [],
   "source": [
    "# Alternate method"
   ]
  },
  {
   "cell_type": "code",
   "execution_count": 133,
   "id": "2df7b8f1",
   "metadata": {},
   "outputs": [
    {
     "name": "stdout",
     "output_type": "stream",
     "text": [
      "This is Sh$sh$nk S$d$dek$r\n"
     ]
    }
   ],
   "source": [
    "a=\"This is Shashank Sadadekar\"\n",
    "b = ''                    # Always use empty variable of same data(object) type for saving new changes made in original variable\n",
    "for i in a:               #i will iterate over str(a) so 'i' will take index values as T,h,i,s,'''i''s'... for given str a\n",
    "    if i == 'a':\n",
    "        b=a.replace('a','$')\n",
    "print(b)"
   ]
  },
  {
   "cell_type": "markdown",
   "id": "8d57db88",
   "metadata": {},
   "source": [
    "# Count vowels in a Str"
   ]
  },
  {
   "cell_type": "code",
   "execution_count": 6,
   "id": "55df0534",
   "metadata": {},
   "outputs": [
    {
     "name": "stdout",
     "output_type": "stream",
     "text": [
      "{8, 'iiaaaaea'}\n",
      "<class 'set'>\n"
     ]
    }
   ],
   "source": [
    "a=\"This is Shashank Sadadekar\"\n",
    "b = a.lower()\n",
    "c =''\n",
    "d = 0\n",
    "for i in b:\n",
    "    if (i== 'a' or i=='e'or i=='i'or i=='o'or i=='u'):\n",
    "        c += i\n",
    "        d += 1\n",
    "e = {c,d}\n",
    "print(e)\n",
    "print(type(e))"
   ]
  },
  {
   "cell_type": "markdown",
   "id": "620c147c",
   "metadata": {},
   "source": [
    "# To find largest Str without using inbuilt func"
   ]
  },
  {
   "cell_type": "code",
   "execution_count": 48,
   "id": "cf155fb0",
   "metadata": {},
   "outputs": [
    {
     "name": "stdout",
     "output_type": "stream",
     "text": [
      "Str a is larger\n"
     ]
    }
   ],
   "source": [
    "a = \" This is Python      \"    # Spaces are also calculated & counter incremented by 1\n",
    "b = 'My name is Shashank'\n",
    "count1 = count2 = 0\n",
    "for i in a:\n",
    "    count1+=1\n",
    "for j in b:\n",
    "    count2+=1\n",
    "if count1 > count2:\n",
    "    print('Str a is larger')\n",
    "else:\n",
    "    print('Str b is larger')"
   ]
  },
  {
   "cell_type": "markdown",
   "id": "306e8475",
   "metadata": {},
   "source": [
    "# To count number of digits & letters in a Str"
   ]
  },
  {
   "cell_type": "code",
   "execution_count": 1,
   "id": "2bf768a1",
   "metadata": {},
   "outputs": [
    {
     "name": "stdout",
     "output_type": "stream",
     "text": [
      "Enter any string:hello   world!123@\n",
      "letters: 10 digits: 3 special: 2\n"
     ]
    }
   ],
   "source": [
    "a=input(\"Enter any string:\")\n",
    "d = int()\n",
    "e = int()\n",
    "f = int()\n",
    "for i in a:\n",
    "    if i.isalpha():\n",
    "        d += 1\n",
    "    elif i.isdigit():\n",
    "        e += 1\n",
    "    elif i.isspace():\n",
    "        continue\n",
    "    elif i.isascii():\n",
    "        f += 1\n",
    "print(\"letters:\",d,end=' ')\n",
    "print(\"digits:\",e,end=' ')\n",
    "print(\"special:\",f)"
   ]
  },
  {
   "cell_type": "markdown",
   "id": "ed50d03b",
   "metadata": {},
   "source": [
    "# To count number of lowercase letters in a Str"
   ]
  },
  {
   "cell_type": "code",
   "execution_count": 66,
   "id": "9d22e2f3",
   "metadata": {},
   "outputs": [
    {
     "name": "stdout",
     "output_type": "stream",
     "text": [
      "Lowercase count is: 5\n"
     ]
    }
   ],
   "source": [
    "a=\"ShasHanK\"\n",
    "b = a.lower()\n",
    "count_lower = 0\n",
    "# for i in range(len(a)):\n",
    "#     for j in range(len(b)): \n",
    "#         if a == b:\n",
    "#             d += 1 \n",
    "#         else:\n",
    "#             e += 1\n",
    "for i in range(len(a)):\n",
    "    if a[i] == b[i]:\n",
    "        count_lower += 1\n",
    "print(\"Lowercase count is:\",count_lower)"
   ]
  },
  {
   "cell_type": "code",
   "execution_count": null,
   "id": "6d91e755",
   "metadata": {},
   "outputs": [],
   "source": []
  },
  {
   "cell_type": "markdown",
   "id": "3707fedf",
   "metadata": {},
   "source": [
    "# Count occurrences of sub str in a given Str"
   ]
  },
  {
   "cell_type": "code",
   "execution_count": 67,
   "id": "c18a73c6",
   "metadata": {},
   "outputs": [
    {
     "data": {
      "text/plain": [
       "True"
      ]
     },
     "execution_count": 67,
     "metadata": {},
     "output_type": "execute_result"
    }
   ],
   "source": [
    "a='Learnbay'\n",
    "b='Learnbay is an excellent firm'\n",
    "b.__contains__(a)"
   ]
  },
  {
   "cell_type": "markdown",
   "id": "1dd614f3",
   "metadata": {},
   "source": []
  },
  {
   "cell_type": "code",
   "execution_count": 68,
   "id": "0542f46c",
   "metadata": {},
   "outputs": [
    {
     "name": "stdout",
     "output_type": "stream",
     "text": [
      "Occurrences of word Learnbay is: 1\n"
     ]
    }
   ],
   "source": [
    "a='Learnbay'\n",
    "b='Learnbay is an excellent firm'\n",
    "d = 0\n",
    "if a in b:\n",
    "    d += 1\n",
    "print(f\"Occurrences of word {a} is:\",d)\n",
    "            "
   ]
  },
  {
   "cell_type": "code",
   "execution_count": null,
   "id": "4beac02d",
   "metadata": {},
   "outputs": [],
   "source": []
  },
  {
   "cell_type": "markdown",
   "id": "f43a8772",
   "metadata": {},
   "source": [
    "# Lists & Tuples codes"
   ]
  },
  {
   "cell_type": "code",
   "execution_count": null,
   "id": "ccc485f9",
   "metadata": {},
   "outputs": [],
   "source": []
  },
  {
   "cell_type": "markdown",
   "id": "1a8e796a",
   "metadata": {},
   "source": [
    "# To swap first & last elements in a list"
   ]
  },
  {
   "cell_type": "code",
   "execution_count": 25,
   "id": "a0465369",
   "metadata": {},
   "outputs": [
    {
     "name": "stdout",
     "output_type": "stream",
     "text": [
      "['class', 'is', 'a', 'learnbay', 'this']\n"
     ]
    }
   ],
   "source": [
    "a=['this', 'is', 'a', 'learnbay','class']\n",
    "a[0],a[4]=a[4],a[0]\n",
    "print(a)"
   ]
  },
  {
   "cell_type": "markdown",
   "id": "db9579c7",
   "metadata": {},
   "source": [
    "# To sort a list acc to len of elements"
   ]
  },
  {
   "cell_type": "code",
   "execution_count": 26,
   "id": "1e5016c6",
   "metadata": {},
   "outputs": [
    {
     "name": "stdout",
     "output_type": "stream",
     "text": [
      "['a', 'is', 'this', 'class', 'learnbay']\n"
     ]
    }
   ],
   "source": [
    "a=['this', 'is', 'a', 'learnbay','class']\n",
    "b=''  \n",
    "a.sort(key=len)\n",
    "print(a)"
   ]
  },
  {
   "cell_type": "code",
   "execution_count": null,
   "id": "41bad2c7",
   "metadata": {},
   "outputs": [],
   "source": []
  },
  {
   "cell_type": "markdown",
   "id": "885ffbb2",
   "metadata": {},
   "source": [
    "# to find largest number"
   ]
  },
  {
   "cell_type": "code",
   "execution_count": 74,
   "id": "e75946fa",
   "metadata": {},
   "outputs": [
    {
     "name": "stdout",
     "output_type": "stream",
     "text": [
      "Enter value1:-1\n",
      "Enter value2:0\n",
      "Enter value3:-2\n",
      "b is largest\n"
     ]
    }
   ],
   "source": [
    "\n",
    "a=input(\"Enter value1:\")\n",
    "b=input(\"Enter value2:\")\n",
    "c=input(\"Enter value3:\")\n",
    "if(a>=b and a>=c):\n",
    "    print(\"a is largest\")\n",
    "elif b>=a and b>=c:\n",
    "    print(\"b is largest\")\n",
    "else:\n",
    "    print(\"c is largest\")"
   ]
  },
  {
   "cell_type": "markdown",
   "id": "2e4c55d4",
   "metadata": {},
   "source": [
    "# Count of Even & Odd Numbers"
   ]
  },
  {
   "cell_type": "code",
   "execution_count": 77,
   "id": "28ebcda9",
   "metadata": {},
   "outputs": [
    {
     "name": "stdout",
     "output_type": "stream",
     "text": [
      "Count of Even: 4 \t Count of Odd 5\n"
     ]
    }
   ],
   "source": [
    "a=[1,2,3,4,5,6,7,8,9]\n",
    "even = 0\n",
    "odd = 0\n",
    "for i in a:\n",
    "    if i % 2 == 0:\n",
    "        even += 1\n",
    "    else:\n",
    "        odd += 1\n",
    "print(\"Count of Even:\",even,'\\t',\"Count of Odd\",odd)"
   ]
  },
  {
   "cell_type": "markdown",
   "id": "3fc3d3aa",
   "metadata": {},
   "source": [
    "# Put Even & Odd in a separate list"
   ]
  },
  {
   "cell_type": "code",
   "execution_count": 78,
   "id": "93466648",
   "metadata": {},
   "outputs": [
    {
     "name": "stdout",
     "output_type": "stream",
     "text": [
      "My Even List:[0, 2, 4, 6, 8]\n",
      "My Odd List:[1, 3, 5, 7, 9]\n",
      "[0, 2, 4, 6, 8, 1, 3, 5, 7, 9]\n"
     ]
    }
   ],
   "source": [
    "#Python Program to Put Even and Odd elements in a List into Two Different Lists\n",
    "\n",
    "a=[1,2,3,4,5,6,7,8,9,10]\n",
    "print(\"My Even List:\"+str(list(range(0,10,2))))\n",
    "print(\"My Odd List:\"+str(list(range(1,10,2))))\n",
    "aeven=list(range(0,10,2))\n",
    "aodd=list(range(1,10,2))\n",
    "anew=aeven+aodd\n",
    "print(anew)"
   ]
  },
  {
   "cell_type": "markdown",
   "id": "4814d237",
   "metadata": {},
   "source": [
    "# Read list of words & return longest element"
   ]
  },
  {
   "cell_type": "code",
   "execution_count": 115,
   "id": "94b36dda",
   "metadata": {},
   "outputs": [
    {
     "name": "stdout",
     "output_type": "stream",
     "text": [
      "The word with the longest length is : excellent\n"
     ]
    }
   ],
   "source": [
    "a='Learnbay is an excellent firm'\n",
    "b = a.split(\" \")\n",
    "\n",
    "word_len=len(b[0])\n",
    "word =b[0]\n",
    "\n",
    "for i in b:\n",
    "    if (len(i)>word_len):\n",
    "        word=i\n",
    "\n",
    "print(\"The word with the longest length is :\",word)"
   ]
  },
  {
   "cell_type": "markdown",
   "id": "93b3e800",
   "metadata": {},
   "source": [
    "# To find list of tuples with first element & second as square of first element"
   ]
  },
  {
   "cell_type": "code",
   "execution_count": 128,
   "id": "7dfd0873",
   "metadata": {},
   "outputs": [
    {
     "name": "stdout",
     "output_type": "stream",
     "text": [
      "Enter any number:5\n",
      "5.0 25.0\n"
     ]
    },
    {
     "data": {
      "text/plain": [
       "tuple"
      ]
     },
     "execution_count": 128,
     "metadata": {},
     "output_type": "execute_result"
    }
   ],
   "source": [
    "a=float(input(\"Enter any number:\"))\n",
    "b=a**2\n",
    "print(a,b)\n",
    "type((a,b))"
   ]
  },
  {
   "cell_type": "markdown",
   "id": "a3a0d30a",
   "metadata": {},
   "source": [
    "# to remove duplicates using set() function method for a given list of elements"
   ]
  },
  {
   "cell_type": "code",
   "execution_count": 129,
   "id": "9c2089b9",
   "metadata": {},
   "outputs": [
    {
     "name": "stdout",
     "output_type": "stream",
     "text": [
      "[1, 2, 3, 6, 7, 8, 10, 11, 12, 13, 14, 17, 18, 19]\n"
     ]
    }
   ],
   "source": [
    "a1=[19, 19, 19, 18, 18, 18, 17, 14, 13, 12, 11, 10, 8, 7, 6, 6, 3, 2, 2, 1]\n",
    "b1=set(a1)\n",
    "b1=list(b1) #Type casting to list from set\n",
    "print(b1)"
   ]
  },
  {
   "cell_type": "markdown",
   "id": "cbfd4e8e",
   "metadata": {},
   "source": [
    "# To remove duplicates using List(or Loop) comprehension method"
   ]
  },
  {
   "cell_type": "code",
   "execution_count": 130,
   "id": "a8c56ba8",
   "metadata": {},
   "outputs": [
    {
     "name": "stdout",
     "output_type": "stream",
     "text": [
      "<class 'list'>\n",
      "[19, 18, 17, 14, 13, 12, 11, 10, 8, 7, 6, 3, 2, 1]\n"
     ]
    }
   ],
   "source": [
    "a1=[19, 19, 19, 18, 18, 18, 17, 14, 13, 12, 11, 10, 8, 7, 6, 6, 3, 2, 2, 1]\n",
    "b1=[]\n",
    "[b1.append(i) for i in a1 if i not in b1]\n",
    "print(type(b1))\n",
    "print(b1)"
   ]
  },
  {
   "cell_type": "markdown",
   "id": "574b75ba",
   "metadata": {},
   "source": [
    "# To remove duplicates using for loop & if condition (naive method)"
   ]
  },
  {
   "cell_type": "code",
   "execution_count": 131,
   "id": "38cbb1f5",
   "metadata": {},
   "outputs": [
    {
     "name": "stdout",
     "output_type": "stream",
     "text": [
      "[19, 18, 17, 14, 13, 12, 11, 10, 8, 7, 6, 3, 2, 1]\n"
     ]
    }
   ],
   "source": [
    "a=[18, 7, 6, 1, 19, 6, 17, 3, 8, 2, 2, 19, 18, 13, 14, 10, 11, 18, 12, 19]\n",
    "a.sort(reverse=True)\n",
    "\n",
    "a1=[19, 19, 19, 18, 18, 18, 17, 14, 13, 12, 11, 10, 8, 7, 6, 6, 3, 2, 2, 1]\n",
    "\n",
    "b1=[]\n",
    "\n",
    "for i in a1:\n",
    "    if  i not in b1:\n",
    "        (b1.append(i))\n",
    "print(b1)        "
   ]
  },
  {
   "cell_type": "code",
   "execution_count": null,
   "id": "bb2e5ace",
   "metadata": {},
   "outputs": [],
   "source": []
  },
  {
   "cell_type": "markdown",
   "id": "9966ecd6",
   "metadata": {},
   "source": [
    "# Dictionary Codes"
   ]
  },
  {
   "cell_type": "code",
   "execution_count": null,
   "id": "1d7389c4",
   "metadata": {},
   "outputs": [],
   "source": []
  },
  {
   "cell_type": "markdown",
   "id": "7d413e79",
   "metadata": {},
   "source": [
    "# To find if a given key exists in a dict or not"
   ]
  },
  {
   "cell_type": "code",
   "execution_count": 14,
   "id": "efc36bc2",
   "metadata": {},
   "outputs": [
    {
     "name": "stdout",
     "output_type": "stream",
     "text": [
      "Enter a key5\n",
      "key found\n"
     ]
    }
   ],
   "source": [
    "a = float(input(\"Enter a key\"))\n",
    "b = {1:\"A\",2:\"B\",3:\"C\",4:'D',5:\"E\"}\n",
    "if a not in b.keys():\n",
    "    print(\"incorrect value entered\")\n",
    "elif a in b.keys():\n",
    "    print('key found')"
   ]
  },
  {
   "cell_type": "markdown",
   "id": "77d6c880",
   "metadata": {},
   "source": [
    "# To remove any given key from dict"
   ]
  },
  {
   "cell_type": "code",
   "execution_count": 19,
   "id": "56cf5da6",
   "metadata": {},
   "outputs": [
    {
     "name": "stdout",
     "output_type": "stream",
     "text": [
      "Enter a key3\n",
      "{1: 'A', 2: 'B', 4: 'D', 5: 'E'}\n"
     ]
    }
   ],
   "source": [
    "a = float(input(\"Enter a key\"))\n",
    "b = {1:\"A\",2:\"B\",3:\"C\",4:'D',5:\"E\"}\n",
    "b.pop(a)\n",
    "print(b)"
   ]
  },
  {
   "cell_type": "markdown",
   "id": "63e7b20f",
   "metadata": {},
   "source": [
    "# To sort dict as per keys"
   ]
  },
  {
   "cell_type": "code",
   "execution_count": 35,
   "id": "e63d593e",
   "metadata": {},
   "outputs": [
    {
     "name": "stdout",
     "output_type": "stream",
     "text": [
      "Dict before Sorting: {2: 'A', 4: 'B', 1: 'C', 5: 'D', 3: 'E'}\n",
      "Dict After Sorting: {1: 'A', 2: 'B', 3: 'C', 4: 'D', 5: 'E'}\n"
     ]
    }
   ],
   "source": [
    "a = [2,4,1,5,3]\n",
    "b = ['A','B','C','D',\"E\"]\n",
    "print(\"Dict before Sorting:\",dict( zip(a,b) ) )\n",
    "a.sort()      \n",
    "print(\"Dict After Sorting:\",dict( zip(a,b) ) )"
   ]
  },
  {
   "cell_type": "markdown",
   "id": "26f1fbe5",
   "metadata": {},
   "source": [
    "# To iterate over dict using for loops"
   ]
  },
  {
   "cell_type": "code",
   "execution_count": 46,
   "id": "7bb40dbd",
   "metadata": {},
   "outputs": [
    {
     "name": "stdout",
     "output_type": "stream",
     "text": [
      "1 is key of value A\n",
      "2 is key of value B\n",
      "3 is key of value C\n",
      "4 is key of value D\n",
      "5 is key of value E\n"
     ]
    }
   ],
   "source": [
    "a = {1:\"A\",2:\"B\",3:\"C\",4:'D',5:\"E\"}\n",
    "for k,v in a.items():\n",
    "    print(f\"{k} is key of value {v}\")"
   ]
  },
  {
   "cell_type": "markdown",
   "id": "56f45e2f",
   "metadata": {},
   "source": [
    "# To sum all the items in a dict"
   ]
  },
  {
   "cell_type": "code",
   "execution_count": 52,
   "id": "02171864",
   "metadata": {},
   "outputs": [
    {
     "name": "stdout",
     "output_type": "stream",
     "text": [
      "1 A\n",
      "2 B\n",
      "3 C\n",
      "4 D\n",
      "5 E\n"
     ]
    }
   ],
   "source": [
    "a = {'1':\"A\",'2':\"B\",'3':\"C\",'4':'D','5':\"E\"}\n",
    "for k,v in a.items():\n",
    "    print(k+' '+v)"
   ]
  },
  {
   "cell_type": "markdown",
   "id": "3d68201f",
   "metadata": {},
   "source": [
    "# To sum all the items in a dict"
   ]
  },
  {
   "cell_type": "code",
   "execution_count": 60,
   "id": "9f216a60",
   "metadata": {},
   "outputs": [
    {
     "name": "stdout",
     "output_type": "stream",
     "text": [
      "60\n"
     ]
    }
   ],
   "source": [
    "a = {'1':10,'2':11,'3':12,'4':13,'5':14}\n",
    "for k,v in a.items():\n",
    "    pass\n",
    "print(sum(a.values()))"
   ]
  },
  {
   "cell_type": "markdown",
   "id": "d39d330f",
   "metadata": {},
   "source": [
    "# To add elements in a dict"
   ]
  },
  {
   "cell_type": "code",
   "execution_count": 14,
   "id": "a375a6bb",
   "metadata": {},
   "outputs": [
    {
     "name": "stdout",
     "output_type": "stream",
     "text": [
      "{1: 5, 2: 6, 3: 8, 4: 0, 'S': 1, 'h': 5, 'a': 6, 's': 4, 'n': 7, 'k': 8}\n"
     ]
    }
   ],
   "source": [
    "a={1:5,2:21,2:6,3:8,4:0}\n",
    "b={'S':1,'h':2,'a':3,'s':4,'h':5,'a':6,'n':7,'k':8}\n",
    "a.update(b)\n",
    "print(a)"
   ]
  },
  {
   "cell_type": "code",
   "execution_count": 17,
   "id": "ed3f4f6c",
   "metadata": {},
   "outputs": [],
   "source": [
    "# Alternate method"
   ]
  },
  {
   "cell_type": "code",
   "execution_count": 16,
   "id": "615ce3c2",
   "metadata": {},
   "outputs": [
    {
     "name": "stdout",
     "output_type": "stream",
     "text": [
      "{1: 5, 2: 6, 3: 8, 4: 0, 'S': 1, 'h': 5, 'a': 6, 's': 4, 'n': 7, 'k': 8}\n"
     ]
    }
   ],
   "source": [
    "a={1:5,2:21,2:6,3:8,4:0}\n",
    "b={'S':1,'h':2,'a':3,'s':4,'h':5,'a':6,'n':7,'k':8}\n",
    "c = a|b\n",
    "print(c)"
   ]
  },
  {
   "cell_type": "markdown",
   "id": "c4fae040",
   "metadata": {},
   "source": [
    "# To delete keys & values from dict"
   ]
  },
  {
   "cell_type": "code",
   "execution_count": 18,
   "id": "cb081b21",
   "metadata": {},
   "outputs": [
    {
     "name": "stdout",
     "output_type": "stream",
     "text": [
      "{2: 6, 3: 8, 4: 0}\n"
     ]
    }
   ],
   "source": [
    "a={1:5,2:21,2:6,3:8,4:0} #If keys same with different values the later key:value pair is printed\n",
    "del a[1]\n",
    "print(a)"
   ]
  },
  {
   "cell_type": "markdown",
   "id": "63c2256a",
   "metadata": {},
   "source": [
    "# Use of .items() method "
   ]
  },
  {
   "cell_type": "code",
   "execution_count": 19,
   "id": "40ba62e1",
   "metadata": {},
   "outputs": [
    {
     "name": "stdout",
     "output_type": "stream",
     "text": [
      "dict_items([(1, 5), (2, 6), (3, 8), (4, 0)])\n"
     ]
    }
   ],
   "source": [
    "a={1:5,2:21,2:6,3:8,4:0}\n",
    "b=a.items()\n",
    "print(b)"
   ]
  },
  {
   "cell_type": "code",
   "execution_count": null,
   "id": "336043d6",
   "metadata": {},
   "outputs": [],
   "source": [
    "# .pop() method removes key:value pairs with key passed inside pop method as argument"
   ]
  },
  {
   "cell_type": "code",
   "execution_count": 22,
   "id": "0b1a353a",
   "metadata": {},
   "outputs": [
    {
     "name": "stdout",
     "output_type": "stream",
     "text": [
      "8\n",
      "{1: 5, 2: 6, 4: 0}\n"
     ]
    }
   ],
   "source": [
    "a={1:5,2:21,2:6,3:8,4:0}\n",
    "a.keys()\n",
    "b=a.items()\n",
    "print(a.pop(3))\n",
    "print(a)"
   ]
  },
  {
   "cell_type": "code",
   "execution_count": null,
   "id": "58fb7ca7",
   "metadata": {},
   "outputs": [],
   "source": []
  },
  {
   "cell_type": "markdown",
   "id": "2221fe83",
   "metadata": {},
   "source": [
    "# To print random output within a given series and append them in a list"
   ]
  },
  {
   "cell_type": "code",
   "execution_count": 23,
   "id": "0db57b98",
   "metadata": {},
   "outputs": [
    {
     "name": "stdout",
     "output_type": "stream",
     "text": [
      "[20, 5, 8, 1, 3, 13, 11, 16, 14, 3, 20, 20, 7, 1, 20, 18, 6, 7, 20, 7]\n"
     ]
    }
   ],
   "source": [
    "import random\n",
    "\n",
    "#Returns random value everytime as output between values(1,10) passed & both start & end values are included.\n",
    "\n",
    "c=[]\n",
    "for i in range(1,21):\n",
    "    b=random.randint(1,20)\n",
    "    c.append(b)\n",
    "print(c)"
   ]
  },
  {
   "cell_type": "code",
   "execution_count": 19,
   "id": "46d67360",
   "metadata": {},
   "outputs": [
    {
     "name": "stdout",
     "output_type": "stream",
     "text": [
      "[19, 19, 19, 18, 18, 18, 17, 14, 13, 12, 11, 10, 8, 7, 6, 6, 3, 2, 2, 1]\n"
     ]
    }
   ],
   "source": [
    "a=[18, 7, 6, 1, 19, 6, 17, 3, 8, 2, 2, 19, 18, 13, 14, 10, 11, 18, 12, 19]\n",
    "a.sort(reverse=True)\n",
    "print(a)\n",
    "a1=[19, 19, 19, 18, 18, 18, 17, 14, 13, 12, 11, 10, 8, 7, 6, 6, 3, 2, 2, 1]\n",
    "      "
   ]
  },
  {
   "cell_type": "code",
   "execution_count": null,
   "id": "244fb289",
   "metadata": {},
   "outputs": [],
   "source": []
  },
  {
   "cell_type": "code",
   "execution_count": null,
   "id": "0ed02d4f",
   "metadata": {},
   "outputs": [],
   "source": []
  },
  {
   "cell_type": "code",
   "execution_count": 55,
   "id": "e6befb90",
   "metadata": {},
   "outputs": [
    {
     "name": "stdout",
     "output_type": "stream",
     "text": [
      "4\n"
     ]
    }
   ],
   "source": [
    "a=['this', 'is', 'a', 'learnbay','class']\n",
    "b=[]\n",
    "index=0\n",
    "for i in a[index]:\n",
    "    index+=1\n",
    "print(index)"
   ]
  },
  {
   "cell_type": "markdown",
   "id": "9adeb50f",
   "metadata": {},
   "source": [
    "# Pattern printing codes"
   ]
  },
  {
   "cell_type": "code",
   "execution_count": 3,
   "id": "aadb103e",
   "metadata": {},
   "outputs": [
    {
     "name": "stdout",
     "output_type": "stream",
     "text": [
      "$ $ $ $ $ \n",
      "$ $ $ $ \n",
      "$ $ $ \n",
      "$ $ \n",
      "$ \n"
     ]
    }
   ],
   "source": [
    "# pattern printing using nested for loop\n",
    "#Nested for loop when we want to run inner condition multiple times for single iteration of outer loop\n",
    " \n",
    "for i in range(1,7):\n",
    "    for j in range(5,0,-1): \n",
    "        print('$ '*j)\n",
    "    if  j == 1:\n",
    "        break"
   ]
  },
  {
   "cell_type": "code",
   "execution_count": 4,
   "id": "25ecba44",
   "metadata": {},
   "outputs": [
    {
     "name": "stdout",
     "output_type": "stream",
     "text": [
      "*****\n",
      "****\n",
      "***\n",
      "**\n",
      "*\n"
     ]
    }
   ],
   "source": [
    "# improved version than previous\n",
    "for i in range(1):\n",
    "    for j in range(5,0,-1):\n",
    "        print('*'*j)"
   ]
  },
  {
   "cell_type": "code",
   "execution_count": 19,
   "id": "340f9910",
   "metadata": {},
   "outputs": [
    {
     "name": "stdout",
     "output_type": "stream",
     "text": [
      "Enter any num:10\n",
      "* * * * * * * * * * \n",
      "* * * * * * * * * \n",
      "* * * * * * * * \n",
      "* * * * * * * \n",
      "* * * * * * \n",
      "* * * * * \n",
      "* * * * \n",
      "* * * \n",
      "* * \n",
      "* \n"
     ]
    }
   ],
   "source": [
    "#Improved version using nested for loop //taking inputs from user and no restrictions on pattern as it Depends on user input\n",
    "n=int(input(\"Enter any num:\"))\n",
    "for i in range(1):\n",
    "    for j in range(n,0,-1):\n",
    "        print('* '*j)"
   ]
  },
  {
   "cell_type": "code",
   "execution_count": null,
   "id": "423a5c9c",
   "metadata": {},
   "outputs": [],
   "source": []
  },
  {
   "cell_type": "code",
   "execution_count": 8,
   "id": "eba522b1",
   "metadata": {},
   "outputs": [
    {
     "name": "stdout",
     "output_type": "stream",
     "text": [
      "* * * * * \n",
      "* * * * \n",
      "* * * \n",
      "* * \n",
      "* \n"
     ]
    }
   ],
   "source": [
    "i = 5\n",
    "while i <= 5:\n",
    "    if i == 0:\n",
    "        break\n",
    "    print(\"* \"*i)\n",
    "    i-=1\n",
    "    "
   ]
  },
  {
   "cell_type": "code",
   "execution_count": 7,
   "id": "5df41eed",
   "metadata": {},
   "outputs": [
    {
     "name": "stdout",
     "output_type": "stream",
     "text": [
      "* * * * * \n",
      "* * * * \n",
      "* * * \n",
      "* * \n",
      "* \n"
     ]
    }
   ],
   "source": [
    "i = 5\n",
    "while i <= 5:\n",
    "    print(\"* \"*i)\n",
    "    i-=1\n",
    "    if i == 0:\n",
    "        break"
   ]
  },
  {
   "cell_type": "code",
   "execution_count": 15,
   "id": "8e3c12e2",
   "metadata": {},
   "outputs": [
    {
     "name": "stdout",
     "output_type": "stream",
     "text": [
      "Enter any num:5\n",
      "* * * * * \n",
      "* * * * \n",
      "* * * \n",
      "* * \n",
      "* \n"
     ]
    }
   ],
   "source": [
    "#Improved version than previous // Taking inputs from user for pattern printing\n",
    "i = int(input(\"Enter any num:\"))\n",
    "while i <= 5:\n",
    "    print(\"* \"*i)\n",
    "    i-=1\n",
    "    if i == 0:\n",
    "        break\n",
    "else:\n",
    "    print(\"Num out of range\")"
   ]
  },
  {
   "cell_type": "code",
   "execution_count": 20,
   "id": "fcd13490",
   "metadata": {},
   "outputs": [
    {
     "name": "stdout",
     "output_type": "stream",
     "text": [
      "* \n",
      "* * \n",
      "* * * \n",
      "* * * * \n",
      "* * * * * \n"
     ]
    }
   ],
   "source": [
    "for i in range(1,6):\n",
    "    print('* '*i)\n",
    "    "
   ]
  },
  {
   "cell_type": "code",
   "execution_count": 68,
   "id": "4a8e6cf0",
   "metadata": {},
   "outputs": [
    {
     "name": "stdout",
     "output_type": "stream",
     "text": [
      "     * \n",
      "    * * \n",
      "   * * * \n",
      "  * * * * \n",
      " * * * * * \n"
     ]
    }
   ],
   "source": [
    "#White space also needs to be printed alongwith * Note:Whitespaces gets reduced from 4 to 0 & * increases from 1 to 5  from top to bottom\n",
    "for i in range(1,6):\n",
    "        print(' '*(5-i),\"* \"*i) \n"
   ]
  },
  {
   "cell_type": "markdown",
   "id": "7e0b6994",
   "metadata": {},
   "source": [
    "# To check if num is positive,negative or zero"
   ]
  },
  {
   "cell_type": "code",
   "execution_count": 79,
   "id": "72b102e5",
   "metadata": {},
   "outputs": [
    {
     "name": "stdout",
     "output_type": "stream",
     "text": [
      "Enter a num:0\n",
      "Num is zero\n"
     ]
    }
   ],
   "source": [
    "a=int(input(\"Enter a num:\"))\n",
    "for i in range(a,a+1):\n",
    "    if i>0:\n",
    "        print(\" Num is positive\")\n",
    "    elif i<0:\n",
    "        print(\"Num is negative\")\n",
    "    else:\n",
    "        print(\"Num is zero\")\n",
    "        "
   ]
  },
  {
   "cell_type": "markdown",
   "id": "ca33f360",
   "metadata": {},
   "source": [
    "# To check Leap Year or not"
   ]
  },
  {
   "cell_type": "code",
   "execution_count": 21,
   "id": "afa9f39e",
   "metadata": {},
   "outputs": [
    {
     "name": "stdout",
     "output_type": "stream",
     "text": [
      "Enter any year:2022\n",
      "It's Not a Leap Year\n"
     ]
    }
   ],
   "source": [
    "year = int(input(\"Enter any year:\"))\n",
    "if year % 4 == 0:\n",
    "    if year % 100 == 0:\n",
    "        if year % 400 == 0:\n",
    "            print (\"Leap year\")\n",
    "        else:\n",
    "            print(\"Not a Leap Year\")\n",
    "    else:\n",
    "        print(\"Leap Year\")\n",
    "else:\n",
    "    print(\"It's Not a Leap Year\") # Always use different font if same statements needs to be printed twice"
   ]
  },
  {
   "cell_type": "code",
   "execution_count": null,
   "id": "ddfc8ceb",
   "metadata": {},
   "outputs": [],
   "source": []
  },
  {
   "cell_type": "markdown",
   "id": "bd40a8ff",
   "metadata": {},
   "source": [
    "# Fibonacci Series "
   ]
  },
  {
   "cell_type": "code",
   "execution_count": 8,
   "id": "5e3ebc54",
   "metadata": {},
   "outputs": [
    {
     "name": "stdout",
     "output_type": "stream",
     "text": [
      "1\n",
      "34\n"
     ]
    }
   ],
   "source": [
    "def fib(n):\n",
    "    a = 0\n",
    "    b = 1\n",
    "    if n > 0:\n",
    "        for i in range(1,n):\n",
    "            c = a + b    # Carrying out fibonacci ('c' will be carried out fibonacci till the entire 'for' loop iterates)\n",
    "            a = b        # auto incrementing 'a' by assigning it to 'b'\n",
    "            b = c        # auto incrementing 'b' by assigning it to 'c'\n",
    "        return b\n",
    "    if n <= 0:\n",
    "        print(\"wrong input\")\n",
    "    if n == 1:\n",
    "        return b       \n",
    "print(fib(1))\n",
    "print(fib(9)) "
   ]
  },
  {
   "cell_type": "markdown",
   "id": "a5944db9",
   "metadata": {},
   "source": [
    "# Sum of n natural numbers"
   ]
  },
  {
   "cell_type": "code",
   "execution_count": 12,
   "id": "e76781c5",
   "metadata": {},
   "outputs": [
    {
     "name": "stdout",
     "output_type": "stream",
     "text": [
      "Enter a num:5\n",
      "15\n"
     ]
    }
   ],
   "source": [
    "a=0\n",
    "b=int(input(\"Enter a num:\"))\n",
    "for i in range(1,b+1):\n",
    "    a+=i\n",
    "#   print(a) This is a continuous print condition given inside for loop and prints o/p at every single condition execution\n",
    "print(a) #This will generate o/p at the complete execution of for loop\n",
    "    "
   ]
  },
  {
   "cell_type": "markdown",
   "id": "418bf6bf",
   "metadata": {},
   "source": [
    "# Sum of n natural numbers"
   ]
  },
  {
   "cell_type": "code",
   "execution_count": 11,
   "id": "f578e36d",
   "metadata": {},
   "outputs": [
    {
     "name": "stdout",
     "output_type": "stream",
     "text": [
      "Enter a num:5\n",
      "1\n",
      "3\n",
      "6\n",
      "10\n",
      "15\n"
     ]
    }
   ],
   "source": [
    "a=0\n",
    "b=int(input(\"Enter a num:\"))\n",
    "for i in range(1,b+1):\n",
    "    a+=i\n",
    "    print(a) #This is a continuous print condition given inside for loop and prints o/p at every single condition execution"
   ]
  },
  {
   "cell_type": "markdown",
   "id": "37b6cab5",
   "metadata": {},
   "source": [
    "# Use of .split() method for string"
   ]
  },
  {
   "cell_type": "code",
   "execution_count": 11,
   "id": "7bec98e0",
   "metadata": {},
   "outputs": [
    {
     "name": "stdout",
     "output_type": "stream",
     "text": [
      "['Thi', ' i', ' Sha', 'hank Sadadekar']\n",
      "['This', 'is', 'Shashank', 'Sadadekar']\n"
     ]
    }
   ],
   "source": [
    "a=\"This is Shashank Sadadekar\"\n",
    "a1=a.split('s') #Lowercase s gets eliminated\n",
    "a2=a.split()\n",
    "print(a1)\n",
    "print(a2)"
   ]
  },
  {
   "cell_type": "code",
   "execution_count": null,
   "id": "314e48c0",
   "metadata": {},
   "outputs": [],
   "source": []
  },
  {
   "cell_type": "code",
   "execution_count": 37,
   "id": "4dcd2775",
   "metadata": {},
   "outputs": [
    {
     "name": "stdout",
     "output_type": "stream",
     "text": [
      "ThisisShashankSadadekar\n",
      "<class 'str'>\n",
      "['T', 'h', 'i', 's', 'i', 's', 'S', 'h', 'a', 's', 'h', 'a', 'n', 'k', 'S', 'a', 'd', 'a', 'd', 'e', 'k', 'a', 'r']\n",
      "<class 'list'>\n"
     ]
    }
   ],
   "source": [
    "a=\"This is Shashank Sadadekar\"\n",
    "b=''\n",
    "for i in a:\n",
    "    if i != \" \":\n",
    "        b+=i \n",
    "        \n",
    "else:\n",
    "    print(b)                              #Output printed with whitespaces removed\n",
    "    print(type(b))\n",
    "    c=print(list(b))                      #Output printed with whitespaces removed in list format\n",
    "    print(type(list(b)))"
   ]
  },
  {
   "cell_type": "markdown",
   "id": "152de4f0",
   "metadata": {},
   "source": [
    "# Replace all blank spaces in a str with hyphen"
   ]
  },
  {
   "cell_type": "code",
   "execution_count": 21,
   "id": "c78537b9",
   "metadata": {},
   "outputs": [
    {
     "name": "stdout",
     "output_type": "stream",
     "text": [
      "This-is-Shashank-Sadadekar\n"
     ]
    }
   ],
   "source": [
    "a=\"This is Shashank Sadadekar\"\n",
    "b=''\n",
    "for i in a:\n",
    "    if i == \" \":\n",
    "        b=a.replace(\" \",'-')\n",
    "print(b)\n"
   ]
  },
  {
   "cell_type": "markdown",
   "id": "6d384519",
   "metadata": {},
   "source": [
    "# Replace all blank spaces in a str with hyphen - Other method"
   ]
  },
  {
   "cell_type": "code",
   "execution_count": 24,
   "id": "117f90f1",
   "metadata": {},
   "outputs": [
    {
     "name": "stdout",
     "output_type": "stream",
     "text": [
      "This-is-Shashank-Sadadekar\n"
     ]
    }
   ],
   "source": [
    "a=\"This is Shashank Sadadekar\"\n",
    "b=''\n",
    "for i in range(len(a)):\n",
    "    if a[i] == \" \":\n",
    "        b=a.replace(\" \",'-')\n",
    "print(b)\n"
   ]
  },
  {
   "cell_type": "markdown",
   "id": "bcd894f6",
   "metadata": {},
   "source": [
    "# Str converted into dict key:value pair with count of letters in given str"
   ]
  },
  {
   "cell_type": "code",
   "execution_count": 16,
   "id": "d4c12dd0",
   "metadata": {},
   "outputs": [
    {
     "name": "stdout",
     "output_type": "stream",
     "text": [
      "{'T': 1, 'h': 3, 'i': 2, 's': 3, ' ': 3, 'S': 2, 'a': 5, 'n': 1, 'k': 2, 'd': 2, 'e': 1, 'r': 1}\n"
     ]
    }
   ],
   "source": [
    "a=\"This is Shashank Sadadekar\"\n",
    "b = {}\n",
    "for i in a:\n",
    "    if i not in b:\n",
    "        b[i] = 1\n",
    "    else:\n",
    "        b[i] += 1 \n",
    "print(b)"
   ]
  },
  {
   "cell_type": "markdown",
   "id": "bc763fe8",
   "metadata": {},
   "source": [
    "# BMI calculation using user defined function"
   ]
  },
  {
   "cell_type": "code",
   "execution_count": 6,
   "id": "d3636dac",
   "metadata": {},
   "outputs": [
    {
     "name": "stdout",
     "output_type": "stream",
     "text": [
      "Enter weight (Kg):70\n",
      "Enter height (m):1.70\n",
      "Congrats!! You are Healthy\n"
     ]
    },
    {
     "data": {
      "text/plain": [
       "('Your BMI is:', 24.22)"
      ]
     },
     "execution_count": 6,
     "metadata": {},
     "output_type": "execute_result"
    }
   ],
   "source": [
    "Weight = float(input(\"Enter weight (Kg):\"))\n",
    "Height = float(input(\"Enter height (m):\"))\n",
    "def BMI():\n",
    "    BMI = Weight / (Height ** 2)\n",
    "    '''round() function used to round off the value after decimal to 2 digits'''\n",
    "    if BMI <= 18.50:\n",
    "        print(\"You are underweight\")\n",
    "    elif 18.51 <= BMI <= 24.90:\n",
    "        print(\"Congrats!! You are Healthy\")\n",
    "    elif 24.91 <= BMI <= 29.90:\n",
    "        print(\"You are overweight\")\n",
    "    else:\n",
    "        print(\"Oops!! You are obese\")\n",
    "    return 'Your BMI is:', round(BMI,2)\n",
    "BMI()"
   ]
  },
  {
   "cell_type": "markdown",
   "id": "aeaa65f4",
   "metadata": {},
   "source": [
    "# User defined parameterised func to find max num in given num set"
   ]
  },
  {
   "cell_type": "code",
   "execution_count": 7,
   "id": "4823e401",
   "metadata": {},
   "outputs": [
    {
     "name": "stdout",
     "output_type": "stream",
     "text": [
      "pls provide correct input\n",
      "a is max\n",
      "c is max\n"
     ]
    }
   ],
   "source": [
    "def max_num(a,b,c):\n",
    "            if (a>b and a>c):\n",
    "                print('a is max')\n",
    "            elif (b>c and b>a):\n",
    "                print('b is max')\n",
    "            elif (c>a and c>b):\n",
    "                print('c is max')\n",
    "            else :\n",
    "                print('pls provide correct input')\n",
    "max_num(0,0,0)\n",
    "max_num(0,-2,-1)\n",
    "max_num(0,1,2)  "
   ]
  },
  {
   "cell_type": "markdown",
   "id": "e3d908d5",
   "metadata": {},
   "source": [
    "# Swap first & last element in list using user def func"
   ]
  },
  {
   "cell_type": "code",
   "execution_count": 8,
   "id": "ac0557ef",
   "metadata": {},
   "outputs": [
    {
     "name": "stdout",
     "output_type": "stream",
     "text": [
      "['Learnbay', 'is', 'This']\n"
     ]
    }
   ],
   "source": [
    "a=['This', 'is', 'Learnbay']\n",
    "def swap():\n",
    "    '''Swapping first & last element'''\n",
    "    a[0],a[2] = a[2],a[0]\n",
    "    print(a)\n",
    "swap()"
   ]
  },
  {
   "cell_type": "markdown",
   "id": "4f79e32c",
   "metadata": {},
   "source": [
    "# Ascending order bubblesorted list using user def function"
   ]
  },
  {
   "cell_type": "code",
   "execution_count": 12,
   "id": "3cd8c02a",
   "metadata": {},
   "outputs": [
    {
     "data": {
      "text/plain": [
       "[-2, 0, 1, 2, 4, 10, 56, 65, 87]"
      ]
     },
     "execution_count": 12,
     "metadata": {},
     "output_type": "execute_result"
    }
   ],
   "source": [
    "#Ascending Sort\n",
    "def sort_list(a):\n",
    "    for i in range(len(a)):\n",
    "        for j in range(i+1,len(a)):\n",
    "            if a[i] >a[j]:\n",
    "                a[i],a[j] = a[j],a[i]\n",
    "    return a\n",
    "sort_list([1,2,0,-2,4,87,56,65,10])\n"
   ]
  },
  {
   "cell_type": "markdown",
   "id": "4af87586",
   "metadata": {},
   "source": [
    "# Descending order sorted list using user def function"
   ]
  },
  {
   "cell_type": "code",
   "execution_count": 13,
   "id": "71e62887",
   "metadata": {},
   "outputs": [
    {
     "data": {
      "text/plain": [
       "[87, 65, 56, 10, 4, 2, 1, 0, -2]"
      ]
     },
     "execution_count": 13,
     "metadata": {},
     "output_type": "execute_result"
    }
   ],
   "source": [
    "#Descending Sort\n",
    "def sort_list(a):\n",
    "    for i in range(len(a)):\n",
    "        for j in range(i+1,len(a)):\n",
    "            if a[i] <a[j]:\n",
    "                a[i],a[j] = a[j],a[i]\n",
    "    return a\n",
    "sort_list([1,2,0,-2,4,87,56,65,10])"
   ]
  },
  {
   "cell_type": "code",
   "execution_count": null,
   "id": "3b65a068",
   "metadata": {},
   "outputs": [],
   "source": []
  },
  {
   "cell_type": "code",
   "execution_count": 1,
   "id": "910a582c",
   "metadata": {},
   "outputs": [
    {
     "name": "stdout",
     "output_type": "stream",
     "text": [
      "Enter principal amt:10000\n",
      "Enter period in years:10\n",
      "Enter int rate:10\n",
      "10000.0\n"
     ]
    }
   ],
   "source": [
    "principal = float(input(\"Enter principal amt:\"))\n",
    "period = float(input(\"Enter period in years:\"))\n",
    "int_rate = float(input(\"Enter int rate:\"))\n",
    "def SI():\n",
    "    Final_Amt = 0.0\n",
    "    SI = (principal*period*int_rate)/100\n",
    "    Final_Amt += SI\n",
    "    print(Final_Amt)\n",
    "SI()"
   ]
  },
  {
   "cell_type": "markdown",
   "id": "9e8d41fb",
   "metadata": {},
   "source": [
    "# Calculator Program"
   ]
  },
  {
   "cell_type": "code",
   "execution_count": 1,
   "id": "29e34806",
   "metadata": {},
   "outputs": [
    {
     "name": "stdout",
     "output_type": "stream",
     "text": [
      "Enter value 1: 5\n",
      "Enter value 2: 6\n",
      "Enter desired operation:\n",
      " >>> Press 1 for ADD\n",
      " >>> Press 2 for SUB\n",
      " >>> Press 3 for MUL\n",
      " >>> Press 4 for DIV\n",
      "3\n",
      "30.0\n"
     ]
    }
   ],
   "source": [
    "n1=float(input(\"Enter value 1: \"))\n",
    "n2=float(input(\"Enter value 2: \"))\n",
    "print(\"Enter desired operation:\\n >>> Press 1 for ADD\\n >>> Press 2 for SUB\\n >>> Press 3 for MUL\\n >>> Press 4 for DIV\")\n",
    "a =input()\n",
    "if a == '1':\n",
    "    n3 = n1+n2\n",
    "    print(n3)\n",
    "elif a =='2':\n",
    "    n3 = n1-n2\n",
    "    print(n3)\n",
    "elif a == '3':\n",
    "    n3 = n1*n2\n",
    "    print(n3)\n",
    "elif a == '4':\n",
    "    n3 = n1/n2\n",
    "    print(n3)\n",
    "else:\n",
    "    print(\"Please check your input\")"
   ]
  },
  {
   "cell_type": "code",
   "execution_count": null,
   "id": "40dd9696",
   "metadata": {},
   "outputs": [],
   "source": []
  },
  {
   "cell_type": "markdown",
   "id": "0e28957c",
   "metadata": {},
   "source": [
    "# Separately print odd string from given input "
   ]
  },
  {
   "cell_type": "code",
   "execution_count": 13,
   "id": "ec10c999",
   "metadata": {},
   "outputs": [
    {
     "name": "stdout",
     "output_type": "stream",
     "text": [
      "Enter a string:Shashank123\n",
      "Even string is: Sahn13\n",
      "Odd string is: hsak2\n"
     ]
    }
   ],
   "source": [
    "a=input(\"Enter a string:\")\n",
    "b=''\n",
    "c=''\n",
    "for i in range(len(a)):\n",
    "    if i%2 == 0:\n",
    "        b = b + a[i]      \n",
    "    else:\n",
    "        c = c + a[i]\n",
    "        \n",
    "print('Even string is:',b)\n",
    "\n",
    "print('Odd string is:',c)"
   ]
  },
  {
   "cell_type": "markdown",
   "id": "deda3280",
   "metadata": {},
   "source": [
    "# List Intersection"
   ]
  },
  {
   "cell_type": "code",
   "execution_count": 9,
   "id": "f9f4e3b2",
   "metadata": {},
   "outputs": [
    {
     "name": "stdout",
     "output_type": "stream",
     "text": [
      "Intersection elements in both lists found: ['shashank', 1, '4']\n"
     ]
    }
   ],
   "source": [
    "a=['shashank',1,3,'4']\n",
    "b=['shashank',5,'3','4',1]\n",
    "c=[]\n",
    "for i in a:\n",
    "    for j in b:\n",
    "        if i != j:\n",
    "            continue\n",
    "        else:\n",
    "            c.append(i)\n",
    "print('Intersection elements in both lists found:',c)   "
   ]
  },
  {
   "cell_type": "code",
   "execution_count": null,
   "id": "c113aba3",
   "metadata": {},
   "outputs": [],
   "source": []
  },
  {
   "cell_type": "markdown",
   "id": "0edcbd4f",
   "metadata": {},
   "source": [
    "# List Union"
   ]
  },
  {
   "cell_type": "code",
   "execution_count": 36,
   "id": "82d1011c",
   "metadata": {},
   "outputs": [
    {
     "name": "stdout",
     "output_type": "stream",
     "text": [
      "{1, 3, 5, 'shashank', '4', '3'}\n"
     ]
    }
   ],
   "source": [
    "a=['shashank',1,3,'4']\n",
    "b=['shashank',5,'3','4',1]\n",
    "a.extend(b)    #extend function to make the list union\n",
    "print(set(a))  #set function to remove duplicates\n"
   ]
  },
  {
   "cell_type": "markdown",
   "id": "14459435",
   "metadata": {},
   "source": [
    "#  To form a new string of first 2 & last 2 characters from a given string"
   ]
  },
  {
   "cell_type": "code",
   "execution_count": 10,
   "id": "4b1721fb",
   "metadata": {},
   "outputs": [
    {
     "name": "stdout",
     "output_type": "stream",
     "text": [
      "Enter any string:Shashank123\n",
      "First & last characters of str: Sh32\n"
     ]
    }
   ],
   "source": [
    "a=input(\"Enter any string:\")\n",
    "i = 0\n",
    "j = len(a) -1\n",
    "b = ''\n",
    "c = ''\n",
    "d = ''\n",
    "while i >= 0:\n",
    "    b += a[i]\n",
    "    i += 1\n",
    "    if i == 2:\n",
    "        break\n",
    "while j <= 10:\n",
    "    c += a[j]\n",
    "    j -= 1\n",
    "    if j == 8:\n",
    "        break\n",
    "d = d+b+c\n",
    "\n",
    "print(\"First & last characters of str:\", d)"
   ]
  },
  {
   "cell_type": "code",
   "execution_count": null,
   "id": "afc66df7",
   "metadata": {},
   "outputs": [],
   "source": []
  },
  {
   "cell_type": "code",
   "execution_count": null,
   "id": "8e5db287",
   "metadata": {},
   "outputs": [],
   "source": []
  },
  {
   "cell_type": "code",
   "execution_count": 5,
   "id": "fa24351e",
   "metadata": {},
   "outputs": [
    {
     "name": "stdout",
     "output_type": "stream",
     "text": [
      "['Learnbay', '5', 4, 3, '5', 2]\n"
     ]
    }
   ],
   "source": [
    "a = ['Learnbay', '5', 4, 3, '5', 2]\n",
    "b =[]\n",
    "for i in a:\n",
    "    if a.count('i') == 2:\n",
    "        a.remove(i)\n",
    "    else:\n",
    "        b.append(i)        \n",
    "print(b)\n"
   ]
  },
  {
   "cell_type": "markdown",
   "id": "3c613cfa",
   "metadata": {},
   "source": [
    "# remove ith occurence of given words where words can repeat"
   ]
  },
  {
   "cell_type": "code",
   "execution_count": 27,
   "id": "4526da49",
   "metadata": {},
   "outputs": [
    {
     "name": "stdout",
     "output_type": "stream",
     "text": [
      "['Learnbay', 4, 3, '5', 2]\n"
     ]
    }
   ],
   "source": [
    "a = ['Learnbay', '5', 4, 3, '5', 2]\n",
    "for i in a:\n",
    "    if a.count(i) == 2:\n",
    "        a.remove(i)\n",
    "print(a)    "
   ]
  },
  {
   "cell_type": "code",
   "execution_count": null,
   "id": "9984df30",
   "metadata": {},
   "outputs": [],
   "source": []
  },
  {
   "cell_type": "code",
   "execution_count": null,
   "id": "8439bb4b",
   "metadata": {},
   "outputs": [],
   "source": []
  },
  {
   "cell_type": "code",
   "execution_count": 3,
   "id": "5e049386",
   "metadata": {},
   "outputs": [],
   "source": [
    "# Keyword args"
   ]
  },
  {
   "cell_type": "code",
   "execution_count": 2,
   "id": "4169f561",
   "metadata": {},
   "outputs": [
    {
     "name": "stdout",
     "output_type": "stream",
     "text": [
      "3 3\n"
     ]
    }
   ],
   "source": [
    "def func(x = 1, y = 2):\n",
    "    x = x + y\n",
    "    y += 1\n",
    "    print(x, y)\n",
    "func(y = 2, x = 1)"
   ]
  },
  {
   "cell_type": "code",
   "execution_count": 28,
   "id": "c1c1cdc8",
   "metadata": {},
   "outputs": [],
   "source": [
    "def f(a=1, b=1, c=1): #All keyword args\n",
    "    pass\n",
    "f()"
   ]
  },
  {
   "cell_type": "code",
   "execution_count": null,
   "id": "0aa0ac67",
   "metadata": {},
   "outputs": [],
   "source": []
  },
  {
   "cell_type": "markdown",
   "id": "80fe4a1e",
   "metadata": {},
   "source": [
    "# File Handling"
   ]
  },
  {
   "cell_type": "code",
   "execution_count": 6,
   "id": "420169e1",
   "metadata": {},
   "outputs": [
    {
     "name": "stdout",
     "output_type": "stream",
     "text": [
      "File name: Python.txt\n",
      "File mode: w+\n",
      "File status: False\n"
     ]
    }
   ],
   "source": [
    "My_File = open(\"Python.txt\",'w+')\n",
    "print(\"File name:\",My_File.name)\n",
    "print(\"File mode:\",My_File.mode)\n",
    "print(\"File status:\",My_File.closed)  # This only checks if file is closed or open & returns bool o/p"
   ]
  },
  {
   "cell_type": "code",
   "execution_count": 32,
   "id": "3837d5bf",
   "metadata": {},
   "outputs": [
    {
     "data": {
      "text/plain": [
       "192"
      ]
     },
     "execution_count": 32,
     "metadata": {},
     "output_type": "execute_result"
    }
   ],
   "source": [
    "My_File.write('Python file handling (a.k.a File I/O) is one of the essential topics for programmers and automation testers. It is required to work with files for either writing to a file or read data from it')"
   ]
  },
  {
   "cell_type": "code",
   "execution_count": 33,
   "id": "82263c37",
   "metadata": {},
   "outputs": [
    {
     "data": {
      "text/plain": [
       "192"
      ]
     },
     "execution_count": 33,
     "metadata": {},
     "output_type": "execute_result"
    }
   ],
   "source": [
    "My_File.tell()"
   ]
  },
  {
   "cell_type": "code",
   "execution_count": 35,
   "id": "5c3fa54a",
   "metadata": {},
   "outputs": [
    {
     "data": {
      "text/plain": [
       "2"
      ]
     },
     "execution_count": 35,
     "metadata": {},
     "output_type": "execute_result"
    }
   ],
   "source": [
    "My_File.seek(2)"
   ]
  },
  {
   "cell_type": "code",
   "execution_count": 38,
   "id": "99d636af",
   "metadata": {},
   "outputs": [],
   "source": [
    "My_File.close()  # Explicitly calling everytime required to close the file once all our file operations are completed"
   ]
  },
  {
   "cell_type": "code",
   "execution_count": 39,
   "id": "9a813e28",
   "metadata": {},
   "outputs": [
    {
     "data": {
      "text/plain": [
       "True"
      ]
     },
     "execution_count": 39,
     "metadata": {},
     "output_type": "execute_result"
    }
   ],
   "source": [
    "My_File.closed"
   ]
  },
  {
   "cell_type": "markdown",
   "id": "059ba333",
   "metadata": {},
   "source": [
    "# Recommended"
   ]
  },
  {
   "cell_type": "code",
   "execution_count": null,
   "id": "c149a7ab",
   "metadata": {},
   "outputs": [],
   "source": [
    "# For 'with' block, no need to use filename.close() method explicitly as the file gets closed automatically once interpreter comes out of with block of code "
   ]
  },
  {
   "cell_type": "code",
   "execution_count": null,
   "id": "3eb3c125",
   "metadata": {},
   "outputs": [],
   "source": [
    "#Syntax: with open(\"File_name\",'mode') as variable:"
   ]
  },
  {
   "cell_type": "code",
   "execution_count": 67,
   "id": "eb1e0560",
   "metadata": {},
   "outputs": [
    {
     "name": "stdout",
     "output_type": "stream",
     "text": [
      "175\n",
      "10\n",
      "10\n",
      "are a\n",
      " grea\n",
      "['t tool to debug large programs. It’s always better to think about a scalable design from the beginning, as you won’t regret it later that you didn’t do it.']\n",
      "False\n",
      "True\n"
     ]
    }
   ],
   "source": [
    "with open(\"Python.txt\",\"w+\") as sample_file:\n",
    "    sample_file.write(\"Log files are a great tool to debug large programs. It’s always better to think about a scalable design from the beginning, as you won’t regret it later that you didn’t do it.\")\n",
    "    print(sample_file.tell())\n",
    "    print(sample_file.seek(10))\n",
    "    print(sample_file.tell())\n",
    "    print(sample_file.read(5))       # characters upto argument is read. No argument means this method reads till last\n",
    "    print(sample_file.readline(5))   # Next line from live cursor position is read till the argument given\n",
    "    print(sample_file.readlines(10)) # No argument is required as it reads all the remaining lines\n",
    "    print(sample_file.closed)        # Here sample_file is still open so retuned False as with block of code is not completed\n",
    "print(sample_file.closed)            # Here sample_file is closed so retuned True as 'with' block of code is completed"
   ]
  },
  {
   "cell_type": "code",
   "execution_count": 65,
   "id": "16f56625",
   "metadata": {},
   "outputs": [
    {
     "data": {
      "text/plain": [
       "True"
      ]
     },
     "execution_count": 65,
     "metadata": {},
     "output_type": "execute_result"
    }
   ],
   "source": [
    "sample_file.closed   "
   ]
  },
  {
   "cell_type": "code",
   "execution_count": 85,
   "id": "1b501911",
   "metadata": {},
   "outputs": [
    {
     "name": "stdout",
     "output_type": "stream",
     "text": [
      "\n"
     ]
    }
   ],
   "source": [
    "#If any exception occurs code exits without closing file so use try-finally block to close the file & exit code\n",
    "try:\n",
    "    sample_file = open(\"file1\",'w+')\n",
    "    sample_file.write('''automated software testing.\n",
    "\n",
    "Let’s take an example,''')\n",
    "    print(sample_file.read(3))\n",
    "finally:\n",
    "    sample_file.close() "
   ]
  },
  {
   "cell_type": "code",
   "execution_count": 86,
   "id": "200235e0",
   "metadata": {},
   "outputs": [
    {
     "data": {
      "text/plain": [
       "True"
      ]
     },
     "execution_count": 86,
     "metadata": {},
     "output_type": "execute_result"
    }
   ],
   "source": [
    "sample_file.closed"
   ]
  },
  {
   "cell_type": "code",
   "execution_count": 117,
   "id": "082fa199",
   "metadata": {},
   "outputs": [
    {
     "name": "stdout",
     "output_type": "stream",
     "text": [
      "\n",
      "51\n",
      "Log files are a great tool to debug large programs.\n",
      "51\n",
      "70\n",
      "121\n",
      "0\n",
      "\n",
      "['Log files are a great tool to debug large programs.It’s always better to think about a scalable design from the beginning']\n",
      "False\n"
     ]
    },
    {
     "data": {
      "text/plain": [
       "True"
      ]
     },
     "execution_count": 117,
     "metadata": {},
     "output_type": "execute_result"
    }
   ],
   "source": [
    "try:\n",
    "    sample_file = open(\"Python.txt\",\"w+\")\n",
    "    sample_file.write(\"Log files are a great tool to debug large programs.\")\n",
    "    print(sample_file.read())\n",
    "    print(sample_file.tell())\n",
    "    sample_file.seek(0)\n",
    "    print(sample_file.read())\n",
    "    print(sample_file.tell())\n",
    "    '''Append & write operation'''\n",
    "    sample_file = open(\"Python.txt\",\"a+\")\n",
    "    print(sample_file.write('It’s always better to think about a scalable design from the beginning'))\n",
    "    print(sample_file.tell())\n",
    "    print(sample_file.seek(0))\n",
    "    print(sample_file.readline(0))\n",
    "    print(sample_file.readlines())\n",
    "    print(sample_file.closed)\n",
    "finally:\n",
    "    sample_file.close()\n",
    "sample_file.closed"
   ]
  },
  {
   "cell_type": "markdown",
   "id": "5b307e0f",
   "metadata": {},
   "source": [
    "# To read total letters in a file including space"
   ]
  },
  {
   "cell_type": "code",
   "execution_count": 2,
   "id": "a12f2aa2",
   "metadata": {},
   "outputs": [
    {
     "name": "stdout",
     "output_type": "stream",
     "text": [
      "Log files are a great tool to debug large programs.Hello World \n",
      "Count of Letters: 62 \n",
      "Current Cursor at: 124\n"
     ]
    }
   ],
   "source": [
    "sample_file = open(\"Python.txt\",\"w+\")\n",
    "sample_file.write(\"Log files are a great tool to debug large programs.\")\n",
    "count1= 0\n",
    "sample_file.write(\"Hello World\")\n",
    "for i in sample_file:\n",
    "    for j in i:\n",
    "            count1+=1\n",
    "else:\n",
    "    print(i,\"\\nCount of Letters:\",count1,\"\\nCurrent Cursor at:\",sample_file.tell())"
   ]
  },
  {
   "cell_type": "code",
   "execution_count": null,
   "id": "2286808e",
   "metadata": {},
   "outputs": [],
   "source": []
  },
  {
   "cell_type": "code",
   "execution_count": 7,
   "id": "c1c287c9",
   "metadata": {},
   "outputs": [],
   "source": [
    "sample_file.close()"
   ]
  },
  {
   "cell_type": "code",
   "execution_count": 4,
   "id": "c4cbc4e7",
   "metadata": {},
   "outputs": [],
   "source": [
    "sample_file.close()"
   ]
  },
  {
   "cell_type": "code",
   "execution_count": 5,
   "id": "874baa6b",
   "metadata": {},
   "outputs": [
    {
     "data": {
      "text/plain": [
       "'C:\\\\Users\\\\HP\\\\Python'"
      ]
     },
     "execution_count": 5,
     "metadata": {},
     "output_type": "execute_result"
    }
   ],
   "source": [
    "import os\n",
    "os.getcwd()"
   ]
  },
  {
   "cell_type": "markdown",
   "id": "f04121db",
   "metadata": {},
   "source": [
    "# To read number of total lines in a text file created"
   ]
  },
  {
   "cell_type": "code",
   "execution_count": 12,
   "id": "8f0a9a82",
   "metadata": {},
   "outputs": [
    {
     "name": "stdout",
     "output_type": "stream",
     "text": [
      "8\n"
     ]
    }
   ],
   "source": [
    "with open(r\"C:\\\\Users\\\\HP\\\\Python\\\\myfile.txt\",'r') as var: # raw string to be declared with r as it contains \\(escape seq char)\n",
    "    a = len(var.readlines())\n",
    "print(a)"
   ]
  },
  {
   "cell_type": "code",
   "execution_count": null,
   "id": "72f89c00",
   "metadata": {},
   "outputs": [],
   "source": []
  },
  {
   "cell_type": "code",
   "execution_count": 1,
   "id": "18951d11",
   "metadata": {},
   "outputs": [
    {
     "name": "stdout",
     "output_type": "stream",
     "text": [
      "C:\\Users\\HP\\Python\n"
     ]
    }
   ],
   "source": [
    "import os\n",
    "print(os.getcwd())"
   ]
  },
  {
   "cell_type": "markdown",
   "id": "a66eb062",
   "metadata": {},
   "source": [
    "# To copy one file contents into another"
   ]
  },
  {
   "cell_type": "code",
   "execution_count": 37,
   "id": "21cd6390",
   "metadata": {},
   "outputs": [
    {
     "name": "stdout",
     "output_type": "stream",
     "text": [
      "<_io.TextIOWrapper name='C:\\\\Users\\\\HP\\\\Python\\\\File2.txt' mode='w' encoding='cp1252'>\n"
     ]
    },
    {
     "data": {
      "text/plain": [
       "True"
      ]
     },
     "execution_count": 37,
     "metadata": {},
     "output_type": "execute_result"
    }
   ],
   "source": [
    "var1 = open(r\"C:\\Users\\HP\\Python\\File1.txt\",\"r\") \n",
    "a = var1.readlines()\n",
    "var2 = open(r\"C:\\Users\\HP\\Python\\File2.txt\",\"w\")\n",
    "var2.writelines(a)\n",
    "print(var2)\n",
    "var1.close()\n",
    "var1.closed\n",
    "var2.close()\n",
    "var2.closed"
   ]
  },
  {
   "cell_type": "code",
   "execution_count": 38,
   "id": "a82a88de",
   "metadata": {},
   "outputs": [
    {
     "name": "stdout",
     "output_type": "stream",
     "text": [
      "C:\\Users\\HP\\Python\n"
     ]
    }
   ],
   "source": [
    "import os\n",
    "print(os.getcwd())"
   ]
  },
  {
   "cell_type": "markdown",
   "id": "ff0536ac",
   "metadata": {},
   "source": [
    "# To count repetitive words in a text file"
   ]
  },
  {
   "cell_type": "code",
   "execution_count": 136,
   "id": "42edef07",
   "metadata": {},
   "outputs": [
    {
     "name": "stdout",
     "output_type": "stream",
     "text": [
      "2\n"
     ]
    }
   ],
   "source": [
    "var1 = open(r\"C:\\Users\\HP\\Python\\File1.txt\",\"r+\")\n",
    "a=var1.read()\n",
    "b=a.count(\"Python\")\n",
    "print(b)        "
   ]
  },
  {
   "cell_type": "markdown",
   "id": "bf2f6de4",
   "metadata": {},
   "source": [
    "# To count blank spaces in a text file"
   ]
  },
  {
   "cell_type": "code",
   "execution_count": 135,
   "id": "769077f3",
   "metadata": {},
   "outputs": [
    {
     "name": "stdout",
     "output_type": "stream",
     "text": [
      "56\n"
     ]
    }
   ],
   "source": [
    "var1 = open(r\"C:\\Users\\HP\\Python\\File1.txt\",\"r+\")\n",
    "a=var1.read()\n",
    "b=a.count(\" \")\n",
    "print(b)"
   ]
  },
  {
   "cell_type": "code",
   "execution_count": 26,
   "id": "bc16be09",
   "metadata": {},
   "outputs": [
    {
     "ename": "FileNotFoundError",
     "evalue": "[Errno 2] No such file or directory: 'C:\\\\Users\\\\HP\\\\Python\\\\File1.txt'",
     "output_type": "error",
     "traceback": [
      "\u001b[1;31m---------------------------------------------------------------------------\u001b[0m",
      "\u001b[1;31mFileNotFoundError\u001b[0m                         Traceback (most recent call last)",
      "\u001b[1;32m~\\AppData\\Local\\Temp/ipykernel_11640/1234091118.py\u001b[0m in \u001b[0;36m<module>\u001b[1;34m\u001b[0m\n\u001b[1;32m----> 1\u001b[1;33m \u001b[0mvar1\u001b[0m \u001b[1;33m=\u001b[0m \u001b[0mopen\u001b[0m\u001b[1;33m(\u001b[0m\u001b[1;34mr\"C:\\Users\\HP\\Python\\File1.txt\"\u001b[0m\u001b[1;33m,\u001b[0m\u001b[1;34m\"r+\"\u001b[0m\u001b[1;33m)\u001b[0m\u001b[1;33m\u001b[0m\u001b[1;33m\u001b[0m\u001b[0m\n\u001b[0m\u001b[0;32m      2\u001b[0m \u001b[0ma\u001b[0m\u001b[1;33m=\u001b[0m\u001b[0mvar1\u001b[0m\u001b[1;33m.\u001b[0m\u001b[0mread\u001b[0m\u001b[1;33m(\u001b[0m\u001b[1;33m)\u001b[0m\u001b[1;33m\u001b[0m\u001b[1;33m\u001b[0m\u001b[0m\n\u001b[0;32m      3\u001b[0m \u001b[0mb\u001b[0m \u001b[1;33m=\u001b[0m \u001b[0ma\u001b[0m\u001b[1;33m.\u001b[0m\u001b[0mcapitalize\u001b[0m\u001b[1;33m(\u001b[0m\u001b[1;33m)\u001b[0m\u001b[1;33m\u001b[0m\u001b[1;33m\u001b[0m\u001b[0m\n\u001b[0;32m      4\u001b[0m \u001b[0mprint\u001b[0m\u001b[1;33m(\u001b[0m\u001b[0mb\u001b[0m\u001b[1;33m)\u001b[0m\u001b[1;33m\u001b[0m\u001b[1;33m\u001b[0m\u001b[0m\n",
      "\u001b[1;31mFileNotFoundError\u001b[0m: [Errno 2] No such file or directory: 'C:\\\\Users\\\\HP\\\\Python\\\\File1.txt'"
     ]
    }
   ],
   "source": [
    "var1 = open(r\"C:\\Users\\HP\\Python\\File1.txt\",\"r+\")\n",
    "a=var1.read()\n",
    "b = a.capitalize()\n",
    "print(b)"
   ]
  },
  {
   "cell_type": "code",
   "execution_count": 34,
   "id": "7b089ed1",
   "metadata": {},
   "outputs": [],
   "source": [
    "var1 = open(\"Python.txt\",'w+')\n",
    "a = var1.read()\n",
    "var1.close()"
   ]
  },
  {
   "cell_type": "code",
   "execution_count": 35,
   "id": "313efb63",
   "metadata": {},
   "outputs": [
    {
     "data": {
      "text/plain": [
       "True"
      ]
     },
     "execution_count": 35,
     "metadata": {},
     "output_type": "execute_result"
    }
   ],
   "source": [
    "var1.closed"
   ]
  },
  {
   "cell_type": "code",
   "execution_count": 36,
   "id": "fb98fe4d",
   "metadata": {},
   "outputs": [
    {
     "data": {
      "text/plain": [
       "'C:\\\\Users\\\\HP\\\\Python'"
      ]
     },
     "execution_count": 36,
     "metadata": {},
     "output_type": "execute_result"
    }
   ],
   "source": [
    "import os\n",
    "os.getcwd()"
   ]
  },
  {
   "cell_type": "markdown",
   "id": "85c4d28e",
   "metadata": {},
   "source": [
    "# Reading File content and capitalize first letter of each word"
   ]
  },
  {
   "cell_type": "code",
   "execution_count": 18,
   "id": "1ba3c560",
   "metadata": {},
   "outputs": [
    {
     "name": "stdout",
     "output_type": "stream",
     "text": [
      "Hi shashank\n",
      "11\n"
     ]
    }
   ],
   "source": [
    "var1 = open(r\"C:\\\\Users\\\\HP\\\\Python\\\\File.txt\",'w+')\n",
    "b= var1.write(\"Hi shashank\")\n",
    "var1.seek(0)\n",
    "print(var1.read())\n",
    "print(var1.tell())"
   ]
  },
  {
   "cell_type": "code",
   "execution_count": null,
   "id": "38b275f2",
   "metadata": {},
   "outputs": [],
   "source": []
  },
  {
   "cell_type": "markdown",
   "id": "ce60a19b",
   "metadata": {},
   "source": [
    "# Python interview questions from python.org site"
   ]
  },
  {
   "cell_type": "markdown",
   "id": "f24b15de",
   "metadata": {},
   "source": [
    "# To find repeated numbers & print them"
   ]
  },
  {
   "cell_type": "code",
   "execution_count": 8,
   "id": "738c78a9",
   "metadata": {},
   "outputs": [
    {
     "name": "stdout",
     "output_type": "stream",
     "text": [
      "[0, 2, 5, 7]\n"
     ]
    }
   ],
   "source": [
    "a=[1,2,2,3,2,4,5,5,6,7,0,7,0]\n",
    "b=[]\n",
    "for i in range(len(a)):\n",
    "    for j in range(i+1,len(a)):\n",
    "        if a[i] == a[j]:\n",
    "            b.append(a[i])\n",
    "        else:\n",
    "            continue\n",
    "print(list(set(b)))"
   ]
  },
  {
   "cell_type": "markdown",
   "id": "0a91fa72",
   "metadata": {},
   "source": [
    "# If list contains an integer passed"
   ]
  },
  {
   "cell_type": "code",
   "execution_count": 31,
   "id": "99a72b4b",
   "metadata": {},
   "outputs": [
    {
     "name": "stdout",
     "output_type": "stream",
     "text": [
      "Pls enter correct values\n",
      "List a contains 3 and does not contain 7\n",
      "List a contains 5 and does not contain -1\n"
     ]
    }
   ],
   "source": [
    "a=[1,2,3,4,5]\n",
    "def lst_contents(b,c):\n",
    "    for i in a:\n",
    "        if i == b:\n",
    "            return f\"List a contains {b} and does not contain {c}\"\n",
    "        elif i == c:\n",
    "            return f\"List a contains {c} and does not contain {b}\"\n",
    "    else:\n",
    "        return \"Pls enter correct values\"\n",
    "print(lst_contents(7,0))\n",
    "print(lst_contents(7,3))\n",
    "print(lst_contents(5,-1))"
   ]
  },
  {
   "cell_type": "markdown",
   "id": "00f1c834",
   "metadata": {},
   "source": [
    "# To find max number"
   ]
  },
  {
   "cell_type": "code",
   "execution_count": 4,
   "id": "8bc089c9",
   "metadata": {},
   "outputs": [
    {
     "data": {
      "text/plain": [
       "'Max num is [2, 6, 7, 8, 4, 5]'"
      ]
     },
     "execution_count": 4,
     "metadata": {},
     "output_type": "execute_result"
    }
   ],
   "source": [
    "def min_max():\n",
    "    a= [1,2,3,4,5,5]\n",
    "    b= [2,6,7,8,4,5]\n",
    "    if a > b: \n",
    "        return f\"Max num is {a}\"\n",
    "    elif a < b:\n",
    "        return f\"Min num is {a}\"\n",
    "    elif b > a: \n",
    "        return f\"Max num is {b}\"\n",
    "    else:\n",
    "        return f\"Min num is {b}\"\n",
    "min_max()"
   ]
  },
  {
   "cell_type": "code",
   "execution_count": 3,
   "id": "e0bfc22a",
   "metadata": {},
   "outputs": [
    {
     "name": "stdout",
     "output_type": "stream",
     "text": [
      "1 2\n",
      "1 3\n",
      "1 4\n",
      "1 5\n",
      "1 shashank\n",
      "1 (3+5j)\n",
      "2 3\n",
      "2 4\n",
      "2 5\n",
      "2 shashank\n",
      "2 (3+5j)\n",
      "3 4\n",
      "3 5\n",
      "3 shashank\n",
      "3 (3+5j)\n",
      "4 5\n",
      "4 shashank\n",
      "4 (3+5j)\n",
      "5 shashank\n",
      "5 (3+5j)\n",
      "shashank (3+5j)\n"
     ]
    }
   ],
   "source": [
    "a=[1,2,3,4,5,'shashank',3+5j]\n",
    "c=int()\n",
    "for i in range(len(a)):\n",
    "    for j in range(i+1,len(a)):\n",
    "        print(a[i],a[j])"
   ]
  },
  {
   "cell_type": "code",
   "execution_count": null,
   "id": "a811c3af",
   "metadata": {},
   "outputs": [],
   "source": []
  },
  {
   "cell_type": "code",
   "execution_count": null,
   "id": "bc9515cc",
   "metadata": {},
   "outputs": [],
   "source": []
  },
  {
   "cell_type": "markdown",
   "id": "b62ae873",
   "metadata": {},
   "source": [
    "# To check anagram or not"
   ]
  },
  {
   "cell_type": "code",
   "execution_count": 42,
   "id": "46d1011d",
   "metadata": {},
   "outputs": [
    {
     "data": {
      "text/plain": [
       "'anagram'"
      ]
     },
     "execution_count": 42,
     "metadata": {},
     "output_type": "execute_result"
    }
   ],
   "source": [
    "def anagram(a,b):\n",
    "    if sorted(a) == sorted(b):\n",
    "        return \"anagram\"\n",
    "    else:\n",
    "        return \"Not anagram\"\n",
    "anagram(\"a gentleman\", \"elegant man\")"
   ]
  },
  {
   "cell_type": "code",
   "execution_count": null,
   "id": "61844b88",
   "metadata": {},
   "outputs": [],
   "source": []
  },
  {
   "cell_type": "code",
   "execution_count": null,
   "id": "5fe39cb6",
   "metadata": {},
   "outputs": [],
   "source": []
  },
  {
   "cell_type": "code",
   "execution_count": null,
   "id": "ecc343ee",
   "metadata": {},
   "outputs": [],
   "source": []
  },
  {
   "cell_type": "markdown",
   "id": "2051d7e3",
   "metadata": {},
   "source": [
    "# Numpy Practice codes"
   ]
  },
  {
   "cell_type": "code",
   "execution_count": null,
   "id": "d9256a45",
   "metadata": {},
   "outputs": [],
   "source": []
  },
  {
   "cell_type": "markdown",
   "id": "ea480898",
   "metadata": {},
   "source": [
    "# To know numpy version on your system"
   ]
  },
  {
   "cell_type": "code",
   "execution_count": 97,
   "id": "09136fcb",
   "metadata": {},
   "outputs": [
    {
     "data": {
      "text/plain": [
       "'1.20.3'"
      ]
     },
     "execution_count": 97,
     "metadata": {},
     "output_type": "execute_result"
    }
   ],
   "source": [
    "import numpy as np\n",
    "np.__version__"
   ]
  },
  {
   "cell_type": "code",
   "execution_count": 98,
   "id": "e93d7ed9",
   "metadata": {},
   "outputs": [
    {
     "data": {
      "text/plain": [
       "'1.3.4'"
      ]
     },
     "execution_count": 98,
     "metadata": {},
     "output_type": "execute_result"
    }
   ],
   "source": [
    "import pandas as pd\n",
    "pd.__version__"
   ]
  },
  {
   "cell_type": "markdown",
   "id": "285030a7",
   "metadata": {},
   "source": [
    "# To reverse an array"
   ]
  },
  {
   "cell_type": "code",
   "execution_count": 116,
   "id": "831cbd0c",
   "metadata": {},
   "outputs": [
    {
     "data": {
      "text/plain": [
       "array([11, 12, 13, 14, 15])"
      ]
     },
     "execution_count": 116,
     "metadata": {},
     "output_type": "execute_result"
    }
   ],
   "source": [
    "a= np.array([11,12,13,14,15])\n",
    "a"
   ]
  },
  {
   "cell_type": "code",
   "execution_count": 123,
   "id": "b9d1c204",
   "metadata": {},
   "outputs": [
    {
     "data": {
      "text/plain": [
       "array([15, 14, 13, 12, 11])"
      ]
     },
     "execution_count": 123,
     "metadata": {},
     "output_type": "execute_result"
    }
   ],
   "source": [
    "a[15::-1]"
   ]
  },
  {
   "cell_type": "markdown",
   "id": "976add61",
   "metadata": {},
   "source": [
    "# To convert list & tuple into arrays"
   ]
  },
  {
   "cell_type": "code",
   "execution_count": 29,
   "id": "fd19f9e5",
   "metadata": {},
   "outputs": [
    {
     "name": "stdout",
     "output_type": "stream",
     "text": [
      "<class 'list'> <class 'tuple'>\n",
      "list to array>>> <class 'numpy.ndarray'> [11 12 13 14 15]\n",
      "tuple to array>>> <class 'numpy.ndarray'> [11 12 13 14 15]\n"
     ]
    }
   ],
   "source": [
    "a = [11,12,13,14,15]\n",
    "b = 11,12,13,14,15\n",
    "print(type(a),type(b))\n",
    "c = np.array(a)\n",
    "d = np.array(b)\n",
    "print(\"list to array>>>\",type(c), c)\n",
    "print(\"tuple to array>>>\",type(d),d)"
   ]
  },
  {
   "cell_type": "markdown",
   "id": "c57d29d6",
   "metadata": {},
   "source": [
    "# Program to find common values between 2 arrays"
   ]
  },
  {
   "cell_type": "code",
   "execution_count": 2,
   "id": "c54812ec",
   "metadata": {},
   "outputs": [
    {
     "name": "stdout",
     "output_type": "stream",
     "text": [
      "Element not found 11\n",
      "Element not found 12\n",
      "Element found 13\n",
      "Element not found 14\n",
      "Element found 15\n"
     ]
    }
   ],
   "source": [
    "import numpy as np\n",
    "a = [11,12,13,14,15]\n",
    "b = 1,2,13,4,15\n",
    "c = np.array(a)\n",
    "d = np.array(b)\n",
    "\n",
    "i = 0\n",
    "while i <= 5:\n",
    "    if c[i] == d[i]:\n",
    "        print(f\"Element found {c[i]}\")\n",
    "    else:\n",
    "        print(f\"Element not found {c[i]}\")\n",
    "    i += 1\n",
    "    if i == 5:\n",
    "        break"
   ]
  },
  {
   "cell_type": "markdown",
   "id": "f6d9f227",
   "metadata": {},
   "source": [
    "# Compare 2 arrays"
   ]
  },
  {
   "cell_type": "code",
   "execution_count": 2,
   "id": "e86c0c48",
   "metadata": {},
   "outputs": [
    {
     "name": "stdout",
     "output_type": "stream",
     "text": [
      "[False False  True False  True]\n",
      "\u000b",
      "\n",
      "[ True  True  True  True  True]\n",
      "\u000b",
      "\n",
      "[ True  True False  True False]\n",
      "\u000b",
      "\n",
      "[False False  True False  True]\n",
      "\u000b",
      "\n",
      "[False False False False False]\n"
     ]
    }
   ],
   "source": [
    "import numpy as np\n",
    "a = [11,12,13,14,15]\n",
    "b = 1,2,13,4,15\n",
    "c = np.array(a)\n",
    "d = np.array(b)\n",
    "print(c == d)\n",
    "print('\\v')\n",
    "print(np.greater_equal(c,d))\n",
    "print('\\v')\n",
    "print(np.greater(c,d))\n",
    "print('\\v')\n",
    "print(np.less_equal(c,d))\n",
    "print('\\v')\n",
    "print(np.less(c,d))"
   ]
  },
  {
   "cell_type": "markdown",
   "id": "802d1ede",
   "metadata": {},
   "source": [
    "# To change dimension of an array"
   ]
  },
  {
   "cell_type": "code",
   "execution_count": 22,
   "id": "46521e43",
   "metadata": {},
   "outputs": [
    {
     "data": {
      "text/plain": [
       "array([0, 1, 2, 3, 4, 5, 6, 7, 8, 9])"
      ]
     },
     "execution_count": 22,
     "metadata": {},
     "output_type": "execute_result"
    }
   ],
   "source": [
    "a = np.arange(10)\n",
    "a"
   ]
  },
  {
   "cell_type": "code",
   "execution_count": 24,
   "id": "c8fd865e",
   "metadata": {},
   "outputs": [
    {
     "name": "stdout",
     "output_type": "stream",
     "text": [
      "1\n",
      "(10,)\n",
      "10\n"
     ]
    }
   ],
   "source": [
    "print(a.ndim)\n",
    "print(a.shape)\n",
    "print(a.size)"
   ]
  },
  {
   "cell_type": "code",
   "execution_count": 29,
   "id": "e6f15c9b",
   "metadata": {},
   "outputs": [
    {
     "data": {
      "text/plain": [
       "array([[[0, 1, 2, 3, 4]],\n",
       "\n",
       "       [[5, 6, 7, 8, 9]]])"
      ]
     },
     "execution_count": 29,
     "metadata": {},
     "output_type": "execute_result"
    }
   ],
   "source": [
    "a = np.arange(10).reshape(2,-1,5)\n",
    "a"
   ]
  },
  {
   "cell_type": "code",
   "execution_count": 30,
   "id": "88b6e0ae",
   "metadata": {},
   "outputs": [
    {
     "data": {
      "text/plain": [
       "3"
      ]
     },
     "execution_count": 30,
     "metadata": {},
     "output_type": "execute_result"
    }
   ],
   "source": [
    "a.ndim"
   ]
  },
  {
   "cell_type": "code",
   "execution_count": null,
   "id": "408b3d5b",
   "metadata": {},
   "outputs": [],
   "source": []
  },
  {
   "cell_type": "markdown",
   "id": "585d9f41",
   "metadata": {},
   "source": [
    "# To find sum of 3 & 5 multiples below 100"
   ]
  },
  {
   "cell_type": "code",
   "execution_count": null,
   "id": "a8e0c36d",
   "metadata": {},
   "outputs": [],
   "source": []
  },
  {
   "cell_type": "code",
   "execution_count": 45,
   "id": "6d80a5ae",
   "metadata": {},
   "outputs": [
    {
     "name": "stdout",
     "output_type": "stream",
     "text": [
      "[ 3  5  6  9 10 12 15 18 20 21 24 25 27 30 33 35 36 39 40 42 45 48 50 51\n",
      " 54 55 57 60 63 65 66 69 70 72 75 78 80 81 84 85 87 90 93 95 96 99]\n"
     ]
    }
   ],
   "source": [
    "a = np.arange(1,100)\n",
    "b = a[(a%3==0) | (a%5==0)]   #In numpy, biwise Or (|)\n",
    "print(b)"
   ]
  },
  {
   "cell_type": "code",
   "execution_count": null,
   "id": "28708a61",
   "metadata": {},
   "outputs": [],
   "source": []
  },
  {
   "cell_type": "code",
   "execution_count": null,
   "id": "6b0efecc",
   "metadata": {},
   "outputs": [],
   "source": [
    "# Alternate method"
   ]
  },
  {
   "cell_type": "code",
   "execution_count": 4,
   "id": "d7a06a37",
   "metadata": {},
   "outputs": [
    {
     "name": "stdout",
     "output_type": "stream",
     "text": [
      "[False False  True False  True  True False False  True  True False  True\n",
      " False False  True False False  True False  True  True False False  True\n",
      "  True False  True False False  True False False  True False  True  True\n",
      " False False  True  True False  True False False  True False False  True\n",
      " False  True  True False False  True  True False  True False False  True\n",
      " False False  True False  True  True False False  True  True False  True\n",
      " False False  True False False  True False  True  True False False  True\n",
      "  True False  True False False  True False False  True False  True  True\n",
      " False False  True]\n",
      "[ 3  5  6  9 10 12 15 18 20 21 24 25 27 30 33 35 36 39 40 42 45 48 50 51\n",
      " 54 55 57 60 63 65 66 69 70 72 75 78 80 81 84 85 87 90 93 95 96 99]\n"
     ]
    }
   ],
   "source": [
    "a = np.arange(1,100)\n",
    "b = a%3 == 0\n",
    "c = a%5 == 0\n",
    "d = np.bitwise_or(b,c)      # This will print only True or False\n",
    "e = a[np.bitwise_or(b,c)]   # Use of bitwise_or method\n",
    "print(d)\n",
    "print(e)"
   ]
  },
  {
   "cell_type": "markdown",
   "id": "059ad353",
   "metadata": {},
   "source": [
    "# To convert Numpy array into Python List Structure"
   ]
  },
  {
   "cell_type": "code",
   "execution_count": 12,
   "id": "cb7d1b71",
   "metadata": {},
   "outputs": [
    {
     "data": {
      "text/plain": [
       "[1, 2, 3, 4, 5, 6, 7, 8, 9]"
      ]
     },
     "execution_count": 12,
     "metadata": {},
     "output_type": "execute_result"
    }
   ],
   "source": [
    "a = np.arange(1,10)\n",
    "a.tolist()"
   ]
  },
  {
   "cell_type": "code",
   "execution_count": null,
   "id": "14d3b80a",
   "metadata": {},
   "outputs": [],
   "source": []
  },
  {
   "cell_type": "code",
   "execution_count": 17,
   "id": "097d559e",
   "metadata": {},
   "outputs": [
    {
     "data": {
      "text/plain": [
       "array([[ 1,  2,  3,  4],\n",
       "       [ 5,  6,  7,  8],\n",
       "       [ 9, 10, 11, 12],\n",
       "       [13, 14, 15, 16],\n",
       "       [17, 18, 19, 20]])"
      ]
     },
     "execution_count": 17,
     "metadata": {},
     "output_type": "execute_result"
    }
   ],
   "source": [
    "a = np.arange(1,21).reshape(5,4)\n",
    "a"
   ]
  },
  {
   "cell_type": "markdown",
   "id": "5aa03353",
   "metadata": {},
   "source": [
    "# Adding extra columns into an existing numpy array "
   ]
  },
  {
   "cell_type": "code",
   "execution_count": 36,
   "id": "0881cffe",
   "metadata": {},
   "outputs": [
    {
     "name": "stdout",
     "output_type": "stream",
     "text": [
      "[[ 10  20  30 100]\n",
      " [ 40  50  60 200]]\n"
     ]
    }
   ],
   "source": [
    "a = np.array([[10,20,30],[40,50,60]])\n",
    "b = np.array([[100],[200]])\n",
    "print(np.append(a,b,axis = 1))"
   ]
  },
  {
   "cell_type": "code",
   "execution_count": 65,
   "id": "fd608984",
   "metadata": {},
   "outputs": [
    {
     "name": "stdout",
     "output_type": "stream",
     "text": [
      "[[ 0 -1 30]\n",
      " [20 40 60]] \n",
      " \n",
      " [[0 0 0]\n",
      " [0 0 0]]\n",
      "\n",
      "[[ True False False]\n",
      " [False False False]]\n"
     ]
    }
   ],
   "source": [
    "a = np.array([[0,-1,30],[20,40,60]])\n",
    "b = np.zeros_like(a)\n",
    "print(a,'\\n','\\n',b)   #To create some extra newline space\n",
    "print()                #To create some extra newline space\n",
    "print(a==b)"
   ]
  },
  {
   "cell_type": "code",
   "execution_count": null,
   "id": "cb06fb0b",
   "metadata": {},
   "outputs": [],
   "source": [
    " "
   ]
  },
  {
   "cell_type": "code",
   "execution_count": 75,
   "id": "3c083bf0",
   "metadata": {},
   "outputs": [
    {
     "data": {
      "text/plain": [
       "array([[0.13705356, 0.33002029, 0.04412727, 0.23058193],\n",
       "       [0.68886667, 0.36840746, 0.03081362, 0.26392389],\n",
       "       [0.49389222, 0.94349819, 0.62876351, 0.34367904]])"
      ]
     },
     "execution_count": 75,
     "metadata": {},
     "output_type": "execute_result"
    }
   ],
   "source": [
    "a=np.random.rand(3,4)\n",
    "a"
   ]
  },
  {
   "cell_type": "markdown",
   "id": "02974410",
   "metadata": {},
   "source": [
    "# To normalise a random 3x3 matrix"
   ]
  },
  {
   "cell_type": "code",
   "execution_count": 84,
   "id": "3121aeb6",
   "metadata": {},
   "outputs": [
    {
     "name": "stdout",
     "output_type": "stream",
     "text": [
      "Original Array:\n",
      "[[0.69191825 0.78006665 0.45135654]\n",
      " [0.08857257 0.98466714 0.95561816]\n",
      " [0.76882503 0.42335796 0.69735461]]\n",
      "After normalization:\n",
      "[[0.67330582 0.77167534 0.4048501 ]\n",
      " [0.         1.         0.96758269]\n",
      " [0.75913021 0.37360497 0.67937254]]\n"
     ]
    }
   ],
   "source": [
    "import numpy as np\n",
    "x= np.random.random((3,3))\n",
    "print(\"Original Array:\")\n",
    "print(x)\n",
    "xmax, xmin = x.max(), x.min()\n",
    "x = (x - xmin)/(xmax - xmin)\n",
    "print(\"After normalization:\")\n",
    "print(x)"
   ]
  },
  {
   "cell_type": "code",
   "execution_count": null,
   "id": "cdc6861f",
   "metadata": {},
   "outputs": [],
   "source": []
  },
  {
   "cell_type": "markdown",
   "id": "16bed035",
   "metadata": {},
   "source": [
    "# To find transpose from row to column"
   ]
  },
  {
   "cell_type": "code",
   "execution_count": 2,
   "id": "aca4e78e",
   "metadata": {},
   "outputs": [
    {
     "name": "stdout",
     "output_type": "stream",
     "text": [
      "[[1 5]\n",
      " [2 6]\n",
      " [3 7]\n",
      " [4 8]]\n"
     ]
    }
   ],
   "source": [
    "import numpy as np\n",
    "np_arr1 = np.array([1,2,3,4])\n",
    "np_arr2 = np.array([5,6,7,8])\n",
    "print(np.column_stack((np_arr1, np_arr2)))"
   ]
  },
  {
   "cell_type": "code",
   "execution_count": null,
   "id": "98f5c65f",
   "metadata": {},
   "outputs": [],
   "source": []
  },
  {
   "cell_type": "markdown",
   "id": "fee91b32",
   "metadata": {},
   "source": [
    "# to swap 2 rows of an array"
   ]
  },
  {
   "cell_type": "code",
   "execution_count": 130,
   "id": "a7faa3ac",
   "metadata": {},
   "outputs": [
    {
     "data": {
      "text/plain": [
       "array([[40, 50, 60],\n",
       "       [10, 20, 30]])"
      ]
     },
     "execution_count": 130,
     "metadata": {},
     "output_type": "execute_result"
    }
   ],
   "source": [
    "a = np.array([[10,20,30],[40,50,60]])\n",
    "a[[0,1]] = a[[1,0]] \n",
    "a"
   ]
  },
  {
   "cell_type": "markdown",
   "id": "c8b66bfc",
   "metadata": {},
   "source": [
    "# To sort a random array "
   ]
  },
  {
   "cell_type": "code",
   "execution_count": 151,
   "id": "7d3b310d",
   "metadata": {},
   "outputs": [
    {
     "name": "stdout",
     "output_type": "stream",
     "text": [
      "[[0.91217041 0.26008145 0.77868081 0.35120391 0.01064189]\n",
      " [0.75137762 0.44054627 0.44415677 0.52621359 0.24314255]]\n"
     ]
    },
    {
     "data": {
      "text/plain": [
       "array([[0.01064189, 0.26008145, 0.35120391, 0.77868081, 0.91217041],\n",
       "       [0.24314255, 0.44054627, 0.44415677, 0.52621359, 0.75137762]])"
      ]
     },
     "execution_count": 151,
     "metadata": {},
     "output_type": "execute_result"
    }
   ],
   "source": [
    "a=np.random.rand(2,5)\n",
    "print(a)\n",
    "np.sort(a)"
   ]
  },
  {
   "cell_type": "code",
   "execution_count": 183,
   "id": "85385b05",
   "metadata": {},
   "outputs": [
    {
     "name": "stdout",
     "output_type": "stream",
     "text": [
      "[[0.95425917 0.95397354 0.80586178]]\n",
      "\n",
      "[[0.16160506]\n",
      " [0.12685187]\n",
      " [0.90741502]]\n",
      "\n",
      "[[False False False]\n",
      " [False False False]\n",
      " [False False False]]\n",
      "\n",
      "[[False False False]\n",
      " [False False False]\n",
      " [False False False]]\n",
      "\n",
      "False\n"
     ]
    }
   ],
   "source": [
    "a=np.random.rand(1,3)\n",
    "b = np.random.rand(3,1)\n",
    "print(a)\n",
    "print()\n",
    "print(b)\n",
    "print()\n",
    "print(np.equal(a,b))       # 1st Option\n",
    "print()\n",
    "print(a == b)              # 2nd Option\n",
    "print()\n",
    "print(np.allclose(a,b))    # 3rd Option"
   ]
  },
  {
   "cell_type": "markdown",
   "id": "0ee2987c",
   "metadata": {},
   "source": [
    "# To perform arithmatic operations element wise"
   ]
  },
  {
   "cell_type": "code",
   "execution_count": 203,
   "id": "54612de4",
   "metadata": {},
   "outputs": [
    {
     "name": "stdout",
     "output_type": "stream",
     "text": [
      "[[10 21 32]\n",
      " [43 54 65]]\n",
      "[[10 19 28]\n",
      " [37 46 55]]\n",
      "[[  0  20  60]\n",
      " [120 200 300]]\n",
      "[[0.         0.05       0.06666667]\n",
      " [0.075      0.08       0.08333333]]\n"
     ]
    }
   ],
   "source": [
    "a = np.array([[10,20,30],[40,50,60]])\n",
    "b = np.arange(6).reshape(2,-1)\n",
    "print(np.add(a,b))\n",
    "print(np.subtract(a,b))\n",
    "print(np.multiply(a,b))\n",
    "print(np.divide(b,a))"
   ]
  },
  {
   "cell_type": "markdown",
   "id": "1a5d1a68",
   "metadata": {},
   "source": [
    "# To get yesterday, today, tomm years"
   ]
  },
  {
   "cell_type": "code",
   "execution_count": 224,
   "id": "8b72795b",
   "metadata": {},
   "outputs": [
    {
     "name": "stdout",
     "output_type": "stream",
     "text": [
      "2021\n",
      "2022\n",
      "2023\n"
     ]
    }
   ],
   "source": [
    "import numpy as np\n",
    "Yesterday = np.datetime64('Today','Y') - np.timedelta64(1,\"Y\")\n",
    "Today = np.datetime64('Today','Y') \n",
    "Tomm = np.datetime64('Today','Y') + np.timedelta64(1,\"Y\")\n",
    "print(Yesterday)\n",
    "print(Today)\n",
    "print(Tomm)"
   ]
  },
  {
   "cell_type": "markdown",
   "id": "8b66077d",
   "metadata": {},
   "source": [
    " # To get yesterday, today, tomm months"
   ]
  },
  {
   "cell_type": "code",
   "execution_count": 227,
   "id": "1b1e1cb2",
   "metadata": {},
   "outputs": [
    {
     "name": "stdout",
     "output_type": "stream",
     "text": [
      "2022-02\n",
      "2022-03\n",
      "2022-04\n"
     ]
    }
   ],
   "source": [
    "import numpy as np\n",
    "Yesterday = np.datetime64('Today','M') - np.timedelta64(1,\"M\")\n",
    "Today = np.datetime64('Today','M') \n",
    "Tomm = np.datetime64('Today','M') + np.timedelta64(1,\"M\")\n",
    "print(Yesterday)\n",
    "print(Today)\n",
    "print(Tomm)"
   ]
  },
  {
   "cell_type": "markdown",
   "id": "2abeada3",
   "metadata": {},
   "source": [
    " # To get yesterday, today, tomm dates"
   ]
  },
  {
   "cell_type": "code",
   "execution_count": 229,
   "id": "b9b0760d",
   "metadata": {},
   "outputs": [
    {
     "name": "stdout",
     "output_type": "stream",
     "text": [
      "2022-03-12\n",
      "2022-03-13\n",
      "2022-03-14\n"
     ]
    }
   ],
   "source": [
    "import numpy as np\n",
    "Yesterday = np.datetime64('Today','D') - np.timedelta64(1,\"D\")\n",
    "Today = np.datetime64('Today','D') \n",
    "Tomm = np.datetime64('Today','D') + np.timedelta64(1,\"D\")\n",
    "print(Yesterday)\n",
    "print(Today)\n",
    "print(Tomm)"
   ]
  },
  {
   "cell_type": "code",
   "execution_count": null,
   "id": "46d585ae",
   "metadata": {},
   "outputs": [],
   "source": []
  },
  {
   "cell_type": "markdown",
   "id": "3ff9bb0c",
   "metadata": {},
   "source": [
    "# Pandas Codes"
   ]
  },
  {
   "cell_type": "code",
   "execution_count": null,
   "id": "845caeb3",
   "metadata": {},
   "outputs": [],
   "source": []
  },
  {
   "cell_type": "markdown",
   "id": "2d00754a",
   "metadata": {},
   "source": [
    "# To create 1D array using Pandas Module"
   ]
  },
  {
   "cell_type": "code",
   "execution_count": 234,
   "id": "b413d679",
   "metadata": {},
   "outputs": [
    {
     "data": {
      "text/plain": [
       "0    15\n",
       "1    14\n",
       "2    13\n",
       "3    12\n",
       "4    11\n",
       "dtype: int32"
      ]
     },
     "execution_count": 234,
     "metadata": {},
     "output_type": "execute_result"
    }
   ],
   "source": [
    "import pandas as pd\n",
    "Data = np.arange(15,10,-1)\n",
    "var = pd.Series(Data)\n",
    "var"
   ]
  },
  {
   "cell_type": "markdown",
   "id": "7aeb13a2",
   "metadata": {},
   "source": [
    "# To convert Pandas Series to list"
   ]
  },
  {
   "cell_type": "code",
   "execution_count": 242,
   "id": "22ed8c16",
   "metadata": {},
   "outputs": [
    {
     "data": {
      "text/plain": [
       "[15, 14, 13, 12, 11]"
      ]
     },
     "execution_count": 242,
     "metadata": {},
     "output_type": "execute_result"
    }
   ],
   "source": [
    "var1 = pd.Series.tolist(var)\n",
    "var1"
   ]
  },
  {
   "cell_type": "markdown",
   "id": "e0cc0848",
   "metadata": {},
   "source": [
    "# To perform Arithmatic Operations on 2 Pandas series"
   ]
  },
  {
   "cell_type": "code",
   "execution_count": 249,
   "id": "0454b0eb",
   "metadata": {},
   "outputs": [
    {
     "data": {
      "text/plain": [
       "0    15\n",
       "1    14\n",
       "2    13\n",
       "3    12\n",
       "4    11\n",
       "dtype: int32"
      ]
     },
     "execution_count": 249,
     "metadata": {},
     "output_type": "execute_result"
    }
   ],
   "source": [
    "var"
   ]
  },
  {
   "cell_type": "code",
   "execution_count": 245,
   "id": "8b561394",
   "metadata": {},
   "outputs": [
    {
     "data": {
      "text/plain": [
       "0    10\n",
       "1    11\n",
       "2    12\n",
       "3    13\n",
       "4    14\n",
       "dtype: int64"
      ]
     },
     "execution_count": 245,
     "metadata": {},
     "output_type": "execute_result"
    }
   ],
   "source": [
    "var2 = pd.Series([10,11,12,13,14])\n",
    "var2"
   ]
  },
  {
   "cell_type": "code",
   "execution_count": 248,
   "id": "973da230",
   "metadata": {},
   "outputs": [
    {
     "name": "stdout",
     "output_type": "stream",
     "text": [
      "0    25\n",
      "1    25\n",
      "2    25\n",
      "3    25\n",
      "4    25\n",
      "dtype: int64\n",
      "0    5\n",
      "1    3\n",
      "2    1\n",
      "3   -1\n",
      "4   -3\n",
      "dtype: int64\n",
      "0    150\n",
      "1    154\n",
      "2    156\n",
      "3    156\n",
      "4    154\n",
      "dtype: int64\n",
      "0    1.500000\n",
      "1    1.272727\n",
      "2    1.083333\n",
      "3    0.923077\n",
      "4    0.785714\n",
      "dtype: float64\n"
     ]
    }
   ],
   "source": [
    "print(var+var2)\n",
    "print(var-var2)\n",
    "print(var*var2)\n",
    "print(var/var2)"
   ]
  },
  {
   "cell_type": "markdown",
   "id": "8cf65554",
   "metadata": {},
   "source": [
    "# To compare elements of 2 pandas Series"
   ]
  },
  {
   "cell_type": "code",
   "execution_count": 261,
   "id": "0d04967c",
   "metadata": {},
   "outputs": [
    {
     "name": "stdout",
     "output_type": "stream",
     "text": [
      "0     True\n",
      "1     True\n",
      "2     True\n",
      "3    False\n",
      "4    False\n",
      "dtype: bool \n",
      "\n",
      "0    False\n",
      "1    False\n",
      "2    False\n",
      "3     True\n",
      "4     True\n",
      "dtype: bool \n",
      "\n",
      "0     True\n",
      "1     True\n",
      "2     True\n",
      "3    False\n",
      "4    False\n",
      "dtype: bool \n",
      "\n",
      "0    False\n",
      "1    False\n",
      "2    False\n",
      "3     True\n",
      "4     True\n",
      "dtype: bool \n",
      "\n",
      "0    False\n",
      "1    False\n",
      "2    False\n",
      "3    False\n",
      "4    False\n",
      "dtype: bool\n"
     ]
    }
   ],
   "source": [
    "print(var > var2,'\\n')\n",
    "print(var < var2,'\\n')\n",
    "print(var >= var2,'\\n')\n",
    "print(var <= var2,'\\n')\n",
    "print(var == var2)"
   ]
  },
  {
   "cell_type": "code",
   "execution_count": null,
   "id": "97962ad6",
   "metadata": {},
   "outputs": [],
   "source": []
  },
  {
   "cell_type": "code",
   "execution_count": 265,
   "id": "f804aa0b",
   "metadata": {},
   "outputs": [
    {
     "data": {
      "text/html": [
       "<div>\n",
       "<style scoped>\n",
       "    .dataframe tbody tr th:only-of-type {\n",
       "        vertical-align: middle;\n",
       "    }\n",
       "\n",
       "    .dataframe tbody tr th {\n",
       "        vertical-align: top;\n",
       "    }\n",
       "\n",
       "    .dataframe thead th {\n",
       "        text-align: right;\n",
       "    }\n",
       "</style>\n",
       "<table border=\"1\" class=\"dataframe\">\n",
       "  <thead>\n",
       "    <tr style=\"text-align: right;\">\n",
       "      <th></th>\n",
       "      <th>0</th>\n",
       "      <th>1</th>\n",
       "      <th>2</th>\n",
       "    </tr>\n",
       "  </thead>\n",
       "  <tbody>\n",
       "    <tr>\n",
       "      <th>i</th>\n",
       "      <td>16</td>\n",
       "      <td>15</td>\n",
       "      <td>14</td>\n",
       "    </tr>\n",
       "    <tr>\n",
       "      <th>ii</th>\n",
       "      <td>13</td>\n",
       "      <td>12</td>\n",
       "      <td>11</td>\n",
       "    </tr>\n",
       "  </tbody>\n",
       "</table>\n",
       "</div>"
      ],
      "text/plain": [
       "     0   1   2\n",
       "i   16  15  14\n",
       "ii  13  12  11"
      ]
     },
     "execution_count": 265,
     "metadata": {},
     "output_type": "execute_result"
    }
   ],
   "source": [
    "import pandas as pd\n",
    "Data = np.arange(16,10,-1).reshape(2,3)\n",
    "var = pd.DataFrame(Data,index = ['i','ii'])\n",
    "var"
   ]
  },
  {
   "cell_type": "code",
   "execution_count": 271,
   "id": "010fb592",
   "metadata": {},
   "outputs": [
    {
     "data": {
      "text/html": [
       "<div>\n",
       "<style scoped>\n",
       "    .dataframe tbody tr th:only-of-type {\n",
       "        vertical-align: middle;\n",
       "    }\n",
       "\n",
       "    .dataframe tbody tr th {\n",
       "        vertical-align: top;\n",
       "    }\n",
       "\n",
       "    .dataframe thead th {\n",
       "        text-align: right;\n",
       "    }\n",
       "</style>\n",
       "<table border=\"1\" class=\"dataframe\">\n",
       "  <thead>\n",
       "    <tr style=\"text-align: right;\">\n",
       "      <th></th>\n",
       "      <th>Nos</th>\n",
       "    </tr>\n",
       "  </thead>\n",
       "  <tbody>\n",
       "    <tr>\n",
       "      <th>0</th>\n",
       "      <td>[[16, 15, 14], [13, 12, 11]]</td>\n",
       "    </tr>\n",
       "  </tbody>\n",
       "</table>\n",
       "</div>"
      ],
      "text/plain": [
       "                            Nos\n",
       "0  [[16, 15, 14], [13, 12, 11]]"
      ]
     },
     "execution_count": 271,
     "metadata": {},
     "output_type": "execute_result"
    }
   ],
   "source": [
    "import pandas as pd\n",
    "Data = np.arange(16,10,-1).reshape(2,3)\n",
    "var = pd.DataFrame({'Nos':[Data]})\n",
    "var"
   ]
  },
  {
   "cell_type": "code",
   "execution_count": 324,
   "id": "caad1dda",
   "metadata": {},
   "outputs": [
    {
     "data": {
      "text/html": [
       "<div>\n",
       "<style scoped>\n",
       "    .dataframe tbody tr th:only-of-type {\n",
       "        vertical-align: middle;\n",
       "    }\n",
       "\n",
       "    .dataframe tbody tr th {\n",
       "        vertical-align: top;\n",
       "    }\n",
       "\n",
       "    .dataframe thead th {\n",
       "        text-align: right;\n",
       "    }\n",
       "</style>\n",
       "<table border=\"1\" class=\"dataframe\">\n",
       "  <thead>\n",
       "    <tr style=\"text-align: right;\">\n",
       "      <th></th>\n",
       "      <th>Nos</th>\n",
       "      <th>Emp Id</th>\n",
       "      <th>Name</th>\n",
       "    </tr>\n",
       "  </thead>\n",
       "  <tbody>\n",
       "    <tr>\n",
       "      <th>s</th>\n",
       "      <td>11</td>\n",
       "      <td>6952</td>\n",
       "      <td>Shashank</td>\n",
       "    </tr>\n",
       "    <tr>\n",
       "      <th>U</th>\n",
       "      <td>12</td>\n",
       "      <td>678</td>\n",
       "      <td>Uday</td>\n",
       "    </tr>\n",
       "    <tr>\n",
       "      <th>S</th>\n",
       "      <td>13</td>\n",
       "      <td>1234</td>\n",
       "      <td>Sadadekar</td>\n",
       "    </tr>\n",
       "  </tbody>\n",
       "</table>\n",
       "</div>"
      ],
      "text/plain": [
       "   Nos  Emp Id       Name\n",
       "s   11    6952   Shashank\n",
       "U   12     678       Uday\n",
       "S   13    1234  Sadadekar"
      ]
     },
     "execution_count": 324,
     "metadata": {},
     "output_type": "execute_result"
    }
   ],
   "source": [
    "import pandas as pd\n",
    "# Data = np.arange(16,10,-1).reshape(2,3)\n",
    "var = pd.DataFrame({'Nos':[11,12,13], \"Emp Id\":[6952, 678, 1234], \"Name\":['Shashank','Uday','Sadadekar']},index = ['s','U','S'])\n",
    "var"
   ]
  },
  {
   "cell_type": "markdown",
   "id": "b11b9ef7",
   "metadata": {},
   "source": [
    "# Selecting specific rows & col from given DF using .loc or .iloc methods"
   ]
  },
  {
   "cell_type": "code",
   "execution_count": 329,
   "id": "311f1722",
   "metadata": {},
   "outputs": [
    {
     "data": {
      "text/html": [
       "<div>\n",
       "<style scoped>\n",
       "    .dataframe tbody tr th:only-of-type {\n",
       "        vertical-align: middle;\n",
       "    }\n",
       "\n",
       "    .dataframe tbody tr th {\n",
       "        vertical-align: top;\n",
       "    }\n",
       "\n",
       "    .dataframe thead th {\n",
       "        text-align: right;\n",
       "    }\n",
       "</style>\n",
       "<table border=\"1\" class=\"dataframe\">\n",
       "  <thead>\n",
       "    <tr style=\"text-align: right;\">\n",
       "      <th></th>\n",
       "      <th>Emp Id</th>\n",
       "      <th>Name</th>\n",
       "    </tr>\n",
       "  </thead>\n",
       "  <tbody>\n",
       "    <tr>\n",
       "      <th>U</th>\n",
       "      <td>678</td>\n",
       "      <td>Uday</td>\n",
       "    </tr>\n",
       "    <tr>\n",
       "      <th>S</th>\n",
       "      <td>1234</td>\n",
       "      <td>Sadadekar</td>\n",
       "    </tr>\n",
       "  </tbody>\n",
       "</table>\n",
       "</div>"
      ],
      "text/plain": [
       "   Emp Id       Name\n",
       "U     678       Uday\n",
       "S    1234  Sadadekar"
      ]
     },
     "execution_count": 329,
     "metadata": {},
     "output_type": "execute_result"
    }
   ],
   "source": [
    "var.loc['U':'S','Emp Id':'Name']   #For explicit indexing, we use loc"
   ]
  },
  {
   "cell_type": "code",
   "execution_count": 333,
   "id": "56fb1356",
   "metadata": {},
   "outputs": [
    {
     "data": {
      "text/html": [
       "<div>\n",
       "<style scoped>\n",
       "    .dataframe tbody tr th:only-of-type {\n",
       "        vertical-align: middle;\n",
       "    }\n",
       "\n",
       "    .dataframe tbody tr th {\n",
       "        vertical-align: top;\n",
       "    }\n",
       "\n",
       "    .dataframe thead th {\n",
       "        text-align: right;\n",
       "    }\n",
       "</style>\n",
       "<table border=\"1\" class=\"dataframe\">\n",
       "  <thead>\n",
       "    <tr style=\"text-align: right;\">\n",
       "      <th></th>\n",
       "      <th>Emp Id</th>\n",
       "      <th>Name</th>\n",
       "    </tr>\n",
       "  </thead>\n",
       "  <tbody>\n",
       "    <tr>\n",
       "      <th>U</th>\n",
       "      <td>678</td>\n",
       "      <td>Uday</td>\n",
       "    </tr>\n",
       "    <tr>\n",
       "      <th>S</th>\n",
       "      <td>1234</td>\n",
       "      <td>Sadadekar</td>\n",
       "    </tr>\n",
       "  </tbody>\n",
       "</table>\n",
       "</div>"
      ],
      "text/plain": [
       "   Emp Id       Name\n",
       "U     678       Uday\n",
       "S    1234  Sadadekar"
      ]
     },
     "execution_count": 333,
     "metadata": {},
     "output_type": "execute_result"
    }
   ],
   "source": [
    "var.iloc[1:,1:]      #implicit index if used for slicing rows & columns we use iloc"
   ]
  },
  {
   "cell_type": "code",
   "execution_count": 335,
   "id": "1f8b9f9f",
   "metadata": {},
   "outputs": [
    {
     "data": {
      "text/html": [
       "<div>\n",
       "<style scoped>\n",
       "    .dataframe tbody tr th:only-of-type {\n",
       "        vertical-align: middle;\n",
       "    }\n",
       "\n",
       "    .dataframe tbody tr th {\n",
       "        vertical-align: top;\n",
       "    }\n",
       "\n",
       "    .dataframe thead th {\n",
       "        text-align: right;\n",
       "    }\n",
       "</style>\n",
       "<table border=\"1\" class=\"dataframe\">\n",
       "  <thead>\n",
       "    <tr style=\"text-align: right;\">\n",
       "      <th></th>\n",
       "      <th>Year</th>\n",
       "    </tr>\n",
       "  </thead>\n",
       "  <tbody>\n",
       "    <tr>\n",
       "      <th>J</th>\n",
       "      <td>Jan</td>\n",
       "    </tr>\n",
       "    <tr>\n",
       "      <th>F</th>\n",
       "      <td>Feb</td>\n",
       "    </tr>\n",
       "    <tr>\n",
       "      <th>M</th>\n",
       "      <td>Mar</td>\n",
       "    </tr>\n",
       "    <tr>\n",
       "      <th>A</th>\n",
       "      <td>Apr</td>\n",
       "    </tr>\n",
       "    <tr>\n",
       "      <th>Ma</th>\n",
       "      <td>May</td>\n",
       "    </tr>\n",
       "    <tr>\n",
       "      <th>J</th>\n",
       "      <td>Jun</td>\n",
       "    </tr>\n",
       "    <tr>\n",
       "      <th>Ju</th>\n",
       "      <td>Jul</td>\n",
       "    </tr>\n",
       "    <tr>\n",
       "      <th>Au</th>\n",
       "      <td>Aug</td>\n",
       "    </tr>\n",
       "    <tr>\n",
       "      <th>S</th>\n",
       "      <td>Sep</td>\n",
       "    </tr>\n",
       "    <tr>\n",
       "      <th>O</th>\n",
       "      <td>Oct</td>\n",
       "    </tr>\n",
       "    <tr>\n",
       "      <th>N</th>\n",
       "      <td>Nov</td>\n",
       "    </tr>\n",
       "    <tr>\n",
       "      <th>D</th>\n",
       "      <td>Dec</td>\n",
       "    </tr>\n",
       "  </tbody>\n",
       "</table>\n",
       "</div>"
      ],
      "text/plain": [
       "   Year\n",
       "J   Jan\n",
       "F   Feb\n",
       "M   Mar\n",
       "A   Apr\n",
       "Ma  May\n",
       "J   Jun\n",
       "Ju  Jul\n",
       "Au  Aug\n",
       "S   Sep\n",
       "O   Oct\n",
       "N   Nov\n",
       "D   Dec"
      ]
     },
     "execution_count": 335,
     "metadata": {},
     "output_type": "execute_result"
    }
   ],
   "source": [
    "dict = {'Year':['Jan','Feb','Mar','Apr','May','Jun','Jul','Aug','Sep','Oct','Nov','Dec']}\n",
    "months = pd.DataFrame(dict,index = ['J','F','M','A','Ma','J','Ju','Au','S','O','N','D'])\n",
    "months"
   ]
  },
  {
   "cell_type": "code",
   "execution_count": 344,
   "id": "1b7c7571",
   "metadata": {},
   "outputs": [
    {
     "data": {
      "text/html": [
       "<div>\n",
       "<style scoped>\n",
       "    .dataframe tbody tr th:only-of-type {\n",
       "        vertical-align: middle;\n",
       "    }\n",
       "\n",
       "    .dataframe tbody tr th {\n",
       "        vertical-align: top;\n",
       "    }\n",
       "\n",
       "    .dataframe thead th {\n",
       "        text-align: right;\n",
       "    }\n",
       "</style>\n",
       "<table border=\"1\" class=\"dataframe\">\n",
       "  <thead>\n",
       "    <tr style=\"text-align: right;\">\n",
       "      <th></th>\n",
       "      <th>Year</th>\n",
       "    </tr>\n",
       "  </thead>\n",
       "  <tbody>\n",
       "    <tr>\n",
       "      <th>Ma</th>\n",
       "      <td>May</td>\n",
       "    </tr>\n",
       "    <tr>\n",
       "      <th>J</th>\n",
       "      <td>Jun</td>\n",
       "    </tr>\n",
       "    <tr>\n",
       "      <th>Ju</th>\n",
       "      <td>Jul</td>\n",
       "    </tr>\n",
       "    <tr>\n",
       "      <th>Au</th>\n",
       "      <td>Aug</td>\n",
       "    </tr>\n",
       "    <tr>\n",
       "      <th>S</th>\n",
       "      <td>Sep</td>\n",
       "    </tr>\n",
       "    <tr>\n",
       "      <th>O</th>\n",
       "      <td>Oct</td>\n",
       "    </tr>\n",
       "  </tbody>\n",
       "</table>\n",
       "</div>"
      ],
      "text/plain": [
       "   Year\n",
       "Ma  May\n",
       "J   Jun\n",
       "Ju  Jul\n",
       "Au  Aug\n",
       "S   Sep\n",
       "O   Oct"
      ]
     },
     "execution_count": 344,
     "metadata": {},
     "output_type": "execute_result"
    }
   ],
   "source": [
    "months.loc['Ma':'O'] # .loc() includes both start & stop index"
   ]
  },
  {
   "cell_type": "code",
   "execution_count": 342,
   "id": "cce479a6",
   "metadata": {},
   "outputs": [
    {
     "data": {
      "text/html": [
       "<div>\n",
       "<style scoped>\n",
       "    .dataframe tbody tr th:only-of-type {\n",
       "        vertical-align: middle;\n",
       "    }\n",
       "\n",
       "    .dataframe tbody tr th {\n",
       "        vertical-align: top;\n",
       "    }\n",
       "\n",
       "    .dataframe thead th {\n",
       "        text-align: right;\n",
       "    }\n",
       "</style>\n",
       "<table border=\"1\" class=\"dataframe\">\n",
       "  <thead>\n",
       "    <tr style=\"text-align: right;\">\n",
       "      <th></th>\n",
       "      <th>Year</th>\n",
       "    </tr>\n",
       "  </thead>\n",
       "  <tbody>\n",
       "    <tr>\n",
       "      <th>J</th>\n",
       "      <td>Jun</td>\n",
       "    </tr>\n",
       "    <tr>\n",
       "      <th>Ju</th>\n",
       "      <td>Jul</td>\n",
       "    </tr>\n",
       "    <tr>\n",
       "      <th>Au</th>\n",
       "      <td>Aug</td>\n",
       "    </tr>\n",
       "    <tr>\n",
       "      <th>S</th>\n",
       "      <td>Sep</td>\n",
       "    </tr>\n",
       "    <tr>\n",
       "      <th>O</th>\n",
       "      <td>Oct</td>\n",
       "    </tr>\n",
       "  </tbody>\n",
       "</table>\n",
       "</div>"
      ],
      "text/plain": [
       "   Year\n",
       "J   Jun\n",
       "Ju  Jul\n",
       "Au  Aug\n",
       "S   Sep\n",
       "O   Oct"
      ]
     },
     "execution_count": 342,
     "metadata": {},
     "output_type": "execute_result"
    }
   ],
   "source": [
    "months.iloc[5:10] #.iloc() excludes start index"
   ]
  },
  {
   "cell_type": "code",
   "execution_count": null,
   "id": "fd118744",
   "metadata": {},
   "outputs": [],
   "source": []
  },
  {
   "cell_type": "code",
   "execution_count": 1,
   "id": "2af359cc",
   "metadata": {},
   "outputs": [
    {
     "data": {
      "text/html": [
       "<div>\n",
       "<style scoped>\n",
       "    .dataframe tbody tr th:only-of-type {\n",
       "        vertical-align: middle;\n",
       "    }\n",
       "\n",
       "    .dataframe tbody tr th {\n",
       "        vertical-align: top;\n",
       "    }\n",
       "\n",
       "    .dataframe thead th {\n",
       "        text-align: right;\n",
       "    }\n",
       "</style>\n",
       "<table border=\"1\" class=\"dataframe\">\n",
       "  <thead>\n",
       "    <tr style=\"text-align: right;\">\n",
       "      <th></th>\n",
       "      <th>State Name</th>\n",
       "      <th>Capital Name</th>\n",
       "    </tr>\n",
       "  </thead>\n",
       "  <tbody>\n",
       "    <tr>\n",
       "      <th>0</th>\n",
       "      <td>GJ</td>\n",
       "      <td>Ahm</td>\n",
       "    </tr>\n",
       "    <tr>\n",
       "      <th>1</th>\n",
       "      <td>MH</td>\n",
       "      <td>Bom</td>\n",
       "    </tr>\n",
       "    <tr>\n",
       "      <th>2</th>\n",
       "      <td>DL</td>\n",
       "      <td>Agr</td>\n",
       "    </tr>\n",
       "    <tr>\n",
       "      <th>3</th>\n",
       "      <td>KA</td>\n",
       "      <td>Bng</td>\n",
       "    </tr>\n",
       "    <tr>\n",
       "      <th>4</th>\n",
       "      <td>TN</td>\n",
       "      <td>Chn</td>\n",
       "    </tr>\n",
       "  </tbody>\n",
       "</table>\n",
       "</div>"
      ],
      "text/plain": [
       "  State Name Capital Name\n",
       "0         GJ          Ahm\n",
       "1         MH          Bom\n",
       "2         DL          Agr\n",
       "3         KA          Bng\n",
       "4         TN          Chn"
      ]
     },
     "execution_count": 1,
     "metadata": {},
     "output_type": "execute_result"
    }
   ],
   "source": [
    "import pandas as pd\n",
    "dict = {'State Name':['GJ',\"MH\",\"DL\",\"KA\",\"TN\"],'Capital Name':['Ahm','Bom','Agr',\"Bng\",\"Chn\"]}\n",
    "df = pd.DataFrame(dict)\n",
    "df"
   ]
  },
  {
   "cell_type": "markdown",
   "id": "af7b6856",
   "metadata": {},
   "source": [
    "# Adding new rows to existing DF"
   ]
  },
  {
   "cell_type": "code",
   "execution_count": 27,
   "id": "36e96bc1",
   "metadata": {},
   "outputs": [
    {
     "data": {
      "text/html": [
       "<div>\n",
       "<style scoped>\n",
       "    .dataframe tbody tr th:only-of-type {\n",
       "        vertical-align: middle;\n",
       "    }\n",
       "\n",
       "    .dataframe tbody tr th {\n",
       "        vertical-align: top;\n",
       "    }\n",
       "\n",
       "    .dataframe thead th {\n",
       "        text-align: right;\n",
       "    }\n",
       "</style>\n",
       "<table border=\"1\" class=\"dataframe\">\n",
       "  <thead>\n",
       "    <tr style=\"text-align: right;\">\n",
       "      <th></th>\n",
       "      <th>State Name</th>\n",
       "      <th>Capital Name</th>\n",
       "    </tr>\n",
       "  </thead>\n",
       "  <tbody>\n",
       "    <tr>\n",
       "      <th>0</th>\n",
       "      <td>GJ</td>\n",
       "      <td>Ahm</td>\n",
       "    </tr>\n",
       "    <tr>\n",
       "      <th>1</th>\n",
       "      <td>MH</td>\n",
       "      <td>Bom</td>\n",
       "    </tr>\n",
       "    <tr>\n",
       "      <th>2</th>\n",
       "      <td>DL</td>\n",
       "      <td>Agr</td>\n",
       "    </tr>\n",
       "    <tr>\n",
       "      <th>3</th>\n",
       "      <td>KA</td>\n",
       "      <td>Bng</td>\n",
       "    </tr>\n",
       "    <tr>\n",
       "      <th>4</th>\n",
       "      <td>TN</td>\n",
       "      <td>Chn</td>\n",
       "    </tr>\n",
       "    <tr>\n",
       "      <th>6</th>\n",
       "      <td>KL</td>\n",
       "      <td>Koc</td>\n",
       "    </tr>\n",
       "    <tr>\n",
       "      <th>5</th>\n",
       "      <td>KL</td>\n",
       "      <td>Koc</td>\n",
       "    </tr>\n",
       "  </tbody>\n",
       "</table>\n",
       "</div>"
      ],
      "text/plain": [
       "  State Name Capital Name\n",
       "0         GJ          Ahm\n",
       "1         MH          Bom\n",
       "2         DL          Agr\n",
       "3         KA          Bng\n",
       "4         TN          Chn\n",
       "6         KL          Koc\n",
       "5         KL          Koc"
      ]
     },
     "execution_count": 27,
     "metadata": {},
     "output_type": "execute_result"
    }
   ],
   "source": [
    "df.loc[5] = [\"KL\",'Koc']\n",
    "df"
   ]
  },
  {
   "cell_type": "code",
   "execution_count": 46,
   "id": "b3243647",
   "metadata": {},
   "outputs": [
    {
     "data": {
      "text/html": [
       "<div>\n",
       "<style scoped>\n",
       "    .dataframe tbody tr th:only-of-type {\n",
       "        vertical-align: middle;\n",
       "    }\n",
       "\n",
       "    .dataframe tbody tr th {\n",
       "        vertical-align: top;\n",
       "    }\n",
       "\n",
       "    .dataframe thead th {\n",
       "        text-align: right;\n",
       "    }\n",
       "</style>\n",
       "<table border=\"1\" class=\"dataframe\">\n",
       "  <thead>\n",
       "    <tr style=\"text-align: right;\">\n",
       "      <th></th>\n",
       "      <th>State Name</th>\n",
       "      <th>Capital Name</th>\n",
       "    </tr>\n",
       "  </thead>\n",
       "  <tbody>\n",
       "    <tr>\n",
       "      <th>4</th>\n",
       "      <td>TN</td>\n",
       "      <td>Chn</td>\n",
       "    </tr>\n",
       "    <tr>\n",
       "      <th>3</th>\n",
       "      <td>KA</td>\n",
       "      <td>Bng</td>\n",
       "    </tr>\n",
       "    <tr>\n",
       "      <th>2</th>\n",
       "      <td>DL</td>\n",
       "      <td>Agr</td>\n",
       "    </tr>\n",
       "    <tr>\n",
       "      <th>1</th>\n",
       "      <td>MH</td>\n",
       "      <td>Bom</td>\n",
       "    </tr>\n",
       "  </tbody>\n",
       "</table>\n",
       "</div>"
      ],
      "text/plain": [
       "  State Name Capital Name\n",
       "4         TN          Chn\n",
       "3         KA          Bng\n",
       "2         DL          Agr\n",
       "1         MH          Bom"
      ]
     },
     "execution_count": 46,
     "metadata": {},
     "output_type": "execute_result"
    }
   ],
   "source": [
    "df = df.sort_index(ascending = False)     # Reverse sorting\n",
    "df"
   ]
  },
  {
   "cell_type": "markdown",
   "id": "9f84def5",
   "metadata": {},
   "source": [
    "# To add columns to existing DF"
   ]
  },
  {
   "cell_type": "code",
   "execution_count": 48,
   "id": "696a4448",
   "metadata": {},
   "outputs": [
    {
     "data": {
      "text/html": [
       "<div>\n",
       "<style scoped>\n",
       "    .dataframe tbody tr th:only-of-type {\n",
       "        vertical-align: middle;\n",
       "    }\n",
       "\n",
       "    .dataframe tbody tr th {\n",
       "        vertical-align: top;\n",
       "    }\n",
       "\n",
       "    .dataframe thead th {\n",
       "        text-align: right;\n",
       "    }\n",
       "</style>\n",
       "<table border=\"1\" class=\"dataframe\">\n",
       "  <thead>\n",
       "    <tr style=\"text-align: right;\">\n",
       "      <th></th>\n",
       "      <th>State Name</th>\n",
       "      <th>Capital Name</th>\n",
       "      <th>City Names</th>\n",
       "    </tr>\n",
       "  </thead>\n",
       "  <tbody>\n",
       "    <tr>\n",
       "      <th>4</th>\n",
       "      <td>TN</td>\n",
       "      <td>Chn</td>\n",
       "      <td>Chennai</td>\n",
       "    </tr>\n",
       "    <tr>\n",
       "      <th>3</th>\n",
       "      <td>KA</td>\n",
       "      <td>Bng</td>\n",
       "      <td>Bengaluru</td>\n",
       "    </tr>\n",
       "    <tr>\n",
       "      <th>2</th>\n",
       "      <td>DL</td>\n",
       "      <td>Agr</td>\n",
       "      <td>Agra</td>\n",
       "    </tr>\n",
       "    <tr>\n",
       "      <th>1</th>\n",
       "      <td>MH</td>\n",
       "      <td>Bom</td>\n",
       "      <td>Bombay</td>\n",
       "    </tr>\n",
       "  </tbody>\n",
       "</table>\n",
       "</div>"
      ],
      "text/plain": [
       "  State Name Capital Name City Names\n",
       "4         TN          Chn    Chennai\n",
       "3         KA          Bng  Bengaluru\n",
       "2         DL          Agr       Agra\n",
       "1         MH          Bom     Bombay"
      ]
     },
     "execution_count": 48,
     "metadata": {},
     "output_type": "execute_result"
    }
   ],
   "source": [
    "df[\"City Names\"] = [\"Chennai\",'Bengaluru','Agra','Bombay']\n",
    "df"
   ]
  },
  {
   "cell_type": "code",
   "execution_count": 55,
   "id": "c202cae4",
   "metadata": {},
   "outputs": [
    {
     "data": {
      "text/html": [
       "<div>\n",
       "<style scoped>\n",
       "    .dataframe tbody tr th:only-of-type {\n",
       "        vertical-align: middle;\n",
       "    }\n",
       "\n",
       "    .dataframe tbody tr th {\n",
       "        vertical-align: top;\n",
       "    }\n",
       "\n",
       "    .dataframe thead th {\n",
       "        text-align: right;\n",
       "    }\n",
       "</style>\n",
       "<table border=\"1\" class=\"dataframe\">\n",
       "  <thead>\n",
       "    <tr style=\"text-align: right;\">\n",
       "      <th></th>\n",
       "      <th>State Name</th>\n",
       "      <th>City Code</th>\n",
       "      <th>City Names</th>\n",
       "    </tr>\n",
       "  </thead>\n",
       "  <tbody>\n",
       "    <tr>\n",
       "      <th>4</th>\n",
       "      <td>TN</td>\n",
       "      <td>Chn</td>\n",
       "      <td>Chennai</td>\n",
       "    </tr>\n",
       "    <tr>\n",
       "      <th>3</th>\n",
       "      <td>KA</td>\n",
       "      <td>Bng</td>\n",
       "      <td>Bengaluru</td>\n",
       "    </tr>\n",
       "    <tr>\n",
       "      <th>2</th>\n",
       "      <td>DL</td>\n",
       "      <td>Agr</td>\n",
       "      <td>Agra</td>\n",
       "    </tr>\n",
       "    <tr>\n",
       "      <th>1</th>\n",
       "      <td>MH</td>\n",
       "      <td>Bom</td>\n",
       "      <td>Bombay</td>\n",
       "    </tr>\n",
       "  </tbody>\n",
       "</table>\n",
       "</div>"
      ],
      "text/plain": [
       "  State Name City Code City Names\n",
       "4         TN       Chn    Chennai\n",
       "3         KA       Bng  Bengaluru\n",
       "2         DL       Agr       Agra\n",
       "1         MH       Bom     Bombay"
      ]
     },
     "execution_count": 55,
     "metadata": {},
     "output_type": "execute_result"
    }
   ],
   "source": [
    "df.rename(columns = {'Capital Name':'City Code'})"
   ]
  },
  {
   "cell_type": "markdown",
   "id": "9db83e9f",
   "metadata": {},
   "source": [
    "# To delete rows from existing DF"
   ]
  },
  {
   "cell_type": "code",
   "execution_count": 57,
   "id": "c1d64803",
   "metadata": {},
   "outputs": [
    {
     "data": {
      "text/html": [
       "<div>\n",
       "<style scoped>\n",
       "    .dataframe tbody tr th:only-of-type {\n",
       "        vertical-align: middle;\n",
       "    }\n",
       "\n",
       "    .dataframe tbody tr th {\n",
       "        vertical-align: top;\n",
       "    }\n",
       "\n",
       "    .dataframe thead th {\n",
       "        text-align: right;\n",
       "    }\n",
       "</style>\n",
       "<table border=\"1\" class=\"dataframe\">\n",
       "  <thead>\n",
       "    <tr style=\"text-align: right;\">\n",
       "      <th></th>\n",
       "      <th>State Name</th>\n",
       "      <th>Capital Name</th>\n",
       "      <th>City Names</th>\n",
       "    </tr>\n",
       "  </thead>\n",
       "  <tbody>\n",
       "    <tr>\n",
       "      <th>4</th>\n",
       "      <td>TN</td>\n",
       "      <td>Chn</td>\n",
       "      <td>Chennai</td>\n",
       "    </tr>\n",
       "    <tr>\n",
       "      <th>3</th>\n",
       "      <td>KA</td>\n",
       "      <td>Bng</td>\n",
       "      <td>Bengaluru</td>\n",
       "    </tr>\n",
       "    <tr>\n",
       "      <th>2</th>\n",
       "      <td>DL</td>\n",
       "      <td>Agr</td>\n",
       "      <td>Agra</td>\n",
       "    </tr>\n",
       "  </tbody>\n",
       "</table>\n",
       "</div>"
      ],
      "text/plain": [
       "  State Name Capital Name City Names\n",
       "4         TN          Chn    Chennai\n",
       "3         KA          Bng  Bengaluru\n",
       "2         DL          Agr       Agra"
      ]
     },
     "execution_count": 57,
     "metadata": {},
     "output_type": "execute_result"
    }
   ],
   "source": [
    "df = df.drop([1])\n",
    "df"
   ]
  },
  {
   "cell_type": "code",
   "execution_count": null,
   "id": "524e5f69",
   "metadata": {},
   "outputs": [],
   "source": []
  },
  {
   "cell_type": "markdown",
   "id": "88b12362",
   "metadata": {},
   "source": [
    "# Change Name of Bengaluru to Bangalore in City Names"
   ]
  },
  {
   "cell_type": "code",
   "execution_count": 61,
   "id": "4d71b127",
   "metadata": {},
   "outputs": [
    {
     "data": {
      "text/html": [
       "<div>\n",
       "<style scoped>\n",
       "    .dataframe tbody tr th:only-of-type {\n",
       "        vertical-align: middle;\n",
       "    }\n",
       "\n",
       "    .dataframe tbody tr th {\n",
       "        vertical-align: top;\n",
       "    }\n",
       "\n",
       "    .dataframe thead th {\n",
       "        text-align: right;\n",
       "    }\n",
       "</style>\n",
       "<table border=\"1\" class=\"dataframe\">\n",
       "  <thead>\n",
       "    <tr style=\"text-align: right;\">\n",
       "      <th></th>\n",
       "      <th>State Name</th>\n",
       "      <th>Capital Name</th>\n",
       "      <th>City Names</th>\n",
       "    </tr>\n",
       "  </thead>\n",
       "  <tbody>\n",
       "    <tr>\n",
       "      <th>4</th>\n",
       "      <td>TN</td>\n",
       "      <td>Chn</td>\n",
       "      <td>Chennai</td>\n",
       "    </tr>\n",
       "    <tr>\n",
       "      <th>3</th>\n",
       "      <td>KA</td>\n",
       "      <td>Bng</td>\n",
       "      <td>Bangalore</td>\n",
       "    </tr>\n",
       "    <tr>\n",
       "      <th>2</th>\n",
       "      <td>DL</td>\n",
       "      <td>Agr</td>\n",
       "      <td>Agra</td>\n",
       "    </tr>\n",
       "  </tbody>\n",
       "</table>\n",
       "</div>"
      ],
      "text/plain": [
       "  State Name Capital Name City Names\n",
       "4         TN          Chn    Chennai\n",
       "3         KA          Bng  Bangalore\n",
       "2         DL          Agr       Agra"
      ]
     },
     "execution_count": 61,
     "metadata": {},
     "output_type": "execute_result"
    }
   ],
   "source": [
    "df['City Names'][3] = 'Bangalore'\n",
    "df"
   ]
  },
  {
   "cell_type": "code",
   "execution_count": null,
   "id": "d7fcec09",
   "metadata": {},
   "outputs": [],
   "source": []
  },
  {
   "cell_type": "markdown",
   "id": "79b6fbb3",
   "metadata": {},
   "source": [
    "# To find common letters in 2 input strings"
   ]
  },
  {
   "cell_type": "code",
   "execution_count": 51,
   "id": "aefef1cb",
   "metadata": {},
   "outputs": [
    {
     "name": "stdout",
     "output_type": "stream",
     "text": [
      "{'o', 'l', ' '}\n"
     ]
    }
   ],
   "source": [
    "a = 'Hello World'\n",
    "b = 'This is Python Class'\n",
    "c = set(a) & set(b)\n",
    "print(c)"
   ]
  },
  {
   "cell_type": "markdown",
   "id": "7e313422",
   "metadata": {},
   "source": [
    "# To display letters in first Str but not in second"
   ]
  },
  {
   "cell_type": "code",
   "execution_count": 90,
   "id": "aad90b00",
   "metadata": {},
   "outputs": [
    {
     "name": "stdout",
     "output_type": "stream",
     "text": [
      "H\n",
      "e\n",
      "W\n",
      "r\n",
      "d\n"
     ]
    }
   ],
   "source": [
    "a = 'Hello World'\n",
    "b = 'This is Python Class'\n",
    "for i in a:\n",
    "    if i not in b:\n",
    "        print(i)  "
   ]
  },
  {
   "cell_type": "markdown",
   "id": "b17f1aa6",
   "metadata": {},
   "source": [
    "#Alternate Solution for above program"
   ]
  },
  {
   "cell_type": "code",
   "execution_count": 60,
   "id": "76ab14db",
   "metadata": {},
   "outputs": [
    {
     "name": "stdout",
     "output_type": "stream",
     "text": [
      "{'H', 'd', 'W', 'e', 'r'}\n"
     ]
    }
   ],
   "source": [
    "a = 'Hello World'\n",
    "b = 'This is Python Class'\n",
    "c = set(a) - set(b)\n",
    "print(c)"
   ]
  },
  {
   "cell_type": "markdown",
   "id": "dbdee8ff",
   "metadata": {},
   "source": [
    "# Which letters are present in both Str"
   ]
  },
  {
   "cell_type": "code",
   "execution_count": 88,
   "id": "ed36cf27",
   "metadata": {},
   "outputs": [
    {
     "data": {
      "text/plain": [
       "{' ',\n",
       " 'C',\n",
       " 'H',\n",
       " 'P',\n",
       " 'T',\n",
       " 'W',\n",
       " 'a',\n",
       " 'd',\n",
       " 'e',\n",
       " 'h',\n",
       " 'i',\n",
       " 'l',\n",
       " 'n',\n",
       " 'o',\n",
       " 'r',\n",
       " 's',\n",
       " 't',\n",
       " 'y'}"
      ]
     },
     "execution_count": 88,
     "metadata": {},
     "output_type": "execute_result"
    }
   ],
   "source": [
    "a = 'Hello World'\n",
    "b = 'This is Python Class' \n",
    "c = (set(a) | set(b))\n",
    "c"
   ]
  },
  {
   "cell_type": "markdown",
   "id": "b3acde81",
   "metadata": {},
   "source": [
    "# Letters are in 2 strings but not in both"
   ]
  },
  {
   "cell_type": "code",
   "execution_count": 87,
   "id": "eded2244",
   "metadata": {},
   "outputs": [
    {
     "name": "stdout",
     "output_type": "stream",
     "text": [
      "{'h', 's', 'H', 'i', 'n', 'W', 'a', 'C', 'T', 'y', 'd', 't', 'e', 'r', 'P'}\n"
     ]
    }
   ],
   "source": [
    "a = 'Hello World'\n",
    "b = 'This is Python Class'\n",
    "c = set(a) ^ set(b)\n",
    "print(c)"
   ]
  },
  {
   "cell_type": "code",
   "execution_count": null,
   "id": "cb033f83",
   "metadata": {},
   "outputs": [],
   "source": []
  },
  {
   "cell_type": "code",
   "execution_count": null,
   "id": "7c8f7a4a",
   "metadata": {},
   "outputs": [],
   "source": []
  },
  {
   "cell_type": "code",
   "execution_count": 30,
   "id": "ab30c4ac",
   "metadata": {},
   "outputs": [
    {
     "name": "stdout",
     "output_type": "stream",
     "text": [
      "Hi shashank\n",
      "11\n"
     ]
    }
   ],
   "source": [
    "var1 = open(r\"C:\\\\Users\\\\HP\\\\Python\\\\File.txt\",'w+')\n",
    "b= var1.write(\"Hi shashank\")\n",
    "var1.seek(0)\n",
    "print(var1.read())\n",
    "print(var1.tell())\n",
    "var1 = open(r\"C:\\\\Users\\\\HP\\\\Python\\\\File.txt\",'a+')\n",
    "var1.write(\"How r u doing this evening?\")\n",
    "var1.seek(0)\n",
    "var1.read()\n",
    "var1.close()"
   ]
  },
  {
   "cell_type": "code",
   "execution_count": 60,
   "id": "12127241",
   "metadata": {},
   "outputs": [
    {
     "name": "stdout",
     "output_type": "stream",
     "text": [
      "Hi shashank\n",
      "11\n"
     ]
    },
    {
     "ename": "NameError",
     "evalue": "name 'File1' is not defined",
     "output_type": "error",
     "traceback": [
      "\u001b[1;31m---------------------------------------------------------------------------\u001b[0m",
      "\u001b[1;31mNameError\u001b[0m                                 Traceback (most recent call last)",
      "\u001b[1;32m~\\AppData\\Local\\Temp/ipykernel_9564/616850636.py\u001b[0m in \u001b[0;36m<module>\u001b[1;34m\u001b[0m\n\u001b[0;32m      8\u001b[0m \u001b[0mvar1\u001b[0m\u001b[1;33m.\u001b[0m\u001b[0mseek\u001b[0m\u001b[1;33m(\u001b[0m\u001b[1;36m0\u001b[0m\u001b[1;33m)\u001b[0m\u001b[1;33m\u001b[0m\u001b[1;33m\u001b[0m\u001b[0m\n\u001b[0;32m      9\u001b[0m \u001b[0mvar1\u001b[0m\u001b[1;33m.\u001b[0m\u001b[0mread\u001b[0m\u001b[1;33m(\u001b[0m\u001b[1;33m)\u001b[0m\u001b[1;33m\u001b[0m\u001b[1;33m\u001b[0m\u001b[0m\n\u001b[1;32m---> 10\u001b[1;33m \u001b[0mFile1\u001b[0m\u001b[1;33m.\u001b[0m\u001b[0mclose\u001b[0m\u001b[1;33m(\u001b[0m\u001b[1;33m)\u001b[0m\u001b[1;33m\u001b[0m\u001b[1;33m\u001b[0m\u001b[0m\n\u001b[0m\u001b[0;32m     11\u001b[0m \u001b[0mFile\u001b[0m\u001b[1;33m.\u001b[0m\u001b[0mclose\u001b[0m\u001b[1;33m(\u001b[0m\u001b[1;33m)\u001b[0m\u001b[1;33m\u001b[0m\u001b[1;33m\u001b[0m\u001b[0m\n",
      "\u001b[1;31mNameError\u001b[0m: name 'File1' is not defined"
     ]
    }
   ],
   "source": [
    "var1 = open(r\"C:\\\\Users\\\\HP\\\\Python\\\\File.txt\",'w+')\n",
    "b= var1.write(\"Hi shashank\")\n",
    "var1.seek(0)\n",
    "print(var1.read())\n",
    "print(var1.tell())\n",
    "var1 = open(r\"C:\\\\Users\\\\HP\\\\Python\\\\File.txt\",'a+')\n",
    "var1.write(\"\\nHow r u doing this evening?\")\n",
    "var1.seek(0)\n",
    "var1.read()\n",
    "File1.close()\n",
    "File.close()"
   ]
  },
  {
   "cell_type": "code",
   "execution_count": null,
   "id": "e18b523b",
   "metadata": {},
   "outputs": [],
   "source": []
  },
  {
   "cell_type": "markdown",
   "id": "93cab12b",
   "metadata": {},
   "source": [
    "# Decorators (Decorate or modify the value of any func i.e p(m) here)"
   ]
  },
  {
   "cell_type": "code",
   "execution_count": 6,
   "id": "b70e90a1",
   "metadata": {},
   "outputs": [
    {
     "name": "stdout",
     "output_type": "stream",
     "text": [
      "*****\n",
      "%%%%%\n",
      "hello\n",
      "%%%%%\n",
      "*****\n"
     ]
    }
   ],
   "source": [
    "def f(x):\n",
    "    def f1(*args, **kwargs):\n",
    "        print(\"*\"* 5)\n",
    "        x(*args, **kwargs)\n",
    "        print(\"*\"* 5)\n",
    "    return f1\n",
    "def a(x):\n",
    "    def f1(*args, **kwargs):\n",
    "        print(\"%\"* 5)\n",
    "        x(*args, **kwargs)\n",
    "        print(\"%\"* 5)\n",
    "    return f1\n",
    "@f \n",
    "@a\n",
    "def p(m):\n",
    "    print(m)\n",
    "p(\"hello\")"
   ]
  },
  {
   "cell_type": "code",
   "execution_count": null,
   "id": "033016ec",
   "metadata": {},
   "outputs": [],
   "source": []
  },
  {
   "cell_type": "code",
   "execution_count": null,
   "id": "e12ce2d0",
   "metadata": {},
   "outputs": [],
   "source": []
  },
  {
   "cell_type": "code",
   "execution_count": null,
   "id": "e8b9f330",
   "metadata": {},
   "outputs": [],
   "source": []
  }
 ],
 "metadata": {
  "kernelspec": {
   "display_name": "Python 3 (ipykernel)",
   "language": "python",
   "name": "python3"
  },
  "language_info": {
   "codemirror_mode": {
    "name": "ipython",
    "version": 3
   },
   "file_extension": ".py",
   "mimetype": "text/x-python",
   "name": "python",
   "nbconvert_exporter": "python",
   "pygments_lexer": "ipython3",
   "version": "3.9.7"
  }
 },
 "nbformat": 4,
 "nbformat_minor": 5
}
